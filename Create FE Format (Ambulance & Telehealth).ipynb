{
 "cells": [
  {
   "cell_type": "code",
   "execution_count": 1,
   "id": "8cbff538",
   "metadata": {},
   "outputs": [],
   "source": [
    "import os\n",
    "import numpy as np\n",
    "import pandas as pd"
   ]
  },
  {
   "cell_type": "code",
   "execution_count": 2,
   "id": "220d4b92",
   "metadata": {},
   "outputs": [],
   "source": [
    "filenames=['/Users/krhee/Dropbox (ASU)/Coding/RA_Coding/providerservice/MUP_PHY_R19_P04_V10_D13_Prov_Svc.csv',\n",
    "          '/Users/krhee/Dropbox (ASU)/Coding/RA_Coding/providerservice/MUP_PHY_R19_P04_V10_D14_Prov_Svc.csv',\n",
    "          '/Users/krhee/Dropbox (ASU)/Coding/RA_Coding/providerservice/MUP_PHY_R19_P04_V10_D15_Prov_Svc.csv',\n",
    "          '/Users/krhee/Dropbox (ASU)/Coding/RA_Coding/providerservice/MUP_PHY_R19_P04_V10_D16_Prov_Svc.csv',\n",
    "          '/Users/krhee/Dropbox (ASU)/Coding/RA_Coding/providerservice/MUP_PHY_R19_P04_V10_D17_Prov_Svc.csv',\n",
    "           '/Users/krhee/Dropbox (ASU)/Coding/RA_Coding/providerservice/MUP_PHY_R20_P04_V10_D18_Prov_Svc.csv',\n",
    "           '/Users/krhee/Dropbox (ASU)/Coding/RA_Coding/providerservice/MUP_PHY_R21_P04_V10_D19_Prov_Svc.csv']"
   ]
  },
  {
   "cell_type": "markdown",
   "id": "1eaee394",
   "metadata": {},
   "source": [
    "Here are all the HCPCS Codes for years 2013 ~ 2019"
   ]
  },
  {
   "cell_type": "code",
   "execution_count": 26,
   "id": "4ade2fd9",
   "metadata": {},
   "outputs": [
    {
     "name": "stderr",
     "output_type": "stream",
     "text": [
      "/Users/krhee/opt/anaconda3/lib/python3.9/site-packages/IPython/core/interactiveshell.py:3444: DtypeWarning: Columns (12) have mixed types.Specify dtype option on import or set low_memory=False.\n",
      "  exec(code_obj, self.user_global_ns, self.user_ns)\n"
     ]
    }
   ],
   "source": [
    "# new_df = pd.DataFrame()\n",
    "# for i in range(len(filenames)):\n",
    "#     temp_df = pd.read_csv(filenames[i], encoding='latin1')\n",
    "#     temp_df = temp_df[['HCPCS_Cd','HCPCS_Desc']].drop_duplicates().reset_index(drop=True)\n",
    "#     temp_df['year']= int(str('20')+filenames[i].split(\"_D\")[-1][:2])\n",
    "#     new_df = new_df.append(temp_df).reset_index(drop=True)"
   ]
  },
  {
   "cell_type": "code",
   "execution_count": 28,
   "id": "aeacf8ae",
   "metadata": {},
   "outputs": [],
   "source": [
    "# new_df.to_csv(r'del.csv',index=False)"
   ]
  },
  {
   "cell_type": "markdown",
   "id": "c596d113",
   "metadata": {},
   "source": [
    "##### For ambulance"
   ]
  },
  {
   "cell_type": "code",
   "execution_count": 3,
   "id": "ba8ad215",
   "metadata": {},
   "outputs": [
    {
     "name": "stderr",
     "output_type": "stream",
     "text": [
      "/Users/krhee/opt/anaconda3/lib/python3.9/site-packages/IPython/core/interactiveshell.py:3444: DtypeWarning: Columns (12) have mixed types.Specify dtype option on import or set low_memory=False.\n",
      "  exec(code_obj, self.user_global_ns, self.user_ns)\n"
     ]
    }
   ],
   "source": [
    "new_df = pd.DataFrame()\n",
    "for i in range(len(filenames)):\n",
    "    temp_df = pd.read_csv(filenames[i], encoding='latin1')\n",
    "    temp_df = temp_df[temp_df['HCPCS_Cd'].isin(['A0425','A0426','A0427','A0428','A0429','A0430','A0431',\n",
    "                                               'A0432','A0433','A0434','A0435','A0436','A0999'])].reset_index(drop=True)\n",
    "    temp_df['year']= int(str('20')+filenames[i].split(\"_D\")[-1][:2])\n",
    "    new_df = new_df.append(temp_df).reset_index(drop=True)"
   ]
  },
  {
   "cell_type": "code",
   "execution_count": 6,
   "id": "ec852752",
   "metadata": {
    "scrolled": true
   },
   "outputs": [
    {
     "name": "stderr",
     "output_type": "stream",
     "text": [
      "/var/folders/ff/7xvchf4558v3w_jjs11bdwlw0000gp/T/ipykernel_25227/546155700.py:4: SettingWithCopyWarning: \n",
      "A value is trying to be set on a copy of a slice from a DataFrame.\n",
      "Try using .loc[row_indexer,col_indexer] = value instead\n",
      "\n",
      "See the caveats in the documentation: https://pandas.pydata.org/pandas-docs/stable/user_guide/indexing.html#returning-a-view-versus-a-copy\n",
      "  new_df['Tot_Srvcs_Chrg'] = new_df['Tot_Srvcs']*new_df['Avg_Sbmtd_Chrg']\n"
     ]
    }
   ],
   "source": [
    "new_df = new_df[['Rndrng_NPI','year','Rndrng_Prvdr_Last_Org_Name','HCPCS_Cd',\n",
    "                         'Rndrng_Prvdr_State_Abrvtn','Rndrng_Prvdr_State_FIPS', 'Rndrng_Prvdr_Zip5',\n",
    "                         'Tot_Benes','Tot_Srvcs','Tot_Bene_Day_Srvcs','Avg_Sbmtd_Chrg']]\n",
    "new_df['Tot_Srvcs_Chrg'] = new_df['Tot_Srvcs']*new_df['Avg_Sbmtd_Chrg']\n",
    "new_df = new_df.drop(columns=['Avg_Sbmtd_Chrg'])\n",
    "new_df.columns=['npi','year','lastname','hcpcs','state_id','state_fips','zip','tot_benes','tot_srvcs','tot_bene_day_srvcs','tot_srvcs_chrg']"
   ]
  },
  {
   "cell_type": "code",
   "execution_count": 10,
   "id": "3aea0d37",
   "metadata": {},
   "outputs": [],
   "source": [
    "new_df_copy = new_df.copy()"
   ]
  },
  {
   "cell_type": "code",
   "execution_count": 7,
   "id": "1d121919",
   "metadata": {
    "scrolled": true
   },
   "outputs": [],
   "source": [
    "# First, check if zip is missing --> All XXs\n",
    "# new_df[new_df['zip'].isna()]\n",
    "new_df = new_df[~new_df['zip'].isna()].reset_index(drop=True)\n",
    "# Then let's match zip code to state\n",
    "new_df['zip_3'] = [str(i)[:3] for i in new_df['zip']]\n",
    "# Drop weird\n",
    "new_df = new_df[~new_df['zip_3'].isin(['0','0.0', 'EH1','LA1','LA2','N9G'])].reset_index(drop=True)\n",
    "new_df = new_df[~new_df['state_fips'].isna()].reset_index(drop=True)"
   ]
  },
  {
   "cell_type": "code",
   "execution_count": 8,
   "id": "7a332f1f",
   "metadata": {
    "scrolled": true
   },
   "outputs": [
    {
     "name": "stdout",
     "output_type": "stream",
     "text": [
      "<class 'pandas.core.frame.DataFrame'>\n",
      "RangeIndex: 231856 entries, 0 to 231855\n",
      "Data columns (total 12 columns):\n",
      " #   Column              Non-Null Count   Dtype  \n",
      "---  ------              --------------   -----  \n",
      " 0   npi                 231856 non-null  int64  \n",
      " 1   year                231856 non-null  int64  \n",
      " 2   lastname            231856 non-null  object \n",
      " 3   hcpcs               231856 non-null  object \n",
      " 4   state_id            231856 non-null  object \n",
      " 5   state_fips          231856 non-null  float64\n",
      " 6   zip                 231856 non-null  object \n",
      " 7   tot_benes           231856 non-null  int64  \n",
      " 8   tot_srvcs           231856 non-null  float64\n",
      " 9   tot_bene_day_srvcs  231856 non-null  int64  \n",
      " 10  tot_srvcs_chrg      231856 non-null  float64\n",
      " 11  zip_3               231856 non-null  object \n",
      "dtypes: float64(3), int64(4), object(5)\n",
      "memory usage: 21.2+ MB\n"
     ]
    }
   ],
   "source": [
    "new_df.info()"
   ]
  },
  {
   "cell_type": "code",
   "execution_count": 11,
   "id": "671d8eab",
   "metadata": {},
   "outputs": [],
   "source": [
    "# Check\n",
    "zip_df = new_df[['zip','state_id','state_fips']].drop_duplicates()\n",
    "zip_df.groupby(['zip']).nunique().sort_values(by=['state_id'])\n",
    "zip_df.groupby(['zip']).nunique().sort_values(by=['state_fips'])\n",
    "# State FIPS is more accurate --> Drop State ID\n",
    "new_df = new_df.drop(columns=['state_id'])"
   ]
  },
  {
   "cell_type": "code",
   "execution_count": 13,
   "id": "790e0d9f",
   "metadata": {},
   "outputs": [],
   "source": [
    "# New state ID\n",
    "state_dict = {1:'AL',2:'AK',4:'AZ',5:'AR',6:'CA',8:'CO',9:'CT',10:'DE',11:'DC',\n",
    "              12:'FL',13:'GA',15:'HI',16:'ID',17:'IL',18:'IN',19:'IA',20:'KS',\n",
    "              21:'KY',22:'LA',23:'ME',24:'MD',25:'MA',26:'MI',27:'MN',28:'MS',\n",
    "              29:'MO',30:'MT',31:'NE',32:'NV',33:'NH',34:'NJ',35:'NM',36:'NY',\n",
    "              37:'NC',38:'ND',39:'OH',40:'OK',41:'OR',42:'PA',44:'RI',45:'SC',\n",
    "              46:'SD',47:'TN',48:'TX',49:'UT',50:'VT',51:'VA',53:'WA',54:'WV',\n",
    "              55:'WI',56:'WY'}\n",
    "state_df = pd.DataFrame.from_dict(data=state_dict, orient='index').reset_index(level=[0])\n",
    "state_df.columns=['state_fips','state_id']\n",
    "new_df = pd.merge(new_df, state_df, on=['state_fips'])"
   ]
  },
  {
   "cell_type": "code",
   "execution_count": 14,
   "id": "6cb76065",
   "metadata": {
    "scrolled": true
   },
   "outputs": [],
   "source": [
    "# Data types (important)\n",
    "new_df['npi'] = new_df['npi'].astype(int)\n",
    "new_df['year'] = new_df['year'].astype(int)\n",
    "new_df['zip'] = new_df['zip'].astype(float)\n",
    "new_df['zip'] = new_df['zip'].astype(int)\n",
    "new_df['state_fips'] = new_df['state_fips'].astype(int)"
   ]
  },
  {
   "cell_type": "code",
   "execution_count": 15,
   "id": "9f4c4661",
   "metadata": {
    "scrolled": true
   },
   "outputs": [],
   "source": [
    "# 1. Non-emergency ambulance (A0426, A0428, A0434)\n",
    "\n",
    "new_df_1 = new_df[new_df['hcpcs'].isin(['A0426', 'A0428', 'A0434'])][['npi','year','lastname','state_id','state_fips','zip','tot_benes','tot_srvcs','tot_bene_day_srvcs','tot_srvcs_chrg']].drop_duplicates().reset_index(drop=True)\n",
    "new_df_1_gb = new_df_1.groupby(['npi','lastname','state_id','state_fips','zip','year']).sum().reset_index(level=[0,1,2,3,4,5])\n",
    "new_df_1_gb_gb = new_df_1_gb.groupby(['zip','year','state_id','state_fips']).sum()[['tot_benes','tot_srvcs','tot_bene_day_srvcs','tot_srvcs_chrg']].reset_index(level=[0,1,2,3])\n",
    "new_df_1 = new_df_1_gb_gb.copy()"
   ]
  },
  {
   "cell_type": "code",
   "execution_count": 16,
   "id": "f89564cb",
   "metadata": {
    "scrolled": true
   },
   "outputs": [
    {
     "data": {
      "text/plain": [
       "zip    year  state_id  state_fips\n",
       "1057   2014  MA        25            1\n",
       "63068  2019  MO        29            1\n",
       "       2018  MO        29            1\n",
       "       2017  MO        29            1\n",
       "       2016  MO        29            1\n",
       "                                    ..\n",
       "32448  2013  FL        12            1\n",
       "32435  2018  FL        12            1\n",
       "       2017  FL        12            1\n",
       "32448  2018  FL        12            1\n",
       "99925  2019  AK        2             1\n",
       "Length: 19770, dtype: int64"
      ]
     },
     "execution_count": 16,
     "metadata": {},
     "output_type": "execute_result"
    }
   ],
   "source": [
    "new_df_1.groupby(['zip','year','state_id','state_fips']).size().sort_values()"
   ]
  },
  {
   "cell_type": "code",
   "execution_count": 17,
   "id": "7f62c566",
   "metadata": {},
   "outputs": [],
   "source": [
    "new_df_1.to_csv(r'nonemerg_amb.csv', index=False)"
   ]
  },
  {
   "cell_type": "code",
   "execution_count": 18,
   "id": "de0041ae",
   "metadata": {
    "scrolled": true
   },
   "outputs": [],
   "source": [
    "# 2. Emergency ambulance (A0427, A0429)\n",
    "\n",
    "new_df_2 = new_df[new_df['hcpcs'].isin(['A0427', 'A0429'])][['npi','year','lastname','state_id','state_fips','zip','tot_benes','tot_srvcs','tot_bene_day_srvcs','tot_srvcs_chrg']].drop_duplicates().reset_index(drop=True)\n",
    "new_df_2_gb = new_df_2.groupby(['npi','lastname','state_id','state_fips','zip','year']).sum().reset_index(level=[0,1,2,3,4,5])\n",
    "new_df_2_gb_gb = new_df_2_gb.groupby(['zip','year','state_id','state_fips']).sum()[['tot_benes','tot_srvcs','tot_bene_day_srvcs','tot_srvcs_chrg']].reset_index(level=[0,1,2,3])\n",
    "new_df_2 = new_df_2_gb_gb.copy()"
   ]
  },
  {
   "cell_type": "code",
   "execution_count": 19,
   "id": "af1d8514",
   "metadata": {
    "scrolled": false
   },
   "outputs": [
    {
     "data": {
      "text/plain": [
       "zip    year  state_id  state_fips\n",
       "1001   2013  MA        25            1\n",
       "60018  2015  IL        17            1\n",
       "       2016  IL        17            1\n",
       "       2017  IL        17            1\n",
       "       2018  IL        17            1\n",
       "                                    ..\n",
       "30269  2017  GA        13            1\n",
       "       2018  GA        13            1\n",
       "       2019  GA        13            1\n",
       "30214  2014  GA        13            1\n",
       "99929  2019  AK        2             1\n",
       "Length: 53501, dtype: int64"
      ]
     },
     "execution_count": 19,
     "metadata": {},
     "output_type": "execute_result"
    }
   ],
   "source": [
    "new_df_2.groupby(['zip','year','state_id','state_fips']).size().sort_values()"
   ]
  },
  {
   "cell_type": "code",
   "execution_count": 20,
   "id": "b29e2df2",
   "metadata": {},
   "outputs": [],
   "source": [
    "new_df_2.to_csv(r'emerg_amb.csv', index=False)"
   ]
  },
  {
   "cell_type": "code",
   "execution_count": 21,
   "id": "a19dc525",
   "metadata": {
    "scrolled": true
   },
   "outputs": [],
   "source": [
    "# 3. All ambulance (A0425, A0426, A0427, A0428, A0429, A0432, A0433, A0434, A0999)\n",
    "\n",
    "new_df_3 = new_df[new_df['hcpcs'].isin(['A0425', 'A0426', 'A0427', 'A0428', \n",
    "                                        'A0429', 'A0432', 'A0433', 'A0434', 'A0999'])][['npi','year','lastname','state_id','state_fips','zip','tot_benes','tot_srvcs','tot_bene_day_srvcs','tot_srvcs_chrg']].drop_duplicates().reset_index(drop=True)\n",
    "new_df_3_gb = new_df_3.groupby(['npi','lastname','state_id','state_fips','zip','year']).sum().reset_index(level=[0,1,2,3,4,5])\n",
    "new_df_3_gb_gb = new_df_3_gb.groupby(['zip','year','state_id','state_fips']).sum()[['tot_benes','tot_srvcs','tot_bene_day_srvcs','tot_srvcs_chrg']].reset_index(level=[0,1,2,3])\n",
    "new_df_3 = new_df_3_gb_gb.copy()"
   ]
  },
  {
   "cell_type": "code",
   "execution_count": 22,
   "id": "a2235153",
   "metadata": {
    "scrolled": false
   },
   "outputs": [
    {
     "data": {
      "text/plain": [
       "zip    year  state_id  state_fips\n",
       "1001   2013  MA        25            1\n",
       "60010  2016  IL        17            1\n",
       "       2017  IL        17            1\n",
       "       2018  IL        17            1\n",
       "       2019  IL        17            1\n",
       "                                    ..\n",
       "30276  2018  GA        13            1\n",
       "30277  2013  GA        13            1\n",
       "30281  2013  GA        13            1\n",
       "30268  2015  GA        13            1\n",
       "99929  2019  AK        2             1\n",
       "Length: 55335, dtype: int64"
      ]
     },
     "execution_count": 22,
     "metadata": {},
     "output_type": "execute_result"
    }
   ],
   "source": [
    "new_df_3.groupby(['zip','year','state_id','state_fips']).size().sort_values()"
   ]
  },
  {
   "cell_type": "code",
   "execution_count": 23,
   "id": "4a3ed295",
   "metadata": {},
   "outputs": [],
   "source": [
    "new_df_3.to_csv(r'all_amb.csv', index=False)"
   ]
  },
  {
   "cell_type": "markdown",
   "id": "2699336c",
   "metadata": {},
   "source": [
    "##### For Telehealth"
   ]
  },
  {
   "cell_type": "code",
   "execution_count": 24,
   "id": "cf719049",
   "metadata": {},
   "outputs": [],
   "source": [
    "filenames=['/Users/krhee/Dropbox (ASU)/Coding/RA_Coding/providerservice/MUP_PHY_R19_P04_V10_D13_Prov_Svc.csv',\n",
    "          '/Users/krhee/Dropbox (ASU)/Coding/RA_Coding/providerservice/MUP_PHY_R19_P04_V10_D14_Prov_Svc.csv',\n",
    "          '/Users/krhee/Dropbox (ASU)/Coding/RA_Coding/providerservice/MUP_PHY_R19_P04_V10_D15_Prov_Svc.csv',\n",
    "          '/Users/krhee/Dropbox (ASU)/Coding/RA_Coding/providerservice/MUP_PHY_R19_P04_V10_D16_Prov_Svc.csv',\n",
    "          '/Users/krhee/Dropbox (ASU)/Coding/RA_Coding/providerservice/MUP_PHY_R19_P04_V10_D17_Prov_Svc.csv',\n",
    "           '/Users/krhee/Dropbox (ASU)/Coding/RA_Coding/providerservice/MUP_PHY_R20_P04_V10_D18_Prov_Svc.csv',\n",
    "           '/Users/krhee/Dropbox (ASU)/Coding/RA_Coding/providerservice/MUP_PHY_R21_P04_V10_D19_Prov_Svc.csv']"
   ]
  },
  {
   "cell_type": "code",
   "execution_count": 28,
   "id": "ed649d1c",
   "metadata": {},
   "outputs": [],
   "source": [
    "new_df = pd.DataFrame()\n",
    "for i in range(len(filenames)):\n",
    "    temp_df = pd.read_csv(filenames[i], encoding='latin1')\n",
    "    temp_df = temp_df[temp_df['HCPCS_Cd'].isin(['Q3014','G0406','G0407','G0408','G0425','G0426',\n",
    "                                                'G0427','G0459','G0508','G0509'])].reset_index(drop=True)\n",
    "    temp_df['year']= int(str('20')+filenames[i].split(\"_D\")[-1][:2])\n",
    "    new_df = new_df.append(temp_df).reset_index(drop=True)"
   ]
  },
  {
   "cell_type": "code",
   "execution_count": 29,
   "id": "b120eff6",
   "metadata": {
    "scrolled": true
   },
   "outputs": [],
   "source": [
    "new_df = new_df[['Rndrng_NPI','year','Rndrng_Prvdr_Last_Org_Name','HCPCS_Cd',\n",
    "                         'Rndrng_Prvdr_State_Abrvtn','Rndrng_Prvdr_State_FIPS', 'Rndrng_Prvdr_Zip5',\n",
    "                         'Tot_Benes','Tot_Srvcs','Tot_Bene_Day_Srvcs','Avg_Sbmtd_Chrg']]\n",
    "new_df['Tot_Srvcs_Chrg'] = new_df['Tot_Srvcs']*new_df['Avg_Sbmtd_Chrg']\n",
    "new_df = new_df.drop(columns=['Avg_Sbmtd_Chrg'])\n",
    "new_df.columns=['npi','year','lastname','hcpcs','state_id','state_fips','zip','tot_benes','tot_srvcs','tot_bene_day_srvcs','tot_srvcs_chrg']"
   ]
  },
  {
   "cell_type": "code",
   "execution_count": 30,
   "id": "cc1b8d1b",
   "metadata": {},
   "outputs": [],
   "source": [
    "new_df_copy = new_df.copy()"
   ]
  },
  {
   "cell_type": "code",
   "execution_count": 31,
   "id": "d40b36cd",
   "metadata": {
    "scrolled": true
   },
   "outputs": [],
   "source": [
    "# First, check if zip is missing --> All XXs\n",
    "# new_df[new_df['zip'].isna()]\n",
    "new_df = new_df[~new_df['zip'].isna()].reset_index(drop=True)\n",
    "# Then let's match zip code to state\n",
    "new_df['zip_3'] = [str(i)[:3] for i in new_df['zip']]\n",
    "# Drop weird\n",
    "new_df = new_df[~new_df['zip_3'].isin(['0','0.0', 'EH1','LA1','LA2','N9G'])].reset_index(drop=True)\n",
    "new_df = new_df[~new_df['state_fips'].isna()].reset_index(drop=True)"
   ]
  },
  {
   "cell_type": "code",
   "execution_count": 32,
   "id": "76473995",
   "metadata": {
    "scrolled": true
   },
   "outputs": [
    {
     "name": "stdout",
     "output_type": "stream",
     "text": [
      "<class 'pandas.core.frame.DataFrame'>\n",
      "RangeIndex: 8995 entries, 0 to 8994\n",
      "Data columns (total 12 columns):\n",
      " #   Column              Non-Null Count  Dtype  \n",
      "---  ------              --------------  -----  \n",
      " 0   npi                 8995 non-null   int64  \n",
      " 1   year                8995 non-null   int64  \n",
      " 2   lastname            8995 non-null   object \n",
      " 3   hcpcs               8995 non-null   object \n",
      " 4   state_id            8995 non-null   object \n",
      " 5   state_fips          8995 non-null   float64\n",
      " 6   zip                 8995 non-null   object \n",
      " 7   tot_benes           8995 non-null   int64  \n",
      " 8   tot_srvcs           8995 non-null   float64\n",
      " 9   tot_bene_day_srvcs  8995 non-null   int64  \n",
      " 10  tot_srvcs_chrg      8995 non-null   float64\n",
      " 11  zip_3               8995 non-null   object \n",
      "dtypes: float64(3), int64(4), object(5)\n",
      "memory usage: 843.4+ KB\n"
     ]
    }
   ],
   "source": [
    "new_df.info()"
   ]
  },
  {
   "cell_type": "code",
   "execution_count": 34,
   "id": "8e0be8b9",
   "metadata": {},
   "outputs": [],
   "source": [
    "# Check\n",
    "zip_df = new_df[['zip','state_id','state_fips']].drop_duplicates()\n",
    "zip_df.groupby(['zip']).nunique().sort_values(by=['state_id'])\n",
    "zip_df.groupby(['zip']).nunique().sort_values(by=['state_fips'])\n",
    "# State FIPS is more accurate --> Drop State ID\n",
    "new_df = new_df.drop(columns=['state_id'])"
   ]
  },
  {
   "cell_type": "code",
   "execution_count": 35,
   "id": "9438e773",
   "metadata": {},
   "outputs": [],
   "source": [
    "# New state ID\n",
    "state_dict = {1:'AL',2:'AK',4:'AZ',5:'AR',6:'CA',8:'CO',9:'CT',10:'DE',11:'DC',\n",
    "              12:'FL',13:'GA',15:'HI',16:'ID',17:'IL',18:'IN',19:'IA',20:'KS',\n",
    "              21:'KY',22:'LA',23:'ME',24:'MD',25:'MA',26:'MI',27:'MN',28:'MS',\n",
    "              29:'MO',30:'MT',31:'NE',32:'NV',33:'NH',34:'NJ',35:'NM',36:'NY',\n",
    "              37:'NC',38:'ND',39:'OH',40:'OK',41:'OR',42:'PA',44:'RI',45:'SC',\n",
    "              46:'SD',47:'TN',48:'TX',49:'UT',50:'VT',51:'VA',53:'WA',54:'WV',\n",
    "              55:'WI',56:'WY'}\n",
    "state_df = pd.DataFrame.from_dict(data=state_dict, orient='index').reset_index(level=[0])\n",
    "state_df.columns=['state_fips','state_id']\n",
    "new_df = pd.merge(new_df, state_df, on=['state_fips'])"
   ]
  },
  {
   "cell_type": "code",
   "execution_count": 36,
   "id": "61090bd9",
   "metadata": {},
   "outputs": [
    {
     "data": {
      "text/plain": [
       "8992"
      ]
     },
     "execution_count": 36,
     "metadata": {},
     "output_type": "execute_result"
    }
   ],
   "source": [
    "len(new_df)"
   ]
  },
  {
   "cell_type": "code",
   "execution_count": 37,
   "id": "e993927b",
   "metadata": {
    "scrolled": true
   },
   "outputs": [],
   "source": [
    "# Data types (important)\n",
    "new_df['npi'] = new_df['npi'].astype(int)\n",
    "new_df['year'] = new_df['year'].astype(int)\n",
    "new_df['zip'] = new_df['zip'].astype(float)\n",
    "new_df['zip'] = new_df['zip'].astype(int)\n",
    "new_df['state_fips'] = new_df['state_fips'].astype(int)"
   ]
  },
  {
   "cell_type": "code",
   "execution_count": 39,
   "id": "cd23e978",
   "metadata": {
    "scrolled": true
   },
   "outputs": [],
   "source": [
    "# 1. Originating site (Q3014)\n",
    "\n",
    "new_df_1 = new_df[new_df['hcpcs'].isin(['Q3014'])][['npi','year','lastname','state_id','state_fips','zip','tot_benes','tot_srvcs','tot_bene_day_srvcs','tot_srvcs_chrg']].drop_duplicates().reset_index(drop=True)\n",
    "new_df_1_gb = new_df_1.groupby(['npi','lastname','state_id','state_fips','zip','year']).sum().reset_index(level=[0,1,2,3,4,5])\n",
    "new_df_1_gb_gb = new_df_1_gb.groupby(['zip','year','state_id','state_fips']).sum().reset_index(level=[0,1,2,3])[['zip','year','state_id','state_fips',\n",
    "                                                                  'tot_benes','tot_srvcs','tot_bene_day_srvcs','tot_srvcs_chrg']]\n",
    "new_df_1 = new_df_1_gb_gb.copy()"
   ]
  },
  {
   "cell_type": "code",
   "execution_count": 40,
   "id": "a28d797e",
   "metadata": {
    "scrolled": true
   },
   "outputs": [
    {
     "data": {
      "text/plain": [
       "zip    year  state_id  state_fips\n",
       "1089   2019  MA        25            1\n",
       "65712  2015  MO        29            1\n",
       "       2016  MO        29            1\n",
       "       2017  MO        29            1\n",
       "65803  2014  MO        29            1\n",
       "                                    ..\n",
       "39307  2017  MS        28            1\n",
       "       2018  MS        28            1\n",
       "       2019  MS        28            1\n",
       "39402  2019  MS        28            1\n",
       "99901  2019  AK        2             1\n",
       "Length: 3680, dtype: int64"
      ]
     },
     "execution_count": 40,
     "metadata": {},
     "output_type": "execute_result"
    }
   ],
   "source": [
    "new_df_1.groupby(['zip','year','state_id','state_fips']).size().sort_values()"
   ]
  },
  {
   "cell_type": "code",
   "execution_count": 41,
   "id": "a37bfd64",
   "metadata": {
    "scrolled": true
   },
   "outputs": [],
   "source": [
    "# 2. All Telehealth\n",
    "\n",
    "new_df_2 = new_df[['npi','year','lastname','state_id','state_fips','zip','tot_benes','tot_srvcs','tot_bene_day_srvcs','tot_srvcs_chrg']].drop_duplicates().reset_index(drop=True)\n",
    "new_df_2_gb = new_df_2.groupby(['npi','lastname','state_id','state_fips','zip','year']).sum().reset_index(level=[0,1,2,3,4,5])\n",
    "new_df_2_gb_gb = new_df_2_gb.groupby(['zip','year','state_id','state_fips']).sum().reset_index(level=[0,1,2,3])[['zip','year','state_id','state_fips',\n",
    "                                                                  'tot_benes','tot_srvcs','tot_bene_day_srvcs','tot_srvcs_chrg']]\n",
    "new_df_2 = new_df_2_gb_gb.copy()"
   ]
  },
  {
   "cell_type": "code",
   "execution_count": 42,
   "id": "3daa11bd",
   "metadata": {
    "scrolled": true
   },
   "outputs": [
    {
     "data": {
      "text/plain": [
       "zip    year  state_id  state_fips\n",
       "1089   2019  MA        25            1\n",
       "65803  2016  MO        29            1\n",
       "       2014  MO        29            1\n",
       "65712  2017  MO        29            1\n",
       "       2016  MO        29            1\n",
       "                                    ..\n",
       "36535  2018  AL        1             1\n",
       "36527  2019  AL        1             1\n",
       "36526  2018  AL        1             1\n",
       "36560  2017  AL        1             1\n",
       "99901  2019  AK        2             1\n",
       "Length: 4977, dtype: int64"
      ]
     },
     "execution_count": 42,
     "metadata": {},
     "output_type": "execute_result"
    }
   ],
   "source": [
    "new_df_2.groupby(['zip','year','state_id','state_fips']).size().sort_values()"
   ]
  },
  {
   "cell_type": "code",
   "execution_count": 43,
   "id": "0c1f7b5f",
   "metadata": {},
   "outputs": [],
   "source": [
    "new_df_1.to_csv(r'telehealth_numservices_q3014.csv', index=False)\n",
    "new_df_2.to_csv(r'telehealth_numservices_all.csv', index=False)"
   ]
  },
  {
   "cell_type": "markdown",
   "id": "fcccd374",
   "metadata": {},
   "source": [
    "### Number of physicians"
   ]
  },
  {
   "cell_type": "code",
   "execution_count": 44,
   "id": "04d21733",
   "metadata": {},
   "outputs": [],
   "source": [
    "# 1. Originating site (Q3014)\n",
    "\n",
    "new_df_1 = new_df[new_df['hcpcs'].isin(['Q3014'])][['npi','year','lastname','state_id','state_fips','zip','tot_benes','tot_srvcs','tot_bene_day_srvcs','tot_srvcs_chrg']].drop_duplicates().reset_index(drop=True)\n",
    "new_df_1_gb = new_df_1.groupby(['npi','lastname','state_id','state_fips','zip','year']).sum().reset_index(level=[0,1,2,3,4,5])\n",
    "new_df_1_gb_gb = new_df_1_gb.groupby(['zip','year','state_id','state_fips']).nunique().reset_index(level=[0,1,2,3])[['zip','year','state_id','state_fips','npi']]\n",
    "new_df_1 = new_df_1_gb_gb.copy()"
   ]
  },
  {
   "cell_type": "code",
   "execution_count": 45,
   "id": "fa744797",
   "metadata": {
    "scrolled": true
   },
   "outputs": [
    {
     "data": {
      "text/plain": [
       "zip    year  state_id  state_fips\n",
       "1089   2019  MA        25            1\n",
       "65712  2015  MO        29            1\n",
       "       2016  MO        29            1\n",
       "       2017  MO        29            1\n",
       "65803  2014  MO        29            1\n",
       "                                    ..\n",
       "39307  2017  MS        28            1\n",
       "       2018  MS        28            1\n",
       "       2019  MS        28            1\n",
       "39402  2019  MS        28            1\n",
       "99901  2019  AK        2             1\n",
       "Length: 3680, dtype: int64"
      ]
     },
     "execution_count": 45,
     "metadata": {},
     "output_type": "execute_result"
    }
   ],
   "source": [
    "new_df_1_gb_gb.groupby(['zip','year','state_id','state_fips']).size().sort_values()"
   ]
  },
  {
   "cell_type": "code",
   "execution_count": 46,
   "id": "8a7e9d70",
   "metadata": {},
   "outputs": [],
   "source": [
    "new_df_1_gb_gb.to_csv(r'telehealth_numphysicians_q3014.csv', index=False)"
   ]
  },
  {
   "cell_type": "code",
   "execution_count": 47,
   "id": "2f1722e0",
   "metadata": {},
   "outputs": [],
   "source": [
    "# 2. All telehealth \n",
    "\n",
    "new_df_2 = new_df[['npi','year','lastname','state_id','state_fips','zip','tot_benes','tot_srvcs','tot_bene_day_srvcs','tot_srvcs_chrg']].drop_duplicates().reset_index(drop=True)\n",
    "new_df_2_gb = new_df_2.groupby(['npi','lastname','state_id','state_fips','zip','year']).sum().reset_index(level=[0,1,2,3,4,5])\n",
    "new_df_2_gb_gb = new_df_2_gb.groupby(['zip','year','state_id','state_fips']).nunique().reset_index(level=[0,1,2,3])[['zip','year','state_id','state_fips','npi']]\n",
    "new_df_2 = new_df_2_gb_gb.copy()"
   ]
  },
  {
   "cell_type": "code",
   "execution_count": 48,
   "id": "2def360f",
   "metadata": {
    "scrolled": true
   },
   "outputs": [
    {
     "data": {
      "text/plain": [
       "zip    year  state_id  state_fips\n",
       "1089   2019  MA        25            1\n",
       "65803  2016  MO        29            1\n",
       "       2014  MO        29            1\n",
       "65712  2017  MO        29            1\n",
       "       2016  MO        29            1\n",
       "                                    ..\n",
       "36535  2018  AL        1             1\n",
       "36527  2019  AL        1             1\n",
       "36526  2018  AL        1             1\n",
       "36560  2017  AL        1             1\n",
       "99901  2019  AK        2             1\n",
       "Length: 4977, dtype: int64"
      ]
     },
     "execution_count": 48,
     "metadata": {},
     "output_type": "execute_result"
    }
   ],
   "source": [
    "new_df_2_gb_gb.groupby(['zip','year','state_id','state_fips']).size().sort_values()"
   ]
  },
  {
   "cell_type": "code",
   "execution_count": 49,
   "id": "bfc602eb",
   "metadata": {},
   "outputs": [],
   "source": [
    "new_df_2_gb_gb.to_csv(r'telehealth_numphysicians_all.csv', index=False)"
   ]
  },
  {
   "cell_type": "markdown",
   "id": "3a6835da",
   "metadata": {},
   "source": [
    "----"
   ]
  },
  {
   "cell_type": "markdown",
   "id": "1ce48e23",
   "metadata": {},
   "source": [
    "### Merge"
   ]
  },
  {
   "cell_type": "code",
   "execution_count": 50,
   "id": "ec930d1b",
   "metadata": {},
   "outputs": [],
   "source": [
    "telephy_df1 = pd.read_csv(r'telehealth_numphysicians_q3014.csv')\n",
    "telephy_df2 = pd.read_csv(r'telehealth_numphysicians_all.csv')\n",
    "teleserv_df1 = pd.read_csv(r'telehealth_numservices_q3014.csv')\n",
    "teleserv_df2 = pd.read_csv(r'telehealth_numservices_all.csv')"
   ]
  },
  {
   "cell_type": "code",
   "execution_count": 51,
   "id": "3eda3d4b",
   "metadata": {},
   "outputs": [],
   "source": [
    "telephy_df1.columns=['zip','year','state_id','state_fips','numphysicians_tele_q3014']\n",
    "telephy_df2.columns=['zip','year','state_id','state_fips','numphysicians_tele_all']\n",
    "teleserv_df1.columns=['zip','year','state_id','state_fips','tot_benes_q3014',\n",
    "                 'tot_srvcs_q3014','tot_bene_day_srvcs_q3014','tot_srvcs_chrg_q3014']\n",
    "teleserv_df2.columns=['zip','year','state_id','state_fips','tot_benes_alltele',\n",
    "                 'tot_srvcs_alltele','tot_bene_day_srvcs_alltele','tot_srvcs_chrg_alltele']"
   ]
  },
  {
   "cell_type": "code",
   "execution_count": 52,
   "id": "8d7df92a",
   "metadata": {
    "scrolled": true
   },
   "outputs": [
    {
     "data": {
      "text/plain": [
       "(3680, 4977, 3680, 4977)"
      ]
     },
     "execution_count": 52,
     "metadata": {},
     "output_type": "execute_result"
    }
   ],
   "source": [
    "len(telephy_df1), len(telephy_df2),len(teleserv_df1),len(teleserv_df2)"
   ]
  },
  {
   "cell_type": "code",
   "execution_count": 53,
   "id": "73521c9f",
   "metadata": {},
   "outputs": [],
   "source": [
    "from functools import reduce\n",
    "\n",
    "tele_df = reduce(lambda x,y: pd.merge(x,y, on=['zip','year','state_id','state_fips'],\n",
    "                                      how='outer'), [telephy_df1,telephy_df2,teleserv_df1,teleserv_df2]).fillna(0)"
   ]
  },
  {
   "cell_type": "code",
   "execution_count": 56,
   "id": "71e59285",
   "metadata": {
    "scrolled": true
   },
   "outputs": [
    {
     "name": "stdout",
     "output_type": "stream",
     "text": [
      "<class 'pandas.core.frame.DataFrame'>\n",
      "Int64Index: 4977 entries, 0 to 4976\n",
      "Data columns (total 14 columns):\n",
      " #   Column                      Non-Null Count  Dtype  \n",
      "---  ------                      --------------  -----  \n",
      " 0   zip                         4977 non-null   int64  \n",
      " 1   year                        4977 non-null   int64  \n",
      " 2   state_id                    4977 non-null   object \n",
      " 3   state_fips                  4977 non-null   int64  \n",
      " 4   numphysicians_tele_q3014    4977 non-null   float64\n",
      " 5   numphysicians_tele_all      4977 non-null   int64  \n",
      " 6   tot_benes_q3014             4977 non-null   float64\n",
      " 7   tot_srvcs_q3014             4977 non-null   float64\n",
      " 8   tot_bene_day_srvcs_q3014    4977 non-null   float64\n",
      " 9   tot_srvcs_chrg_q3014        4977 non-null   float64\n",
      " 10  tot_benes_alltele           4977 non-null   int64  \n",
      " 11  tot_srvcs_alltele           4977 non-null   float64\n",
      " 12  tot_bene_day_srvcs_alltele  4977 non-null   int64  \n",
      " 13  tot_srvcs_chrg_alltele      4977 non-null   float64\n",
      "dtypes: float64(7), int64(6), object(1)\n",
      "memory usage: 583.2+ KB\n"
     ]
    }
   ],
   "source": [
    "tele_df.info()"
   ]
  },
  {
   "cell_type": "code",
   "execution_count": 55,
   "id": "a2809772",
   "metadata": {},
   "outputs": [],
   "source": [
    "tele_df.to_csv(r'telehealth_numphysicians_numservices.csv', index=False)"
   ]
  },
  {
   "cell_type": "markdown",
   "id": "194d2514",
   "metadata": {},
   "source": [
    "----"
   ]
  },
  {
   "cell_type": "markdown",
   "id": "36182944",
   "metadata": {},
   "source": [
    "#### Merge Tele & Ambulance"
   ]
  },
  {
   "cell_type": "code",
   "execution_count": 57,
   "id": "e2655780",
   "metadata": {},
   "outputs": [],
   "source": [
    "new_df_1 = pd.read_csv('nonemerg_amb.csv')\n",
    "new_df_2 = pd.read_csv('emerg_amb.csv')\n",
    "new_df_3 = pd.read_csv('all_amb.csv')"
   ]
  },
  {
   "cell_type": "code",
   "execution_count": 58,
   "id": "9d235a07",
   "metadata": {},
   "outputs": [],
   "source": [
    "new_df_1.columns=['zip','year','state_id','state_fips','tot_benes_nonemerg',\n",
    "                 'tot_srvcs_nonemerg','tot_bene_day_srvcs_nonemerg','tot_srvcs_chrg_nonemerg']\n",
    "new_df_2.columns=['zip','year','state_id','state_fips','tot_benes_emerg',\n",
    "                 'tot_srvcs_emerg','tot_bene_day_srvcs_emerg','tot_srvcs_chrg_emerg']\n",
    "new_df_3.columns=['zip','year','state_id','state_fips','tot_benes_allamb',\n",
    "                 'tot_srvcs_allamb','tot_bene_day_srvcs_allamb','tot_srvcs_chrg_allamb']"
   ]
  },
  {
   "cell_type": "code",
   "execution_count": 59,
   "id": "5e510334",
   "metadata": {},
   "outputs": [
    {
     "data": {
      "text/plain": [
       "(19770, 53501, 55335)"
      ]
     },
     "execution_count": 59,
     "metadata": {},
     "output_type": "execute_result"
    }
   ],
   "source": [
    "len(new_df_1), len(new_df_2), len(new_df_3)"
   ]
  },
  {
   "cell_type": "code",
   "execution_count": 60,
   "id": "724b7f74",
   "metadata": {
    "scrolled": true
   },
   "outputs": [
    {
     "name": "stdout",
     "output_type": "stream",
     "text": [
      "<class 'pandas.core.frame.DataFrame'>\n",
      "Int64Index: 55335 entries, 0 to 55334\n",
      "Data columns (total 16 columns):\n",
      " #   Column                       Non-Null Count  Dtype  \n",
      "---  ------                       --------------  -----  \n",
      " 0   zip                          55335 non-null  int64  \n",
      " 1   year                         55335 non-null  int64  \n",
      " 2   state_id                     55335 non-null  object \n",
      " 3   state_fips                   55335 non-null  int64  \n",
      " 4   tot_benes_nonemerg           55335 non-null  float64\n",
      " 5   tot_srvcs_nonemerg           55335 non-null  float64\n",
      " 6   tot_bene_day_srvcs_nonemerg  55335 non-null  float64\n",
      " 7   tot_srvcs_chrg_nonemerg      55335 non-null  float64\n",
      " 8   tot_benes_emerg              55335 non-null  float64\n",
      " 9   tot_srvcs_emerg              55335 non-null  float64\n",
      " 10  tot_bene_day_srvcs_emerg     55335 non-null  float64\n",
      " 11  tot_srvcs_chrg_emerg         55335 non-null  float64\n",
      " 12  tot_benes_allamb             55335 non-null  int64  \n",
      " 13  tot_srvcs_allamb             55335 non-null  float64\n",
      " 14  tot_bene_day_srvcs_allamb    55335 non-null  int64  \n",
      " 15  tot_srvcs_chrg_allamb        55335 non-null  float64\n",
      "dtypes: float64(10), int64(5), object(1)\n",
      "memory usage: 7.2+ MB\n"
     ]
    }
   ],
   "source": [
    "temp_df = pd.merge(new_df_1, new_df_2, on=['zip','year','state_id','state_fips'], how='outer')\n",
    "temp_df = pd.merge(temp_df, new_df_3, on=['zip','year','state_id','state_fips'], how='outer')\n",
    "temp_df = temp_df.fillna(0)\n",
    "temp_df.info()\n",
    "amb_df = temp_df.copy()"
   ]
  },
  {
   "cell_type": "code",
   "execution_count": 61,
   "id": "10318096",
   "metadata": {
    "scrolled": true
   },
   "outputs": [
    {
     "name": "stdout",
     "output_type": "stream",
     "text": [
      "<class 'pandas.core.frame.DataFrame'>\n",
      "Int64Index: 58177 entries, 0 to 58176\n",
      "Data columns (total 26 columns):\n",
      " #   Column                       Non-Null Count  Dtype  \n",
      "---  ------                       --------------  -----  \n",
      " 0   zip                          58177 non-null  int64  \n",
      " 1   year                         58177 non-null  int64  \n",
      " 2   state_id                     58177 non-null  object \n",
      " 3   state_fips                   58177 non-null  int64  \n",
      " 4   tot_benes_nonemerg           58177 non-null  float64\n",
      " 5   tot_srvcs_nonemerg           58177 non-null  float64\n",
      " 6   tot_bene_day_srvcs_nonemerg  58177 non-null  float64\n",
      " 7   tot_srvcs_chrg_nonemerg      58177 non-null  float64\n",
      " 8   tot_benes_emerg              58177 non-null  float64\n",
      " 9   tot_srvcs_emerg              58177 non-null  float64\n",
      " 10  tot_bene_day_srvcs_emerg     58177 non-null  float64\n",
      " 11  tot_srvcs_chrg_emerg         58177 non-null  float64\n",
      " 12  tot_benes_allamb             58177 non-null  float64\n",
      " 13  tot_srvcs_allamb             58177 non-null  float64\n",
      " 14  tot_bene_day_srvcs_allamb    58177 non-null  float64\n",
      " 15  tot_srvcs_chrg_allamb        58177 non-null  float64\n",
      " 16  numphysicians_tele_q3014     58177 non-null  float64\n",
      " 17  numphysicians_tele_all       58177 non-null  float64\n",
      " 18  tot_benes_q3014              58177 non-null  float64\n",
      " 19  tot_srvcs_q3014              58177 non-null  float64\n",
      " 20  tot_bene_day_srvcs_q3014     58177 non-null  float64\n",
      " 21  tot_srvcs_chrg_q3014         58177 non-null  float64\n",
      " 22  tot_benes_alltele            58177 non-null  float64\n",
      " 23  tot_srvcs_alltele            58177 non-null  float64\n",
      " 24  tot_bene_day_srvcs_alltele   58177 non-null  float64\n",
      " 25  tot_srvcs_chrg_alltele       58177 non-null  float64\n",
      "dtypes: float64(22), int64(3), object(1)\n",
      "memory usage: 12.0+ MB\n"
     ]
    }
   ],
   "source": [
    "temp_df = pd.merge(amb_df, tele_df, on=['zip','year','state_id','state_fips'], how='outer')\n",
    "temp_df = temp_df.fillna(0)\n",
    "temp_df.info()"
   ]
  },
  {
   "cell_type": "code",
   "execution_count": 62,
   "id": "741b7f3e",
   "metadata": {},
   "outputs": [],
   "source": [
    "temp_df.to_csv(r'amb_tele_provider_service.csv', index=False)"
   ]
  },
  {
   "cell_type": "markdown",
   "id": "0e78227e",
   "metadata": {},
   "source": [
    "##### From zip to county"
   ]
  },
  {
   "cell_type": "code",
   "execution_count": 245,
   "id": "fc1991a6",
   "metadata": {},
   "outputs": [],
   "source": [
    "amb_tele_df = pd.read_csv(r'amb_tele_provider_service.csv')"
   ]
  },
  {
   "cell_type": "code",
   "execution_count": 246,
   "id": "f5fb49b2",
   "metadata": {},
   "outputs": [],
   "source": [
    "# group doctors by county\n",
    "zip_county_df = pd.read_csv(r'/Users/krhee/Dropbox (ASU)/Coding/RA_Coding/providerservice/ziptocounty/ZIP_COUNTY.csv')\n",
    "zip_county_df.columns=['zip','county','county_tot_ratio','year']"
   ]
  },
  {
   "cell_type": "code",
   "execution_count": 247,
   "id": "a43d979e",
   "metadata": {},
   "outputs": [],
   "source": [
    "# keep only the counties that have max county_tot_ratio\n",
    "zip_df_gb = zip_county_df.groupby(['zip','year']).max().reset_index(level=[0,1])[['zip','year','county_tot_ratio']].drop_duplicates()\n",
    "zip_county_df = pd.merge(zip_county_df, zip_df_gb, on=['zip','year','county_tot_ratio'])\n",
    "# If it's 50:50, keep the most frequent value by zip code\n",
    "zip_county_df = zip_county_df.groupby(['zip']).agg(pd.Series.mode).reset_index(level=[0])\n",
    "zip_county_df = zip_county_df[['zip','county']]"
   ]
  },
  {
   "cell_type": "code",
   "execution_count": 248,
   "id": "d87b68f2",
   "metadata": {
    "scrolled": false
   },
   "outputs": [
    {
     "data": {
      "text/plain": [
       "(57221, 39627)"
      ]
     },
     "execution_count": 248,
     "metadata": {},
     "output_type": "execute_result"
    }
   ],
   "source": [
    "len(amb_tele_df), len(zip_county_df)"
   ]
  },
  {
   "cell_type": "code",
   "execution_count": 249,
   "id": "e4db609e",
   "metadata": {
    "scrolled": true
   },
   "outputs": [
    {
     "name": "stdout",
     "output_type": "stream",
     "text": [
      "<class 'pandas.core.frame.DataFrame'>\n",
      "RangeIndex: 57175 entries, 0 to 57174\n",
      "Data columns (total 27 columns):\n",
      " #   Column                       Non-Null Count  Dtype  \n",
      "---  ------                       --------------  -----  \n",
      " 0   zip                          57175 non-null  int64  \n",
      " 1   year                         57175 non-null  float64\n",
      " 2   state_id                     57175 non-null  object \n",
      " 3   state_fips                   57175 non-null  float64\n",
      " 4   tot_benes_nonemerg           57175 non-null  float64\n",
      " 5   tot_srvcs_nonemerg           57175 non-null  float64\n",
      " 6   tot_bene_day_srvcs_nonemerg  57175 non-null  float64\n",
      " 7   tot_srvcs_chrg_nonemerg      57175 non-null  float64\n",
      " 8   tot_benes_emerg              57175 non-null  float64\n",
      " 9   tot_srvcs_emerg              57175 non-null  float64\n",
      " 10  tot_bene_day_srvcs_emerg     57175 non-null  float64\n",
      " 11  tot_srvcs_chrg_emerg         57175 non-null  float64\n",
      " 12  tot_benes_allamb             57175 non-null  float64\n",
      " 13  tot_srvcs_allamb             57175 non-null  float64\n",
      " 14  tot_bene_day_srvcs_allamb    57175 non-null  float64\n",
      " 15  tot_srvcs_chrg_allamb        57175 non-null  float64\n",
      " 16  numphysicians_tele_q3014     57175 non-null  float64\n",
      " 17  numphysicians_tele_all       57175 non-null  float64\n",
      " 18  tot_benes_q3014              57175 non-null  float64\n",
      " 19  tot_srvcs_q3014              57175 non-null  float64\n",
      " 20  tot_bene_day_srvcs_q3014     57175 non-null  float64\n",
      " 21  tot_srvcs_chrg_q3014         57175 non-null  float64\n",
      " 22  tot_benes_alltele            57175 non-null  float64\n",
      " 23  tot_srvcs_alltele            57175 non-null  float64\n",
      " 24  tot_bene_day_srvcs_alltele   57175 non-null  float64\n",
      " 25  tot_srvcs_chrg_alltele       57175 non-null  float64\n",
      " 26  county                       57175 non-null  object \n",
      "dtypes: float64(24), int64(1), object(2)\n",
      "memory usage: 11.8+ MB\n"
     ]
    },
    {
     "name": "stderr",
     "output_type": "stream",
     "text": [
      "/var/folders/ff/7xvchf4558v3w_jjs11bdwlw0000gp/T/ipykernel_43807/3812199944.py:4: FutureWarning: null_counts is deprecated. Use show_counts instead\n",
      "  temp_df.info(null_counts=True)\n"
     ]
    }
   ],
   "source": [
    "temp_df = pd.merge(amb_tele_df, zip_county_df, on=['zip'], how='outer')\n",
    "temp_df = temp_df[~temp_df['year'].isna()].reset_index(drop=True)\n",
    "temp_df = temp_df[~temp_df['county'].isna()].reset_index(drop=True) # check\n",
    "temp_df.info(null_counts=True)\n"
   ]
  },
  {
   "cell_type": "code",
   "execution_count": 250,
   "id": "c2c66af5",
   "metadata": {},
   "outputs": [],
   "source": [
    "temp_df_gb = temp_df.drop(columns=['zip']).groupby(['county','state_id','state_fips','year']).sum().reset_index(level=[0,1,2,3])"
   ]
  },
  {
   "cell_type": "code",
   "execution_count": 251,
   "id": "7fb304a5",
   "metadata": {
    "scrolled": false
   },
   "outputs": [
    {
     "data": {
      "text/plain": [
       "county  year  \n",
       "1001    2013.0    1\n",
       "40055   2019.0    1\n",
       "40057   2013.0    1\n",
       "        2014.0    1\n",
       "        2015.0    1\n",
       "                 ..\n",
       "21115   2019.0    1\n",
       "        2018.0    1\n",
       "        2017.0    1\n",
       "21117   2016.0    1\n",
       "78030   2018.0    1\n",
       "Length: 18188, dtype: int64"
      ]
     },
     "execution_count": 251,
     "metadata": {},
     "output_type": "execute_result"
    }
   ],
   "source": [
    "temp_df_gb.groupby(['county','year']).size().sort_values()"
   ]
  },
  {
   "cell_type": "code",
   "execution_count": 252,
   "id": "3e632339",
   "metadata": {},
   "outputs": [],
   "source": [
    "temp_df_gb.to_csv(r'amb_tele_county.csv', index=False)"
   ]
  },
  {
   "cell_type": "markdown",
   "id": "abe0e7cf",
   "metadata": {},
   "source": [
    "##### From county to hsa"
   ]
  },
  {
   "cell_type": "code",
   "execution_count": 253,
   "id": "ef4c4c13",
   "metadata": {},
   "outputs": [],
   "source": [
    "amb_tele_county_df = pd.read_csv(r'amb_tele_county.csv')"
   ]
  },
  {
   "cell_type": "code",
   "execution_count": 254,
   "id": "70c33384",
   "metadata": {},
   "outputs": [],
   "source": [
    "# group doctors by county\n",
    "hsa_df = pd.read_csv(r'/Users/krhee/Dropbox (ASU)/Coding/RA_Coding/providerservice/hsatofips/fipstohsa.csv')\n",
    "hsa_df.columns=['hsa','hsa-name','state-county','county']"
   ]
  },
  {
   "cell_type": "code",
   "execution_count": 255,
   "id": "9f43b7d6",
   "metadata": {
    "scrolled": true
   },
   "outputs": [
    {
     "data": {
      "text/html": [
       "<div>\n",
       "<style scoped>\n",
       "    .dataframe tbody tr th:only-of-type {\n",
       "        vertical-align: middle;\n",
       "    }\n",
       "\n",
       "    .dataframe tbody tr th {\n",
       "        vertical-align: top;\n",
       "    }\n",
       "\n",
       "    .dataframe thead th {\n",
       "        text-align: right;\n",
       "    }\n",
       "</style>\n",
       "<table border=\"1\" class=\"dataframe\">\n",
       "  <thead>\n",
       "    <tr style=\"text-align: right;\">\n",
       "      <th></th>\n",
       "      <th>hsa</th>\n",
       "      <th>hsa-name</th>\n",
       "      <th>state-county</th>\n",
       "      <th>county</th>\n",
       "    </tr>\n",
       "  </thead>\n",
       "  <tbody>\n",
       "    <tr>\n",
       "      <th>0</th>\n",
       "      <td>259</td>\n",
       "      <td>Butler, AL</td>\n",
       "      <td>AL: Butler County (01013)</td>\n",
       "      <td>1013</td>\n",
       "    </tr>\n",
       "    <tr>\n",
       "      <th>1</th>\n",
       "      <td>177</td>\n",
       "      <td>Calhoun (Anniston), AL - Cleburne, AL</td>\n",
       "      <td>AL: Calhoun County (01015)</td>\n",
       "      <td>1015</td>\n",
       "    </tr>\n",
       "    <tr>\n",
       "      <th>2</th>\n",
       "      <td>177</td>\n",
       "      <td>Calhoun (Anniston), AL - Cleburne, AL</td>\n",
       "      <td>AL: Cleburne County (01029)</td>\n",
       "      <td>1029</td>\n",
       "    </tr>\n",
       "    <tr>\n",
       "      <th>3</th>\n",
       "      <td>172</td>\n",
       "      <td>Chambers, AL - Randolph, AL</td>\n",
       "      <td>AL: Chambers County (01017)</td>\n",
       "      <td>1017</td>\n",
       "    </tr>\n",
       "    <tr>\n",
       "      <th>4</th>\n",
       "      <td>172</td>\n",
       "      <td>Chambers, AL - Randolph, AL</td>\n",
       "      <td>AL: Randolph County (01111)</td>\n",
       "      <td>1111</td>\n",
       "    </tr>\n",
       "    <tr>\n",
       "      <th>...</th>\n",
       "      <td>...</td>\n",
       "      <td>...</td>\n",
       "      <td>...</td>\n",
       "      <td>...</td>\n",
       "    </tr>\n",
       "    <tr>\n",
       "      <th>3212</th>\n",
       "      <td>775</td>\n",
       "      <td>Teton, WY - Lincoln, WY</td>\n",
       "      <td>WY: Sublette County (56035)</td>\n",
       "      <td>56035</td>\n",
       "    </tr>\n",
       "    <tr>\n",
       "      <th>3213</th>\n",
       "      <td>775</td>\n",
       "      <td>Teton, WY - Lincoln, WY</td>\n",
       "      <td>WY: Teton County (56039)</td>\n",
       "      <td>56039</td>\n",
       "    </tr>\n",
       "    <tr>\n",
       "      <th>3214</th>\n",
       "      <td>792</td>\n",
       "      <td>Uinta, WY</td>\n",
       "      <td>WY: Uinta County (56041)</td>\n",
       "      <td>56041</td>\n",
       "    </tr>\n",
       "    <tr>\n",
       "      <th>3215</th>\n",
       "      <td>804</td>\n",
       "      <td>Weston, WY</td>\n",
       "      <td>WY: Weston County (56045)</td>\n",
       "      <td>56045</td>\n",
       "    </tr>\n",
       "    <tr>\n",
       "      <th>3216</th>\n",
       "      <td>1022</td>\n",
       "      <td>Blank(s)</td>\n",
       "      <td>WY: Unknown (56999)</td>\n",
       "      <td>56999</td>\n",
       "    </tr>\n",
       "  </tbody>\n",
       "</table>\n",
       "<p>3217 rows × 4 columns</p>\n",
       "</div>"
      ],
      "text/plain": [
       "       hsa                               hsa-name  \\\n",
       "0      259                             Butler, AL   \n",
       "1      177  Calhoun (Anniston), AL - Cleburne, AL   \n",
       "2      177  Calhoun (Anniston), AL - Cleburne, AL   \n",
       "3      172            Chambers, AL - Randolph, AL   \n",
       "4      172            Chambers, AL - Randolph, AL   \n",
       "...    ...                                    ...   \n",
       "3212   775                Teton, WY - Lincoln, WY   \n",
       "3213   775                Teton, WY - Lincoln, WY   \n",
       "3214   792                              Uinta, WY   \n",
       "3215   804                             Weston, WY   \n",
       "3216  1022                               Blank(s)   \n",
       "\n",
       "                     state-county  county  \n",
       "0       AL: Butler County (01013)    1013  \n",
       "1      AL: Calhoun County (01015)    1015  \n",
       "2     AL: Cleburne County (01029)    1029  \n",
       "3     AL: Chambers County (01017)    1017  \n",
       "4     AL: Randolph County (01111)    1111  \n",
       "...                           ...     ...  \n",
       "3212  WY: Sublette County (56035)   56035  \n",
       "3213     WY: Teton County (56039)   56039  \n",
       "3214     WY: Uinta County (56041)   56041  \n",
       "3215    WY: Weston County (56045)   56045  \n",
       "3216          WY: Unknown (56999)   56999  \n",
       "\n",
       "[3217 rows x 4 columns]"
      ]
     },
     "execution_count": 255,
     "metadata": {},
     "output_type": "execute_result"
    }
   ],
   "source": [
    "hsa_df"
   ]
  },
  {
   "cell_type": "code",
   "execution_count": 258,
   "id": "3486b5fd",
   "metadata": {
    "scrolled": true
   },
   "outputs": [
    {
     "data": {
      "text/plain": [
       "(18188, 3217)"
      ]
     },
     "execution_count": 258,
     "metadata": {},
     "output_type": "execute_result"
    }
   ],
   "source": [
    "len(amb_tele_county_df), len(hsa_df)"
   ]
  },
  {
   "cell_type": "code",
   "execution_count": 259,
   "id": "6cc42676",
   "metadata": {
    "scrolled": true
   },
   "outputs": [
    {
     "name": "stdout",
     "output_type": "stream",
     "text": [
      "<class 'pandas.core.frame.DataFrame'>\n",
      "RangeIndex: 18178 entries, 0 to 18177\n",
      "Data columns (total 29 columns):\n",
      " #   Column                       Non-Null Count  Dtype  \n",
      "---  ------                       --------------  -----  \n",
      " 0   county                       18178 non-null  int64  \n",
      " 1   state_id                     18178 non-null  object \n",
      " 2   state_fips                   18178 non-null  float64\n",
      " 3   year                         18178 non-null  float64\n",
      " 4   tot_benes_nonemerg           18178 non-null  float64\n",
      " 5   tot_srvcs_nonemerg           18178 non-null  float64\n",
      " 6   tot_bene_day_srvcs_nonemerg  18178 non-null  float64\n",
      " 7   tot_srvcs_chrg_nonemerg      18178 non-null  float64\n",
      " 8   tot_benes_emerg              18178 non-null  float64\n",
      " 9   tot_srvcs_emerg              18178 non-null  float64\n",
      " 10  tot_bene_day_srvcs_emerg     18178 non-null  float64\n",
      " 11  tot_srvcs_chrg_emerg         18178 non-null  float64\n",
      " 12  tot_benes_allamb             18178 non-null  float64\n",
      " 13  tot_srvcs_allamb             18178 non-null  float64\n",
      " 14  tot_bene_day_srvcs_allamb    18178 non-null  float64\n",
      " 15  tot_srvcs_chrg_allamb        18178 non-null  float64\n",
      " 16  numphysicians_tele_q3014     18178 non-null  float64\n",
      " 17  numphysicians_tele_all       18178 non-null  float64\n",
      " 18  tot_benes_q3014              18178 non-null  float64\n",
      " 19  tot_srvcs_q3014              18178 non-null  float64\n",
      " 20  tot_bene_day_srvcs_q3014     18178 non-null  float64\n",
      " 21  tot_srvcs_chrg_q3014         18178 non-null  float64\n",
      " 22  tot_benes_alltele            18178 non-null  float64\n",
      " 23  tot_srvcs_alltele            18178 non-null  float64\n",
      " 24  tot_bene_day_srvcs_alltele   18178 non-null  float64\n",
      " 25  tot_srvcs_chrg_alltele       18178 non-null  float64\n",
      " 26  hsa                          18178 non-null  float64\n",
      " 27  hsa-name                     18178 non-null  object \n",
      " 28  state-county                 18178 non-null  object \n",
      "dtypes: float64(25), int64(1), object(3)\n",
      "memory usage: 4.0+ MB\n"
     ]
    },
    {
     "name": "stderr",
     "output_type": "stream",
     "text": [
      "/var/folders/ff/7xvchf4558v3w_jjs11bdwlw0000gp/T/ipykernel_43807/1417906144.py:4: FutureWarning: null_counts is deprecated. Use show_counts instead\n",
      "  temp_df.info(null_counts=True)\n"
     ]
    }
   ],
   "source": [
    "temp_df = pd.merge(amb_tele_county_df, hsa_df, on=['county'], how='outer')\n",
    "temp_df = temp_df[~temp_df['year'].isna()].reset_index(drop=True)\n",
    "temp_df = temp_df[~temp_df['hsa'].isna()].reset_index(drop=True) # check (From virgin islands)\n",
    "temp_df.info(null_counts=True)\n"
   ]
  },
  {
   "cell_type": "code",
   "execution_count": 260,
   "id": "74a5f3c3",
   "metadata": {},
   "outputs": [],
   "source": [
    "temp_df_gb = temp_df.groupby(['hsa','state_id','state_fips','year']).sum().reset_index(level=[0,1,2,3])\n",
    "temp_df_gb.to_csv(r'amb_tele_hsa.csv', index=False)"
   ]
  },
  {
   "cell_type": "code",
   "execution_count": 265,
   "id": "ebaaa650",
   "metadata": {
    "scrolled": true
   },
   "outputs": [
    {
     "data": {
      "text/html": [
       "<div>\n",
       "<style scoped>\n",
       "    .dataframe tbody tr th:only-of-type {\n",
       "        vertical-align: middle;\n",
       "    }\n",
       "\n",
       "    .dataframe tbody tr th {\n",
       "        vertical-align: top;\n",
       "    }\n",
       "\n",
       "    .dataframe thead th {\n",
       "        text-align: right;\n",
       "    }\n",
       "</style>\n",
       "<table border=\"1\" class=\"dataframe\">\n",
       "  <thead>\n",
       "    <tr style=\"text-align: right;\">\n",
       "      <th></th>\n",
       "      <th>hsa</th>\n",
       "      <th>state_id</th>\n",
       "      <th>state_fips</th>\n",
       "      <th>year</th>\n",
       "      <th>county</th>\n",
       "      <th>tot_benes_nonemerg</th>\n",
       "      <th>tot_srvcs_nonemerg</th>\n",
       "      <th>tot_bene_day_srvcs_nonemerg</th>\n",
       "      <th>tot_srvcs_chrg_nonemerg</th>\n",
       "      <th>tot_benes_emerg</th>\n",
       "      <th>...</th>\n",
       "      <th>numphysicians_tele_q3014</th>\n",
       "      <th>numphysicians_tele_all</th>\n",
       "      <th>tot_benes_q3014</th>\n",
       "      <th>tot_srvcs_q3014</th>\n",
       "      <th>tot_bene_day_srvcs_q3014</th>\n",
       "      <th>tot_srvcs_chrg_q3014</th>\n",
       "      <th>tot_benes_alltele</th>\n",
       "      <th>tot_srvcs_alltele</th>\n",
       "      <th>tot_bene_day_srvcs_alltele</th>\n",
       "      <th>tot_srvcs_chrg_alltele</th>\n",
       "    </tr>\n",
       "  </thead>\n",
       "  <tbody>\n",
       "    <tr>\n",
       "      <th>0</th>\n",
       "      <td>2.0</td>\n",
       "      <td>KY</td>\n",
       "      <td>21.0</td>\n",
       "      <td>2013.0</td>\n",
       "      <td>126518</td>\n",
       "      <td>45.0</td>\n",
       "      <td>1611.0</td>\n",
       "      <td>844.0</td>\n",
       "      <td>5.831820e+05</td>\n",
       "      <td>7369.0</td>\n",
       "      <td>...</td>\n",
       "      <td>0.0</td>\n",
       "      <td>0.0</td>\n",
       "      <td>0.0</td>\n",
       "      <td>0.0</td>\n",
       "      <td>0.0</td>\n",
       "      <td>0.00</td>\n",
       "      <td>0.0</td>\n",
       "      <td>0.0</td>\n",
       "      <td>0.0</td>\n",
       "      <td>0.00</td>\n",
       "    </tr>\n",
       "    <tr>\n",
       "      <th>1</th>\n",
       "      <td>2.0</td>\n",
       "      <td>KY</td>\n",
       "      <td>21.0</td>\n",
       "      <td>2014.0</td>\n",
       "      <td>126518</td>\n",
       "      <td>37.0</td>\n",
       "      <td>1133.0</td>\n",
       "      <td>613.0</td>\n",
       "      <td>4.101877e+05</td>\n",
       "      <td>7448.0</td>\n",
       "      <td>...</td>\n",
       "      <td>0.0</td>\n",
       "      <td>0.0</td>\n",
       "      <td>0.0</td>\n",
       "      <td>0.0</td>\n",
       "      <td>0.0</td>\n",
       "      <td>0.00</td>\n",
       "      <td>0.0</td>\n",
       "      <td>0.0</td>\n",
       "      <td>0.0</td>\n",
       "      <td>0.00</td>\n",
       "    </tr>\n",
       "    <tr>\n",
       "      <th>2</th>\n",
       "      <td>2.0</td>\n",
       "      <td>KY</td>\n",
       "      <td>21.0</td>\n",
       "      <td>2015.0</td>\n",
       "      <td>126518</td>\n",
       "      <td>50.0</td>\n",
       "      <td>974.0</td>\n",
       "      <td>529.0</td>\n",
       "      <td>3.531301e+05</td>\n",
       "      <td>7501.0</td>\n",
       "      <td>...</td>\n",
       "      <td>0.0</td>\n",
       "      <td>0.0</td>\n",
       "      <td>0.0</td>\n",
       "      <td>0.0</td>\n",
       "      <td>0.0</td>\n",
       "      <td>0.00</td>\n",
       "      <td>0.0</td>\n",
       "      <td>0.0</td>\n",
       "      <td>0.0</td>\n",
       "      <td>0.00</td>\n",
       "    </tr>\n",
       "    <tr>\n",
       "      <th>3</th>\n",
       "      <td>2.0</td>\n",
       "      <td>KY</td>\n",
       "      <td>21.0</td>\n",
       "      <td>2016.0</td>\n",
       "      <td>126518</td>\n",
       "      <td>2940.0</td>\n",
       "      <td>6543.1</td>\n",
       "      <td>5556.0</td>\n",
       "      <td>5.327887e+06</td>\n",
       "      <td>7671.0</td>\n",
       "      <td>...</td>\n",
       "      <td>0.0</td>\n",
       "      <td>0.0</td>\n",
       "      <td>0.0</td>\n",
       "      <td>0.0</td>\n",
       "      <td>0.0</td>\n",
       "      <td>0.00</td>\n",
       "      <td>0.0</td>\n",
       "      <td>0.0</td>\n",
       "      <td>0.0</td>\n",
       "      <td>0.00</td>\n",
       "    </tr>\n",
       "    <tr>\n",
       "      <th>4</th>\n",
       "      <td>2.0</td>\n",
       "      <td>KY</td>\n",
       "      <td>21.0</td>\n",
       "      <td>2017.0</td>\n",
       "      <td>126518</td>\n",
       "      <td>2951.0</td>\n",
       "      <td>6047.0</td>\n",
       "      <td>5153.0</td>\n",
       "      <td>5.388326e+06</td>\n",
       "      <td>8041.0</td>\n",
       "      <td>...</td>\n",
       "      <td>0.0</td>\n",
       "      <td>0.0</td>\n",
       "      <td>0.0</td>\n",
       "      <td>0.0</td>\n",
       "      <td>0.0</td>\n",
       "      <td>0.00</td>\n",
       "      <td>0.0</td>\n",
       "      <td>0.0</td>\n",
       "      <td>0.0</td>\n",
       "      <td>0.00</td>\n",
       "    </tr>\n",
       "    <tr>\n",
       "      <th>...</th>\n",
       "      <td>...</td>\n",
       "      <td>...</td>\n",
       "      <td>...</td>\n",
       "      <td>...</td>\n",
       "      <td>...</td>\n",
       "      <td>...</td>\n",
       "      <td>...</td>\n",
       "      <td>...</td>\n",
       "      <td>...</td>\n",
       "      <td>...</td>\n",
       "      <td>...</td>\n",
       "      <td>...</td>\n",
       "      <td>...</td>\n",
       "      <td>...</td>\n",
       "      <td>...</td>\n",
       "      <td>...</td>\n",
       "      <td>...</td>\n",
       "      <td>...</td>\n",
       "      <td>...</td>\n",
       "      <td>...</td>\n",
       "      <td>...</td>\n",
       "    </tr>\n",
       "    <tr>\n",
       "      <th>6230</th>\n",
       "      <td>985.0</td>\n",
       "      <td>CO</td>\n",
       "      <td>8.0</td>\n",
       "      <td>2017.0</td>\n",
       "      <td>32294</td>\n",
       "      <td>126.0</td>\n",
       "      <td>151.0</td>\n",
       "      <td>146.0</td>\n",
       "      <td>7.057600e+04</td>\n",
       "      <td>907.0</td>\n",
       "      <td>...</td>\n",
       "      <td>1.0</td>\n",
       "      <td>1.0</td>\n",
       "      <td>68.0</td>\n",
       "      <td>104.0</td>\n",
       "      <td>104.0</td>\n",
       "      <td>3768.80</td>\n",
       "      <td>68.0</td>\n",
       "      <td>104.0</td>\n",
       "      <td>104.0</td>\n",
       "      <td>3768.80</td>\n",
       "    </tr>\n",
       "    <tr>\n",
       "      <th>6231</th>\n",
       "      <td>985.0</td>\n",
       "      <td>CO</td>\n",
       "      <td>8.0</td>\n",
       "      <td>2018.0</td>\n",
       "      <td>24183</td>\n",
       "      <td>82.0</td>\n",
       "      <td>90.0</td>\n",
       "      <td>89.0</td>\n",
       "      <td>5.861800e+04</td>\n",
       "      <td>1005.0</td>\n",
       "      <td>...</td>\n",
       "      <td>1.0</td>\n",
       "      <td>2.0</td>\n",
       "      <td>20.0</td>\n",
       "      <td>21.0</td>\n",
       "      <td>21.0</td>\n",
       "      <td>714.00</td>\n",
       "      <td>33.0</td>\n",
       "      <td>34.0</td>\n",
       "      <td>34.0</td>\n",
       "      <td>4718.00</td>\n",
       "    </tr>\n",
       "    <tr>\n",
       "      <th>6232</th>\n",
       "      <td>985.0</td>\n",
       "      <td>CO</td>\n",
       "      <td>8.0</td>\n",
       "      <td>2019.0</td>\n",
       "      <td>24183</td>\n",
       "      <td>71.0</td>\n",
       "      <td>73.0</td>\n",
       "      <td>73.0</td>\n",
       "      <td>6.206000e+04</td>\n",
       "      <td>834.0</td>\n",
       "      <td>...</td>\n",
       "      <td>0.0</td>\n",
       "      <td>0.0</td>\n",
       "      <td>0.0</td>\n",
       "      <td>0.0</td>\n",
       "      <td>0.0</td>\n",
       "      <td>0.00</td>\n",
       "      <td>0.0</td>\n",
       "      <td>0.0</td>\n",
       "      <td>0.0</td>\n",
       "      <td>0.00</td>\n",
       "    </tr>\n",
       "    <tr>\n",
       "      <th>6233</th>\n",
       "      <td>986.0</td>\n",
       "      <td>NM</td>\n",
       "      <td>35.0</td>\n",
       "      <td>2017.0</td>\n",
       "      <td>35045</td>\n",
       "      <td>0.0</td>\n",
       "      <td>0.0</td>\n",
       "      <td>0.0</td>\n",
       "      <td>0.000000e+00</td>\n",
       "      <td>0.0</td>\n",
       "      <td>...</td>\n",
       "      <td>1.0</td>\n",
       "      <td>1.0</td>\n",
       "      <td>20.0</td>\n",
       "      <td>39.0</td>\n",
       "      <td>39.0</td>\n",
       "      <td>2505.76</td>\n",
       "      <td>20.0</td>\n",
       "      <td>39.0</td>\n",
       "      <td>39.0</td>\n",
       "      <td>2505.76</td>\n",
       "    </tr>\n",
       "    <tr>\n",
       "      <th>6234</th>\n",
       "      <td>986.0</td>\n",
       "      <td>NM</td>\n",
       "      <td>35.0</td>\n",
       "      <td>2018.0</td>\n",
       "      <td>35045</td>\n",
       "      <td>0.0</td>\n",
       "      <td>0.0</td>\n",
       "      <td>0.0</td>\n",
       "      <td>0.000000e+00</td>\n",
       "      <td>0.0</td>\n",
       "      <td>...</td>\n",
       "      <td>1.0</td>\n",
       "      <td>1.0</td>\n",
       "      <td>32.0</td>\n",
       "      <td>37.0</td>\n",
       "      <td>37.0</td>\n",
       "      <td>2575.94</td>\n",
       "      <td>32.0</td>\n",
       "      <td>37.0</td>\n",
       "      <td>37.0</td>\n",
       "      <td>2575.94</td>\n",
       "    </tr>\n",
       "  </tbody>\n",
       "</table>\n",
       "<p>6235 rows × 27 columns</p>\n",
       "</div>"
      ],
      "text/plain": [
       "        hsa state_id  state_fips    year  county  tot_benes_nonemerg  \\\n",
       "0       2.0       KY        21.0  2013.0  126518                45.0   \n",
       "1       2.0       KY        21.0  2014.0  126518                37.0   \n",
       "2       2.0       KY        21.0  2015.0  126518                50.0   \n",
       "3       2.0       KY        21.0  2016.0  126518              2940.0   \n",
       "4       2.0       KY        21.0  2017.0  126518              2951.0   \n",
       "...     ...      ...         ...     ...     ...                 ...   \n",
       "6230  985.0       CO         8.0  2017.0   32294               126.0   \n",
       "6231  985.0       CO         8.0  2018.0   24183                82.0   \n",
       "6232  985.0       CO         8.0  2019.0   24183                71.0   \n",
       "6233  986.0       NM        35.0  2017.0   35045                 0.0   \n",
       "6234  986.0       NM        35.0  2018.0   35045                 0.0   \n",
       "\n",
       "      tot_srvcs_nonemerg  tot_bene_day_srvcs_nonemerg  \\\n",
       "0                 1611.0                        844.0   \n",
       "1                 1133.0                        613.0   \n",
       "2                  974.0                        529.0   \n",
       "3                 6543.1                       5556.0   \n",
       "4                 6047.0                       5153.0   \n",
       "...                  ...                          ...   \n",
       "6230               151.0                        146.0   \n",
       "6231                90.0                         89.0   \n",
       "6232                73.0                         73.0   \n",
       "6233                 0.0                          0.0   \n",
       "6234                 0.0                          0.0   \n",
       "\n",
       "      tot_srvcs_chrg_nonemerg  tot_benes_emerg  ...  numphysicians_tele_q3014  \\\n",
       "0                5.831820e+05           7369.0  ...                       0.0   \n",
       "1                4.101877e+05           7448.0  ...                       0.0   \n",
       "2                3.531301e+05           7501.0  ...                       0.0   \n",
       "3                5.327887e+06           7671.0  ...                       0.0   \n",
       "4                5.388326e+06           8041.0  ...                       0.0   \n",
       "...                       ...              ...  ...                       ...   \n",
       "6230             7.057600e+04            907.0  ...                       1.0   \n",
       "6231             5.861800e+04           1005.0  ...                       1.0   \n",
       "6232             6.206000e+04            834.0  ...                       0.0   \n",
       "6233             0.000000e+00              0.0  ...                       1.0   \n",
       "6234             0.000000e+00              0.0  ...                       1.0   \n",
       "\n",
       "      numphysicians_tele_all  tot_benes_q3014  tot_srvcs_q3014  \\\n",
       "0                        0.0              0.0              0.0   \n",
       "1                        0.0              0.0              0.0   \n",
       "2                        0.0              0.0              0.0   \n",
       "3                        0.0              0.0              0.0   \n",
       "4                        0.0              0.0              0.0   \n",
       "...                      ...              ...              ...   \n",
       "6230                     1.0             68.0            104.0   \n",
       "6231                     2.0             20.0             21.0   \n",
       "6232                     0.0              0.0              0.0   \n",
       "6233                     1.0             20.0             39.0   \n",
       "6234                     1.0             32.0             37.0   \n",
       "\n",
       "      tot_bene_day_srvcs_q3014  tot_srvcs_chrg_q3014  tot_benes_alltele  \\\n",
       "0                          0.0                  0.00                0.0   \n",
       "1                          0.0                  0.00                0.0   \n",
       "2                          0.0                  0.00                0.0   \n",
       "3                          0.0                  0.00                0.0   \n",
       "4                          0.0                  0.00                0.0   \n",
       "...                        ...                   ...                ...   \n",
       "6230                     104.0               3768.80               68.0   \n",
       "6231                      21.0                714.00               33.0   \n",
       "6232                       0.0                  0.00                0.0   \n",
       "6233                      39.0               2505.76               20.0   \n",
       "6234                      37.0               2575.94               32.0   \n",
       "\n",
       "      tot_srvcs_alltele  tot_bene_day_srvcs_alltele  tot_srvcs_chrg_alltele  \n",
       "0                   0.0                         0.0                    0.00  \n",
       "1                   0.0                         0.0                    0.00  \n",
       "2                   0.0                         0.0                    0.00  \n",
       "3                   0.0                         0.0                    0.00  \n",
       "4                   0.0                         0.0                    0.00  \n",
       "...                 ...                         ...                     ...  \n",
       "6230              104.0                       104.0                 3768.80  \n",
       "6231               34.0                        34.0                 4718.00  \n",
       "6232                0.0                         0.0                    0.00  \n",
       "6233               39.0                        39.0                 2505.76  \n",
       "6234               37.0                        37.0                 2575.94  \n",
       "\n",
       "[6235 rows x 27 columns]"
      ]
     },
     "execution_count": 265,
     "metadata": {},
     "output_type": "execute_result"
    }
   ],
   "source": [
    "temp_df_gb"
   ]
  },
  {
   "cell_type": "markdown",
   "id": "da1590e9",
   "metadata": {},
   "source": [
    "----"
   ]
  }
 ],
 "metadata": {
  "kernelspec": {
   "display_name": "Python 3 (ipykernel)",
   "language": "python",
   "name": "python3"
  },
  "language_info": {
   "codemirror_mode": {
    "name": "ipython",
    "version": 3
   },
   "file_extension": ".py",
   "mimetype": "text/x-python",
   "name": "python",
   "nbconvert_exporter": "python",
   "pygments_lexer": "ipython3",
   "version": "3.9.7"
  }
 },
 "nbformat": 4,
 "nbformat_minor": 5
}
