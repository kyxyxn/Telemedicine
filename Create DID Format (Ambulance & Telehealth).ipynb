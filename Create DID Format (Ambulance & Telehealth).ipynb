{
 "cells": [
  {
   "cell_type": "code",
   "execution_count": 1,
   "id": "8cbff538",
   "metadata": {},
   "outputs": [],
   "source": [
    "import os\n",
    "import numpy as np\n",
    "import pandas as pd"
   ]
  },
  {
   "cell_type": "code",
   "execution_count": 4,
   "id": "f47ee2e5",
   "metadata": {},
   "outputs": [],
   "source": [
    "new_df_1 = pd.read_csv(r'nonemerg_amb.csv')\n",
    "new_df_2 = pd.read_csv(r'emerg_amb.csv')\n",
    "new_df_3 = pd.read_csv(r'all_amb.csv')"
   ]
  },
  {
   "cell_type": "code",
   "execution_count": 6,
   "id": "ac38c613",
   "metadata": {},
   "outputs": [],
   "source": [
    "new_df_1.columns=['zip','year','state_id','state_fips','tot_benes_nonemerg',\n",
    "                 'tot_srvcs_nonemerg','tot_bene_day_srvcs_nonemerg','tot_srvcs_chrg_nonemerg']\n",
    "new_df_2.columns=['zip','year','state_id','state_fips','tot_benes_emerg',\n",
    "                 'tot_srvcs_emerg','tot_bene_day_srvcs_emerg','tot_srvcs_chrg_emerg']\n",
    "new_df_3.columns=['zip','year','state_id','state_fips','tot_benes_allamb',\n",
    "                 'tot_srvcs_allamb','tot_bene_day_srvcs_allamb','tot_srvcs_chrg_allamb']"
   ]
  },
  {
   "cell_type": "code",
   "execution_count": 7,
   "id": "88a75293",
   "metadata": {},
   "outputs": [
    {
     "data": {
      "text/plain": [
       "(19770, 53501, 55335)"
      ]
     },
     "execution_count": 7,
     "metadata": {},
     "output_type": "execute_result"
    }
   ],
   "source": [
    "len(new_df_1), len(new_df_2), len(new_df_3)"
   ]
  },
  {
   "cell_type": "code",
   "execution_count": 8,
   "id": "ecbb376a",
   "metadata": {
    "scrolled": true
   },
   "outputs": [
    {
     "name": "stdout",
     "output_type": "stream",
     "text": [
      "<class 'pandas.core.frame.DataFrame'>\n",
      "Int64Index: 55335 entries, 0 to 55334\n",
      "Data columns (total 16 columns):\n",
      " #   Column                       Non-Null Count  Dtype  \n",
      "---  ------                       --------------  -----  \n",
      " 0   zip                          55335 non-null  int64  \n",
      " 1   year                         55335 non-null  int64  \n",
      " 2   state_id                     55335 non-null  object \n",
      " 3   state_fips                   55335 non-null  int64  \n",
      " 4   tot_benes_nonemerg           55335 non-null  float64\n",
      " 5   tot_srvcs_nonemerg           55335 non-null  float64\n",
      " 6   tot_bene_day_srvcs_nonemerg  55335 non-null  float64\n",
      " 7   tot_srvcs_chrg_nonemerg      55335 non-null  float64\n",
      " 8   tot_benes_emerg              55335 non-null  float64\n",
      " 9   tot_srvcs_emerg              55335 non-null  float64\n",
      " 10  tot_bene_day_srvcs_emerg     55335 non-null  float64\n",
      " 11  tot_srvcs_chrg_emerg         55335 non-null  float64\n",
      " 12  tot_benes_allamb             55335 non-null  int64  \n",
      " 13  tot_srvcs_allamb             55335 non-null  float64\n",
      " 14  tot_bene_day_srvcs_allamb    55335 non-null  int64  \n",
      " 15  tot_srvcs_chrg_allamb        55335 non-null  float64\n",
      "dtypes: float64(10), int64(5), object(1)\n",
      "memory usage: 7.2+ MB\n"
     ]
    }
   ],
   "source": [
    "temp_df = pd.merge(new_df_1, new_df_2, on=['zip','year','state_id','state_fips'], how='outer')\n",
    "temp_df = pd.merge(temp_df, new_df_3, on=['zip','year','state_id','state_fips'], how='outer')\n",
    "temp_df = temp_df.fillna(0)\n",
    "temp_df.info()\n",
    "amb_df = temp_df.copy()"
   ]
  },
  {
   "cell_type": "code",
   "execution_count": 9,
   "id": "75becc9d",
   "metadata": {},
   "outputs": [],
   "source": [
    "tele_df = pd.read_csv(r'/Users/krhee/Dropbox (ASU)/Coding/RA_Coding/providerservice/telehealth_numphysicians_numservices.csv')"
   ]
  },
  {
   "cell_type": "code",
   "execution_count": 11,
   "id": "16c64459",
   "metadata": {
    "scrolled": true
   },
   "outputs": [
    {
     "name": "stdout",
     "output_type": "stream",
     "text": [
      "<class 'pandas.core.frame.DataFrame'>\n",
      "Int64Index: 58177 entries, 0 to 58176\n",
      "Data columns (total 26 columns):\n",
      " #   Column                       Non-Null Count  Dtype  \n",
      "---  ------                       --------------  -----  \n",
      " 0   zip                          58177 non-null  int64  \n",
      " 1   year                         58177 non-null  int64  \n",
      " 2   state_id                     58177 non-null  object \n",
      " 3   state_fips                   58177 non-null  int64  \n",
      " 4   tot_benes_nonemerg           58177 non-null  float64\n",
      " 5   tot_srvcs_nonemerg           58177 non-null  float64\n",
      " 6   tot_bene_day_srvcs_nonemerg  58177 non-null  float64\n",
      " 7   tot_srvcs_chrg_nonemerg      58177 non-null  float64\n",
      " 8   tot_benes_emerg              58177 non-null  float64\n",
      " 9   tot_srvcs_emerg              58177 non-null  float64\n",
      " 10  tot_bene_day_srvcs_emerg     58177 non-null  float64\n",
      " 11  tot_srvcs_chrg_emerg         58177 non-null  float64\n",
      " 12  tot_benes_allamb             58177 non-null  float64\n",
      " 13  tot_srvcs_allamb             58177 non-null  float64\n",
      " 14  tot_bene_day_srvcs_allamb    58177 non-null  float64\n",
      " 15  tot_srvcs_chrg_allamb        58177 non-null  float64\n",
      " 16  numphysicians_tele_q3014     58177 non-null  float64\n",
      " 17  numphysicians_tele_all       58177 non-null  float64\n",
      " 18  tot_benes_q3014              58177 non-null  float64\n",
      " 19  tot_srvcs_q3014              58177 non-null  float64\n",
      " 20  tot_bene_day_srvcs_q3014     58177 non-null  float64\n",
      " 21  tot_srvcs_chrg_q3014         58177 non-null  float64\n",
      " 22  tot_benes_alltele            58177 non-null  float64\n",
      " 23  tot_srvcs_alltele            58177 non-null  float64\n",
      " 24  tot_bene_day_srvcs_alltele   58177 non-null  float64\n",
      " 25  tot_srvcs_chrg_alltele       58177 non-null  float64\n",
      "dtypes: float64(22), int64(3), object(1)\n",
      "memory usage: 12.0+ MB\n"
     ]
    }
   ],
   "source": [
    "temp_df = pd.merge(amb_df, tele_df, on=['zip','year','state_id','state_fips'], how='outer')\n",
    "temp_df = temp_df.fillna(0)\n",
    "temp_df.info()"
   ]
  },
  {
   "cell_type": "markdown",
   "id": "0e78227e",
   "metadata": {},
   "source": [
    "##### From zip to county"
   ]
  },
  {
   "cell_type": "code",
   "execution_count": 15,
   "id": "1454ed34",
   "metadata": {},
   "outputs": [],
   "source": [
    "amb_tele_df = pd.read_csv(r'amb_tele_provider_service.csv')"
   ]
  },
  {
   "cell_type": "code",
   "execution_count": 12,
   "id": "8ad45921",
   "metadata": {},
   "outputs": [],
   "source": [
    "# group doctors by county\n",
    "zip_county_df = pd.read_csv(r'/Users/krhee/Dropbox (ASU)/Coding/RA_Coding/providerservice/ziptocounty/ZIP_COUNTY.csv')\n",
    "zip_county_df.columns=['zip','county','county_tot_ratio','year']"
   ]
  },
  {
   "cell_type": "code",
   "execution_count": 13,
   "id": "541774aa",
   "metadata": {},
   "outputs": [],
   "source": [
    "# keep only the counties that have max county_tot_ratio\n",
    "zip_df_gb = zip_county_df.groupby(['zip','year']).max().reset_index(level=[0,1])[['zip','year','county_tot_ratio']].drop_duplicates()\n",
    "zip_county_df = pd.merge(zip_county_df, zip_df_gb, on=['zip','year','county_tot_ratio'])\n",
    "# If it's 50:50, keep the most frequent value by zip code\n",
    "zip_county_df = zip_county_df.groupby(['zip']).agg(pd.Series.mode).reset_index(level=[0])\n",
    "zip_county_df = zip_county_df[['zip','county']]"
   ]
  },
  {
   "cell_type": "code",
   "execution_count": 16,
   "id": "f27005b5",
   "metadata": {
    "scrolled": true
   },
   "outputs": [
    {
     "data": {
      "text/plain": [
       "(58177, 39644)"
      ]
     },
     "execution_count": 16,
     "metadata": {},
     "output_type": "execute_result"
    }
   ],
   "source": [
    "len(amb_tele_df), len(zip_county_df)"
   ]
  },
  {
   "cell_type": "code",
   "execution_count": 17,
   "id": "2005030a",
   "metadata": {},
   "outputs": [
    {
     "name": "stdout",
     "output_type": "stream",
     "text": [
      "<class 'pandas.core.frame.DataFrame'>\n",
      "RangeIndex: 58175 entries, 0 to 58174\n",
      "Data columns (total 27 columns):\n",
      " #   Column                       Non-Null Count  Dtype  \n",
      "---  ------                       --------------  -----  \n",
      " 0   zip                          58175 non-null  int64  \n",
      " 1   year                         58175 non-null  float64\n",
      " 2   state_id                     58175 non-null  object \n",
      " 3   state_fips                   58175 non-null  float64\n",
      " 4   tot_benes_nonemerg           58175 non-null  float64\n",
      " 5   tot_srvcs_nonemerg           58175 non-null  float64\n",
      " 6   tot_bene_day_srvcs_nonemerg  58175 non-null  float64\n",
      " 7   tot_srvcs_chrg_nonemerg      58175 non-null  float64\n",
      " 8   tot_benes_emerg              58175 non-null  float64\n",
      " 9   tot_srvcs_emerg              58175 non-null  float64\n",
      " 10  tot_bene_day_srvcs_emerg     58175 non-null  float64\n",
      " 11  tot_srvcs_chrg_emerg         58175 non-null  float64\n",
      " 12  tot_benes_allamb             58175 non-null  float64\n",
      " 13  tot_srvcs_allamb             58175 non-null  float64\n",
      " 14  tot_bene_day_srvcs_allamb    58175 non-null  float64\n",
      " 15  tot_srvcs_chrg_allamb        58175 non-null  float64\n",
      " 16  numphysicians_tele_q3014     58175 non-null  float64\n",
      " 17  numphysicians_tele_all       58175 non-null  float64\n",
      " 18  tot_benes_q3014              58175 non-null  float64\n",
      " 19  tot_srvcs_q3014              58175 non-null  float64\n",
      " 20  tot_bene_day_srvcs_q3014     58175 non-null  float64\n",
      " 21  tot_srvcs_chrg_q3014         58175 non-null  float64\n",
      " 22  tot_benes_alltele            58175 non-null  float64\n",
      " 23  tot_srvcs_alltele            58175 non-null  float64\n",
      " 24  tot_bene_day_srvcs_alltele   58175 non-null  float64\n",
      " 25  tot_srvcs_chrg_alltele       58175 non-null  float64\n",
      " 26  county                       58175 non-null  object \n",
      "dtypes: float64(24), int64(1), object(2)\n",
      "memory usage: 12.0+ MB\n"
     ]
    },
    {
     "name": "stderr",
     "output_type": "stream",
     "text": [
      "/var/folders/ff/7xvchf4558v3w_jjs11bdwlw0000gp/T/ipykernel_97062/1718783504.py:4: FutureWarning: null_counts is deprecated. Use show_counts instead\n",
      "  temp_df.info(null_counts=True)\n"
     ]
    }
   ],
   "source": [
    "temp_df = pd.merge(amb_tele_df, zip_county_df, on=['zip'], how='outer')\n",
    "temp_df = temp_df[~temp_df['year'].isna()].reset_index(drop=True)\n",
    "temp_df = temp_df[~temp_df['county'].isna()].reset_index(drop=True) # check\n",
    "temp_df.info(null_counts=True)"
   ]
  },
  {
   "cell_type": "code",
   "execution_count": 18,
   "id": "a3e3b1b4",
   "metadata": {},
   "outputs": [],
   "source": [
    "temp_df = temp_df.rename(columns={'county':'fips'})"
   ]
  },
  {
   "cell_type": "code",
   "execution_count": 19,
   "id": "4e0d197b",
   "metadata": {},
   "outputs": [],
   "source": [
    "temp_df_gb = temp_df.drop(columns=['zip']).groupby(['fips','state_id','state_fips','year']).sum().reset_index(level=[0,1,2,3])"
   ]
  },
  {
   "cell_type": "code",
   "execution_count": 27,
   "id": "dcc95a11",
   "metadata": {},
   "outputs": [],
   "source": [
    "\n",
    "# Counties that exist at least once (in the full data set w/ all counties in the US)\n",
    "all_c = sorted(temp_df_gb.fips.value_counts().index.tolist())\n",
    "# All years\n",
    "all_y = [2013,2014,2015,2016,2017,2018,2019]\n",
    "# Together\n",
    "df = pd.concat([pd.DataFrame(data=np.repeat(np.array(all_c), repeats=len(all_y)), columns=['fips']),\n",
    "                pd.DataFrame(data=np.tile(np.array(all_y), reps=len(all_c)), columns=['year'])], axis=1)\n"
   ]
  },
  {
   "cell_type": "code",
   "execution_count": 28,
   "id": "16b3e19f",
   "metadata": {},
   "outputs": [
    {
     "data": {
      "text/html": [
       "<div>\n",
       "<style scoped>\n",
       "    .dataframe tbody tr th:only-of-type {\n",
       "        vertical-align: middle;\n",
       "    }\n",
       "\n",
       "    .dataframe tbody tr th {\n",
       "        vertical-align: top;\n",
       "    }\n",
       "\n",
       "    .dataframe thead th {\n",
       "        text-align: right;\n",
       "    }\n",
       "</style>\n",
       "<table border=\"1\" class=\"dataframe\">\n",
       "  <thead>\n",
       "    <tr style=\"text-align: right;\">\n",
       "      <th></th>\n",
       "      <th>fips</th>\n",
       "      <th>year</th>\n",
       "    </tr>\n",
       "  </thead>\n",
       "  <tbody>\n",
       "    <tr>\n",
       "      <th>0</th>\n",
       "      <td>1001</td>\n",
       "      <td>2013</td>\n",
       "    </tr>\n",
       "    <tr>\n",
       "      <th>1</th>\n",
       "      <td>1001</td>\n",
       "      <td>2014</td>\n",
       "    </tr>\n",
       "    <tr>\n",
       "      <th>2</th>\n",
       "      <td>1001</td>\n",
       "      <td>2015</td>\n",
       "    </tr>\n",
       "    <tr>\n",
       "      <th>3</th>\n",
       "      <td>1001</td>\n",
       "      <td>2016</td>\n",
       "    </tr>\n",
       "    <tr>\n",
       "      <th>4</th>\n",
       "      <td>1001</td>\n",
       "      <td>2017</td>\n",
       "    </tr>\n",
       "    <tr>\n",
       "      <th>...</th>\n",
       "      <td>...</td>\n",
       "      <td>...</td>\n",
       "    </tr>\n",
       "    <tr>\n",
       "      <th>19392</th>\n",
       "      <td>56045</td>\n",
       "      <td>2015</td>\n",
       "    </tr>\n",
       "    <tr>\n",
       "      <th>19393</th>\n",
       "      <td>56045</td>\n",
       "      <td>2016</td>\n",
       "    </tr>\n",
       "    <tr>\n",
       "      <th>19394</th>\n",
       "      <td>56045</td>\n",
       "      <td>2017</td>\n",
       "    </tr>\n",
       "    <tr>\n",
       "      <th>19395</th>\n",
       "      <td>56045</td>\n",
       "      <td>2018</td>\n",
       "    </tr>\n",
       "    <tr>\n",
       "      <th>19396</th>\n",
       "      <td>56045</td>\n",
       "      <td>2019</td>\n",
       "    </tr>\n",
       "  </tbody>\n",
       "</table>\n",
       "<p>19397 rows × 2 columns</p>\n",
       "</div>"
      ],
      "text/plain": [
       "        fips  year\n",
       "0       1001  2013\n",
       "1       1001  2014\n",
       "2       1001  2015\n",
       "3       1001  2016\n",
       "4       1001  2017\n",
       "...      ...   ...\n",
       "19392  56045  2015\n",
       "19393  56045  2016\n",
       "19394  56045  2017\n",
       "19395  56045  2018\n",
       "19396  56045  2019\n",
       "\n",
       "[19397 rows x 2 columns]"
      ]
     },
     "execution_count": 28,
     "metadata": {},
     "output_type": "execute_result"
    }
   ],
   "source": [
    "df"
   ]
  },
  {
   "cell_type": "code",
   "execution_count": 29,
   "id": "ca596eca",
   "metadata": {},
   "outputs": [],
   "source": [
    "\n",
    "# Whether a county implemented telehealth in that year\n",
    "new_list = []\n",
    "for i in range(len(df)):\n",
    "    try:\n",
    "        if temp_df[(temp_df['year']==df['year'][i])&(temp_df['fips']==df['fips'][i])]['tot_benes_alltele'].values[0]==0:\n",
    "            new_list.append(0)\n",
    "        elif temp_df[(temp_df['year']==df['year'][i])&(temp_df['fips']==df['fips'][i])]['tot_benes_alltele'].values[0]!=0:\n",
    "            new_list.append(1)\n",
    "    except Exception as e:\n",
    "        new_list.append(0)\n",
    "df['tele']=new_list\n"
   ]
  },
  {
   "cell_type": "code",
   "execution_count": 30,
   "id": "2cde0c48",
   "metadata": {},
   "outputs": [],
   "source": [
    "# These counties did not adopt telehealth; they can be used as the control group\n",
    "cg_df = df.groupby(['fips']).sum().reset_index(level=[0])\n",
    "cg_list = cg_df[cg_df['tele']==0].fips.values.tolist()\n"
   ]
  },
  {
   "cell_type": "code",
   "execution_count": 32,
   "id": "c34330e8",
   "metadata": {},
   "outputs": [
    {
     "data": {
      "text/plain": [
       "2248"
      ]
     },
     "execution_count": 32,
     "metadata": {},
     "output_type": "execute_result"
    }
   ],
   "source": [
    "len(cg_list)"
   ]
  },
  {
   "cell_type": "code",
   "execution_count": 33,
   "id": "b3f01f12",
   "metadata": {},
   "outputs": [],
   "source": [
    "# These counties adopted telehealth \n",
    "tg_df = df[(~df['fips'].isin(cg_list))&(df['tele']==1)].groupby(['fips']).min().reset_index(level=[0])\n",
    "# Let's see when they each begin to implement telehealth\n",
    "tg_dict = {}\n",
    "for i in range(len(tg_df)):\n",
    "    tg_dict[tg_df['fips'][i]] = tg_df['year'][i]\n"
   ]
  },
  {
   "cell_type": "code",
   "execution_count": 34,
   "id": "af18fb7e",
   "metadata": {
    "scrolled": true
   },
   "outputs": [
    {
     "data": {
      "text/plain": [
       "year\n",
       "2013    107\n",
       "2014     48\n",
       "2015     62\n",
       "2016     70\n",
       "2017     76\n",
       "2018     81\n",
       "2019     79\n",
       "dtype: int64"
      ]
     },
     "execution_count": 34,
     "metadata": {},
     "output_type": "execute_result"
    }
   ],
   "source": [
    "tg_df.groupby(['year']).size()\n",
    "# We may better use 2015; when there were 60 new adopters\n",
    "# Or 2016; when there weree 69 new adopters\n"
   ]
  },
  {
   "cell_type": "markdown",
   "id": "65a1e992",
   "metadata": {},
   "source": [
    "----"
   ]
  },
  {
   "cell_type": "code",
   "execution_count": 36,
   "id": "fb95e21b",
   "metadata": {},
   "outputs": [],
   "source": [
    "tg_list = tg_df[tg_df['year']>=2015].fips.values.tolist()"
   ]
  },
  {
   "cell_type": "code",
   "execution_count": 39,
   "id": "8401d61b",
   "metadata": {},
   "outputs": [
    {
     "data": {
      "text/plain": [
       "(368, 2248)"
      ]
     },
     "execution_count": 39,
     "metadata": {},
     "output_type": "execute_result"
    }
   ],
   "source": [
    "len(tg_list), len(cg_list) # 368, 2248"
   ]
  },
  {
   "cell_type": "code",
   "execution_count": 40,
   "id": "f366c1bf",
   "metadata": {},
   "outputs": [],
   "source": [
    "temp_df_gb = temp_df.drop(columns=['zip']).groupby(['fips','state_id','state_fips','year']).sum().reset_index(level=[0,1,2,3])"
   ]
  },
  {
   "cell_type": "code",
   "execution_count": 41,
   "id": "8ffce516",
   "metadata": {},
   "outputs": [
    {
     "data": {
      "text/html": [
       "<div>\n",
       "<style scoped>\n",
       "    .dataframe tbody tr th:only-of-type {\n",
       "        vertical-align: middle;\n",
       "    }\n",
       "\n",
       "    .dataframe tbody tr th {\n",
       "        vertical-align: top;\n",
       "    }\n",
       "\n",
       "    .dataframe thead th {\n",
       "        text-align: right;\n",
       "    }\n",
       "</style>\n",
       "<table border=\"1\" class=\"dataframe\">\n",
       "  <thead>\n",
       "    <tr style=\"text-align: right;\">\n",
       "      <th></th>\n",
       "      <th>fips</th>\n",
       "      <th>state_id</th>\n",
       "      <th>state_fips</th>\n",
       "      <th>year</th>\n",
       "      <th>tot_benes_nonemerg</th>\n",
       "      <th>tot_srvcs_nonemerg</th>\n",
       "      <th>tot_bene_day_srvcs_nonemerg</th>\n",
       "      <th>tot_srvcs_chrg_nonemerg</th>\n",
       "      <th>tot_benes_emerg</th>\n",
       "      <th>tot_srvcs_emerg</th>\n",
       "      <th>...</th>\n",
       "      <th>numphysicians_tele_q3014</th>\n",
       "      <th>numphysicians_tele_all</th>\n",
       "      <th>tot_benes_q3014</th>\n",
       "      <th>tot_srvcs_q3014</th>\n",
       "      <th>tot_bene_day_srvcs_q3014</th>\n",
       "      <th>tot_srvcs_chrg_q3014</th>\n",
       "      <th>tot_benes_alltele</th>\n",
       "      <th>tot_srvcs_alltele</th>\n",
       "      <th>tot_bene_day_srvcs_alltele</th>\n",
       "      <th>tot_srvcs_chrg_alltele</th>\n",
       "    </tr>\n",
       "  </thead>\n",
       "  <tbody>\n",
       "    <tr>\n",
       "      <th>0</th>\n",
       "      <td>1001</td>\n",
       "      <td>AL</td>\n",
       "      <td>1.0</td>\n",
       "      <td>2013.0</td>\n",
       "      <td>0.0</td>\n",
       "      <td>0.0</td>\n",
       "      <td>0.0</td>\n",
       "      <td>0.0</td>\n",
       "      <td>469.0</td>\n",
       "      <td>538.0</td>\n",
       "      <td>...</td>\n",
       "      <td>0.0</td>\n",
       "      <td>0.0</td>\n",
       "      <td>0.0</td>\n",
       "      <td>0.0</td>\n",
       "      <td>0.0</td>\n",
       "      <td>0.0</td>\n",
       "      <td>0.0</td>\n",
       "      <td>0.0</td>\n",
       "      <td>0.0</td>\n",
       "      <td>0.0</td>\n",
       "    </tr>\n",
       "    <tr>\n",
       "      <th>1</th>\n",
       "      <td>1001</td>\n",
       "      <td>AL</td>\n",
       "      <td>1.0</td>\n",
       "      <td>2014.0</td>\n",
       "      <td>0.0</td>\n",
       "      <td>0.0</td>\n",
       "      <td>0.0</td>\n",
       "      <td>0.0</td>\n",
       "      <td>457.0</td>\n",
       "      <td>532.0</td>\n",
       "      <td>...</td>\n",
       "      <td>0.0</td>\n",
       "      <td>0.0</td>\n",
       "      <td>0.0</td>\n",
       "      <td>0.0</td>\n",
       "      <td>0.0</td>\n",
       "      <td>0.0</td>\n",
       "      <td>0.0</td>\n",
       "      <td>0.0</td>\n",
       "      <td>0.0</td>\n",
       "      <td>0.0</td>\n",
       "    </tr>\n",
       "    <tr>\n",
       "      <th>2</th>\n",
       "      <td>1001</td>\n",
       "      <td>AL</td>\n",
       "      <td>1.0</td>\n",
       "      <td>2015.0</td>\n",
       "      <td>0.0</td>\n",
       "      <td>0.0</td>\n",
       "      <td>0.0</td>\n",
       "      <td>0.0</td>\n",
       "      <td>520.0</td>\n",
       "      <td>648.0</td>\n",
       "      <td>...</td>\n",
       "      <td>0.0</td>\n",
       "      <td>0.0</td>\n",
       "      <td>0.0</td>\n",
       "      <td>0.0</td>\n",
       "      <td>0.0</td>\n",
       "      <td>0.0</td>\n",
       "      <td>0.0</td>\n",
       "      <td>0.0</td>\n",
       "      <td>0.0</td>\n",
       "      <td>0.0</td>\n",
       "    </tr>\n",
       "    <tr>\n",
       "      <th>3</th>\n",
       "      <td>1001</td>\n",
       "      <td>AL</td>\n",
       "      <td>1.0</td>\n",
       "      <td>2016.0</td>\n",
       "      <td>0.0</td>\n",
       "      <td>0.0</td>\n",
       "      <td>0.0</td>\n",
       "      <td>0.0</td>\n",
       "      <td>496.0</td>\n",
       "      <td>626.0</td>\n",
       "      <td>...</td>\n",
       "      <td>0.0</td>\n",
       "      <td>0.0</td>\n",
       "      <td>0.0</td>\n",
       "      <td>0.0</td>\n",
       "      <td>0.0</td>\n",
       "      <td>0.0</td>\n",
       "      <td>0.0</td>\n",
       "      <td>0.0</td>\n",
       "      <td>0.0</td>\n",
       "      <td>0.0</td>\n",
       "    </tr>\n",
       "    <tr>\n",
       "      <th>4</th>\n",
       "      <td>1001</td>\n",
       "      <td>AL</td>\n",
       "      <td>1.0</td>\n",
       "      <td>2017.0</td>\n",
       "      <td>0.0</td>\n",
       "      <td>0.0</td>\n",
       "      <td>0.0</td>\n",
       "      <td>0.0</td>\n",
       "      <td>540.0</td>\n",
       "      <td>704.0</td>\n",
       "      <td>...</td>\n",
       "      <td>0.0</td>\n",
       "      <td>0.0</td>\n",
       "      <td>0.0</td>\n",
       "      <td>0.0</td>\n",
       "      <td>0.0</td>\n",
       "      <td>0.0</td>\n",
       "      <td>0.0</td>\n",
       "      <td>0.0</td>\n",
       "      <td>0.0</td>\n",
       "      <td>0.0</td>\n",
       "    </tr>\n",
       "    <tr>\n",
       "      <th>...</th>\n",
       "      <td>...</td>\n",
       "      <td>...</td>\n",
       "      <td>...</td>\n",
       "      <td>...</td>\n",
       "      <td>...</td>\n",
       "      <td>...</td>\n",
       "      <td>...</td>\n",
       "      <td>...</td>\n",
       "      <td>...</td>\n",
       "      <td>...</td>\n",
       "      <td>...</td>\n",
       "      <td>...</td>\n",
       "      <td>...</td>\n",
       "      <td>...</td>\n",
       "      <td>...</td>\n",
       "      <td>...</td>\n",
       "      <td>...</td>\n",
       "      <td>...</td>\n",
       "      <td>...</td>\n",
       "      <td>...</td>\n",
       "      <td>...</td>\n",
       "    </tr>\n",
       "    <tr>\n",
       "      <th>18469</th>\n",
       "      <td>56045</td>\n",
       "      <td>WY</td>\n",
       "      <td>56.0</td>\n",
       "      <td>2015.0</td>\n",
       "      <td>18.0</td>\n",
       "      <td>18.0</td>\n",
       "      <td>18.0</td>\n",
       "      <td>9000.0</td>\n",
       "      <td>107.0</td>\n",
       "      <td>141.0</td>\n",
       "      <td>...</td>\n",
       "      <td>0.0</td>\n",
       "      <td>0.0</td>\n",
       "      <td>0.0</td>\n",
       "      <td>0.0</td>\n",
       "      <td>0.0</td>\n",
       "      <td>0.0</td>\n",
       "      <td>0.0</td>\n",
       "      <td>0.0</td>\n",
       "      <td>0.0</td>\n",
       "      <td>0.0</td>\n",
       "    </tr>\n",
       "    <tr>\n",
       "      <th>18470</th>\n",
       "      <td>56045</td>\n",
       "      <td>WY</td>\n",
       "      <td>56.0</td>\n",
       "      <td>2016.0</td>\n",
       "      <td>24.0</td>\n",
       "      <td>25.0</td>\n",
       "      <td>25.0</td>\n",
       "      <td>15275.0</td>\n",
       "      <td>137.0</td>\n",
       "      <td>214.0</td>\n",
       "      <td>...</td>\n",
       "      <td>0.0</td>\n",
       "      <td>0.0</td>\n",
       "      <td>0.0</td>\n",
       "      <td>0.0</td>\n",
       "      <td>0.0</td>\n",
       "      <td>0.0</td>\n",
       "      <td>0.0</td>\n",
       "      <td>0.0</td>\n",
       "      <td>0.0</td>\n",
       "      <td>0.0</td>\n",
       "    </tr>\n",
       "    <tr>\n",
       "      <th>18471</th>\n",
       "      <td>56045</td>\n",
       "      <td>WY</td>\n",
       "      <td>56.0</td>\n",
       "      <td>2017.0</td>\n",
       "      <td>36.0</td>\n",
       "      <td>38.0</td>\n",
       "      <td>37.0</td>\n",
       "      <td>25125.0</td>\n",
       "      <td>127.0</td>\n",
       "      <td>176.0</td>\n",
       "      <td>...</td>\n",
       "      <td>0.0</td>\n",
       "      <td>0.0</td>\n",
       "      <td>0.0</td>\n",
       "      <td>0.0</td>\n",
       "      <td>0.0</td>\n",
       "      <td>0.0</td>\n",
       "      <td>0.0</td>\n",
       "      <td>0.0</td>\n",
       "      <td>0.0</td>\n",
       "      <td>0.0</td>\n",
       "    </tr>\n",
       "    <tr>\n",
       "      <th>18472</th>\n",
       "      <td>56045</td>\n",
       "      <td>WY</td>\n",
       "      <td>56.0</td>\n",
       "      <td>2018.0</td>\n",
       "      <td>11.0</td>\n",
       "      <td>11.0</td>\n",
       "      <td>11.0</td>\n",
       "      <td>6875.0</td>\n",
       "      <td>116.0</td>\n",
       "      <td>167.0</td>\n",
       "      <td>...</td>\n",
       "      <td>0.0</td>\n",
       "      <td>0.0</td>\n",
       "      <td>0.0</td>\n",
       "      <td>0.0</td>\n",
       "      <td>0.0</td>\n",
       "      <td>0.0</td>\n",
       "      <td>0.0</td>\n",
       "      <td>0.0</td>\n",
       "      <td>0.0</td>\n",
       "      <td>0.0</td>\n",
       "    </tr>\n",
       "    <tr>\n",
       "      <th>18473</th>\n",
       "      <td>56045</td>\n",
       "      <td>WY</td>\n",
       "      <td>56.0</td>\n",
       "      <td>2019.0</td>\n",
       "      <td>25.0</td>\n",
       "      <td>25.0</td>\n",
       "      <td>25.0</td>\n",
       "      <td>17800.0</td>\n",
       "      <td>152.0</td>\n",
       "      <td>220.0</td>\n",
       "      <td>...</td>\n",
       "      <td>0.0</td>\n",
       "      <td>0.0</td>\n",
       "      <td>0.0</td>\n",
       "      <td>0.0</td>\n",
       "      <td>0.0</td>\n",
       "      <td>0.0</td>\n",
       "      <td>0.0</td>\n",
       "      <td>0.0</td>\n",
       "      <td>0.0</td>\n",
       "      <td>0.0</td>\n",
       "    </tr>\n",
       "  </tbody>\n",
       "</table>\n",
       "<p>18474 rows × 26 columns</p>\n",
       "</div>"
      ],
      "text/plain": [
       "        fips state_id  state_fips    year  tot_benes_nonemerg  \\\n",
       "0       1001       AL         1.0  2013.0                 0.0   \n",
       "1       1001       AL         1.0  2014.0                 0.0   \n",
       "2       1001       AL         1.0  2015.0                 0.0   \n",
       "3       1001       AL         1.0  2016.0                 0.0   \n",
       "4       1001       AL         1.0  2017.0                 0.0   \n",
       "...      ...      ...         ...     ...                 ...   \n",
       "18469  56045       WY        56.0  2015.0                18.0   \n",
       "18470  56045       WY        56.0  2016.0                24.0   \n",
       "18471  56045       WY        56.0  2017.0                36.0   \n",
       "18472  56045       WY        56.0  2018.0                11.0   \n",
       "18473  56045       WY        56.0  2019.0                25.0   \n",
       "\n",
       "       tot_srvcs_nonemerg  tot_bene_day_srvcs_nonemerg  \\\n",
       "0                     0.0                          0.0   \n",
       "1                     0.0                          0.0   \n",
       "2                     0.0                          0.0   \n",
       "3                     0.0                          0.0   \n",
       "4                     0.0                          0.0   \n",
       "...                   ...                          ...   \n",
       "18469                18.0                         18.0   \n",
       "18470                25.0                         25.0   \n",
       "18471                38.0                         37.0   \n",
       "18472                11.0                         11.0   \n",
       "18473                25.0                         25.0   \n",
       "\n",
       "       tot_srvcs_chrg_nonemerg  tot_benes_emerg  tot_srvcs_emerg  ...  \\\n",
       "0                          0.0            469.0            538.0  ...   \n",
       "1                          0.0            457.0            532.0  ...   \n",
       "2                          0.0            520.0            648.0  ...   \n",
       "3                          0.0            496.0            626.0  ...   \n",
       "4                          0.0            540.0            704.0  ...   \n",
       "...                        ...              ...              ...  ...   \n",
       "18469                   9000.0            107.0            141.0  ...   \n",
       "18470                  15275.0            137.0            214.0  ...   \n",
       "18471                  25125.0            127.0            176.0  ...   \n",
       "18472                   6875.0            116.0            167.0  ...   \n",
       "18473                  17800.0            152.0            220.0  ...   \n",
       "\n",
       "       numphysicians_tele_q3014  numphysicians_tele_all  tot_benes_q3014  \\\n",
       "0                           0.0                     0.0              0.0   \n",
       "1                           0.0                     0.0              0.0   \n",
       "2                           0.0                     0.0              0.0   \n",
       "3                           0.0                     0.0              0.0   \n",
       "4                           0.0                     0.0              0.0   \n",
       "...                         ...                     ...              ...   \n",
       "18469                       0.0                     0.0              0.0   \n",
       "18470                       0.0                     0.0              0.0   \n",
       "18471                       0.0                     0.0              0.0   \n",
       "18472                       0.0                     0.0              0.0   \n",
       "18473                       0.0                     0.0              0.0   \n",
       "\n",
       "       tot_srvcs_q3014  tot_bene_day_srvcs_q3014  tot_srvcs_chrg_q3014  \\\n",
       "0                  0.0                       0.0                   0.0   \n",
       "1                  0.0                       0.0                   0.0   \n",
       "2                  0.0                       0.0                   0.0   \n",
       "3                  0.0                       0.0                   0.0   \n",
       "4                  0.0                       0.0                   0.0   \n",
       "...                ...                       ...                   ...   \n",
       "18469              0.0                       0.0                   0.0   \n",
       "18470              0.0                       0.0                   0.0   \n",
       "18471              0.0                       0.0                   0.0   \n",
       "18472              0.0                       0.0                   0.0   \n",
       "18473              0.0                       0.0                   0.0   \n",
       "\n",
       "       tot_benes_alltele  tot_srvcs_alltele  tot_bene_day_srvcs_alltele  \\\n",
       "0                    0.0                0.0                         0.0   \n",
       "1                    0.0                0.0                         0.0   \n",
       "2                    0.0                0.0                         0.0   \n",
       "3                    0.0                0.0                         0.0   \n",
       "4                    0.0                0.0                         0.0   \n",
       "...                  ...                ...                         ...   \n",
       "18469                0.0                0.0                         0.0   \n",
       "18470                0.0                0.0                         0.0   \n",
       "18471                0.0                0.0                         0.0   \n",
       "18472                0.0                0.0                         0.0   \n",
       "18473                0.0                0.0                         0.0   \n",
       "\n",
       "       tot_srvcs_chrg_alltele  \n",
       "0                         0.0  \n",
       "1                         0.0  \n",
       "2                         0.0  \n",
       "3                         0.0  \n",
       "4                         0.0  \n",
       "...                       ...  \n",
       "18469                     0.0  \n",
       "18470                     0.0  \n",
       "18471                     0.0  \n",
       "18472                     0.0  \n",
       "18473                     0.0  \n",
       "\n",
       "[18474 rows x 26 columns]"
      ]
     },
     "execution_count": 41,
     "metadata": {},
     "output_type": "execute_result"
    }
   ],
   "source": [
    "temp_df_gb"
   ]
  },
  {
   "cell_type": "code",
   "execution_count": 42,
   "id": "95e003e1",
   "metadata": {},
   "outputs": [],
   "source": [
    "df_0 = df[df['fips'].isin(tg_list+cg_list)].reset_index(drop=True)\n",
    "df_0['tg'] = [1 if i in tg_list else 0 for i in df_0['fips']]\n",
    "new_df = pd.merge(df_0, temp_df_gb[['fips','year','tot_benes_nonemerg',\n",
    "                                  'tot_srvcs_nonemerg', 'tot_bene_day_srvcs_nonemerg',\n",
    "                                  'tot_srvcs_chrg_nonemerg', 'tot_benes_emerg', 'tot_srvcs_emerg',\n",
    "                                  'tot_bene_day_srvcs_emerg', 'tot_srvcs_chrg_emerg', 'tot_benes_allamb',\n",
    "                                  'tot_srvcs_allamb', 'tot_bene_day_srvcs_allamb',\n",
    "                                  'tot_srvcs_chrg_allamb', 'tot_benes_q3014', 'tot_srvcs_q3014',\n",
    "                                  'tot_bene_day_srvcs_q3014', 'tot_srvcs_chrg_q3014', 'tot_benes_alltele',\n",
    "                                  'tot_srvcs_alltele', 'tot_bene_day_srvcs_alltele',\n",
    "                                  'tot_srvcs_chrg_alltele']], on=['fips','year'], how='outer')\n",
    "new_df = new_df[~new_df['tele'].isna()].reset_index(drop=True)\n",
    "new_df = new_df.fillna(0)"
   ]
  },
  {
   "cell_type": "code",
   "execution_count": 43,
   "id": "f45afc9d",
   "metadata": {},
   "outputs": [],
   "source": [
    "df_0 = new_df.copy()\n",
    "df_0.to_csv(r'did_tele_ambulatory_nomatching_county_2015.csv', index=False)"
   ]
  }
 ],
 "metadata": {
  "kernelspec": {
   "display_name": "Python 3 (ipykernel)",
   "language": "python",
   "name": "python3"
  },
  "language_info": {
   "codemirror_mode": {
    "name": "ipython",
    "version": 3
   },
   "file_extension": ".py",
   "mimetype": "text/x-python",
   "name": "python",
   "nbconvert_exporter": "python",
   "pygments_lexer": "ipython3",
   "version": "3.9.7"
  }
 },
 "nbformat": 4,
 "nbformat_minor": 5
}
