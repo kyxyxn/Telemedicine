{
  "cells": [
    {
      "cell_type": "markdown",
      "metadata": {
        "id": "view-in-github",
        "colab_type": "text"
      },
      "source": [
        "<a href=\"https://colab.research.google.com/github/kyxyxn/Telemedicine/blob/main/%5Bmental%5D_2_visits_and_rough_DID.ipynb\" target=\"_parent\"><img src=\"https://colab.research.google.com/assets/colab-badge.svg\" alt=\"Open In Colab\"/></a>"
      ]
    },
    {
      "cell_type": "code",
      "execution_count": null,
      "metadata": {
        "colab": {
          "base_uri": "https://localhost:8080/"
        },
        "id": "icdNltA252H2",
        "outputId": "ac7eee83-220f-4c00-ddc5-214b9aa03890"
      },
      "outputs": [
        {
          "output_type": "stream",
          "name": "stdout",
          "text": [
            "Mounted at /content/drive\n"
          ]
        }
      ],
      "source": [
        "from google.colab import drive\n",
        "drive.mount('/content/drive')"
      ]
    },
    {
      "cell_type": "code",
      "execution_count": null,
      "metadata": {
        "id": "QMFPRoKY6mkV"
      },
      "outputs": [],
      "source": [
        "import numpy as np\n",
        "import pandas as pd   \n",
        "from functools import reduce\n",
        "from scipy.stats import entropy"
      ]
    },
    {
      "cell_type": "code",
      "execution_count": null,
      "metadata": {
        "id": "qUaPwhon6QDQ"
      },
      "outputs": [],
      "source": [
        "rootPath ='/content/drive/MyDrive/ASU/CIS791_Chen_Final/uds-data/'\n",
        "filenames_uds = [rootPath+'UDS-2014-Full-Dataset.xlsx',\n",
        "                 rootPath+'UDS-2015-Full-Dataset.xlsx',\n",
        "                 rootPath+'UDS-2016-Full-Dataset.xlsx',\n",
        "                 rootPath+'UDS-2017-Full-Dataset.xlsx',\n",
        "                 rootPath+'UDS-2018-Full-Dataset.xlsx',\n",
        "                 rootPath+'UDS-2019-Full-Dataset.xlsx',\n",
        "                 rootPath+'UDS-2020-Full-Dataset.xlsx']"
      ]
    },
    {
      "cell_type": "code",
      "execution_count": null,
      "metadata": {
        "id": "lCmgcoZe33pP"
      },
      "outputs": [],
      "source": [
        "df = pd.read_csv(rootPath+'samples_hc.csv')"
      ]
    },
    {
      "cell_type": "markdown",
      "source": [
        "### Get HC mental visit data"
      ],
      "metadata": {
        "id": "tOhFO14XgE2Y"
      }
    },
    {
      "cell_type": "code",
      "source": [
        "visit_df = visit_info(filenames_uds)\n",
        "visit_df.columns=['Grant Number', 'alcohol_num_visits', 'alcohol_num_patients',\n",
        "                  'tobacco_num_visits', 'tobacco_num_patients',\n",
        "                  'depression_num_visits', 'depression_num_patients',\n",
        "                  'anxiety_num_visits', 'anxiety_num_patients', \n",
        "                  'attention_num_visits', 'attention_num_patients',\n",
        "                  'other_num_visits', 'other_num_patients', 'year']\n",
        "visit_df = visit_df[visit_df['Grant Number']!='GrantNumber'].reset_index(drop=True)\n",
        "visit_df = visit_df.replace(to_replace={'-':np.nan})\n",
        "\n",
        "# If Num visits = 0, num_patients=0\n",
        "visit_df.loc[visit_df['alcohol_num_visits'].isna(),'alcohol_num_patients']=0\n",
        "# Fill 0\n",
        "## reporting of all diagnoses (not just primary diagnosis) and services rendered during all UDS-countable visits are required. \n",
        "visit_df = visit_df.fillna(0)"
      ],
      "metadata": {
        "id": "j9A2TTZKgUu9"
      },
      "execution_count": null,
      "outputs": []
    },
    {
      "cell_type": "code",
      "source": [
        "# Total mental visits, patients\n",
        "num_visits_col = visit_df.columns[1::2][:-1]\n",
        "num_patients_col = visit_df.columns[::2][1:]\n",
        "\n",
        "num_visits_df = visit_df[num_visits_col].sum(axis=1).to_frame(name='total_mental_visits')\n",
        "num_patients_df = visit_df[num_patients_col].sum(axis=1).to_frame(name='total_mental_patients')\n",
        "\n",
        "visit_df = pd.concat([visit_df, num_visits_df, num_patients_df], axis=1)"
      ],
      "metadata": {
        "id": "nAirOTuYuK72"
      },
      "execution_count": null,
      "outputs": []
    },
    {
      "cell_type": "markdown",
      "source": [
        "### Try DID"
      ],
      "metadata": {
        "id": "PZjCwiSUwag1"
      }
    },
    {
      "cell_type": "code",
      "source": [
        "# Treated @ 2017\n",
        "set1 = set(df[(df['year']==2017)&(df['mental_telehealth']==1)&(df['consistency']==1)]['Grant Number'].values) # treated at 2017\n",
        "set2 = set(df[(df['year']==2016)&(df['mental_telehealth']==0)&(df['consistency']==1)]['Grant Number'].values) # untreated at 2016\n",
        "treated_2017 = list(set1.intersection(set2))\n",
        "print(\"{} HCs were treated @ 2017\".format(len(treated_2017)))\n",
        "\n",
        "# Treated @ 2018\n",
        "set1 = set(df[(df['year']==2018)&(df['mental_telehealth']==1)&(df['consistency']==1)]['Grant Number'].values) # treated at 2018\n",
        "set2 = set(df[(df['year']==2017)&(df['mental_telehealth']==0)&(df['consistency']==1)]['Grant Number'].values) # untreated at 2017\n",
        "treated_2018 = list(set1.intersection(set2))\n",
        "print(\"{} HCs were treated @ 2018\".format(len(treated_2018)))\n",
        "\n",
        "# Treated @ 2019\n",
        "set1 = set(df[(df['year']==2019)&(df['mental_telehealth']==1)&(df['consistency']==1)]['Grant Number'].values) # treated at 2019\n",
        "set2 = set(df[(df['year']==2018)&(df['mental_telehealth']==0)&(df['consistency']==1)]['Grant Number'].values) # untreated at 2018\n",
        "treated_2019 = list(set1.intersection(set2))\n",
        "print(\"{} HCs were treated @ 2019\".format(len(treated_2019)))\n",
        "\n",
        "# Untreated until 2019\n",
        "control = list(set(df[(df['year']==2020)&(df['mental_telehealth']==0)&(df['consistency']==1)]['Grant Number'].values)) # treated at 2019\n",
        "print(\"{} HCs were never treated\".format(len(control)))"
      ],
      "metadata": {
        "colab": {
          "base_uri": "https://localhost:8080/"
        },
        "id": "-94H5fXZwZLK",
        "outputId": "e1243f1f-25ac-48ce-9755-82ec7aa525db"
      },
      "execution_count": null,
      "outputs": [
        {
          "output_type": "stream",
          "name": "stdout",
          "text": [
            "26 HCs were treated @ 2017\n",
            "43 HCs were treated @ 2018\n",
            "73 HCs were treated @ 2019\n",
            "32 HCs were never treated\n"
          ]
        }
      ]
    },
    {
      "cell_type": "code",
      "source": [
        "visit_df.loc[:, 'year'] = visit_df.loc[:, 'year'].astype(int)"
      ],
      "metadata": {
        "id": "Stjh6OSZxyux"
      },
      "execution_count": null,
      "outputs": []
    },
    {
      "cell_type": "code",
      "source": [
        "tg_bf_visits = visit_df[(visit_df['Grant Number'].isin(treated_2017))&(visit_df['year']<2017)].groupby(['year']).mean()['total_mental_visits'].values.tolist()\n",
        "tg_aft_visits = visit_df[(visit_df['Grant Number'].isin(treated_2017))&(visit_df['year']>=2017)].groupby(['year']).mean()['total_mental_visits'].values.tolist()\n",
        "tg_visits = tg_bf_visits+tg_aft_visits\n",
        "\n",
        "tg_bf_patients = visit_df[(visit_df['Grant Number'].isin(treated_2017))&(visit_df['year']<2017)].groupby(['year']).mean()['total_mental_patients'].values.tolist()\n",
        "tg_aft_patients = visit_df[(visit_df['Grant Number'].isin(treated_2017))&(visit_df['year']>=2017)].groupby(['year']).mean()['total_mental_patients'].values.tolist()\n",
        "tg_patients = tg_bf_patients+tg_aft_patients\n",
        "\n",
        "cg_bf_visits = visit_df[(visit_df['Grant Number'].isin(control))&(visit_df['year']<2017)].groupby(['year']).mean()['total_mental_visits'].values.tolist()\n",
        "cg_aft_visits = visit_df[(visit_df['Grant Number'].isin(control))&(visit_df['year']>=2017)].groupby(['year']).mean()['total_mental_visits'].values.tolist()\n",
        "cg_visits = cg_bf_visits+cg_aft_visits\n",
        "\n",
        "cg_bf_patients = visit_df[(visit_df['Grant Number'].isin(control))&(visit_df['year']<2017)].groupby(['year']).mean()['total_mental_patients'].values.tolist()\n",
        "cg_aft_patients = visit_df[(visit_df['Grant Number'].isin(control))&(visit_df['year']>=2017)].groupby(['year']).mean()['total_mental_patients'].values.tolist()\n",
        "cg_patients = cg_bf_patients+cg_aft_patients\n"
      ],
      "metadata": {
        "id": "vUehYHZByeh1"
      },
      "execution_count": null,
      "outputs": []
    },
    {
      "cell_type": "code",
      "source": [
        "import matplotlib.pyplot as plt\n",
        "\n",
        "X = list(range(2014, 2021))\n",
        "y1 = tg_visits\n",
        "y2 = cg_visits\n",
        "\n",
        "plt.axvline(x=2017, color='black')\n",
        "\n",
        "plt.plot(X, y1, color='red', label='treated')\n",
        "plt.plot(X, y2, color='blue', label='control')\n",
        "plt.legend()\n",
        "plt.show()"
      ],
      "metadata": {
        "colab": {
          "base_uri": "https://localhost:8080/",
          "height": 265
        },
        "id": "yC6BLChixqez",
        "outputId": "ec5827cd-2dcc-47f4-f806-1dc321de873c"
      },
      "execution_count": null,
      "outputs": [
        {
          "output_type": "display_data",
          "data": {
            "text/plain": [
              "<Figure size 432x288 with 1 Axes>"
            ],
            "image/png": "[encoded data removed]"
          },
          "metadata": {
            "needs_background": "light"
          }
        }
      ]
    },
    {
      "cell_type": "code",
      "source": [
        "import matplotlib.pyplot as plt\n",
        "\n",
        "X = list(range(2014, 2021))\n",
        "y1 = tg_patients\n",
        "y2 = cg_patients\n",
        "\n",
        "plt.axvline(x=2017, color='black')\n",
        "\n",
        "plt.plot(X, y1, color='red', label='treated')\n",
        "plt.plot(X, y2, color='blue', label='control')\n",
        "plt.legend()\n",
        "\n",
        "plt.show()"
      ],
      "metadata": {
        "colab": {
          "base_uri": "https://localhost:8080/",
          "height": 265
        },
        "id": "GVT21lK2ze9s",
        "outputId": "11e89af2-000a-4ee5-94b0-14ac343ea693"
      },
      "execution_count": null,
      "outputs": [
        {
          "output_type": "display_data",
          "data": {
            "text/plain": [
              "<Figure size 432x288 with 1 Axes>"
            ],
            "image/png": "[encoded data removed]"
          },
          "metadata": {
            "needs_background": "light"
          }
        }
      ]
    },
    {
      "cell_type": "code",
      "source": [
        "total_mental_visits      12181.307692\n",
        "total_mental_patients     4632.961538\n",
        "dtype: float64"
      ],
      "metadata": {
        "id": "bpIxZPex1Lgf"
      },
      "execution_count": null,
      "outputs": []
    },
    {
      "cell_type": "code",
      "source": [
        "# CGs that are similar to TGs\n",
        "control2 = visit_df[(visit_df['Grant Number'].isin(control))&(visit_df['year']==2017)].sort_values(by=['total_mental_visits'], ascending=False).iloc[:10]['Grant Number'].values.tolist()\n",
        "# New values\n",
        "cg_bf_visits = visit_df[(visit_df['Grant Number'].isin(control2))&(visit_df['year']<2017)].groupby(['year']).mean()['total_mental_visits'].values.tolist()\n",
        "cg_aft_visits = visit_df[(visit_df['Grant Number'].isin(control2))&(visit_df['year']>=2017)].groupby(['year']).mean()['total_mental_visits'].values.tolist()\n",
        "cg_visits = cg_bf_visits+cg_aft_visits\n",
        "\n",
        "cg_bf_patients = visit_df[(visit_df['Grant Number'].isin(control2))&(visit_df['year']<2017)].groupby(['year']).mean()['total_mental_patients'].values.tolist()\n",
        "cg_aft_patients = visit_df[(visit_df['Grant Number'].isin(control2))&(visit_df['year']>=2017)].groupby(['year']).mean()['total_mental_patients'].values.tolist()\n",
        "cg_patients = cg_bf_patients+cg_aft_patients\n"
      ],
      "metadata": {
        "id": "QZrIYR_j03AP"
      },
      "execution_count": null,
      "outputs": []
    },
    {
      "cell_type": "code",
      "source": [
        "import matplotlib.pyplot as plt\n",
        "\n",
        "X = list(range(2014, 2021))\n",
        "y1 = tg_visits\n",
        "y2 = cg_visits\n",
        "\n",
        "plt.axvline(x=2017, color='black')\n",
        "\n",
        "plt.plot(X, y1, color='red', label='treated')\n",
        "plt.plot(X, y2, color='blue', label='control')\n",
        "plt.legend()\n",
        "plt.show()"
      ],
      "metadata": {
        "colab": {
          "base_uri": "https://localhost:8080/",
          "height": 265
        },
        "id": "5ajxTp9C09af",
        "outputId": "44c29559-437f-4ddf-959c-6fee38c7330e"
      },
      "execution_count": null,
      "outputs": [
        {
          "output_type": "display_data",
          "data": {
            "text/plain": [
              "<Figure size 432x288 with 1 Axes>"
            ],
            "image/png": "[encoded data removed]"
          },
          "metadata": {
            "needs_background": "light"
          }
        }
      ]
    },
    {
      "cell_type": "code",
      "source": [
        "import matplotlib.pyplot as plt\n",
        "\n",
        "X = list(range(2014, 2021))\n",
        "y1 = tg_patients\n",
        "y2 = cg_patients\n",
        "\n",
        "plt.axvline(x=2017, color='black')\n",
        "\n",
        "plt.plot(X, y1, color='red', label='treated')\n",
        "plt.plot(X, y2, color='blue', label='control')\n",
        "plt.legend()\n",
        "\n",
        "plt.show()"
      ],
      "metadata": {
        "colab": {
          "base_uri": "https://localhost:8080/",
          "height": 266
        },
        "id": "WmXy4CHY0-9P",
        "outputId": "1ebbf699-8f46-46ad-f827-8bf0771cc418"
      },
      "execution_count": null,
      "outputs": [
        {
          "output_type": "display_data",
          "data": {
            "text/plain": [
              "<Figure size 432x288 with 1 Axes>"
            ],
            "image/png": "[encoded data removed]"
          },
          "metadata": {
            "needs_background": "light"
          }
        }
      ]
    }
  ],
  "metadata": {
    "colab": {
      "collapsed_sections": [
        "cst_PwnPCT3G",
        "tDbAy1bsG199",
        "-H-NE_NbcG-y"
      ],
      "name": "[mental] 2 visits and rough DID.ipynb",
      "provenance": [],
      "mount_file_id": "1HpjTwtcUQ9XZJUZpozVUQRQiZxxFOOSo",
      "authorship_tag": "ABX9TyNPrROzMppuoEarevi96hY1",
      "include_colab_link": true
    },
    "kernelspec": {
      "display_name": "Python 3",
      "name": "python3"
    },
    "language_info": {
      "name": "python"
    }
  },
  "nbformat": 4,
  "nbformat_minor": 0
}