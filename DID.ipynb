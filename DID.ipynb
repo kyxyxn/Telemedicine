{
 "cells": [
  {
   "cell_type": "code",
   "execution_count": 1,
   "id": "6920dcc1",
   "metadata": {},
   "outputs": [],
   "source": [
    "import numpy as np\n",
    "import pandas as pd"
   ]
  },
  {
   "cell_type": "code",
   "execution_count": 2,
   "id": "f37b2df7",
   "metadata": {},
   "outputs": [],
   "source": [
    "amb_df = pd.read_csv(r'/Users/krhee/Dropbox (ASU)/Coding/RA_Coding/Utilization/amb-final-county.csv')\n",
    "tele_df = pd.read_csv(r'/Users/krhee/Dropbox (ASU)/Coding/RA_Coding/providerservice/q3014_county_final.csv')"
   ]
  },
  {
   "cell_type": "code",
   "execution_count": 3,
   "id": "fcb46ed9",
   "metadata": {
    "scrolled": true
   },
   "outputs": [],
   "source": [
    "# Counties that exist at least once (in the full data set w/ all counties in the US)\n",
    "all_c = sorted(amb_df.fips.value_counts().index.tolist())\n",
    "# All years\n",
    "all_y = [2013,2014,2015,2016,2017,2018,2019]\n",
    "# Together\n",
    "df = pd.concat([pd.DataFrame(data=np.repeat(np.array(all_c), repeats=len(all_y)), columns=['fips']),\n",
    "                pd.DataFrame(data=np.tile(np.array(all_y), reps=len(all_c)), columns=['year'])], axis=1)"
   ]
  },
  {
   "cell_type": "code",
   "execution_count": 4,
   "id": "ada37171",
   "metadata": {
    "scrolled": true
   },
   "outputs": [],
   "source": [
    "# Whether a county implemented telehealth in that year\n",
    "new_list = []\n",
    "for i in range(len(df)):\n",
    "    try:\n",
    "        if len(tele_df[(tele_df['year']==df['year'][i])&(tele_df['fips']==df['fips'][i])])==0:\n",
    "            new_list.append(0)\n",
    "        elif len(tele_df[(tele_df['year']==df['year'][i])&(tele_df['fips']==df['fips'][i])])!=0:\n",
    "            new_list.append(1)\n",
    "    except:\n",
    "        print(i)\n",
    "df['tele']=new_list"
   ]
  },
  {
   "cell_type": "code",
   "execution_count": 5,
   "id": "a240be3e",
   "metadata": {
    "scrolled": true
   },
   "outputs": [],
   "source": [
    "# These counties did not adopt telehealth; they can be used as the control group\n",
    "cg_df = df.groupby(['fips']).sum().reset_index(level=[0])\n",
    "cg_list = cg_df[cg_df['tele']==0].fips.values.tolist()\n"
   ]
  },
  {
   "cell_type": "code",
   "execution_count": 6,
   "id": "c0cff562",
   "metadata": {},
   "outputs": [],
   "source": [
    "# These counties adopted telehealth \n",
    "tg_df = df[(~df['fips'].isin(cg_list))&(df['tele']==1)].groupby(['fips']).min().reset_index(level=[0])\n",
    "# Let's see when they each begin to implement telehealth\n",
    "tg_dict = {}\n",
    "for i in range(len(tg_df)):\n",
    "    tg_dict[tg_df['fips'][i]] = tg_df['year'][i]"
   ]
  },
  {
   "cell_type": "code",
   "execution_count": 42,
   "id": "d83cb5dc",
   "metadata": {
    "scrolled": true
   },
   "outputs": [
    {
     "data": {
      "text/plain": [
       "year\n",
       "2013    198\n",
       "2014     89\n",
       "2015    103\n",
       "2016    119\n",
       "2017    111\n",
       "2018    101\n",
       "2019     92\n",
       "dtype: int64"
      ]
     },
     "execution_count": 42,
     "metadata": {},
     "output_type": "execute_result"
    }
   ],
   "source": [
    "tg_df.groupby(['year']).size()\n",
    "# We may better use 2015; when there were 103 new adopters\n",
    "# Or 2016; when there weree 119 new adopters"
   ]
  },
  {
   "cell_type": "markdown",
   "id": "98b94615",
   "metadata": {},
   "source": [
    "##### 0. DID without matching"
   ]
  },
  {
   "cell_type": "markdown",
   "id": "16291597",
   "metadata": {},
   "source": [
    "0.1 Counties with telehealth since >=2015 vs Control group"
   ]
  },
  {
   "cell_type": "code",
   "execution_count": 7,
   "id": "dbda3568",
   "metadata": {},
   "outputs": [],
   "source": [
    "tg_list = tg_df[tg_df['year']>=2015].fips.values.tolist()"
   ]
  },
  {
   "cell_type": "code",
   "execution_count": 8,
   "id": "f0b0bbe8",
   "metadata": {},
   "outputs": [
    {
     "data": {
      "text/plain": [
       "(526, 2310)"
      ]
     },
     "execution_count": 8,
     "metadata": {},
     "output_type": "execute_result"
    }
   ],
   "source": [
    "len(tg_list), len(cg_list)"
   ]
  },
  {
   "cell_type": "code",
   "execution_count": 9,
   "id": "3e37de4d",
   "metadata": {},
   "outputs": [],
   "source": [
    "df_0 = df[df['fips'].isin(tg_list+cg_list)].reset_index(drop=True)\n",
    "df_0['tg'] = [1 if i in tg_list else 0 for i in df_0['fips']]\n",
    "temp_df = pd.merge(df_0, tele_df[['fips','year','tot_srvcs','tot_srvcs_chrg']], on=['fips','year'], how='outer')\n",
    "temp_df = temp_df[~temp_df['tele'].isna()].reset_index(drop=True)\n",
    "temp_df = temp_df.fillna(0)\n"
   ]
  },
  {
   "cell_type": "code",
   "execution_count": 10,
   "id": "c8a0d082",
   "metadata": {
    "scrolled": false
   },
   "outputs": [
    {
     "name": "stdout",
     "output_type": "stream",
     "text": [
      "<class 'pandas.core.frame.DataFrame'>\n",
      "RangeIndex: 19852 entries, 0 to 19851\n",
      "Data columns (total 6 columns):\n",
      " #   Column          Non-Null Count  Dtype  \n",
      "---  ------          --------------  -----  \n",
      " 0   fips            19852 non-null  int64  \n",
      " 1   year            19852 non-null  int64  \n",
      " 2   tele            19852 non-null  float64\n",
      " 3   tg              19852 non-null  float64\n",
      " 4   tot_srvcs       19852 non-null  float64\n",
      " 5   tot_srvcs_chrg  19852 non-null  float64\n",
      "dtypes: float64(4), int64(2)\n",
      "memory usage: 930.7 KB\n"
     ]
    }
   ],
   "source": [
    "temp_df.info()\n",
    "df_0 = temp_df.copy()"
   ]
  },
  {
   "cell_type": "code",
   "execution_count": 11,
   "id": "84cfda5d",
   "metadata": {
    "scrolled": true
   },
   "outputs": [],
   "source": [
    "temp_df = pd.merge(df_0, amb_df, on=['fips','year'], how='outer')\n",
    "temp_df = temp_df[~temp_df['tele'].isna()].reset_index(drop=True)\n",
    "temp_df = temp_df[~temp_df['reference_period'].isna()].reset_index(drop=True)"
   ]
  },
  {
   "cell_type": "code",
   "execution_count": 12,
   "id": "09ccead6",
   "metadata": {
    "scrolled": true
   },
   "outputs": [
    {
     "name": "stdout",
     "output_type": "stream",
     "text": [
      "<class 'pandas.core.frame.DataFrame'>\n",
      "RangeIndex: 14075 entries, 0 to 14074\n",
      "Data columns (total 24 columns):\n",
      " #   Column                                   Non-Null Count  Dtype  \n",
      "---  ------                                   --------------  -----  \n",
      " 0   fips                                     14075 non-null  int64  \n",
      " 1   year                                     14075 non-null  float64\n",
      " 2   tele                                     14075 non-null  float64\n",
      " 3   tg                                       14075 non-null  float64\n",
      " 4   tot_srvcs                                14075 non-null  float64\n",
      " 5   tot_srvcs_chrg                           14075 non-null  float64\n",
      " 6   reference_period                         14075 non-null  object \n",
      " 7   state                                    14075 non-null  object \n",
      " 8   county                                   14075 non-null  object \n",
      " 9   state_fips                               14075 non-null  float64\n",
      " 10  county_fips                              14075 non-null  float64\n",
      " 11  number_of_fee_for_service_beneficiaries  14075 non-null  float64\n",
      " 12  number_of_providers_allamb               14075 non-null  float64\n",
      " 13  number_of_users_allamb                   14075 non-null  float64\n",
      " 14  total_payment_allamb                     14072 non-null  float64\n",
      " 15  number_of_users_emeramb                  14075 non-null  float64\n",
      " 16  total_payment_emeramb                    14070 non-null  float64\n",
      " 17  number_of_providers_emeramb              14071 non-null  float64\n",
      " 18  number_of_users_nonemeramb               14075 non-null  float64\n",
      " 19  total_payment_nonemeramb                 14056 non-null  float64\n",
      " 20  number_of_providers_nonemeramb           13109 non-null  float64\n",
      " 21  pct_users_allamb                         14075 non-null  float64\n",
      " 22  pct_users_emeramb                        14075 non-null  float64\n",
      " 23  pct_users_nonemeramb                     14075 non-null  float64\n",
      "dtypes: float64(20), int64(1), object(3)\n",
      "memory usage: 2.6+ MB\n"
     ]
    }
   ],
   "source": [
    "temp_df.info()\n",
    "df_0 = temp_df.copy()"
   ]
  },
  {
   "cell_type": "code",
   "execution_count": 26,
   "id": "51198015",
   "metadata": {},
   "outputs": [],
   "source": [
    "df_0.to_csv(r'did_tele_ambulatory_nomatching_county_2015.csv', index=False)"
   ]
  },
  {
   "cell_type": "code",
   "execution_count": 14,
   "id": "b02c7a1d",
   "metadata": {},
   "outputs": [],
   "source": [
    "# fips to HSA\n",
    "hsa_df = pd.read_csv(r'/Users/krhee/Dropbox (ASU)/Coding/RA_Coding/providerservice/hsatofips/fipstohsa.csv')\n",
    "hsa_df.columns=['hsa','hsa_desc','state_county_desc','fips']"
   ]
  },
  {
   "cell_type": "code",
   "execution_count": 23,
   "id": "17e0db85",
   "metadata": {
    "scrolled": true
   },
   "outputs": [],
   "source": [
    "temp_df = pd.merge(df_0, hsa_df, on=['fips'], how='outer')\n",
    "temp_df = temp_df[~temp_df['hsa'].isna()].reset_index(drop=True) # Mostly AK and SD\n",
    "df_0 = temp_df.copy()"
   ]
  },
  {
   "cell_type": "code",
   "execution_count": 72,
   "id": "4afc4e1d",
   "metadata": {
    "scrolled": true
   },
   "outputs": [],
   "source": [
    "df_0_tele_gb = df_0.groupby(['hsa','year']).sum().reset_index(level=[0,1])[['hsa','year','tot_srvcs','tot_srvcs_chrg',\n",
    "                                                    'number_of_fee_for_service_beneficiaries', 'number_of_providers_allamb',\n",
    "                                                    'number_of_users_allamb', 'total_payment_allamb',\n",
    "                                                    'number_of_users_emeramb', 'total_payment_emeramb',\n",
    "                                                    'number_of_providers_emeramb', 'number_of_users_nonemeramb','total_payment_nonemeramb', 'number_of_providers_nonemeramb']]\n",
    "df_0_tele_gb = df_0_tele_gb.sort_values(by=['hsa','year']).reset_index(drop=True)\n",
    "df_0_date_gb = df_0.groupby(['hsa','year']).max().reset_index(level=[0,1])[['hsa','year','tele','tg']]\n",
    "df_0_gb = pd.merge(df_0_date_gb, df_0_tele_gb, on=['hsa','year'])"
   ]
  },
  {
   "cell_type": "code",
   "execution_count": 85,
   "id": "b05f4743",
   "metadata": {
    "scrolled": true
   },
   "outputs": [],
   "source": [
    "temp_df = pd.merge(df_0[['hsa','state_county_desc']], df_0_gb, on=['hsa'], how='outer')\n",
    "temp_df = temp_df[~temp_df['tele'].isna()].reset_index(drop=True)\n",
    "temp_df['state'] = [str(i).split(':')[0] for i in temp_df['state_county_desc']]\n",
    "df_0 = temp_df.copy()"
   ]
  },
  {
   "cell_type": "code",
   "execution_count": 92,
   "id": "87c06a80",
   "metadata": {
    "scrolled": true
   },
   "outputs": [],
   "source": [
    "df_0 = pd.merge(df_0, amb_df[['state','state_fips']].drop_duplicates(), on=['state'])"
   ]
  },
  {
   "cell_type": "code",
   "execution_count": 93,
   "id": "4de901f2",
   "metadata": {},
   "outputs": [],
   "source": [
    "df_0.to_csv(r'did_tele_ambulatory_nomatching_hsa_2015.csv', index=False)"
   ]
  },
  {
   "cell_type": "code",
   "execution_count": null,
   "id": "a1cf6803",
   "metadata": {},
   "outputs": [],
   "source": []
  },
  {
   "cell_type": "markdown",
   "id": "950184f5",
   "metadata": {},
   "source": [
    "0.2 Counties with telehealth since >=2016 vs Control group"
   ]
  },
  {
   "cell_type": "code",
   "execution_count": 8,
   "id": "5800c4d4",
   "metadata": {},
   "outputs": [],
   "source": [
    "tg_list = tg_df[tg_df['year']>=2016].fips.values.tolist()"
   ]
  },
  {
   "cell_type": "code",
   "execution_count": 9,
   "id": "22762adc",
   "metadata": {},
   "outputs": [
    {
     "data": {
      "text/plain": [
       "(423, 2310)"
      ]
     },
     "execution_count": 9,
     "metadata": {},
     "output_type": "execute_result"
    }
   ],
   "source": [
    "len(tg_list), len(cg_list)"
   ]
  },
  {
   "cell_type": "code",
   "execution_count": 10,
   "id": "da1283b5",
   "metadata": {},
   "outputs": [],
   "source": [
    "df_1 = df[df['fips'].isin(tg_list+cg_list)].reset_index(drop=True)\n",
    "df_1['tg'] = [1 if i in tg_list else 0 for i in df_1['fips']]\n",
    "temp_df = pd.merge(df_1, tele_df[['fips','year','tot_srvcs','tot_srvcs_chrg']], on=['fips','year'], how='outer')\n",
    "temp_df = temp_df[~temp_df['tele'].isna()].reset_index(drop=True)\n",
    "temp_df = temp_df.fillna(0)\n"
   ]
  },
  {
   "cell_type": "code",
   "execution_count": 11,
   "id": "4e6a3755",
   "metadata": {
    "scrolled": false
   },
   "outputs": [
    {
     "name": "stdout",
     "output_type": "stream",
     "text": [
      "<class 'pandas.core.frame.DataFrame'>\n",
      "RangeIndex: 19131 entries, 0 to 19130\n",
      "Data columns (total 6 columns):\n",
      " #   Column          Non-Null Count  Dtype  \n",
      "---  ------          --------------  -----  \n",
      " 0   fips            19131 non-null  int64  \n",
      " 1   year            19131 non-null  int64  \n",
      " 2   tele            19131 non-null  float64\n",
      " 3   tg              19131 non-null  float64\n",
      " 4   tot_srvcs       19131 non-null  float64\n",
      " 5   tot_srvcs_chrg  19131 non-null  float64\n",
      "dtypes: float64(4), int64(2)\n",
      "memory usage: 896.9 KB\n"
     ]
    }
   ],
   "source": [
    "temp_df.info()\n",
    "df_1 = temp_df.copy()"
   ]
  },
  {
   "cell_type": "code",
   "execution_count": 12,
   "id": "260c0ef1",
   "metadata": {
    "scrolled": true
   },
   "outputs": [],
   "source": [
    "temp_df = pd.merge(df_1, amb_df, on=['fips','year'], how='outer')\n",
    "temp_df = temp_df[~temp_df['tele'].isna()].reset_index(drop=True)\n",
    "temp_df = temp_df[~temp_df['reference_period'].isna()].reset_index(drop=True)"
   ]
  },
  {
   "cell_type": "code",
   "execution_count": 13,
   "id": "aff2c1ec",
   "metadata": {
    "scrolled": true
   },
   "outputs": [
    {
     "name": "stdout",
     "output_type": "stream",
     "text": [
      "<class 'pandas.core.frame.DataFrame'>\n",
      "RangeIndex: 13560 entries, 0 to 13559\n",
      "Data columns (total 24 columns):\n",
      " #   Column                                   Non-Null Count  Dtype  \n",
      "---  ------                                   --------------  -----  \n",
      " 0   fips                                     13560 non-null  int64  \n",
      " 1   year                                     13560 non-null  float64\n",
      " 2   tele                                     13560 non-null  float64\n",
      " 3   tg                                       13560 non-null  float64\n",
      " 4   tot_srvcs                                13560 non-null  float64\n",
      " 5   tot_srvcs_chrg                           13560 non-null  float64\n",
      " 6   reference_period                         13560 non-null  object \n",
      " 7   state                                    13560 non-null  object \n",
      " 8   county                                   13560 non-null  object \n",
      " 9   state_fips                               13560 non-null  float64\n",
      " 10  county_fips                              13560 non-null  float64\n",
      " 11  number_of_fee_for_service_beneficiaries  13560 non-null  float64\n",
      " 12  number_of_providers_allamb               13560 non-null  float64\n",
      " 13  number_of_users_allamb                   13560 non-null  float64\n",
      " 14  total_payment_allamb                     13557 non-null  float64\n",
      " 15  number_of_users_emeramb                  13560 non-null  float64\n",
      " 16  total_payment_emeramb                    13555 non-null  float64\n",
      " 17  number_of_providers_emeramb              13556 non-null  float64\n",
      " 18  number_of_users_nonemeramb               13560 non-null  float64\n",
      " 19  total_payment_nonemeramb                 13541 non-null  float64\n",
      " 20  number_of_providers_nonemeramb           12599 non-null  float64\n",
      " 21  pct_users_allamb                         13560 non-null  float64\n",
      " 22  pct_users_emeramb                        13560 non-null  float64\n",
      " 23  pct_users_nonemeramb                     13560 non-null  float64\n",
      "dtypes: float64(20), int64(1), object(3)\n",
      "memory usage: 2.5+ MB\n"
     ]
    }
   ],
   "source": [
    "temp_df.info()\n",
    "df_1 = temp_df.copy()"
   ]
  },
  {
   "cell_type": "code",
   "execution_count": 14,
   "id": "4e25bb76",
   "metadata": {},
   "outputs": [],
   "source": [
    "df_1.to_csv(r'did_tele_ambulatory_nomatching_2016.csv', index=False)"
   ]
  },
  {
   "cell_type": "markdown",
   "id": "9ee143fb",
   "metadata": {},
   "source": [
    "##### 1. Matching for Counties that adopt telehealth beginning 2015 vs Control group"
   ]
  },
  {
   "cell_type": "code",
   "execution_count": 141,
   "id": "e9aa3733",
   "metadata": {},
   "outputs": [],
   "source": [
    "tg_list = tg_df[tg_df['year']>=2015].fips.values.tolist()"
   ]
  },
  {
   "cell_type": "code",
   "execution_count": 142,
   "id": "65a37f80",
   "metadata": {},
   "outputs": [
    {
     "data": {
      "text/plain": [
       "(526, 2310)"
      ]
     },
     "execution_count": 142,
     "metadata": {},
     "output_type": "execute_result"
    }
   ],
   "source": [
    "len(tg_list), len(cg_list)"
   ]
  },
  {
   "cell_type": "code",
   "execution_count": 144,
   "id": "b7d8e6a3",
   "metadata": {},
   "outputs": [
    {
     "data": {
      "text/html": [
       "<div>\n",
       "<style scoped>\n",
       "    .dataframe tbody tr th:only-of-type {\n",
       "        vertical-align: middle;\n",
       "    }\n",
       "\n",
       "    .dataframe tbody tr th {\n",
       "        vertical-align: top;\n",
       "    }\n",
       "\n",
       "    .dataframe thead th {\n",
       "        text-align: right;\n",
       "    }\n",
       "</style>\n",
       "<table border=\"1\" class=\"dataframe\">\n",
       "  <thead>\n",
       "    <tr style=\"text-align: right;\">\n",
       "      <th></th>\n",
       "      <th>fips</th>\n",
       "      <th>year</th>\n",
       "      <th>tele</th>\n",
       "    </tr>\n",
       "  </thead>\n",
       "  <tbody>\n",
       "    <tr>\n",
       "      <th>7</th>\n",
       "      <td>1003</td>\n",
       "      <td>2013</td>\n",
       "      <td>0</td>\n",
       "    </tr>\n",
       "    <tr>\n",
       "      <th>8</th>\n",
       "      <td>1003</td>\n",
       "      <td>2014</td>\n",
       "      <td>0</td>\n",
       "    </tr>\n",
       "    <tr>\n",
       "      <th>9</th>\n",
       "      <td>1003</td>\n",
       "      <td>2015</td>\n",
       "      <td>1</td>\n",
       "    </tr>\n",
       "    <tr>\n",
       "      <th>10</th>\n",
       "      <td>1003</td>\n",
       "      <td>2016</td>\n",
       "      <td>1</td>\n",
       "    </tr>\n",
       "    <tr>\n",
       "      <th>11</th>\n",
       "      <td>1003</td>\n",
       "      <td>2017</td>\n",
       "      <td>1</td>\n",
       "    </tr>\n",
       "    <tr>\n",
       "      <th>...</th>\n",
       "      <td>...</td>\n",
       "      <td>...</td>\n",
       "      <td>...</td>\n",
       "    </tr>\n",
       "    <tr>\n",
       "      <th>21849</th>\n",
       "      <td>56043</td>\n",
       "      <td>2015</td>\n",
       "      <td>0</td>\n",
       "    </tr>\n",
       "    <tr>\n",
       "      <th>21850</th>\n",
       "      <td>56043</td>\n",
       "      <td>2016</td>\n",
       "      <td>0</td>\n",
       "    </tr>\n",
       "    <tr>\n",
       "      <th>21851</th>\n",
       "      <td>56043</td>\n",
       "      <td>2017</td>\n",
       "      <td>0</td>\n",
       "    </tr>\n",
       "    <tr>\n",
       "      <th>21852</th>\n",
       "      <td>56043</td>\n",
       "      <td>2018</td>\n",
       "      <td>0</td>\n",
       "    </tr>\n",
       "    <tr>\n",
       "      <th>21853</th>\n",
       "      <td>56043</td>\n",
       "      <td>2019</td>\n",
       "      <td>1</td>\n",
       "    </tr>\n",
       "  </tbody>\n",
       "</table>\n",
       "<p>3682 rows × 3 columns</p>\n",
       "</div>"
      ],
      "text/plain": [
       "        fips  year  tele\n",
       "7       1003  2013     0\n",
       "8       1003  2014     0\n",
       "9       1003  2015     1\n",
       "10      1003  2016     1\n",
       "11      1003  2017     1\n",
       "...      ...   ...   ...\n",
       "21849  56043  2015     0\n",
       "21850  56043  2016     0\n",
       "21851  56043  2017     0\n",
       "21852  56043  2018     0\n",
       "21853  56043  2019     1\n",
       "\n",
       "[3682 rows x 3 columns]"
      ]
     },
     "execution_count": 144,
     "metadata": {},
     "output_type": "execute_result"
    }
   ],
   "source": [
    "df[df['fips'].isin(tg_list)]"
   ]
  },
  {
   "cell_type": "code",
   "execution_count": null,
   "id": "a3f7a048",
   "metadata": {},
   "outputs": [],
   "source": []
  },
  {
   "cell_type": "code",
   "execution_count": null,
   "id": "a15cd5b2",
   "metadata": {},
   "outputs": [],
   "source": []
  },
  {
   "cell_type": "code",
   "execution_count": null,
   "id": "f31b0774",
   "metadata": {},
   "outputs": [],
   "source": []
  },
  {
   "cell_type": "code",
   "execution_count": null,
   "id": "5fc1d1de",
   "metadata": {},
   "outputs": [],
   "source": []
  },
  {
   "cell_type": "code",
   "execution_count": null,
   "id": "958552a9",
   "metadata": {},
   "outputs": [],
   "source": []
  },
  {
   "cell_type": "code",
   "execution_count": null,
   "id": "f517388a",
   "metadata": {},
   "outputs": [],
   "source": []
  },
  {
   "cell_type": "code",
   "execution_count": null,
   "id": "57e828f5",
   "metadata": {},
   "outputs": [],
   "source": []
  },
  {
   "cell_type": "code",
   "execution_count": null,
   "id": "2ba438e7",
   "metadata": {},
   "outputs": [],
   "source": []
  },
  {
   "cell_type": "code",
   "execution_count": null,
   "id": "a7065f59",
   "metadata": {},
   "outputs": [],
   "source": []
  },
  {
   "cell_type": "code",
   "execution_count": null,
   "id": "f3c8cad8",
   "metadata": {},
   "outputs": [],
   "source": []
  },
  {
   "cell_type": "code",
   "execution_count": null,
   "id": "758690bf",
   "metadata": {},
   "outputs": [],
   "source": []
  },
  {
   "cell_type": "markdown",
   "id": "a89c5189",
   "metadata": {},
   "source": [
    "##### 1. Counties that started telehealth >=2015"
   ]
  },
  {
   "cell_type": "code",
   "execution_count": 49,
   "id": "49905f97",
   "metadata": {
    "scrolled": true
   },
   "outputs": [
    {
     "data": {
      "text/html": [
       "<div>\n",
       "<style scoped>\n",
       "    .dataframe tbody tr th:only-of-type {\n",
       "        vertical-align: middle;\n",
       "    }\n",
       "\n",
       "    .dataframe tbody tr th {\n",
       "        vertical-align: top;\n",
       "    }\n",
       "\n",
       "    .dataframe thead th {\n",
       "        text-align: right;\n",
       "    }\n",
       "</style>\n",
       "<table border=\"1\" class=\"dataframe\">\n",
       "  <thead>\n",
       "    <tr style=\"text-align: right;\">\n",
       "      <th></th>\n",
       "      <th>fips</th>\n",
       "      <th>year</th>\n",
       "      <th>tele</th>\n",
       "    </tr>\n",
       "  </thead>\n",
       "  <tbody>\n",
       "    <tr>\n",
       "      <th>0</th>\n",
       "      <td>1003</td>\n",
       "      <td>14112</td>\n",
       "      <td>5</td>\n",
       "    </tr>\n",
       "    <tr>\n",
       "      <th>1</th>\n",
       "      <td>1005</td>\n",
       "      <td>14112</td>\n",
       "      <td>1</td>\n",
       "    </tr>\n",
       "    <tr>\n",
       "      <th>2</th>\n",
       "      <td>1021</td>\n",
       "      <td>14112</td>\n",
       "      <td>2</td>\n",
       "    </tr>\n",
       "    <tr>\n",
       "      <th>3</th>\n",
       "      <td>1025</td>\n",
       "      <td>14112</td>\n",
       "      <td>3</td>\n",
       "    </tr>\n",
       "    <tr>\n",
       "      <th>4</th>\n",
       "      <td>1039</td>\n",
       "      <td>14112</td>\n",
       "      <td>3</td>\n",
       "    </tr>\n",
       "    <tr>\n",
       "      <th>...</th>\n",
       "      <td>...</td>\n",
       "      <td>...</td>\n",
       "      <td>...</td>\n",
       "    </tr>\n",
       "    <tr>\n",
       "      <th>808</th>\n",
       "      <td>56025</td>\n",
       "      <td>14112</td>\n",
       "      <td>5</td>\n",
       "    </tr>\n",
       "    <tr>\n",
       "      <th>809</th>\n",
       "      <td>56029</td>\n",
       "      <td>14112</td>\n",
       "      <td>1</td>\n",
       "    </tr>\n",
       "    <tr>\n",
       "      <th>810</th>\n",
       "      <td>56037</td>\n",
       "      <td>14112</td>\n",
       "      <td>1</td>\n",
       "    </tr>\n",
       "    <tr>\n",
       "      <th>811</th>\n",
       "      <td>56041</td>\n",
       "      <td>14112</td>\n",
       "      <td>3</td>\n",
       "    </tr>\n",
       "    <tr>\n",
       "      <th>812</th>\n",
       "      <td>56043</td>\n",
       "      <td>14112</td>\n",
       "      <td>1</td>\n",
       "    </tr>\n",
       "  </tbody>\n",
       "</table>\n",
       "<p>813 rows × 3 columns</p>\n",
       "</div>"
      ],
      "text/plain": [
       "      fips   year  tele\n",
       "0     1003  14112     5\n",
       "1     1005  14112     1\n",
       "2     1021  14112     2\n",
       "3     1025  14112     3\n",
       "4     1039  14112     3\n",
       "..     ...    ...   ...\n",
       "808  56025  14112     5\n",
       "809  56029  14112     1\n",
       "810  56037  14112     1\n",
       "811  56041  14112     3\n",
       "812  56043  14112     1\n",
       "\n",
       "[813 rows x 3 columns]"
      ]
     },
     "execution_count": 49,
     "metadata": {},
     "output_type": "execute_result"
    }
   ],
   "source": [
    "cg_df = df.groupby(['fips']).sum().reset_index(level=[0])\n",
    "cg_df"
   ]
  },
  {
   "cell_type": "code",
   "execution_count": 45,
   "id": "1dda66c1",
   "metadata": {},
   "outputs": [
    {
     "data": {
      "text/plain": [
       "1003     7\n",
       "39129    7\n",
       "39049    7\n",
       "39057    7\n",
       "39061    7\n",
       "        ..\n",
       "23017    7\n",
       "23019    7\n",
       "23029    7\n",
       "23031    7\n",
       "56043    7\n",
       "Name: fips, Length: 813, dtype: int64"
      ]
     },
     "execution_count": 45,
     "metadata": {},
     "output_type": "execute_result"
    }
   ],
   "source": [
    "df.fips.value_counts()"
   ]
  },
  {
   "cell_type": "code",
   "execution_count": 44,
   "id": "1330383c",
   "metadata": {},
   "outputs": [
    {
     "data": {
      "text/plain": [
       "fips    25408531\n",
       "year     1641447\n",
       "tele         513\n",
       "dtype: int64"
      ]
     },
     "execution_count": 44,
     "metadata": {},
     "output_type": "execute_result"
    }
   ],
   "source": [
    "df[df['year']==2019].sum()"
   ]
  },
  {
   "cell_type": "code",
   "execution_count": 31,
   "id": "231844b4",
   "metadata": {},
   "outputs": [],
   "source": [
    "notele_13 = df[(df['year']==2013)&(df['tele']==0)].fips.values.tolist()\n",
    "notele_14 = df[(df['year']==2014)&(df['tele']==0)].fips.values.tolist()"
   ]
  },
  {
   "cell_type": "code",
   "execution_count": 35,
   "id": "f51fc29b",
   "metadata": {},
   "outputs": [
    {
     "data": {
      "text/plain": [
       "(615, 566)"
      ]
     },
     "execution_count": 35,
     "metadata": {},
     "output_type": "execute_result"
    }
   ],
   "source": [
    "len(notele_13), len(notele_14)"
   ]
  },
  {
   "cell_type": "code",
   "execution_count": 36,
   "id": "f1fff13d",
   "metadata": {},
   "outputs": [
    {
     "data": {
      "text/html": [
       "<div>\n",
       "<style scoped>\n",
       "    .dataframe tbody tr th:only-of-type {\n",
       "        vertical-align: middle;\n",
       "    }\n",
       "\n",
       "    .dataframe tbody tr th {\n",
       "        vertical-align: top;\n",
       "    }\n",
       "\n",
       "    .dataframe thead th {\n",
       "        text-align: right;\n",
       "    }\n",
       "</style>\n",
       "<table border=\"1\" class=\"dataframe\">\n",
       "  <thead>\n",
       "    <tr style=\"text-align: right;\">\n",
       "      <th></th>\n",
       "      <th>fips</th>\n",
       "      <th>year</th>\n",
       "      <th>tele</th>\n",
       "    </tr>\n",
       "  </thead>\n",
       "  <tbody>\n",
       "    <tr>\n",
       "      <th>2</th>\n",
       "      <td>1003</td>\n",
       "      <td>2015</td>\n",
       "      <td>1</td>\n",
       "    </tr>\n",
       "    <tr>\n",
       "      <th>23</th>\n",
       "      <td>1025</td>\n",
       "      <td>2015</td>\n",
       "      <td>1</td>\n",
       "    </tr>\n",
       "    <tr>\n",
       "      <th>37</th>\n",
       "      <td>1043</td>\n",
       "      <td>2015</td>\n",
       "      <td>1</td>\n",
       "    </tr>\n",
       "    <tr>\n",
       "      <th>79</th>\n",
       "      <td>1097</td>\n",
       "      <td>2015</td>\n",
       "      <td>1</td>\n",
       "    </tr>\n",
       "    <tr>\n",
       "      <th>114</th>\n",
       "      <td>4001</td>\n",
       "      <td>2015</td>\n",
       "      <td>1</td>\n",
       "    </tr>\n",
       "    <tr>\n",
       "      <th>...</th>\n",
       "      <td>...</td>\n",
       "      <td>...</td>\n",
       "      <td>...</td>\n",
       "    </tr>\n",
       "    <tr>\n",
       "      <th>5490</th>\n",
       "      <td>55087</td>\n",
       "      <td>2015</td>\n",
       "      <td>1</td>\n",
       "    </tr>\n",
       "    <tr>\n",
       "      <th>5497</th>\n",
       "      <td>55089</td>\n",
       "      <td>2015</td>\n",
       "      <td>1</td>\n",
       "    </tr>\n",
       "    <tr>\n",
       "      <th>5553</th>\n",
       "      <td>55113</td>\n",
       "      <td>2015</td>\n",
       "      <td>1</td>\n",
       "    </tr>\n",
       "    <tr>\n",
       "      <th>5609</th>\n",
       "      <td>55133</td>\n",
       "      <td>2015</td>\n",
       "      <td>1</td>\n",
       "    </tr>\n",
       "    <tr>\n",
       "      <th>5616</th>\n",
       "      <td>55139</td>\n",
       "      <td>2015</td>\n",
       "      <td>1</td>\n",
       "    </tr>\n",
       "  </tbody>\n",
       "</table>\n",
       "<p>177 rows × 3 columns</p>\n",
       "</div>"
      ],
      "text/plain": [
       "       fips  year  tele\n",
       "2      1003  2015     1\n",
       "23     1025  2015     1\n",
       "37     1043  2015     1\n",
       "79     1097  2015     1\n",
       "114    4001  2015     1\n",
       "...     ...   ...   ...\n",
       "5490  55087  2015     1\n",
       "5497  55089  2015     1\n",
       "5553  55113  2015     1\n",
       "5609  55133  2015     1\n",
       "5616  55139  2015     1\n",
       "\n",
       "[177 rows x 3 columns]"
      ]
     },
     "execution_count": 36,
     "metadata": {},
     "output_type": "execute_result"
    }
   ],
   "source": [
    "df[(df['year']==2015)&(df['fips'].isin(notele_13+notele_14))&(df['tele']==1)]"
   ]
  },
  {
   "cell_type": "code",
   "execution_count": 16,
   "id": "bb66ed9c",
   "metadata": {},
   "outputs": [],
   "source": [
    "temp_df = df[df['tele']==1].groupby(['fips']).min().reset_index(level=[0])\n",
    "tg_list = temp_df[temp_df['year']==2015].fips.values.tolist()"
   ]
  },
  {
   "cell_type": "code",
   "execution_count": 28,
   "id": "a58f5355",
   "metadata": {},
   "outputs": [],
   "source": [
    "temp_df = df[df['tele']==1].groupby(['fips']).min().reset_index(level=[0])\n",
    "tg_list = temp_df[temp_df['year']==2014].fips.values.tolist()"
   ]
  },
  {
   "cell_type": "code",
   "execution_count": 29,
   "id": "bc815e28",
   "metadata": {
    "scrolled": true
   },
   "outputs": [
    {
     "data": {
      "text/html": [
       "<div>\n",
       "<style scoped>\n",
       "    .dataframe tbody tr th:only-of-type {\n",
       "        vertical-align: middle;\n",
       "    }\n",
       "\n",
       "    .dataframe tbody tr th {\n",
       "        vertical-align: top;\n",
       "    }\n",
       "\n",
       "    .dataframe thead th {\n",
       "        text-align: right;\n",
       "    }\n",
       "</style>\n",
       "<table border=\"1\" class=\"dataframe\">\n",
       "  <thead>\n",
       "    <tr style=\"text-align: right;\">\n",
       "      <th></th>\n",
       "      <th>fips</th>\n",
       "      <th>year</th>\n",
       "      <th>tele</th>\n",
       "    </tr>\n",
       "  </thead>\n",
       "  <tbody>\n",
       "    <tr>\n",
       "      <th>0</th>\n",
       "      <td>1003</td>\n",
       "      <td>2015</td>\n",
       "      <td>1</td>\n",
       "    </tr>\n",
       "    <tr>\n",
       "      <th>1</th>\n",
       "      <td>1005</td>\n",
       "      <td>2014</td>\n",
       "      <td>1</td>\n",
       "    </tr>\n",
       "    <tr>\n",
       "      <th>2</th>\n",
       "      <td>1021</td>\n",
       "      <td>2013</td>\n",
       "      <td>1</td>\n",
       "    </tr>\n",
       "    <tr>\n",
       "      <th>3</th>\n",
       "      <td>1025</td>\n",
       "      <td>2015</td>\n",
       "      <td>1</td>\n",
       "    </tr>\n",
       "    <tr>\n",
       "      <th>4</th>\n",
       "      <td>1039</td>\n",
       "      <td>2017</td>\n",
       "      <td>1</td>\n",
       "    </tr>\n",
       "    <tr>\n",
       "      <th>...</th>\n",
       "      <td>...</td>\n",
       "      <td>...</td>\n",
       "      <td>...</td>\n",
       "    </tr>\n",
       "    <tr>\n",
       "      <th>808</th>\n",
       "      <td>56025</td>\n",
       "      <td>2013</td>\n",
       "      <td>1</td>\n",
       "    </tr>\n",
       "    <tr>\n",
       "      <th>809</th>\n",
       "      <td>56029</td>\n",
       "      <td>2019</td>\n",
       "      <td>1</td>\n",
       "    </tr>\n",
       "    <tr>\n",
       "      <th>810</th>\n",
       "      <td>56037</td>\n",
       "      <td>2014</td>\n",
       "      <td>1</td>\n",
       "    </tr>\n",
       "    <tr>\n",
       "      <th>811</th>\n",
       "      <td>56041</td>\n",
       "      <td>2013</td>\n",
       "      <td>1</td>\n",
       "    </tr>\n",
       "    <tr>\n",
       "      <th>812</th>\n",
       "      <td>56043</td>\n",
       "      <td>2019</td>\n",
       "      <td>1</td>\n",
       "    </tr>\n",
       "  </tbody>\n",
       "</table>\n",
       "<p>813 rows × 3 columns</p>\n",
       "</div>"
      ],
      "text/plain": [
       "      fips  year  tele\n",
       "0     1003  2015     1\n",
       "1     1005  2014     1\n",
       "2     1021  2013     1\n",
       "3     1025  2015     1\n",
       "4     1039  2017     1\n",
       "..     ...   ...   ...\n",
       "808  56025  2013     1\n",
       "809  56029  2019     1\n",
       "810  56037  2014     1\n",
       "811  56041  2013     1\n",
       "812  56043  2019     1\n",
       "\n",
       "[813 rows x 3 columns]"
      ]
     },
     "execution_count": 29,
     "metadata": {},
     "output_type": "execute_result"
    }
   ],
   "source": [
    "temp_df"
   ]
  },
  {
   "cell_type": "code",
   "execution_count": 27,
   "id": "4376adf9",
   "metadata": {},
   "outputs": [
    {
     "data": {
      "text/plain": [
       "92"
      ]
     },
     "execution_count": 27,
     "metadata": {},
     "output_type": "execute_result"
    }
   ],
   "source": [
    "len(tg_list)"
   ]
  },
  {
   "cell_type": "code",
   "execution_count": null,
   "id": "d4d09bf7",
   "metadata": {},
   "outputs": [],
   "source": []
  },
  {
   "cell_type": "code",
   "execution_count": null,
   "id": "28ac0045",
   "metadata": {},
   "outputs": [],
   "source": []
  },
  {
   "cell_type": "code",
   "execution_count": null,
   "id": "18e12e47",
   "metadata": {},
   "outputs": [],
   "source": []
  },
  {
   "cell_type": "code",
   "execution_count": null,
   "id": "9fcb14ac",
   "metadata": {},
   "outputs": [],
   "source": []
  },
  {
   "cell_type": "code",
   "execution_count": null,
   "id": "e4627c8a",
   "metadata": {},
   "outputs": [],
   "source": []
  },
  {
   "cell_type": "code",
   "execution_count": null,
   "id": "0debc568",
   "metadata": {},
   "outputs": [],
   "source": []
  },
  {
   "cell_type": "code",
   "execution_count": 17,
   "id": "308ae31f",
   "metadata": {},
   "outputs": [],
   "source": [
    "tele_df_2013_2014 = tele_df[tele_df['year']<=2014]\n",
    "tele_df_not_2013_2014 = tele_df[tele_df['year']>2014]"
   ]
  },
  {
   "cell_type": "code",
   "execution_count": 18,
   "id": "56b50c79",
   "metadata": {
    "scrolled": true
   },
   "outputs": [],
   "source": [
    "# These counties didn't do telehealth in 2013, 2014 but started later\n",
    "tele_start_2015 = list(set(tele_df_2013_2014.county.values.tolist())-set(tele_df_not_2013_2014.county.values.tolist()))"
   ]
  },
  {
   "cell_type": "code",
   "execution_count": 106,
   "id": "fefcdb4d",
   "metadata": {
    "scrolled": true
   },
   "outputs": [
    {
     "name": "stdout",
     "output_type": "stream",
     "text": [
      "38\n"
     ]
    },
    {
     "data": {
      "text/plain": [
       "25"
      ]
     },
     "execution_count": 106,
     "metadata": {},
     "output_type": "execute_result"
    }
   ],
   "source": [
    "print(len(tele_start_2015))\n",
    "tele_start_2015_state = set(amb_df[amb_df['fips'].isin(tele_start_2015)][['fips','state','county']].drop_duplicates().state)\n",
    "len(amb_df[amb_df['fips'].isin(tele_start_2015)][['fips','state','county']].drop_duplicates().state.value_counts())"
   ]
  },
  {
   "cell_type": "markdown",
   "id": "e7947169",
   "metadata": {},
   "source": [
    "- nonemergency 는 +0.17 (TG), +0.07 (CG)\n",
    "- emergency 는 -0.21 (TG), +0.08 (CG)"
   ]
  },
  {
   "cell_type": "code",
   "execution_count": 104,
   "id": "9d9285dc",
   "metadata": {
    "scrolled": true
   },
   "outputs": [
    {
     "data": {
      "text/plain": [
       "0.17131459033979812"
      ]
     },
     "execution_count": 104,
     "metadata": {},
     "output_type": "execute_result"
    }
   ],
   "source": [
    "amb_df[(amb_df['fips'].isin(tele_start_2015))&(amb_df['year']==2018)].pct_users_nonemeramb.mean()-\\\n",
    "amb_df[(amb_df['fips'].isin(tele_start_2015))&(amb_df['year']==2015)].pct_users_nonemeramb.mean()"
   ]
  },
  {
   "cell_type": "code",
   "execution_count": 105,
   "id": "b2f9edd3",
   "metadata": {
    "scrolled": false
   },
   "outputs": [
    {
     "data": {
      "text/plain": [
       "0.07709606079957121"
      ]
     },
     "execution_count": 105,
     "metadata": {},
     "output_type": "execute_result"
    }
   ],
   "source": [
    "amb_df[(~amb_df['fips'].isin(tele_start_2015))&(amb_df['year']==2018)&(amb_df['state'].isin(tele_start_2015_state))].pct_users_nonemeramb.mean()-\\\n",
    "amb_df[(~amb_df['fips'].isin(tele_start_2015))&(amb_df['year']==2015)&(amb_df['state'].isin(tele_start_2015_state))].pct_users_nonemeramb.mean()"
   ]
  },
  {
   "cell_type": "markdown",
   "id": "77edb2ef",
   "metadata": {},
   "source": [
    "##### 2. Counties that started telehealth >=2016"
   ]
  },
  {
   "cell_type": "code",
   "execution_count": 22,
   "id": "2c0210ea",
   "metadata": {},
   "outputs": [],
   "source": [
    "tele_df_2013_2014_2015 = tele_df[tele_df['year']<=2015]\n",
    "tele_df_not_2013_2014_2015 = tele_df[tele_df['year']>2015]"
   ]
  },
  {
   "cell_type": "code",
   "execution_count": 23,
   "id": "f7b4d6c2",
   "metadata": {
    "scrolled": true
   },
   "outputs": [],
   "source": [
    "# These counties didn't do telehealth in 2013, 2014 but started later\n",
    "tele_start_2016 = list(set(tele_df_2013_2014_2015.county.values.tolist())-set(tele_df_not_2013_2014_2015.county.values.tolist()))"
   ]
  },
  {
   "cell_type": "code",
   "execution_count": 107,
   "id": "3554694a",
   "metadata": {
    "scrolled": true
   },
   "outputs": [
    {
     "name": "stdout",
     "output_type": "stream",
     "text": [
      "66\n"
     ]
    },
    {
     "data": {
      "text/plain": [
       "31"
      ]
     },
     "execution_count": 107,
     "metadata": {},
     "output_type": "execute_result"
    }
   ],
   "source": [
    "print(len(tele_start_2016))\n",
    "tele_start_2016_state = set(amb_df[amb_df['fips'].isin(tele_start_2016)][['fips','state','county']].drop_duplicates().state)\n",
    "len(amb_df[amb_df['fips'].isin(tele_start_2016)][['fips','state','county']].drop_duplicates().state.value_counts())"
   ]
  },
  {
   "cell_type": "markdown",
   "id": "b8c5901b",
   "metadata": {},
   "source": [
    "- nonemergency 는 +0.17 (TG), +0.08 (CG)\n",
    "- emergency 는 -0.09 (TG), +0.15 (CG)"
   ]
  },
  {
   "cell_type": "code",
   "execution_count": 110,
   "id": "04f90c82",
   "metadata": {
    "scrolled": true
   },
   "outputs": [
    {
     "data": {
      "text/plain": [
       "-0.09102865692582718"
      ]
     },
     "execution_count": 110,
     "metadata": {},
     "output_type": "execute_result"
    }
   ],
   "source": [
    "amb_df[(amb_df['fips'].isin(tele_start_2016))&(amb_df['year']==2018)].pct_users_emeramb.mean()-\\\n",
    "amb_df[(amb_df['fips'].isin(tele_start_2016))&(amb_df['year']==2015)].pct_users_emeramb.mean()"
   ]
  },
  {
   "cell_type": "code",
   "execution_count": 111,
   "id": "9fe41136",
   "metadata": {
    "scrolled": false
   },
   "outputs": [
    {
     "data": {
      "text/plain": [
       "0.1597661502807295"
      ]
     },
     "execution_count": 111,
     "metadata": {},
     "output_type": "execute_result"
    }
   ],
   "source": [
    "amb_df[(~amb_df['fips'].isin(tele_start_2016))&(amb_df['year']==2018)&(amb_df['state'].isin(tele_start_2016_state))].pct_users_emeramb.mean()-\\\n",
    "amb_df[(~amb_df['fips'].isin(tele_start_2016))&(amb_df['year']==2015)&(amb_df['state'].isin(tele_start_2016_state))].pct_users_emeramb.mean()"
   ]
  }
 ],
 "metadata": {
  "kernelspec": {
   "display_name": "Python 3 (ipykernel)",
   "language": "python",
   "name": "python3"
  },
  "language_info": {
   "codemirror_mode": {
    "name": "ipython",
    "version": 3
   },
   "file_extension": ".py",
   "mimetype": "text/x-python",
   "name": "python",
   "nbconvert_exporter": "python",
   "pygments_lexer": "ipython3",
   "version": "3.9.7"
  }
 },
 "nbformat": 4,
 "nbformat_minor": 5
}
