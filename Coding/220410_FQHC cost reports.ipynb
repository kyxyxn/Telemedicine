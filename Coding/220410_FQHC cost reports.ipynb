{
 "cells": [
  {
   "cell_type": "markdown",
   "id": "c8ba2173",
   "metadata": {},
   "source": [
    "### Open data"
   ]
  },
  {
   "cell_type": "code",
   "execution_count": 1,
   "id": "61900ffd",
   "metadata": {},
   "outputs": [],
   "source": [
    "%load_ext autotime\n",
    "\n",
    "import numpy as np\n",
    "import pandas as pd\n",
    "from functools import reduce"
   ]
  },
  {
   "cell_type": "markdown",
   "id": "b856868a",
   "metadata": {},
   "source": [
    "Uncomment below if you want to clean the data again."
   ]
  },
  {
   "cell_type": "code",
   "execution_count": 2,
   "id": "a8d16b37",
   "metadata": {
    "scrolled": true
   },
   "outputs": [
    {
     "name": "stdout",
     "output_type": "stream",
     "text": [
      "time: 3.52 s\n"
     ]
    }
   ],
   "source": [
    "# # open and merge files\n",
    "# def clean_alpha_files(filenames):\n",
    "#     new_df = pd.DataFrame()\n",
    "#     for i in range(len(filenames)):\n",
    "#         year = filenames[i].split('/')[-1].split('_')[1]\n",
    "#         temp_df = pd.read_csv(filenames[i],\n",
    "#                              names=['rpt_rec_num','wksht_cd','line_num','clmn_num','alphnmrc_itm_txt'])\n",
    "#         temp_df['year'] = year\n",
    "#         temp_df['rpt_rec_num_year'] = [str(temp_df['rpt_rec_num'][i]) + \"_\" + str(temp_df['year'][i]) for i in range(len(temp_df))]\n",
    "#         new_df = new_df.append(temp_df)\n",
    "#     new_df = new_df.reset_index(drop=True)    \n",
    "#     return new_df\n",
    "\n",
    "# def clean_nmrc_files(filenames):\n",
    "#     new_df = pd.DataFrame()\n",
    "#     for i in range(len(filenames)):\n",
    "#         year = filenames[i].split('/')[-1].split('_')[1]\n",
    "#         temp_df = pd.read_csv(filenames[i],\n",
    "#                              names=['rpt_rec_num','wksht_cd','line_num','clmn_num','itm_val_num'])\n",
    "#         temp_df['year'] = year\n",
    "#         temp_df['rpt_rec_num_year'] = [str(temp_df['rpt_rec_num'][i]) + \"_\" + str(temp_df['year'][i]) for i in range(len(temp_df))]\n",
    "#         new_df = new_df.append(temp_df)\n",
    "#     new_df = new_df.reset_index(drop=True)    \n",
    "#     return new_df\n",
    "\n",
    "# def clean_rpt_files(filenames):\n",
    "#     new_df = pd.DataFrame()\n",
    "#     for i in range(len(filenames)):\n",
    "#         year = filenames[i].split('/')[-1].split('_')[1]\n",
    "#         temp_df = pd.read_csv(filenames[i],\n",
    "#                               names=['rpt_rec_num', 'prvdr_ctrl_type_cd', 'prvdr_num', 'npi', 'rpt_stus_cd', \n",
    "#                                     'fy_bgn_dt', 'fy_end_dt', 'proc_dt', 'initl_rpt_sw', 'last_rpt_sw',\n",
    "#                                     'trnsmtl_num', 'fi_num', 'adr_vndr_cd', 'fi_creat_dt', 'util_cd', 'npr_dt', \n",
    "#                                     'spec_ind', 'fi_rcpt_dt'])\n",
    "#         temp_df['year'] = year\n",
    "#         temp_df['rpt_rec_num_year'] = [str(temp_df['rpt_rec_num'][i]) + \"_\" + str(temp_df['year'][i]) for i in range(len(temp_df))]\n",
    "#         new_df = new_df.append(temp_df)\n",
    "        \n",
    "#     new_df = new_df.reset_index(drop=True)    \n",
    "#     return new_df\n",
    "\n",
    "# filenames=['/Users/krhee/Dropbox (ASU)/Coding/RA_Coding/Cost_Reports/FQHC/FQHC14-ALL-YEARS/FQHC14_2016_ALPHA.CSV',\n",
    "#            '/Users/krhee/Dropbox (ASU)/Coding/RA_Coding/Cost_Reports/FQHC/FQHC14-ALL-YEARS/FQHC14_2017_ALPHA.CSV',\n",
    "#            '/Users/krhee/Dropbox (ASU)/Coding/RA_Coding/Cost_Reports/FQHC/FQHC14-ALL-YEARS/FQHC14_2018_ALPHA.CSV',\n",
    "#           '/Users/krhee/Dropbox (ASU)/Coding/RA_Coding/Cost_Reports/FQHC/FQHC14-ALL-YEARS/FQHC14_2019_ALPHA.CSV',\n",
    "#           '/Users/krhee/Dropbox (ASU)/Coding/RA_Coding/Cost_Reports/FQHC/FQHC14-ALL-YEARS/FQHC14_2020_ALPHA.CSV',]\n",
    "# alpha_df = clean_alpha_files(filenames)\n",
    "\n",
    "# filenames=['/Users/krhee/Dropbox (ASU)/Coding/RA_Coding/Cost_Reports/FQHC/FQHC14-ALL-YEARS/FQHC14_2016_NMRC.CSV',\n",
    "#            '/Users/krhee/Dropbox (ASU)/Coding/RA_Coding/Cost_Reports/FQHC/FQHC14-ALL-YEARS/FQHC14_2017_NMRC.CSV',\n",
    "#            '/Users/krhee/Dropbox (ASU)/Coding/RA_Coding/Cost_Reports/FQHC/FQHC14-ALL-YEARS/FQHC14_2018_NMRC.CSV',\n",
    "#           '/Users/krhee/Dropbox (ASU)/Coding/RA_Coding/Cost_Reports/FQHC/FQHC14-ALL-YEARS/FQHC14_2019_NMRC.CSV',\n",
    "#           '/Users/krhee/Dropbox (ASU)/Coding/RA_Coding/Cost_Reports/FQHC/FQHC14-ALL-YEARS/FQHC14_2020_NMRC.CSV',]\n",
    "# nmrc_df = clean_nmrc_files(filenames)\n",
    "\n",
    "# filenames=['/Users/krhee/Dropbox (ASU)/Coding/RA_Coding/Cost_Reports/FQHC/FQHC14-ALL-YEARS/FQHC14_2016_RPT.CSV',\n",
    "#            '/Users/krhee/Dropbox (ASU)/Coding/RA_Coding/Cost_Reports/FQHC/FQHC14-ALL-YEARS/FQHC14_2017_RPT.CSV',\n",
    "#            '/Users/krhee/Dropbox (ASU)/Coding/RA_Coding/Cost_Reports/FQHC/FQHC14-ALL-YEARS/FQHC14_2018_RPT.CSV',\n",
    "#           '/Users/krhee/Dropbox (ASU)/Coding/RA_Coding/Cost_Reports/FQHC/FQHC14-ALL-YEARS/FQHC14_2019_RPT.CSV',\n",
    "#           '/Users/krhee/Dropbox (ASU)/Coding/RA_Coding/Cost_Reports/FQHC/FQHC14-ALL-YEARS/FQHC14_2020_RPT.CSV',]\n",
    "# rpt_df = clean_rpt_files(filenames)\n",
    "\n",
    "# alpha_df['wksht_cd_1'] = [str(i)[0] for i in alpha_df['wksht_cd']]\n",
    "# nmrc_df['wksht_cd_1'] = [str(i)[0] for i in nmrc_df['wksht_cd']]\n",
    "\n",
    "# Provider DF\n",
    "# provider_df = pd.read_csv(r'/Users/krhee/Dropbox (ASU)/Coding/RA_Coding/Cost_Reports/FQHC/FQHC14-REPORTS/FQHC14_PRVDR_ID_INFO.CSV')\n",
    "provider_df = pd.read_csv(r'/Users/krhee/Dropbox (ASU)/Coding/RA_Coding/Cost_Reports/FQHC/FQHC14-REPORTS/my_FQHC14_PRVDR_ID_INFO.csv')\n",
    "provider_df.columns = [i.lower() for i in provider_df.columns]                 \n",
    "provider_df.loc[:,'zip']=provider_df.loc[:,'zip'].astype(str)\n",
    "provider_df['zip'] = [i.split('-')[0] for i in provider_df['zip']]\n",
    "provider_df['zip_5'] = [i[:5] for i in provider_df['zip']]\n",
    "provider_df = provider_df[provider_df['zip_5']!='nan'].reset_index(drop=True)\n",
    "provider_df.loc[:,'zip_5']=provider_df.loc[:,'zip_5'].astype(int)\n",
    "\n",
    "provider_df = provider_df[~provider_df['state'].isin(['AK', 'AS', 'FM', 'GA', 'MH', 'MP', 'PR', 'PW', 'VI'])].reset_index(drop=True)\n",
    "\n",
    "# # Save data files\n",
    "# alpha_df.to_csv(r'fqhc_alpha_2016_2020.csv', index=False)\n",
    "# nmrc_df.to_csv(r'fqhc_nmrc_2016_2020.csv', index=False)\n",
    "# rpt_df.to_csv(r'fqhc_rpt_2016_2020.csv', index=False)\n",
    "\n",
    "# # Open data files\n",
    "alpha_df = pd.read_csv(r'/Users/krhee/Dropbox (ASU)/Coding/RA_Coding/Cost_Reports/FQHC/fqhc_alpha_2016_2020.csv')\n",
    "nmrc_df = pd.read_csv(r'/Users/krhee/Dropbox (ASU)/Coding/RA_Coding/Cost_Reports/FQHC/fqhc_nmrc_2016_2020.csv')\n",
    "rpt_df = pd.read_csv(r'/Users/krhee/Dropbox (ASU)/Coding/RA_Coding/Cost_Reports/FQHC/fqhc_rpt_2016_2020.csv')\n"
   ]
  },
  {
   "cell_type": "code",
   "execution_count": 3,
   "id": "61ea5c93",
   "metadata": {},
   "outputs": [
    {
     "name": "stdout",
     "output_type": "stream",
     "text": [
      "time: 328 ms\n"
     ]
    }
   ],
   "source": [
    "alpha_df_copy = alpha_df.copy()\n",
    "nmrc_df_copy = nmrc_df.copy()\n",
    "rpt_df_copy = rpt_df.copy()\n",
    "provider_df_copy = provider_df.copy()"
   ]
  },
  {
   "cell_type": "markdown",
   "id": "20b07fad",
   "metadata": {},
   "source": [
    "#### Find way to link UDS tele & cost report"
   ]
  },
  {
   "cell_type": "code",
   "execution_count": 8,
   "id": "5edee023",
   "metadata": {},
   "outputs": [
    {
     "name": "stdout",
     "output_type": "stream",
     "text": [
      "time: 60.7 ms\n"
     ]
    }
   ],
   "source": [
    "tele_df = pd.read_csv(r'/Users/krhee/Dropbox (ASU)/Coding/RA_Coding/HRSA_UDS/220409_tele_hc_df.csv')\n",
    "tele_df['zip_3'] = [str(i)[:3] for i in tele_df['zip_code']]\n",
    "toy_tele_df = tele_df[['bhcmisid','year','zip_code','zip_3','health_center_state','hc_name','hc_address','city']].drop_duplicates().reset_index(drop=True)\n",
    "provider_df['zip_3'] = [str(i)[:3] for i in provider_df['zip_5']]"
   ]
  },
  {
   "cell_type": "code",
   "execution_count": 13,
   "id": "0812d842",
   "metadata": {
    "scrolled": true
   },
   "outputs": [
    {
     "name": "stdout",
     "output_type": "stream",
     "text": [
      "<class 'pandas.core.frame.DataFrame'>\n",
      "RangeIndex: 41836 entries, 0 to 41835\n",
      "Data columns (total 20 columns):\n",
      " #   Column            Non-Null Count  Dtype  \n",
      "---  ------            --------------  -----  \n",
      " 0   bhcmisid          41836 non-null  object \n",
      " 1   year              41836 non-null  int64  \n",
      " 2   zip_code          41836 non-null  float64\n",
      " 3   zip_3             41836 non-null  object \n",
      " 4   state             41836 non-null  object \n",
      " 5   hc_name_tele      41836 non-null  object \n",
      " 6   hc_address_tele   41836 non-null  object \n",
      " 7   city_tele         41836 non-null  object \n",
      " 8   rpt_rec_num_year  41836 non-null  object \n",
      " 9   fqhc14_name_cr    41836 non-null  object \n",
      " 10  ccn               41836 non-null  float64\n",
      " 11  cbsa              29797 non-null  float64\n",
      " 12  ctrl              39734 non-null  float64\n",
      " 13  street_addr_cr    41836 non-null  object \n",
      " 14  city_cr           41834 non-null  object \n",
      " 15  zip               41836 non-null  object \n",
      " 16  cnty              41716 non-null  object \n",
      " 17  rural             29797 non-null  object \n",
      " 18  prvdr_num         41836 non-null  float64\n",
      " 19  zip_5             41836 non-null  float64\n",
      "dtypes: float64(6), int64(1), object(13)\n",
      "memory usage: 6.4+ MB\n",
      "time: 126 ms\n"
     ]
    }
   ],
   "source": [
    "temp_df = pd.merge(toy_tele_df.rename(columns={'health_center_state':'state',\n",
    "                                              'hc_name':'hc_name_tele','hc_address':'hc_address_tele','city':'city_tele'}), \n",
    "                   provider_df.rename(columns={'name':'fqhc14_name_cr','addr':'street_addr_cr','city':'city_cr'}), \n",
    "                   on=['state','zip_3','year'], how='outer')\n",
    "temp_df = temp_df[~temp_df['prvdr_num'].isna()].reset_index(drop=True)\n",
    "temp_df = temp_df[~temp_df['bhcmisid'].isna()].reset_index(drop=True)\n",
    "temp_df.info()"
   ]
  },
  {
   "cell_type": "code",
   "execution_count": 20,
   "id": "e93739fb",
   "metadata": {
    "scrolled": true
   },
   "outputs": [
    {
     "name": "stdout",
     "output_type": "stream",
     "text": [
      "time: 255 ms\n"
     ]
    }
   ],
   "source": [
    "del_df = temp_df[['bhcmisid','year','prvdr_num','hc_name_tele','fqhc14_name_cr','hc_address_tele','street_addr_cr']].drop_duplicates().reset_index(drop=True)\n",
    "del_df['hc_name_tele'] = [(((i.lower()).replace(\",\",\"\")).replace(\" \",\"\")).replace(\".\",\"\") for i in del_df['hc_name_tele']]\n",
    "del_df['fqhc14_name_cr'] = [(((i.lower()).replace(\",\",\"\")).replace(\" \",\"\")).replace(\".\",\"\") for i in del_df['fqhc14_name_cr']]\n",
    "del_df['hc_address_tele'] = [(((i.lower()).replace(\",\",\"\")).replace(\" \",\"\")).replace(\".\",\"\") for i in del_df['hc_address_tele']]\n",
    "del_df['street_addr_cr'] = [(((i.lower()).replace(\",\",\"\")).replace(\" \",\"\")).replace(\".\",\"\") for i in del_df['street_addr_cr']]\n",
    "# 어느 정도 정확한 애들만 갖고 하기\n",
    "del_df['hc_name_tele_3'] = [i[:3] for i in del_df['hc_name_tele']]\n",
    "del_df['fqhc14_name_cr_3'] = [i[:3] for i in del_df['fqhc14_name_cr']]\n",
    "del_df['hc_address_tele_3'] = [i[:3] for i in del_df['hc_address_tele']]\n",
    "del_df['street_addr_cr_3'] = [i[:3] for i in del_df['street_addr_cr']]\n",
    "del_df = del_df[~((del_df['hc_name_tele_3']!=del_df['fqhc14_name_cr_3'])&(del_df['hc_address_tele_3']!=del_df['street_addr_cr_3']))].reset_index(drop=True)"
   ]
  },
  {
   "cell_type": "code",
   "execution_count": 21,
   "id": "f826d779",
   "metadata": {
    "scrolled": true
   },
   "outputs": [
    {
     "name": "stdout",
     "output_type": "stream",
     "text": [
      "time: 26.8 ms\n"
     ]
    }
   ],
   "source": [
    "new_df = pd.merge(del_df[['bhcmisid','prvdr_num','year']], temp_df, on=['bhcmisid','prvdr_num','year'])"
   ]
  },
  {
   "cell_type": "code",
   "execution_count": 24,
   "id": "33f1800b",
   "metadata": {},
   "outputs": [
    {
     "name": "stdout",
     "output_type": "stream",
     "text": [
      "time: 5.69 ms\n"
     ]
    }
   ],
   "source": [
    "bhcmisid_prvdr_num_df = new_df.copy()"
   ]
  },
  {
   "cell_type": "markdown",
   "id": "bd7922cc",
   "metadata": {},
   "source": [
    "#### provider 들에 대한 health center 정보 찾기"
   ]
  },
  {
   "cell_type": "code",
   "execution_count": 25,
   "id": "0e2432ac",
   "metadata": {},
   "outputs": [
    {
     "name": "stderr",
     "output_type": "stream",
     "text": [
      "/var/folders/ff/7xvchf4558v3w_jjs11bdwlw0000gp/T/ipykernel_49818/2619250093.py:9: FutureWarning: The frame.append method is deprecated and will be removed from pandas in a future version. Use pandas.concat instead.\n",
      "  new_df = new_df.append(temp_df)\n",
      "/var/folders/ff/7xvchf4558v3w_jjs11bdwlw0000gp/T/ipykernel_49818/2619250093.py:9: FutureWarning: The frame.append method is deprecated and will be removed from pandas in a future version. Use pandas.concat instead.\n",
      "  new_df = new_df.append(temp_df)\n",
      "/var/folders/ff/7xvchf4558v3w_jjs11bdwlw0000gp/T/ipykernel_49818/2619250093.py:9: FutureWarning: The frame.append method is deprecated and will be removed from pandas in a future version. Use pandas.concat instead.\n",
      "  new_df = new_df.append(temp_df)\n",
      "/var/folders/ff/7xvchf4558v3w_jjs11bdwlw0000gp/T/ipykernel_49818/2619250093.py:9: FutureWarning: The frame.append method is deprecated and will be removed from pandas in a future version. Use pandas.concat instead.\n",
      "  new_df = new_df.append(temp_df)\n"
     ]
    },
    {
     "name": "stdout",
     "output_type": "stream",
     "text": [
      "time: 8.33 s\n"
     ]
    },
    {
     "name": "stderr",
     "output_type": "stream",
     "text": [
      "/var/folders/ff/7xvchf4558v3w_jjs11bdwlw0000gp/T/ipykernel_49818/2619250093.py:9: FutureWarning: The frame.append method is deprecated and will be removed from pandas in a future version. Use pandas.concat instead.\n",
      "  new_df = new_df.append(temp_df)\n"
     ]
    }
   ],
   "source": [
    "bhcmisid_list = bhcmisid_prvdr_num_df.bhcmisid.values.tolist()\n",
    "\n",
    "def open_file(filenames, sheet_name):\n",
    "    new_df = pd.DataFrame()\n",
    "    for i in range(len(filenames)):\n",
    "        temp_df = pd.read_excel(filenames[i], sheet_name=sheet_name)\n",
    "        year = filenames[i].split('-')[1]\n",
    "        temp_df['year'] = year\n",
    "        new_df = new_df.append(temp_df)\n",
    "    new_df = new_df.reset_index(drop=True)\n",
    "    return new_df\n",
    "\n",
    "filenames = ['/Users/krhee/Dropbox (ASU)/Coding/RA_Coding/HRSA_UDS/UDS-2016-Full-Dataset.xlsx',\n",
    "             '/Users/krhee/Dropbox (ASU)/Coding/RA_Coding/HRSA_UDS/UDS-2017-Full-Dataset.xlsx',\n",
    "             '/Users/krhee/Dropbox (ASU)/Coding/RA_Coding/HRSA_UDS/UDS-2018-Full-Dataset.xlsx',\n",
    "             '/Users/krhee/Dropbox (ASU)/Coding/RA_Coding/HRSA_UDS/UDS-2019-Full-Dataset.xlsx',\n",
    "             '/Users/krhee/Dropbox (ASU)/Coding/RA_Coding/HRSA_UDS/UDS-2020-Full-Dataset.xlsx']\n",
    "             \n",
    "hc_df = open_file(filenames, sheet_name='HealthCenterInfo')\n",
    "hc_df.columns = [i.lower().replace(' ', '_') for i in hc_df.columns]\n",
    "hc_df.columns = [i.replace('.', '') for i in hc_df.columns]\n",
    "hc_df.columns = [i.replace('-', '') for i in hc_df.columns]\n",
    "\n",
    "# health center name\n",
    "hc_df['hc_name'] = [i.replace(\" \", \"\") for i in hc_df['health_center_name']]\n",
    "hc_df['hc_name'] = [i.lower() for i in hc_df['hc_name']]\n",
    "# addresses of health centers\n",
    "hc_df['street_addr'] = [str(i).lower() for i in hc_df['health_center_street_address']]\n",
    "hc_df['city'] = [str(i).lower() for i in hc_df['health_center_city']]\n",
    "hc_df['zip_code'] = [str(i)[:5] for i in hc_df['health_center_zip_code']]\n",
    "hc_df['hc_address'] = [str(hc_df['street_addr'][i])+\", \"+str(hc_df['city'][i])+\", \"+str(hc_df['health_center_state'][i])+\" \"+str(hc_df['zip_code'][i]) for i in range(len(hc_df))]\n",
    "\n",
    "hc_df = hc_df[~hc_df['health_center_state'].isin(['AK', 'AS', 'FM', 'GA', 'MH', 'MP', 'PR', 'PW', 'VI'])].reset_index(drop=True)\n",
    "\n",
    "# filter\n",
    "hc_df = hc_df[hc_df['bhcmis_id'].isin(bhcmisid_list)].reset_index(drop=True)"
   ]
  },
  {
   "cell_type": "code",
   "execution_count": 26,
   "id": "07511099",
   "metadata": {
    "scrolled": false
   },
   "outputs": [
    {
     "name": "stderr",
     "output_type": "stream",
     "text": [
      "/var/folders/ff/7xvchf4558v3w_jjs11bdwlw0000gp/T/ipykernel_49818/3632693663.py:8: FutureWarning: The frame.append method is deprecated and will be removed from pandas in a future version. Use pandas.concat instead.\n",
      "  hc_qoc_df = hc_qoc_df.append(temp_df).reset_index(drop=True)\n",
      "/var/folders/ff/7xvchf4558v3w_jjs11bdwlw0000gp/T/ipykernel_49818/3632693663.py:8: FutureWarning: The frame.append method is deprecated and will be removed from pandas in a future version. Use pandas.concat instead.\n",
      "  hc_qoc_df = hc_qoc_df.append(temp_df).reset_index(drop=True)\n",
      "/var/folders/ff/7xvchf4558v3w_jjs11bdwlw0000gp/T/ipykernel_49818/3632693663.py:8: FutureWarning: The frame.append method is deprecated and will be removed from pandas in a future version. Use pandas.concat instead.\n",
      "  hc_qoc_df = hc_qoc_df.append(temp_df).reset_index(drop=True)\n",
      "/var/folders/ff/7xvchf4558v3w_jjs11bdwlw0000gp/T/ipykernel_49818/3632693663.py:8: FutureWarning: The frame.append method is deprecated and will be removed from pandas in a future version. Use pandas.concat instead.\n",
      "  hc_qoc_df = hc_qoc_df.append(temp_df).reset_index(drop=True)\n"
     ]
    },
    {
     "name": "stdout",
     "output_type": "stream",
     "text": [
      "time: 8.42 s\n"
     ]
    },
    {
     "name": "stderr",
     "output_type": "stream",
     "text": [
      "/var/folders/ff/7xvchf4558v3w_jjs11bdwlw0000gp/T/ipykernel_49818/3632693663.py:8: FutureWarning: The frame.append method is deprecated and will be removed from pandas in a future version. Use pandas.concat instead.\n",
      "  hc_qoc_df = hc_qoc_df.append(temp_df).reset_index(drop=True)\n"
     ]
    }
   ],
   "source": [
    "# Depression quality of care\n",
    "hc_qoc_df = pd.DataFrame()\n",
    "for i in range(len(filenames)):\n",
    "    temp_df = pd.read_excel(filenames[i], sheet_name=\"Table6BClinicalmeasures\", usecols=['BHCMIS ID',\n",
    "                                                                          '% Patients Screened for Depression and Followup Plan Documented as Appropriate'])\n",
    "    year = filenames[i].split('-')[1]\n",
    "    temp_df['year']=year\n",
    "    hc_qoc_df = hc_qoc_df.append(temp_df).reset_index(drop=True)\n",
    "    \n",
    "hc_qoc_df.columns = [i.lower().replace(' ', '_') for i in hc_qoc_df.columns]\n",
    "hc_qoc_df.columns = [i.replace('.', '') for i in hc_qoc_df.columns]\n",
    "hc_qoc_df.columns = [i.replace('-', '') for i in hc_qoc_df.columns]\n",
    "hc_qoc_df = hc_qoc_df[hc_qoc_df['bhcmis_id']!=\"BHCMISID\"].reset_index(drop=True)\n",
    "hc_qoc_df = hc_qoc_df[hc_qoc_df['bhcmis_id'].isin(bhcmisid_list)].reset_index(drop=True)\n",
    "\n",
    "hc_qoc_df.columns = ['bhcmis_id','pct_depression_screened_and_followup','year']\n",
    "\n",
    "hc_qoc_df = hc_qoc_df.replace(to_replace={'-':np.nan},regex=True)"
   ]
  },
  {
   "cell_type": "markdown",
   "id": "5d3572ad",
   "metadata": {},
   "source": [
    "#### Link 가능한 provider number 들에 대한 employee 정보 다 찾기"
   ]
  },
  {
   "cell_type": "code",
   "execution_count": 27,
   "id": "b23575fe",
   "metadata": {
    "scrolled": true
   },
   "outputs": [
    {
     "name": "stdout",
     "output_type": "stream",
     "text": [
      "time: 673 ms\n"
     ]
    }
   ],
   "source": [
    "prvdr_num_list = bhcmisid_prvdr_num_df.prvdr_num.values.tolist()\n",
    "\n",
    "# RPT DF\n",
    "rpt_df = rpt_df[rpt_df['prvdr_num'].isin(prvdr_num_list)].reset_index(drop=True)\n",
    "rpt_rec_num_year_list = sorted(list(set(rpt_df.rpt_rec_num_year.values.tolist())))\n",
    "\n",
    "# NMRC DF\n",
    "nmrc_df = nmrc_df[nmrc_df['rpt_rec_num_year'].isin(rpt_rec_num_year_list)].reset_index(drop=True)\n",
    "\n",
    "# ALPHA DF\n",
    "alpha_df = alpha_df[alpha_df['rpt_rec_num_year'].isin(rpt_rec_num_year_list)].reset_index(drop=True)"
   ]
  },
  {
   "cell_type": "code",
   "execution_count": 28,
   "id": "088f6167",
   "metadata": {
    "scrolled": true
   },
   "outputs": [
    {
     "name": "stdout",
     "output_type": "stream",
     "text": [
      "time: 222 ms\n"
     ]
    }
   ],
   "source": [
    "nmrc_df_s3 = nmrc_df[nmrc_df['wksht_cd']=='S300002'].reset_index(drop=True)\n",
    "physician_df = nmrc_df_s3[nmrc_df_s3['line_num']==1600]\n",
    "physician_df = physician_df[['rpt_rec_num_year','clmn_num','itm_val_num']].pivot(index='rpt_rec_num_year', columns='clmn_num', values='itm_val_num').reset_index(level=[0])\n",
    "physician_df.columns=['rpt_rec_num_year','num_hours','staff_physician','contract_physician','total_physician']\n",
    "physician_df = physician_df.drop(columns=['num_hours'])\n",
    "\n",
    "pa_df = nmrc_df_s3[nmrc_df_s3['line_num']==1700]\n",
    "pa_df = pa_df[['rpt_rec_num_year','clmn_num','itm_val_num']].pivot(index='rpt_rec_num_year', columns='clmn_num', values='itm_val_num').reset_index(level=[0])\n",
    "pa_df.columns=['rpt_rec_num_year','staff_pa','contract_pa','total_pa']\n",
    "\n",
    "np_df = nmrc_df_s3[nmrc_df_s3['line_num']==1800]\n",
    "np_df = np_df[['rpt_rec_num_year','clmn_num','itm_val_num']].pivot(index='rpt_rec_num_year', columns='clmn_num', values='itm_val_num').reset_index(level=[0])\n",
    "np_df.columns=['rpt_rec_num_year','staff_np','contract_np','total_np']\n",
    "\n",
    "psy_df = nmrc_df_s3[nmrc_df_s3['line_num']==2200]\n",
    "psy_df = psy_df[['rpt_rec_num_year','clmn_num','itm_val_num']].pivot(index='rpt_rec_num_year', columns='clmn_num', values='itm_val_num').reset_index(level=[0])\n",
    "psy_df.columns=['rpt_rec_num_year','staff_psy','contract_psy','total_psy']\n",
    "\n",
    "sw_df = nmrc_df_s3[nmrc_df_s3['line_num']==2300]\n",
    "sw_df = sw_df[['rpt_rec_num_year','clmn_num','itm_val_num']].pivot(index='rpt_rec_num_year', columns='clmn_num', values='itm_val_num').reset_index(level=[0])\n",
    "sw_df.columns=['rpt_rec_num_year','staff_sw','contract_sw','total_sw']\n",
    "\n",
    "employee_df = reduce(lambda x,y: pd.merge(x, y, on='rpt_rec_num_year', how='outer'), [physician_df, pa_df, np_df, psy_df, sw_df])\n",
    "employee_df = employee_df.fillna(0)"
   ]
  },
  {
   "cell_type": "markdown",
   "id": "b24534c3",
   "metadata": {},
   "source": [
    "#### Link 가능한 provider number 들에 대한 visit 정보 다 찾기"
   ]
  },
  {
   "cell_type": "code",
   "execution_count": 29,
   "id": "bea1e343",
   "metadata": {
    "scrolled": true
   },
   "outputs": [
    {
     "name": "stdout",
     "output_type": "stream",
     "text": [
      "time: 583 ms\n"
     ]
    }
   ],
   "source": [
    "prvdr_num_list = bhcmisid_prvdr_num_df.prvdr_num.values.tolist()\n",
    "\n",
    "# RPT DF\n",
    "rpt_df = rpt_df[rpt_df['prvdr_num'].isin(prvdr_num_list)].reset_index(drop=True)\n",
    "rpt_rec_num_year_list = sorted(list(set(rpt_df.rpt_rec_num_year.values.tolist())))\n",
    "\n",
    "# NMRC DF\n",
    "nmrc_df = nmrc_df[nmrc_df['rpt_rec_num_year'].isin(rpt_rec_num_year_list)].reset_index(drop=True)\n",
    "\n",
    "# ALPHA DF\n",
    "alpha_df = alpha_df[alpha_df['rpt_rec_num_year'].isin(rpt_rec_num_year_list)].reset_index(drop=True)"
   ]
  },
  {
   "cell_type": "code",
   "execution_count": 30,
   "id": "502e4c76",
   "metadata": {},
   "outputs": [
    {
     "name": "stdout",
     "output_type": "stream",
     "text": [
      "time: 275 ms\n"
     ]
    }
   ],
   "source": [
    "medical_visit_df = nmrc_df[(nmrc_df['wksht_cd']=='S300001')&(nmrc_df['clmn_num']==500)&(nmrc_df['line_num']>=200)&(nmrc_df['line_num']<300)]\n",
    "mental_visit_df = nmrc_df[(nmrc_df['wksht_cd']=='S300001')&(nmrc_df['clmn_num']==500)&(nmrc_df['line_num']>=400)&(nmrc_df['line_num']<500)]\n",
    "\n",
    "medical_visit_df = medical_visit_df[['rpt_rec_num_year','clmn_num','itm_val_num']].pivot(index='rpt_rec_num_year', columns='clmn_num', values='itm_val_num').reset_index(level=[0])\n",
    "medical_visit_df.columns = ['rpt_rec_num_year','total_medical_visits']\n",
    "mental_visit_df = mental_visit_df[['rpt_rec_num_year','clmn_num','itm_val_num']].pivot(index='rpt_rec_num_year', columns='clmn_num', values='itm_val_num').reset_index(level=[0])\n",
    "mental_visit_df.columns = ['rpt_rec_num_year','total_mental_visits']"
   ]
  },
  {
   "cell_type": "markdown",
   "id": "7f60cea5",
   "metadata": {},
   "source": [
    "#### Link 가능한 provider number 들에 대한 telehealth cost 정보 다 찾기"
   ]
  },
  {
   "cell_type": "code",
   "execution_count": 31,
   "id": "91a7b0f5",
   "metadata": {},
   "outputs": [
    {
     "name": "stdout",
     "output_type": "stream",
     "text": [
      "time: 490 ms\n"
     ]
    }
   ],
   "source": [
    "alpha_df = alpha_df_copy.copy()\n",
    "nmrc_df = nmrc_df_copy.copy()\n",
    "rpt_df = rpt_df_copy.copy()\n",
    "provider_df = provider_df_copy.copy()"
   ]
  },
  {
   "cell_type": "code",
   "execution_count": 32,
   "id": "b55776ec",
   "metadata": {
    "scrolled": true
   },
   "outputs": [
    {
     "name": "stdout",
     "output_type": "stream",
     "text": [
      "time: 579 ms\n"
     ]
    }
   ],
   "source": [
    "prvdr_num_list = bhcmisid_prvdr_num_df.prvdr_num.values.tolist()\n",
    "\n",
    "# RPT DF\n",
    "rpt_df = rpt_df[rpt_df['prvdr_num'].isin(prvdr_num_list)].reset_index(drop=True)\n",
    "rpt_rec_num_year_list = sorted(list(set(rpt_df.rpt_rec_num_year.values.tolist())))\n",
    "\n",
    "# NMRC DF\n",
    "nmrc_df = nmrc_df[nmrc_df['rpt_rec_num_year'].isin(rpt_rec_num_year_list)].reset_index(drop=True)\n",
    "\n",
    "# ALPHA DF\n",
    "alpha_df = alpha_df[alpha_df['rpt_rec_num_year'].isin(rpt_rec_num_year_list)].reset_index(drop=True)"
   ]
  },
  {
   "cell_type": "code",
   "execution_count": 33,
   "id": "68e16950",
   "metadata": {
    "scrolled": true
   },
   "outputs": [
    {
     "name": "stdout",
     "output_type": "stream",
     "text": [
      "time: 116 ms\n"
     ]
    }
   ],
   "source": [
    "tele_cost_df = nmrc_df[(nmrc_df['wksht_cd']=='A000000')&(nmrc_df['line_num']==6600)&(nmrc_df['clmn_num']==700)].reset_index(drop=True)\n",
    "\n",
    "tele_cost_df = tele_cost_df[['rpt_rec_num_year','clmn_num','itm_val_num']].pivot(index='rpt_rec_num_year', columns='clmn_num', values='itm_val_num').reset_index(level=[0])\n",
    "tele_cost_df.columns = ['rpt_rec_num_year','telehealth_expense']"
   ]
  },
  {
   "cell_type": "markdown",
   "id": "f3f2265e",
   "metadata": {},
   "source": [
    "#### Link 가능한 provider number 들에 대한 revenue 정보 다 찾기"
   ]
  },
  {
   "cell_type": "code",
   "execution_count": 34,
   "id": "19eb26af",
   "metadata": {},
   "outputs": [
    {
     "name": "stdout",
     "output_type": "stream",
     "text": [
      "time: 126 ms\n"
     ]
    }
   ],
   "source": [
    "alpha_df = alpha_df_copy.copy()\n",
    "nmrc_df = nmrc_df_copy.copy()\n",
    "rpt_df = rpt_df_copy.copy()\n",
    "provider_df = provider_df_copy.copy()"
   ]
  },
  {
   "cell_type": "code",
   "execution_count": 35,
   "id": "4d2f90cd",
   "metadata": {},
   "outputs": [
    {
     "name": "stdout",
     "output_type": "stream",
     "text": [
      "time: 536 ms\n"
     ]
    }
   ],
   "source": [
    "prvdr_num_list = bhcmisid_prvdr_num_df.prvdr_num.values.tolist()\n",
    "\n",
    "# RPT DF\n",
    "rpt_df = rpt_df[rpt_df['prvdr_num'].isin(prvdr_num_list)].reset_index(drop=True)\n",
    "rpt_rec_num_year_list = sorted(list(set(rpt_df.rpt_rec_num_year.values.tolist())))\n",
    "\n",
    "# NMRC DF\n",
    "nmrc_df = nmrc_df[nmrc_df['rpt_rec_num_year'].isin(rpt_rec_num_year_list)].reset_index(drop=True)\n",
    "\n",
    "# ALPHA DF\n",
    "alpha_df = alpha_df[alpha_df['rpt_rec_num_year'].isin(rpt_rec_num_year_list)].reset_index(drop=True)"
   ]
  },
  {
   "cell_type": "code",
   "execution_count": 36,
   "id": "21b8637d",
   "metadata": {},
   "outputs": [
    {
     "name": "stdout",
     "output_type": "stream",
     "text": [
      "time: 150 ms\n"
     ]
    }
   ],
   "source": [
    "patient_rev_df = nmrc_df[(nmrc_df['wksht_cd']=='F100000')&(nmrc_df['line_num']==100)&(nmrc_df['clmn_num']==400)].reset_index(drop=True)\n",
    "\n",
    "patient_rev_df = patient_rev_df[['rpt_rec_num_year','clmn_num','itm_val_num']].pivot(index='rpt_rec_num_year', columns='clmn_num', values='itm_val_num').reset_index(level=[0])\n",
    "patient_rev_df.columns = ['rpt_rec_num_year','gross_revenue']"
   ]
  },
  {
   "cell_type": "code",
   "execution_count": 37,
   "id": "c7187f0f",
   "metadata": {},
   "outputs": [
    {
     "name": "stdout",
     "output_type": "stream",
     "text": [
      "time: 20.8 ms\n"
     ]
    }
   ],
   "source": [
    "cr_df = reduce(lambda x,y: pd.merge(x, y, on='rpt_rec_num_year', how='outer'), [employee_df,\n",
    "                                                                                medical_visit_df,\n",
    "                                                                                mental_visit_df,\n",
    "                                                                                tele_cost_df,\n",
    "                                                                                patient_rev_df])\n",
    "cr_df = cr_df.fillna(0)"
   ]
  },
  {
   "cell_type": "code",
   "execution_count": 38,
   "id": "1035e46f",
   "metadata": {
    "scrolled": false
   },
   "outputs": [
    {
     "data": {
      "text/plain": [
       "(5591, 7649)"
      ]
     },
     "execution_count": 38,
     "metadata": {},
     "output_type": "execute_result"
    },
    {
     "name": "stdout",
     "output_type": "stream",
     "text": [
      "time: 2.03 ms\n"
     ]
    }
   ],
   "source": [
    "len(cr_df), len(bhcmisid_prvdr_num_df)"
   ]
  },
  {
   "cell_type": "code",
   "execution_count": 39,
   "id": "8cd060d9",
   "metadata": {
    "scrolled": true
   },
   "outputs": [
    {
     "name": "stdout",
     "output_type": "stream",
     "text": [
      "<class 'pandas.core.frame.DataFrame'>\n",
      "RangeIndex: 5734 entries, 0 to 5733\n",
      "Data columns (total 34 columns):\n",
      " #   Column                Non-Null Count  Dtype  \n",
      "---  ------                --------------  -----  \n",
      " 0   rpt_rec_num_year      5734 non-null   object \n",
      " 1   staff_physician       5734 non-null   float64\n",
      " 2   contract_physician    5734 non-null   float64\n",
      " 3   total_physician       5734 non-null   float64\n",
      " 4   staff_pa              5734 non-null   float64\n",
      " 5   contract_pa           5734 non-null   float64\n",
      " 6   total_pa              5734 non-null   float64\n",
      " 7   staff_np              5734 non-null   float64\n",
      " 8   contract_np           5734 non-null   float64\n",
      " 9   total_np              5734 non-null   float64\n",
      " 10  staff_psy             5734 non-null   float64\n",
      " 11  contract_psy          5734 non-null   float64\n",
      " 12  total_psy             5734 non-null   float64\n",
      " 13  staff_sw              5734 non-null   float64\n",
      " 14  contract_sw           5734 non-null   float64\n",
      " 15  total_sw              5734 non-null   float64\n",
      " 16  total_medical_visits  5734 non-null   float64\n",
      " 17  total_mental_visits   5734 non-null   float64\n",
      " 18  telehealth_expense    5734 non-null   float64\n",
      " 19  gross_revenue         5734 non-null   float64\n",
      " 20  name                  5734 non-null   object \n",
      " 21  ccn                   5734 non-null   float64\n",
      " 22  cbsa                  5734 non-null   float64\n",
      " 23  ctrl                  5734 non-null   float64\n",
      " 24  addr                  5734 non-null   object \n",
      " 25  city                  5733 non-null   object \n",
      " 26  state                 5734 non-null   object \n",
      " 27  zip                   5734 non-null   object \n",
      " 28  cnty                  5731 non-null   object \n",
      " 29  rural                 5734 non-null   object \n",
      " 30  prvdr_num             5734 non-null   float64\n",
      " 31  year                  5734 non-null   int64  \n",
      " 32  zip_5                 5734 non-null   float64\n",
      " 33  bhcmisid              5734 non-null   object \n",
      "dtypes: float64(24), int64(1), object(9)\n",
      "memory usage: 1.5+ MB\n",
      "time: 104 ms\n"
     ]
    }
   ],
   "source": [
    "temp_df = pd.merge(cr_df, provider_df, on=['rpt_rec_num_year'], how='outer')\n",
    "temp_df = temp_df[~temp_df['staff_physician'].isna()].reset_index(drop=True)\n",
    "# 한 prvdr_num&year 에 한 리포트만 있는 애들로만 구성하고싶음\n",
    "del_df = temp_df.groupby(['prvdr_num','year']).nunique().sort_values(by=['staff_physician']).reset_index(level=[0,1])#.to_frame()\n",
    "del_df = del_df[del_df['rpt_rec_num_year']==1][['prvdr_num','year']]\n",
    "temp_df = pd.merge(temp_df,del_df, on=['prvdr_num','year'])\n",
    "\n",
    "new_df = pd.merge(temp_df,bhcmisid_prvdr_num_df[['bhcmisid','prvdr_num','year']], on=['prvdr_num','year'],how='outer')\n",
    "new_df = new_df[~new_df['rpt_rec_num_year'].isna()].reset_index(drop=True)\n",
    "new_df = new_df[~new_df['bhcmisid'].isna()].reset_index(drop=True)\n",
    "new_df.info()"
   ]
  },
  {
   "cell_type": "code",
   "execution_count": 40,
   "id": "7d5bc204",
   "metadata": {},
   "outputs": [
    {
     "name": "stdout",
     "output_type": "stream",
     "text": [
      "time: 3.37 ms\n"
     ]
    }
   ],
   "source": [
    "tele_df.loc[:,'year']=tele_df.loc[:,'year'].astype(int)\n",
    "new_df.loc[:,'year']=new_df.loc[:,'year'].astype(int)\n",
    "new_df['total_all'] = new_df['total_physician']+new_df['total_pa']+new_df['total_np']+new_df['total_psy']+new_df['total_sw']"
   ]
  },
  {
   "cell_type": "code",
   "execution_count": 41,
   "id": "4ca5205e",
   "metadata": {
    "scrolled": true
   },
   "outputs": [
    {
     "name": "stdout",
     "output_type": "stream",
     "text": [
      "<class 'pandas.core.frame.DataFrame'>\n",
      "RangeIndex: 5734 entries, 0 to 5733\n",
      "Data columns (total 37 columns):\n",
      " #   Column                Non-Null Count  Dtype  \n",
      "---  ------                --------------  -----  \n",
      " 0   rpt_rec_num_year      5734 non-null   object \n",
      " 1   staff_physician       5734 non-null   float64\n",
      " 2   contract_physician    5734 non-null   float64\n",
      " 3   total_physician       5734 non-null   float64\n",
      " 4   staff_pa              5734 non-null   float64\n",
      " 5   contract_pa           5734 non-null   float64\n",
      " 6   total_pa              5734 non-null   float64\n",
      " 7   staff_np              5734 non-null   float64\n",
      " 8   contract_np           5734 non-null   float64\n",
      " 9   total_np              5734 non-null   float64\n",
      " 10  staff_psy             5734 non-null   float64\n",
      " 11  contract_psy          5734 non-null   float64\n",
      " 12  total_psy             5734 non-null   float64\n",
      " 13  staff_sw              5734 non-null   float64\n",
      " 14  contract_sw           5734 non-null   float64\n",
      " 15  total_sw              5734 non-null   float64\n",
      " 16  total_medical_visits  5734 non-null   float64\n",
      " 17  total_mental_visits   5734 non-null   float64\n",
      " 18  telehealth_expense    5734 non-null   float64\n",
      " 19  gross_revenue         5734 non-null   float64\n",
      " 20  name                  5734 non-null   object \n",
      " 21  ccn                   5734 non-null   float64\n",
      " 22  cbsa                  5734 non-null   float64\n",
      " 23  ctrl                  5734 non-null   float64\n",
      " 24  addr                  5734 non-null   object \n",
      " 25  city                  5733 non-null   object \n",
      " 26  state                 5734 non-null   object \n",
      " 27  zip                   5734 non-null   object \n",
      " 28  cnty                  5731 non-null   object \n",
      " 29  rural                 5734 non-null   object \n",
      " 30  prvdr_num             5734 non-null   float64\n",
      " 31  year                  5734 non-null   int64  \n",
      " 32  zip_5                 5734 non-null   float64\n",
      " 33  bhcmisid              5734 non-null   object \n",
      " 34  total_all             5734 non-null   float64\n",
      " 35  use_telehealth        5734 non-null   object \n",
      " 36  use_mental_tele       5734 non-null   int64  \n",
      "dtypes: float64(25), int64(2), object(10)\n",
      "memory usage: 1.6+ MB\n",
      "time: 31.2 ms\n"
     ]
    }
   ],
   "source": [
    "temp_df = pd.merge(new_df, tele_df[['bhcmisid','year','use_telehealth','use_mental_tele']], on=['bhcmisid','year'], how='outer')\n",
    "temp_df = temp_df[~temp_df['rpt_rec_num_year'].isna()].reset_index(drop=True)\n",
    "temp_df.info()"
   ]
  },
  {
   "cell_type": "code",
   "execution_count": 42,
   "id": "d07d25cd",
   "metadata": {},
   "outputs": [
    {
     "name": "stdout",
     "output_type": "stream",
     "text": [
      "time: 8.59 ms\n"
     ]
    }
   ],
   "source": [
    "new_hc_df = pd.merge(hc_df[['bhcmis_id','year','health_center_state']],\n",
    "                     hc_qoc_df, on=['bhcmis_id','year'])"
   ]
  },
  {
   "cell_type": "code",
   "execution_count": 43,
   "id": "dd55f347",
   "metadata": {},
   "outputs": [
    {
     "name": "stdout",
     "output_type": "stream",
     "text": [
      "time: 3.34 ms\n"
     ]
    }
   ],
   "source": [
    "new_hc_df.loc[:,'year']=new_hc_df.loc[:,'year'].astype(int)\n",
    "temp_df.loc[:,'year']=temp_df.loc[:,'year'].astype(int)"
   ]
  },
  {
   "cell_type": "code",
   "execution_count": 44,
   "id": "eea85ced",
   "metadata": {
    "scrolled": true
   },
   "outputs": [
    {
     "name": "stdout",
     "output_type": "stream",
     "text": [
      "<class 'pandas.core.frame.DataFrame'>\n",
      "RangeIndex: 5734 entries, 0 to 5733\n",
      "Data columns (total 39 columns):\n",
      " #   Column                                Non-Null Count  Dtype  \n",
      "---  ------                                --------------  -----  \n",
      " 0   rpt_rec_num_year                      5734 non-null   object \n",
      " 1   staff_physician                       5734 non-null   float64\n",
      " 2   contract_physician                    5734 non-null   float64\n",
      " 3   total_physician                       5734 non-null   float64\n",
      " 4   staff_pa                              5734 non-null   float64\n",
      " 5   contract_pa                           5734 non-null   float64\n",
      " 6   total_pa                              5734 non-null   float64\n",
      " 7   staff_np                              5734 non-null   float64\n",
      " 8   contract_np                           5734 non-null   float64\n",
      " 9   total_np                              5734 non-null   float64\n",
      " 10  staff_psy                             5734 non-null   float64\n",
      " 11  contract_psy                          5734 non-null   float64\n",
      " 12  total_psy                             5734 non-null   float64\n",
      " 13  staff_sw                              5734 non-null   float64\n",
      " 14  contract_sw                           5734 non-null   float64\n",
      " 15  total_sw                              5734 non-null   float64\n",
      " 16  total_medical_visits                  5734 non-null   float64\n",
      " 17  total_mental_visits                   5734 non-null   float64\n",
      " 18  telehealth_expense                    5734 non-null   float64\n",
      " 19  gross_revenue                         5734 non-null   float64\n",
      " 20  name                                  5734 non-null   object \n",
      " 21  ccn                                   5734 non-null   float64\n",
      " 22  cbsa                                  5734 non-null   float64\n",
      " 23  ctrl                                  5734 non-null   float64\n",
      " 24  addr                                  5734 non-null   object \n",
      " 25  city                                  5733 non-null   object \n",
      " 26  state                                 5734 non-null   object \n",
      " 27  zip                                   5734 non-null   object \n",
      " 28  cnty                                  5731 non-null   object \n",
      " 29  rural                                 5734 non-null   object \n",
      " 30  prvdr_num                             5734 non-null   float64\n",
      " 31  year                                  5734 non-null   int64  \n",
      " 32  zip_5                                 5734 non-null   float64\n",
      " 33  bhcmis_id                             5734 non-null   object \n",
      " 34  total_all                             5734 non-null   float64\n",
      " 35  use_telehealth                        5734 non-null   object \n",
      " 36  use_mental_tele                       5734 non-null   float64\n",
      " 37  health_center_state                   5734 non-null   object \n",
      " 38  pct_depression_screened_and_followup  5731 non-null   float64\n",
      "dtypes: float64(27), int64(1), object(11)\n",
      "memory usage: 1.7+ MB\n",
      "time: 32 ms\n"
     ]
    }
   ],
   "source": [
    "new_df = pd.merge(temp_df.rename(columns={'bhcmisid':'bhcmis_id'}), new_hc_df, on=['bhcmis_id','year'], how='outer')\n",
    "new_df = new_df[~new_df['staff_physician'].isna()].reset_index(drop=True)\n",
    "new_df = new_df[~new_df['use_telehealth'].isna()].reset_index(drop=True)\n",
    "new_df.info()"
   ]
  },
  {
   "cell_type": "code",
   "execution_count": 45,
   "id": "f5030e10",
   "metadata": {
    "scrolled": true
   },
   "outputs": [
    {
     "data": {
      "text/html": [
       "<div>\n",
       "<style scoped>\n",
       "    .dataframe tbody tr th:only-of-type {\n",
       "        vertical-align: middle;\n",
       "    }\n",
       "\n",
       "    .dataframe tbody tr th {\n",
       "        vertical-align: top;\n",
       "    }\n",
       "\n",
       "    .dataframe thead th {\n",
       "        text-align: right;\n",
       "    }\n",
       "</style>\n",
       "<table border=\"1\" class=\"dataframe\">\n",
       "  <thead>\n",
       "    <tr style=\"text-align: right;\">\n",
       "      <th></th>\n",
       "      <th>rpt_rec_num_year</th>\n",
       "      <th>staff_physician</th>\n",
       "      <th>contract_physician</th>\n",
       "      <th>total_physician</th>\n",
       "      <th>staff_pa</th>\n",
       "      <th>contract_pa</th>\n",
       "      <th>total_pa</th>\n",
       "      <th>staff_np</th>\n",
       "      <th>contract_np</th>\n",
       "      <th>total_np</th>\n",
       "      <th>...</th>\n",
       "      <th>rural</th>\n",
       "      <th>prvdr_num</th>\n",
       "      <th>year</th>\n",
       "      <th>zip_5</th>\n",
       "      <th>bhcmis_id</th>\n",
       "      <th>total_all</th>\n",
       "      <th>use_telehealth</th>\n",
       "      <th>use_mental_tele</th>\n",
       "      <th>health_center_state</th>\n",
       "      <th>pct_depression_screened_and_followup</th>\n",
       "    </tr>\n",
       "  </thead>\n",
       "  <tbody>\n",
       "    <tr>\n",
       "      <th>0</th>\n",
       "      <td>10000_2017</td>\n",
       "      <td>0.03</td>\n",
       "      <td>0.00</td>\n",
       "      <td>0.03</td>\n",
       "      <td>0.0</td>\n",
       "      <td>0.0</td>\n",
       "      <td>0.0</td>\n",
       "      <td>1.26</td>\n",
       "      <td>0.0</td>\n",
       "      <td>1.26</td>\n",
       "      <td>...</td>\n",
       "      <td>U</td>\n",
       "      <td>361061.0</td>\n",
       "      <td>2017</td>\n",
       "      <td>43605.0</td>\n",
       "      <td>051780</td>\n",
       "      <td>1.29</td>\n",
       "      <td>Yes</td>\n",
       "      <td>0.0</td>\n",
       "      <td>OH</td>\n",
       "      <td>50.47</td>\n",
       "    </tr>\n",
       "    <tr>\n",
       "      <th>1</th>\n",
       "      <td>15390_2017</td>\n",
       "      <td>0.03</td>\n",
       "      <td>0.00</td>\n",
       "      <td>0.03</td>\n",
       "      <td>0.0</td>\n",
       "      <td>0.0</td>\n",
       "      <td>0.0</td>\n",
       "      <td>1.26</td>\n",
       "      <td>0.0</td>\n",
       "      <td>1.26</td>\n",
       "      <td>...</td>\n",
       "      <td>U</td>\n",
       "      <td>361105.0</td>\n",
       "      <td>2017</td>\n",
       "      <td>43604.0</td>\n",
       "      <td>051780</td>\n",
       "      <td>1.29</td>\n",
       "      <td>Yes</td>\n",
       "      <td>0.0</td>\n",
       "      <td>OH</td>\n",
       "      <td>50.47</td>\n",
       "    </tr>\n",
       "    <tr>\n",
       "      <th>2</th>\n",
       "      <td>15469_2017</td>\n",
       "      <td>1.31</td>\n",
       "      <td>0.42</td>\n",
       "      <td>1.73</td>\n",
       "      <td>0.0</td>\n",
       "      <td>0.0</td>\n",
       "      <td>0.0</td>\n",
       "      <td>1.19</td>\n",
       "      <td>0.0</td>\n",
       "      <td>1.19</td>\n",
       "      <td>...</td>\n",
       "      <td>U</td>\n",
       "      <td>361823.0</td>\n",
       "      <td>2017</td>\n",
       "      <td>43604.0</td>\n",
       "      <td>051780</td>\n",
       "      <td>2.92</td>\n",
       "      <td>Yes</td>\n",
       "      <td>0.0</td>\n",
       "      <td>OH</td>\n",
       "      <td>50.47</td>\n",
       "    </tr>\n",
       "    <tr>\n",
       "      <th>3</th>\n",
       "      <td>10001_2017</td>\n",
       "      <td>0.00</td>\n",
       "      <td>0.00</td>\n",
       "      <td>0.00</td>\n",
       "      <td>0.0</td>\n",
       "      <td>0.0</td>\n",
       "      <td>0.0</td>\n",
       "      <td>1.50</td>\n",
       "      <td>0.0</td>\n",
       "      <td>1.50</td>\n",
       "      <td>...</td>\n",
       "      <td>U</td>\n",
       "      <td>361124.0</td>\n",
       "      <td>2017</td>\n",
       "      <td>44077.0</td>\n",
       "      <td>05E01247</td>\n",
       "      <td>2.00</td>\n",
       "      <td>Yes</td>\n",
       "      <td>1.0</td>\n",
       "      <td>OH</td>\n",
       "      <td>67.72</td>\n",
       "    </tr>\n",
       "    <tr>\n",
       "      <th>4</th>\n",
       "      <td>10002_2017</td>\n",
       "      <td>4.53</td>\n",
       "      <td>0.58</td>\n",
       "      <td>5.11</td>\n",
       "      <td>0.0</td>\n",
       "      <td>0.0</td>\n",
       "      <td>0.0</td>\n",
       "      <td>4.03</td>\n",
       "      <td>0.0</td>\n",
       "      <td>4.03</td>\n",
       "      <td>...</td>\n",
       "      <td>U</td>\n",
       "      <td>361128.0</td>\n",
       "      <td>2017</td>\n",
       "      <td>44094.0</td>\n",
       "      <td>05E01247</td>\n",
       "      <td>20.80</td>\n",
       "      <td>Yes</td>\n",
       "      <td>1.0</td>\n",
       "      <td>OH</td>\n",
       "      <td>67.72</td>\n",
       "    </tr>\n",
       "    <tr>\n",
       "      <th>...</th>\n",
       "      <td>...</td>\n",
       "      <td>...</td>\n",
       "      <td>...</td>\n",
       "      <td>...</td>\n",
       "      <td>...</td>\n",
       "      <td>...</td>\n",
       "      <td>...</td>\n",
       "      <td>...</td>\n",
       "      <td>...</td>\n",
       "      <td>...</td>\n",
       "      <td>...</td>\n",
       "      <td>...</td>\n",
       "      <td>...</td>\n",
       "      <td>...</td>\n",
       "      <td>...</td>\n",
       "      <td>...</td>\n",
       "      <td>...</td>\n",
       "      <td>...</td>\n",
       "      <td>...</td>\n",
       "      <td>...</td>\n",
       "      <td>...</td>\n",
       "    </tr>\n",
       "    <tr>\n",
       "      <th>5729</th>\n",
       "      <td>8769_2016</td>\n",
       "      <td>0.00</td>\n",
       "      <td>0.00</td>\n",
       "      <td>0.00</td>\n",
       "      <td>0.0</td>\n",
       "      <td>0.0</td>\n",
       "      <td>0.0</td>\n",
       "      <td>0.00</td>\n",
       "      <td>0.0</td>\n",
       "      <td>0.00</td>\n",
       "      <td>...</td>\n",
       "      <td>U</td>\n",
       "      <td>101842.0</td>\n",
       "      <td>2016</td>\n",
       "      <td>33525.0</td>\n",
       "      <td>045500</td>\n",
       "      <td>0.00</td>\n",
       "      <td>No</td>\n",
       "      <td>0.0</td>\n",
       "      <td>FL</td>\n",
       "      <td>40.47</td>\n",
       "    </tr>\n",
       "    <tr>\n",
       "      <th>5730</th>\n",
       "      <td>8778_2016</td>\n",
       "      <td>0.00</td>\n",
       "      <td>0.00</td>\n",
       "      <td>0.00</td>\n",
       "      <td>0.0</td>\n",
       "      <td>0.0</td>\n",
       "      <td>0.0</td>\n",
       "      <td>0.00</td>\n",
       "      <td>0.0</td>\n",
       "      <td>0.00</td>\n",
       "      <td>...</td>\n",
       "      <td>R</td>\n",
       "      <td>431809.0</td>\n",
       "      <td>2016</td>\n",
       "      <td>57349.0</td>\n",
       "      <td>081030</td>\n",
       "      <td>0.00</td>\n",
       "      <td>Yes</td>\n",
       "      <td>1.0</td>\n",
       "      <td>SD</td>\n",
       "      <td>88.70</td>\n",
       "    </tr>\n",
       "    <tr>\n",
       "      <th>5731</th>\n",
       "      <td>8901_2016</td>\n",
       "      <td>0.00</td>\n",
       "      <td>0.00</td>\n",
       "      <td>0.00</td>\n",
       "      <td>0.0</td>\n",
       "      <td>0.0</td>\n",
       "      <td>0.0</td>\n",
       "      <td>0.00</td>\n",
       "      <td>0.0</td>\n",
       "      <td>0.00</td>\n",
       "      <td>...</td>\n",
       "      <td>R</td>\n",
       "      <td>371836.0</td>\n",
       "      <td>2016</td>\n",
       "      <td>73460.0</td>\n",
       "      <td>0614360</td>\n",
       "      <td>0.00</td>\n",
       "      <td>Yes</td>\n",
       "      <td>0.0</td>\n",
       "      <td>OK</td>\n",
       "      <td>68.55</td>\n",
       "    </tr>\n",
       "    <tr>\n",
       "      <th>5732</th>\n",
       "      <td>8922_2016</td>\n",
       "      <td>0.00</td>\n",
       "      <td>0.00</td>\n",
       "      <td>0.00</td>\n",
       "      <td>0.0</td>\n",
       "      <td>0.0</td>\n",
       "      <td>0.0</td>\n",
       "      <td>0.00</td>\n",
       "      <td>0.0</td>\n",
       "      <td>0.00</td>\n",
       "      <td>...</td>\n",
       "      <td>R</td>\n",
       "      <td>61930.0</td>\n",
       "      <td>2016</td>\n",
       "      <td>81425.0</td>\n",
       "      <td>08E00518</td>\n",
       "      <td>0.00</td>\n",
       "      <td>No</td>\n",
       "      <td>0.0</td>\n",
       "      <td>CO</td>\n",
       "      <td>95.92</td>\n",
       "    </tr>\n",
       "    <tr>\n",
       "      <th>5733</th>\n",
       "      <td>9245_2016</td>\n",
       "      <td>0.00</td>\n",
       "      <td>0.00</td>\n",
       "      <td>0.00</td>\n",
       "      <td>0.0</td>\n",
       "      <td>0.0</td>\n",
       "      <td>0.0</td>\n",
       "      <td>0.00</td>\n",
       "      <td>0.0</td>\n",
       "      <td>0.00</td>\n",
       "      <td>...</td>\n",
       "      <td>R</td>\n",
       "      <td>671881.0</td>\n",
       "      <td>2016</td>\n",
       "      <td>79843.0</td>\n",
       "      <td>0627260</td>\n",
       "      <td>0.00</td>\n",
       "      <td>No</td>\n",
       "      <td>0.0</td>\n",
       "      <td>TX</td>\n",
       "      <td>57.17</td>\n",
       "    </tr>\n",
       "  </tbody>\n",
       "</table>\n",
       "<p>5734 rows × 39 columns</p>\n",
       "</div>"
      ],
      "text/plain": [
       "     rpt_rec_num_year  staff_physician  contract_physician  total_physician  \\\n",
       "0          10000_2017             0.03                0.00             0.03   \n",
       "1          15390_2017             0.03                0.00             0.03   \n",
       "2          15469_2017             1.31                0.42             1.73   \n",
       "3          10001_2017             0.00                0.00             0.00   \n",
       "4          10002_2017             4.53                0.58             5.11   \n",
       "...               ...              ...                 ...              ...   \n",
       "5729        8769_2016             0.00                0.00             0.00   \n",
       "5730        8778_2016             0.00                0.00             0.00   \n",
       "5731        8901_2016             0.00                0.00             0.00   \n",
       "5732        8922_2016             0.00                0.00             0.00   \n",
       "5733        9245_2016             0.00                0.00             0.00   \n",
       "\n",
       "      staff_pa  contract_pa  total_pa  staff_np  contract_np  total_np  ...  \\\n",
       "0          0.0          0.0       0.0      1.26          0.0      1.26  ...   \n",
       "1          0.0          0.0       0.0      1.26          0.0      1.26  ...   \n",
       "2          0.0          0.0       0.0      1.19          0.0      1.19  ...   \n",
       "3          0.0          0.0       0.0      1.50          0.0      1.50  ...   \n",
       "4          0.0          0.0       0.0      4.03          0.0      4.03  ...   \n",
       "...        ...          ...       ...       ...          ...       ...  ...   \n",
       "5729       0.0          0.0       0.0      0.00          0.0      0.00  ...   \n",
       "5730       0.0          0.0       0.0      0.00          0.0      0.00  ...   \n",
       "5731       0.0          0.0       0.0      0.00          0.0      0.00  ...   \n",
       "5732       0.0          0.0       0.0      0.00          0.0      0.00  ...   \n",
       "5733       0.0          0.0       0.0      0.00          0.0      0.00  ...   \n",
       "\n",
       "      rural  prvdr_num  year    zip_5  bhcmis_id  total_all  use_telehealth  \\\n",
       "0         U   361061.0  2017  43605.0     051780       1.29             Yes   \n",
       "1         U   361105.0  2017  43604.0     051780       1.29             Yes   \n",
       "2         U   361823.0  2017  43604.0     051780       2.92             Yes   \n",
       "3         U   361124.0  2017  44077.0   05E01247       2.00             Yes   \n",
       "4         U   361128.0  2017  44094.0   05E01247      20.80             Yes   \n",
       "...     ...        ...   ...      ...        ...        ...             ...   \n",
       "5729      U   101842.0  2016  33525.0     045500       0.00              No   \n",
       "5730      R   431809.0  2016  57349.0     081030       0.00             Yes   \n",
       "5731      R   371836.0  2016  73460.0    0614360       0.00             Yes   \n",
       "5732      R    61930.0  2016  81425.0   08E00518       0.00              No   \n",
       "5733      R   671881.0  2016  79843.0    0627260       0.00              No   \n",
       "\n",
       "      use_mental_tele  health_center_state  \\\n",
       "0                 0.0                   OH   \n",
       "1                 0.0                   OH   \n",
       "2                 0.0                   OH   \n",
       "3                 1.0                   OH   \n",
       "4                 1.0                   OH   \n",
       "...               ...                  ...   \n",
       "5729              0.0                   FL   \n",
       "5730              1.0                   SD   \n",
       "5731              0.0                   OK   \n",
       "5732              0.0                   CO   \n",
       "5733              0.0                   TX   \n",
       "\n",
       "      pct_depression_screened_and_followup  \n",
       "0                                    50.47  \n",
       "1                                    50.47  \n",
       "2                                    50.47  \n",
       "3                                    67.72  \n",
       "4                                    67.72  \n",
       "...                                    ...  \n",
       "5729                                 40.47  \n",
       "5730                                 88.70  \n",
       "5731                                 68.55  \n",
       "5732                                 95.92  \n",
       "5733                                 57.17  \n",
       "\n",
       "[5734 rows x 39 columns]"
      ]
     },
     "execution_count": 45,
     "metadata": {},
     "output_type": "execute_result"
    },
    {
     "name": "stdout",
     "output_type": "stream",
     "text": [
      "time: 29.6 ms\n"
     ]
    }
   ],
   "source": [
    "new_df"
   ]
  },
  {
   "cell_type": "code",
   "execution_count": 46,
   "id": "af144b12",
   "metadata": {},
   "outputs": [
    {
     "name": "stdout",
     "output_type": "stream",
     "text": [
      "time: 126 ms\n"
     ]
    }
   ],
   "source": [
    "new_df.to_csv(r'final_panel_tele_hc_cr_df_2.csv', index=False)"
   ]
  },
  {
   "cell_type": "code",
   "execution_count": 47,
   "id": "a8beff3e",
   "metadata": {},
   "outputs": [
    {
     "data": {
      "text/html": [
       "<div>\n",
       "<style scoped>\n",
       "    .dataframe tbody tr th:only-of-type {\n",
       "        vertical-align: middle;\n",
       "    }\n",
       "\n",
       "    .dataframe tbody tr th {\n",
       "        vertical-align: top;\n",
       "    }\n",
       "\n",
       "    .dataframe thead th {\n",
       "        text-align: right;\n",
       "    }\n",
       "</style>\n",
       "<table border=\"1\" class=\"dataframe\">\n",
       "  <thead>\n",
       "    <tr style=\"text-align: right;\">\n",
       "      <th></th>\n",
       "      <th>year</th>\n",
       "    </tr>\n",
       "    <tr>\n",
       "      <th>prvdr_num</th>\n",
       "      <th></th>\n",
       "    </tr>\n",
       "  </thead>\n",
       "  <tbody>\n",
       "    <tr>\n",
       "      <th>181168.0</th>\n",
       "      <td>1</td>\n",
       "    </tr>\n",
       "    <tr>\n",
       "      <th>131869.0</th>\n",
       "      <td>1</td>\n",
       "    </tr>\n",
       "    <tr>\n",
       "      <th>391092.0</th>\n",
       "      <td>1</td>\n",
       "    </tr>\n",
       "    <tr>\n",
       "      <th>681041.0</th>\n",
       "      <td>1</td>\n",
       "    </tr>\n",
       "    <tr>\n",
       "      <th>681049.0</th>\n",
       "      <td>1</td>\n",
       "    </tr>\n",
       "    <tr>\n",
       "      <th>...</th>\n",
       "      <td>...</td>\n",
       "    </tr>\n",
       "    <tr>\n",
       "      <th>441858.0</th>\n",
       "      <td>5</td>\n",
       "    </tr>\n",
       "    <tr>\n",
       "      <th>441863.0</th>\n",
       "      <td>5</td>\n",
       "    </tr>\n",
       "    <tr>\n",
       "      <th>221815.0</th>\n",
       "      <td>5</td>\n",
       "    </tr>\n",
       "    <tr>\n",
       "      <th>441800.0</th>\n",
       "      <td>5</td>\n",
       "    </tr>\n",
       "    <tr>\n",
       "      <th>11012.0</th>\n",
       "      <td>5</td>\n",
       "    </tr>\n",
       "  </tbody>\n",
       "</table>\n",
       "<p>1528 rows × 1 columns</p>\n",
       "</div>"
      ],
      "text/plain": [
       "           year\n",
       "prvdr_num      \n",
       "181168.0      1\n",
       "131869.0      1\n",
       "391092.0      1\n",
       "681041.0      1\n",
       "681049.0      1\n",
       "...         ...\n",
       "441858.0      5\n",
       "441863.0      5\n",
       "221815.0      5\n",
       "441800.0      5\n",
       "11012.0       5\n",
       "\n",
       "[1528 rows x 1 columns]"
      ]
     },
     "execution_count": 47,
     "metadata": {},
     "output_type": "execute_result"
    },
    {
     "name": "stdout",
     "output_type": "stream",
     "text": [
      "time: 54.8 ms\n"
     ]
    }
   ],
   "source": [
    "new_df.groupby(['prvdr_num']).nunique().sort_values(by=['year'])[['year']]"
   ]
  },
  {
   "cell_type": "code",
   "execution_count": 48,
   "id": "596194d7",
   "metadata": {},
   "outputs": [
    {
     "data": {
      "text/html": [
       "<div>\n",
       "<style scoped>\n",
       "    .dataframe tbody tr th:only-of-type {\n",
       "        vertical-align: middle;\n",
       "    }\n",
       "\n",
       "    .dataframe tbody tr th {\n",
       "        vertical-align: top;\n",
       "    }\n",
       "\n",
       "    .dataframe thead th {\n",
       "        text-align: right;\n",
       "    }\n",
       "</style>\n",
       "<table border=\"1\" class=\"dataframe\">\n",
       "  <thead>\n",
       "    <tr style=\"text-align: right;\">\n",
       "      <th></th>\n",
       "      <th>rpt_rec_num_year</th>\n",
       "      <th>staff_physician</th>\n",
       "      <th>contract_physician</th>\n",
       "      <th>total_physician</th>\n",
       "      <th>staff_pa</th>\n",
       "      <th>contract_pa</th>\n",
       "      <th>total_pa</th>\n",
       "      <th>staff_np</th>\n",
       "      <th>contract_np</th>\n",
       "      <th>total_np</th>\n",
       "      <th>...</th>\n",
       "      <th>rural</th>\n",
       "      <th>prvdr_num</th>\n",
       "      <th>year</th>\n",
       "      <th>zip_5</th>\n",
       "      <th>bhcmis_id</th>\n",
       "      <th>total_all</th>\n",
       "      <th>use_telehealth</th>\n",
       "      <th>use_mental_tele</th>\n",
       "      <th>health_center_state</th>\n",
       "      <th>pct_depression_screened_and_followup</th>\n",
       "    </tr>\n",
       "  </thead>\n",
       "  <tbody>\n",
       "    <tr>\n",
       "      <th>1551</th>\n",
       "      <td>15185_2018</td>\n",
       "      <td>8.34</td>\n",
       "      <td>0.77</td>\n",
       "      <td>9.11</td>\n",
       "      <td>0.0</td>\n",
       "      <td>0.0</td>\n",
       "      <td>0.0</td>\n",
       "      <td>7.00</td>\n",
       "      <td>0.0</td>\n",
       "      <td>7.00</td>\n",
       "      <td>...</td>\n",
       "      <td>U</td>\n",
       "      <td>11012.0</td>\n",
       "      <td>2018</td>\n",
       "      <td>35212.0</td>\n",
       "      <td>04E01095</td>\n",
       "      <td>16.11</td>\n",
       "      <td>No</td>\n",
       "      <td>0.0</td>\n",
       "      <td>AL</td>\n",
       "      <td>70.47</td>\n",
       "    </tr>\n",
       "    <tr>\n",
       "      <th>2929</th>\n",
       "      <td>20287_2019</td>\n",
       "      <td>10.11</td>\n",
       "      <td>0.06</td>\n",
       "      <td>10.17</td>\n",
       "      <td>0.0</td>\n",
       "      <td>0.0</td>\n",
       "      <td>0.0</td>\n",
       "      <td>6.11</td>\n",
       "      <td>0.0</td>\n",
       "      <td>6.11</td>\n",
       "      <td>...</td>\n",
       "      <td>U</td>\n",
       "      <td>11012.0</td>\n",
       "      <td>2019</td>\n",
       "      <td>35212.0</td>\n",
       "      <td>04E01095</td>\n",
       "      <td>17.74</td>\n",
       "      <td>No</td>\n",
       "      <td>0.0</td>\n",
       "      <td>AL</td>\n",
       "      <td>68.25</td>\n",
       "    </tr>\n",
       "    <tr>\n",
       "      <th>4167</th>\n",
       "      <td>24579_2020</td>\n",
       "      <td>10.99</td>\n",
       "      <td>0.00</td>\n",
       "      <td>10.99</td>\n",
       "      <td>0.0</td>\n",
       "      <td>0.0</td>\n",
       "      <td>0.0</td>\n",
       "      <td>5.82</td>\n",
       "      <td>0.0</td>\n",
       "      <td>5.82</td>\n",
       "      <td>...</td>\n",
       "      <td>U</td>\n",
       "      <td>11012.0</td>\n",
       "      <td>2020</td>\n",
       "      <td>35212.0</td>\n",
       "      <td>04E01095</td>\n",
       "      <td>16.81</td>\n",
       "      <td>Yes</td>\n",
       "      <td>1.0</td>\n",
       "      <td>AL</td>\n",
       "      <td>34.53</td>\n",
       "    </tr>\n",
       "    <tr>\n",
       "      <th>4965</th>\n",
       "      <td>5527_2016</td>\n",
       "      <td>2.47</td>\n",
       "      <td>0.04</td>\n",
       "      <td>2.51</td>\n",
       "      <td>0.0</td>\n",
       "      <td>0.0</td>\n",
       "      <td>0.0</td>\n",
       "      <td>4.03</td>\n",
       "      <td>0.0</td>\n",
       "      <td>4.03</td>\n",
       "      <td>...</td>\n",
       "      <td>U</td>\n",
       "      <td>11012.0</td>\n",
       "      <td>2016</td>\n",
       "      <td>35212.0</td>\n",
       "      <td>04E01095</td>\n",
       "      <td>6.54</td>\n",
       "      <td>No</td>\n",
       "      <td>0.0</td>\n",
       "      <td>AL</td>\n",
       "      <td>68.64</td>\n",
       "    </tr>\n",
       "    <tr>\n",
       "      <th>5649</th>\n",
       "      <td>9874_2017</td>\n",
       "      <td>1.95</td>\n",
       "      <td>0.00</td>\n",
       "      <td>1.95</td>\n",
       "      <td>0.0</td>\n",
       "      <td>0.0</td>\n",
       "      <td>0.0</td>\n",
       "      <td>5.29</td>\n",
       "      <td>0.0</td>\n",
       "      <td>5.29</td>\n",
       "      <td>...</td>\n",
       "      <td>U</td>\n",
       "      <td>11012.0</td>\n",
       "      <td>2017</td>\n",
       "      <td>35212.0</td>\n",
       "      <td>04E01095</td>\n",
       "      <td>7.24</td>\n",
       "      <td>No</td>\n",
       "      <td>0.0</td>\n",
       "      <td>AL</td>\n",
       "      <td>69.39</td>\n",
       "    </tr>\n",
       "  </tbody>\n",
       "</table>\n",
       "<p>5 rows × 39 columns</p>\n",
       "</div>"
      ],
      "text/plain": [
       "     rpt_rec_num_year  staff_physician  contract_physician  total_physician  \\\n",
       "1551       15185_2018             8.34                0.77             9.11   \n",
       "2929       20287_2019            10.11                0.06            10.17   \n",
       "4167       24579_2020            10.99                0.00            10.99   \n",
       "4965        5527_2016             2.47                0.04             2.51   \n",
       "5649        9874_2017             1.95                0.00             1.95   \n",
       "\n",
       "      staff_pa  contract_pa  total_pa  staff_np  contract_np  total_np  ...  \\\n",
       "1551       0.0          0.0       0.0      7.00          0.0      7.00  ...   \n",
       "2929       0.0          0.0       0.0      6.11          0.0      6.11  ...   \n",
       "4167       0.0          0.0       0.0      5.82          0.0      5.82  ...   \n",
       "4965       0.0          0.0       0.0      4.03          0.0      4.03  ...   \n",
       "5649       0.0          0.0       0.0      5.29          0.0      5.29  ...   \n",
       "\n",
       "      rural  prvdr_num  year    zip_5  bhcmis_id  total_all  use_telehealth  \\\n",
       "1551      U    11012.0  2018  35212.0   04E01095      16.11              No   \n",
       "2929      U    11012.0  2019  35212.0   04E01095      17.74              No   \n",
       "4167      U    11012.0  2020  35212.0   04E01095      16.81             Yes   \n",
       "4965      U    11012.0  2016  35212.0   04E01095       6.54              No   \n",
       "5649      U    11012.0  2017  35212.0   04E01095       7.24              No   \n",
       "\n",
       "      use_mental_tele  health_center_state  \\\n",
       "1551              0.0                   AL   \n",
       "2929              0.0                   AL   \n",
       "4167              1.0                   AL   \n",
       "4965              0.0                   AL   \n",
       "5649              0.0                   AL   \n",
       "\n",
       "      pct_depression_screened_and_followup  \n",
       "1551                                 70.47  \n",
       "2929                                 68.25  \n",
       "4167                                 34.53  \n",
       "4965                                 68.64  \n",
       "5649                                 69.39  \n",
       "\n",
       "[5 rows x 39 columns]"
      ]
     },
     "execution_count": 48,
     "metadata": {},
     "output_type": "execute_result"
    },
    {
     "name": "stdout",
     "output_type": "stream",
     "text": [
      "time: 21.1 ms\n"
     ]
    }
   ],
   "source": [
    "new_df[new_df['prvdr_num']==11012]"
   ]
  }
 ],
 "metadata": {
  "kernelspec": {
   "display_name": "Python 3 (ipykernel)",
   "language": "python",
   "name": "python3"
  },
  "language_info": {
   "codemirror_mode": {
    "name": "ipython",
    "version": 3
   },
   "file_extension": ".py",
   "mimetype": "text/x-python",
   "name": "python",
   "nbconvert_exporter": "python",
   "pygments_lexer": "ipython3",
   "version": "3.9.12"
  }
 },
 "nbformat": 4,
 "nbformat_minor": 5
}
