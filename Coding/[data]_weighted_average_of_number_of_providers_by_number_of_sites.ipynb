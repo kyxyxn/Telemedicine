{
  "nbformat": 4,
  "nbformat_minor": 0,
  "metadata": {
    "colab": {
      "name": "[data] weighted average of number of providers by number of sites.ipynb",
      "provenance": [],
      "collapsed_sections": []
    },
    "kernelspec": {
      "name": "python3",
      "display_name": "Python 3"
    },
    "language_info": {
      "name": "python"
    }
  },
  "cells": [
    {
      "cell_type": "code",
      "execution_count": 1,
      "metadata": {
        "id": "gw0kf2187xU3",
        "colab": {
          "base_uri": "https://localhost:8080/"
        },
        "outputId": "c0c15ae1-6915-4a7a-c1c3-1a353a249fcb"
      },
      "outputs": [
        {
          "output_type": "stream",
          "name": "stdout",
          "text": [
            "Mounted at /content/drive\n"
          ]
        }
      ],
      "source": [
        "from google.colab import drive\n",
        "drive.mount('/content/drive')"
      ]
    },
    {
      "cell_type": "code",
      "source": [
        "import numpy as np\n",
        "import pandas as pd   \n",
        "from math import log as ln\n",
        "from functools import reduce\n",
        "import statsmodels.formula.api as smf\n",
        "from scipy.stats import entropy"
      ],
      "metadata": {
        "colab": {
          "base_uri": "https://localhost:8080/"
        },
        "id": "hVt-nlMD72_d",
        "outputId": "696cf504-a919-4555-8c8f-5ab9b57f9175"
      },
      "execution_count": 2,
      "outputs": [
        {
          "output_type": "stream",
          "name": "stderr",
          "text": [
            "/usr/local/lib/python3.7/dist-packages/statsmodels/tools/_testing.py:19: FutureWarning: pandas.util.testing is deprecated. Use the functions in the public API at pandas.testing instead.\n",
            "  import pandas.util.testing as tm\n"
          ]
        }
      ]
    },
    {
      "cell_type": "code",
      "source": [
        "rootPath ='/content/drive/MyDrive/ASU/CIS791_Chen_Final/uds-data/'\n",
        "filenames_uds = [rootPath+'UDS-2014-Full-Dataset.xlsx',\n",
        "                 rootPath+'UDS-2015-Full-Dataset.xlsx',\n",
        "                 rootPath+'UDS-2016-Full-Dataset.xlsx',\n",
        "                 rootPath+'UDS-2017-Full-Dataset.xlsx',\n",
        "                 rootPath+'UDS-2018-Full-Dataset.xlsx',\n",
        "                 rootPath+'UDS-2019-Full-Dataset.xlsx',\n",
        "                 rootPath+'UDS-2020-Full-Dataset.xlsx']\n",
        "\n",
        "filenames_lal = [rootPath+'UDS-2016-look-alikes.xlsx',\n",
        "             rootPath+'UDS-2017-look-alikes.xlsx',\n",
        "             rootPath+'UDS-2018-look-alikes.xlsx',\n",
        "             rootPath+'UDS-2019-look-alikes.xlsx',\n",
        "             rootPath+'UDS-2020-look-alikes.xlsx']"
      ],
      "metadata": {
        "id": "SaWP56AB88Wp"
      },
      "execution_count": 3,
      "outputs": []
    },
    {
      "cell_type": "markdown",
      "source": [
        "### SiteDF"
      ],
      "metadata": {
        "id": "QAZijCecocRM"
      }
    },
    {
      "cell_type": "code",
      "source": [
        "site_df = pd.read_csv('/content/drive/MyDrive/ASU/Telehealth/Data/healthcentersiteinfo_fix.csv')"
      ],
      "metadata": {
        "id": "SVVj4Beiizon"
      },
      "execution_count": 4,
      "outputs": []
    },
    {
      "cell_type": "code",
      "source": [
        "# drop HCs with 1+ sites that don't have county information\n",
        "site_df = site_df[~site_df['grant_number'].isin(set(site_df[site_df['county_fips'].isna()].grant_number.values.tolist()))].reset_index(drop=True)"
      ],
      "metadata": {
        "id": "8H3jKTRLsyRQ"
      },
      "execution_count": 5,
      "outputs": []
    },
    {
      "cell_type": "code",
      "source": [
        "site_df.info()"
      ],
      "metadata": {
        "colab": {
          "base_uri": "https://localhost:8080/"
        },
        "id": "5C3CIcZ9okhy",
        "outputId": "cdc090b7-98f9-434e-9bb1-2f4e9d6f3a64"
      },
      "execution_count": 6,
      "outputs": [
        {
          "output_type": "stream",
          "name": "stdout",
          "text": [
            "<class 'pandas.core.frame.DataFrame'>\n",
            "RangeIndex: 38949 entries, 0 to 38948\n",
            "Data columns (total 28 columns):\n",
            " #   Column                          Non-Null Count  Dtype  \n",
            "---  ------                          --------------  -----  \n",
            " 0   bhcmis_id                       38949 non-null  object \n",
            " 1   grant_number                    38949 non-null  object \n",
            " 2   Health Center Name              38949 non-null  object \n",
            " 3   Site Name                       38949 non-null  object \n",
            " 4   Site Type                       38949 non-null  object \n",
            " 5   Site Status                     38949 non-null  object \n",
            " 6   Location Type                   38949 non-null  object \n",
            " 7   Location Setting                38949 non-null  object \n",
            " 8   Operational Schedule            32702 non-null  object \n",
            " 9   Calendar Schedule               32909 non-null  object \n",
            " 10  TotalWeekly Hours Of Operation  38792 non-null  object \n",
            " 11  Service Area Population         38932 non-null  object \n",
            " 12  Site Operated By                38949 non-null  object \n",
            " 13  Site Street Address             38884 non-null  object \n",
            " 14  Site City                       38949 non-null  object \n",
            " 15  Site State                      38949 non-null  object \n",
            " 16  Site ZIP Code                   35797 non-null  object \n",
            " 17  Mailing Street Address          27261 non-null  object \n",
            " 18  Mailing City                    29851 non-null  object \n",
            " 19  Mailing State                   29891 non-null  object \n",
            " 20  Mailing ZIP Code                27616 non-null  object \n",
            " 21  Medicaid Number                 30451 non-null  object \n",
            " 22  Medicaid Pharm Number           21358 non-null  object \n",
            " 23  Data As of                      38949 non-null  object \n",
            " 24  year                            38949 non-null  int64  \n",
            " 25  full_address                    38949 non-null  object \n",
            " 26  zip_5                           38937 non-null  float64\n",
            " 27  county_fips                     38949 non-null  float64\n",
            "dtypes: float64(2), int64(1), object(25)\n",
            "memory usage: 8.3+ MB\n"
          ]
        }
      ]
    },
    {
      "cell_type": "markdown",
      "source": [
        "### Weighted average"
      ],
      "metadata": {
        "id": "YshI1i2fc6cn"
      }
    },
    {
      "cell_type": "code",
      "source": [
        "import os\n",
        "import requests"
      ],
      "metadata": {
        "id": "a7tbeh13mgKd"
      },
      "execution_count": 7,
      "outputs": []
    },
    {
      "cell_type": "markdown",
      "source": [
        "#### Download file"
      ],
      "metadata": {
        "id": "zwYIqmNuoGYN"
      }
    },
    {
      "cell_type": "code",
      "source": [
        "# get url\n",
        "def get_url():\n",
        "  url = \"https://raw.githubusercontent.com/kyxyxn/Telemedicine/main/Data/telehealth_data/market-saturation-utilization-telehealth.csv\"\n",
        "  return url\n",
        "\n",
        "# get file path\n",
        "def get_file_path(url, goal_path):\n",
        "  full_path = ''\n",
        "  csv_file_name = url.split('telehealth_data/')[-1]\n",
        "  full_path = os.path.join(goal_path, csv_file_name)\n",
        "  return full_path\n",
        "  \n",
        "# download file\n",
        "def download_file(url):\n",
        "  # with a url, download the full file\n",
        "  goal_path = '/content/drive/MyDrive/ASU/Telehealth/Data'\n",
        "  full_file_path = get_file_path(url, goal_path=goal_path)\n",
        "  r = requests.get(url)\n",
        "  with open (full_file_path, 'wb') as f:\n",
        "    for chunk in r.iter_content(chunk_size=1024):\n",
        "      if chunk: \n",
        "        f.write(chunk)\n",
        "  return full_file_path\n",
        "\n",
        "# get files\n",
        "def get_file():\n",
        "  # with a full url, download the fulll file\n",
        "  url = get_url()\n",
        "  # download the file\n",
        "  download_file(url)\n",
        "  print(\"Downloaded!\")\n",
        "  \n",
        "get_file()"
      ],
      "metadata": {
        "colab": {
          "base_uri": "https://localhost:8080/"
        },
        "id": "YeR3OCA2x5C5",
        "outputId": "fe72909e-09d2-42ea-e618-40bc7bad2021"
      },
      "execution_count": 19,
      "outputs": [
        {
          "output_type": "stream",
          "name": "stdout",
          "text": [
            "Downloaded!\n"
          ]
        }
      ]
    },
    {
      "cell_type": "markdown",
      "source": [
        "#### Read and pre-proceess files: Telehealth providers"
      ],
      "metadata": {
        "id": "SFGv2vSroIYU"
      }
    },
    {
      "cell_type": "code",
      "source": [
        "provider_df = pd.read_csv('/content/drive/MyDrive/ASU/Telehealth/Data/market-saturation-utilization-telehealth.csv')"
      ],
      "metadata": {
        "id": "wUsty38igZHW"
      },
      "execution_count": 89,
      "outputs": []
    },
    {
      "cell_type": "code",
      "source": [
        "# clean data\n",
        "provider_df = provider_df[(provider_df['aggregation_level']=='COUNTY')&(provider_df['state']!='-')&(provider_df['county']!='--ALL--')].reset_index(drop=True)\n",
        "provider_df['year'] = [str(i)[:4] for i in provider_df['reference_period']]\n",
        "provider_df = provider_df[provider_df['reference_period'].isin(['2017-01-01 to 2017-12-31', '2018-01-01 to 2018-12-31', '2019-01-01 to 2019-12-31'])].reset_index(drop=True)\n",
        "\n",
        "# change data type\n",
        "provider_df['percentage_of_users_out_of_ffs_beneficiaries'] = provider_df['percentage_of_users_out_of_ffs_beneficiaries'].replace({'%':''},regex=True)\n",
        "provider_df['number_of_fee_for_service_beneficiaries'] = provider_df['number_of_fee_for_service_beneficiaries'].replace({',':''},regex=True)\n",
        "provider_df['number_of_providers'] = provider_df['number_of_providers'].replace({',':''},regex=True)\n",
        "provider_df['number_of_users'] = provider_df['number_of_users'].replace({',':''},regex=True)\n",
        "\n",
        "obj_cols=['percentage_of_users_out_of_ffs_beneficiaries','number_of_fee_for_service_beneficiaries','number_of_providers','number_of_users']\n",
        "for obj in obj_cols:\n",
        "  print(obj)\n",
        "  provider_df.loc[:,'{}'.format(obj)] = provider_df.loc[:,'{}'.format(obj)].astype('float64')\n",
        "\n",
        "use_cols=['state', 'county', 'state_fips', 'county_fips', 'number_of_fee_for_service_beneficiaries', 'number_of_providers', 'year']\n",
        "provider_df = provider_df[use_cols]"
      ],
      "metadata": {
        "colab": {
          "base_uri": "https://localhost:8080/"
        },
        "id": "DbFLtiiJzMo7",
        "outputId": "58433d39-03c7-43ab-b0b5-d7d7e1d234f1"
      },
      "execution_count": 90,
      "outputs": [
        {
          "output_type": "stream",
          "name": "stdout",
          "text": [
            "percentage_of_users_out_of_ffs_beneficiaries\n",
            "number_of_fee_for_service_beneficiaries\n",
            "number_of_providers\n",
            "number_of_users\n"
          ]
        }
      ]
    },
    {
      "cell_type": "code",
      "source": [
        "# create fips\n",
        "provider_df.loc[:,'state_fips'] = provider_df.loc[:,'state_fips'].astype(int)\n",
        "provider_df.loc[:,'county_fips'] = provider_df.loc[:,'county_fips'].astype(int)\n",
        "\n",
        "provider_df['state_fips'] = [str(i) if len(str(i))==2 else \"0\"+str(i) for i in provider_df['state_fips']]\n",
        "\n",
        "new_list = []\n",
        "for i in range(len(provider_df)):\n",
        "  if len(str(provider_df['county_fips'][i]))==1:\n",
        "    new_list.append(str('00')+str(provider_df['county_fips'][i]))\n",
        "\n",
        "  elif len(str(provider_df['county_fips'][i]))==2:\n",
        "    new_list.append(str('0')+str(provider_df['county_fips'][i]))\n",
        "\n",
        "  elif len(str(provider_df['county_fips'][i]))==3:\n",
        "    new_list.append(str(provider_df['county_fips'][i]))\n",
        "\n",
        "provider_df['county_fips'] = new_list\n",
        "\n",
        "# new fips\n",
        "provider_df['county_fips'] = [str(provider_df['state_fips'][i])+str(provider_df['county_fips'][i]) for i in range(len(provider_df))]"
      ],
      "metadata": {
        "id": "7QjfFpOj22r8"
      },
      "execution_count": 92,
      "outputs": []
    },
    {
      "cell_type": "code",
      "source": [
        "provider_df.info()"
      ],
      "metadata": {
        "colab": {
          "base_uri": "https://localhost:8080/"
        },
        "id": "qqma52cuzlzf",
        "outputId": "367e4b14-cda6-4b9f-ebd5-9961cad938a9"
      },
      "execution_count": 93,
      "outputs": [
        {
          "output_type": "stream",
          "name": "stdout",
          "text": [
            "<class 'pandas.core.frame.DataFrame'>\n",
            "RangeIndex: 6649 entries, 0 to 6648\n",
            "Data columns (total 7 columns):\n",
            " #   Column                                   Non-Null Count  Dtype  \n",
            "---  ------                                   --------------  -----  \n",
            " 0   state                                    6649 non-null   object \n",
            " 1   county                                   6649 non-null   object \n",
            " 2   state_fips                               6649 non-null   object \n",
            " 3   county_fips                              6649 non-null   object \n",
            " 4   number_of_fee_for_service_beneficiaries  6649 non-null   float64\n",
            " 5   number_of_providers                      6649 non-null   float64\n",
            " 6   year                                     6649 non-null   object \n",
            "dtypes: float64(2), object(5)\n",
            "memory usage: 363.7+ KB\n"
          ]
        }
      ]
    },
    {
      "cell_type": "markdown",
      "source": [
        "#### Merge with site data"
      ],
      "metadata": {
        "id": "jtutjLihqfGi"
      }
    },
    {
      "cell_type": "code",
      "source": [
        "provider_df.loc[:,'county_fips'] = provider_df.loc[:,'county_fips'].astype('float64')\n",
        "site_df.loc[:,'county_fips'] = site_df.loc[:,'county_fips'].astype('float64')\n",
        "provider_df.loc[:,'year'] = provider_df.loc[:,'year'].astype(int)\n",
        "site_df.loc[:,'year'] = site_df.loc[:,'year'].astype(int)"
      ],
      "metadata": {
        "id": "gdWSJjyVqgnO"
      },
      "execution_count": 94,
      "outputs": []
    },
    {
      "cell_type": "code",
      "source": [
        "temp_df = pd.merge(site_df, provider_df, on=['county_fips','year'], how='outer')\n",
        "temp_df = temp_df[~temp_df['grant_number'].isna()].reset_index(drop=True)\n",
        "temp_df.info()"
      ],
      "metadata": {
        "colab": {
          "base_uri": "https://localhost:8080/"
        },
        "id": "8Ezfsl1DqpGa",
        "outputId": "4afa1023-2998-4147-ee00-6c6e84cbb86a"
      },
      "execution_count": 105,
      "outputs": [
        {
          "output_type": "stream",
          "name": "stdout",
          "text": [
            "<class 'pandas.core.frame.DataFrame'>\n",
            "RangeIndex: 38949 entries, 0 to 38948\n",
            "Data columns (total 33 columns):\n",
            " #   Column                                   Non-Null Count  Dtype  \n",
            "---  ------                                   --------------  -----  \n",
            " 0   bhcmis_id                                38949 non-null  object \n",
            " 1   grant_number                             38949 non-null  object \n",
            " 2   Health Center Name                       38949 non-null  object \n",
            " 3   Site Name                                38949 non-null  object \n",
            " 4   Site Type                                38949 non-null  object \n",
            " 5   Site Status                              38949 non-null  object \n",
            " 6   Location Type                            38949 non-null  object \n",
            " 7   Location Setting                         38949 non-null  object \n",
            " 8   Operational Schedule                     32702 non-null  object \n",
            " 9   Calendar Schedule                        32909 non-null  object \n",
            " 10  TotalWeekly Hours Of Operation           38792 non-null  object \n",
            " 11  Service Area Population                  38932 non-null  object \n",
            " 12  Site Operated By                         38949 non-null  object \n",
            " 13  Site Street Address                      38884 non-null  object \n",
            " 14  Site City                                38949 non-null  object \n",
            " 15  Site State                               38949 non-null  object \n",
            " 16  Site ZIP Code                            35797 non-null  object \n",
            " 17  Mailing Street Address                   27261 non-null  object \n",
            " 18  Mailing City                             29851 non-null  object \n",
            " 19  Mailing State                            29891 non-null  object \n",
            " 20  Mailing ZIP Code                         27616 non-null  object \n",
            " 21  Medicaid Number                          30451 non-null  object \n",
            " 22  Medicaid Pharm Number                    21358 non-null  object \n",
            " 23  Data As of                               38949 non-null  object \n",
            " 24  year                                     38949 non-null  int64  \n",
            " 25  full_address                             38949 non-null  object \n",
            " 26  zip_5                                    38937 non-null  float64\n",
            " 27  county_fips                              38949 non-null  float64\n",
            " 28  state                                    15530 non-null  object \n",
            " 29  county                                   15530 non-null  object \n",
            " 30  state_fips                               15530 non-null  object \n",
            " 31  number_of_fee_for_service_beneficiaries  15530 non-null  float64\n",
            " 32  number_of_providers                      15530 non-null  float64\n",
            "dtypes: float64(4), int64(1), object(28)\n",
            "memory usage: 9.8+ MB\n"
          ]
        }
      ]
    },
    {
      "cell_type": "code",
      "source": [
        "## define weights\n",
        "temp_df_wt = temp_df.groupby(['grant_number','year']).count()[['bhcmis_id']].reset_index(level=[0,1])\n",
        "temp_df_wt.rename(columns={'bhcmis_id':'wt'}, inplace=True)\n",
        "temp_df = pd.merge(temp_df, temp_df_wt, on=['grant_number','year'])\n",
        "temp_df['wt'] = [1/i for i in temp_df['wt']]\n",
        "temp_df = temp_df[~temp_df['number_of_providers'].isna()].reset_index(drop=True)\n",
        "temp_df.loc[:,'number_of_providers'] = temp_df.loc[:,'number_of_providers'].astype(int)\n",
        "# to create index\n",
        "temp_df['grantnumber_year'] = [str(temp_df['grant_number'][i])+\"_\"+str(temp_df['year'][i]) for i in range(len(temp_df))]"
      ],
      "metadata": {
        "id": "EKz4JxybsoLZ"
      },
      "execution_count": 106,
      "outputs": []
    },
    {
      "cell_type": "code",
      "source": [
        "temp_df"
      ],
      "metadata": {
        "colab": {
          "base_uri": "https://localhost:8080/",
          "height": 1000
        },
        "id": "Zbc7jlE15fqt",
        "outputId": "9f60b644-43ab-47f0-c614-418cbbb91dd2"
      },
      "execution_count": 108,
      "outputs": [
        {
          "output_type": "execute_result",
          "data": {
            "text/plain": [
              "      bhcmis_id grant_number                      Health Center Name  \\\n",
              "0         44230   H80CS00486         ANSON REGIONAL MEDICAL SERVICES   \n",
              "1         44230   H80CS00486         ANSON REGIONAL MEDICAL SERVICES   \n",
              "2         44230   H80CS00486         ANSON REGIONAL MEDICAL SERVICES   \n",
              "3         44230   H80CS00486         ANSON REGIONAL MEDICAL SERVICES   \n",
              "4         32750   H80CS00176  Choptank Community Health System, Inc.   \n",
              "...         ...          ...                                     ...   \n",
              "15525  08E01156   H80CS28358            POWELL HEALTH CARE COALITION   \n",
              "15526  08E01156   H80CS28358            POWELL HEALTH CARE COALITION   \n",
              "15527  08E01156   H80CS28358            POWELL HEALTH CARE COALITION   \n",
              "15528  08E01156   H80CS28358            POWELL HEALTH CARE COALITION   \n",
              "15529  08E01156   H80CS28358            POWELL HEALTH CARE COALITION   \n",
              "\n",
              "                                   Site Name  \\\n",
              "0      ANSON REGIONAL MEDICAL SERVICES, INC.   \n",
              "1                                 ARMS-Union   \n",
              "2      ANSON REGIONAL MEDICAL SERVICES, INC.   \n",
              "3                                 ARMS-Union   \n",
              "4              ANGELICA NURSERY MIGRANT CAMP   \n",
              "...                                      ...   \n",
              "15525                 Heritage Health Center   \n",
              "15526                 Heritage Health Center   \n",
              "15527                 Heritage Health Center   \n",
              "15528                 Heritage Health Center   \n",
              "15529     Heritage Health Center- Behavioral   \n",
              "\n",
              "                                  Site Type Site Status Location Type  \\\n",
              "0      Administrative/Service Delivery Site      Active     Permanent   \n",
              "1                     Service Delivery Site      Active     Permanent   \n",
              "2      Administrative/Service Delivery Site      Active     Permanent   \n",
              "3                     Service Delivery Site      Active     Permanent   \n",
              "4                     Service Delivery Site      Active      Seasonal   \n",
              "...                                     ...         ...           ...   \n",
              "15525  Administrative/Service Delivery Site      Active     Permanent   \n",
              "15526                 Service Delivery Site      Active     Permanent   \n",
              "15527                 Service Delivery Site      Active     Permanent   \n",
              "15528                 Service Delivery Site      Active     Permanent   \n",
              "15529  Administrative/Service Delivery Site      Active     Permanent   \n",
              "\n",
              "             Location Setting Operational Schedule Calendar Schedule  ...  \\\n",
              "0      All Other Clinic Types            Full-Time        Year-Round  ...   \n",
              "1      All Other Clinic Types                  NaN               NaN  ...   \n",
              "2      All Other Clinic Types            Full-Time        Year-Round  ...   \n",
              "3      All Other Clinic Types                    -                 -  ...   \n",
              "4      All Other Clinic Types            Part-Time          Seasonal  ...   \n",
              "...                       ...                  ...               ...  ...   \n",
              "15525  All Other Clinic Types                  NaN               NaN  ...   \n",
              "15526  All Other Clinic Types                  NaN               NaN  ...   \n",
              "15527  All Other Clinic Types                    -                 -  ...   \n",
              "15528  All Other Clinic Types                  NaN               NaN  ...   \n",
              "15529  All Other Clinic Types                  NaN               NaN  ...   \n",
              "\n",
              "                                      full_address    zip_5 county_fips state  \\\n",
              "0                   203 Salisbury St WADESBORO      28170.0     37007.0    NC   \n",
              "1              1315   Sunset Drive Monroe NC 28112  28112.0     37179.0    NC   \n",
              "2                   203 Salisbury St WADESBORO      28170.0     37007.0    NC   \n",
              "3              1315   Sunset Drive Monroe NC 28112  28112.0     37179.0    NC   \n",
              "4      11365 Locust Grove Rd Kennedyville MD 21645  21645.0     24029.0    MD   \n",
              "...                                            ...      ...         ...   ...   \n",
              "15525                306 N BENT ST POWELL WY 82435  82435.0     56029.0    WY   \n",
              "15526                128 N BENT ST POWELL WY 82435  82435.0     56029.0    WY   \n",
              "15527                128 N BENT ST POWELL WY 82435  82435.0     56029.0    WY   \n",
              "15528                128 N BENT ST POWELL WY 82435  82435.0     56029.0    WY   \n",
              "15529                126 N Bent St Powell WY 82435  82435.0     56029.0    WY   \n",
              "\n",
              "      county state_fips number_of_fee_for_service_beneficiaries  \\\n",
              "0      Anson         37                                  4235.0   \n",
              "1      Union         37                                 22786.0   \n",
              "2      Anson         37                                  4146.0   \n",
              "3      Union         37                                 22842.0   \n",
              "4       Kent         24                                  5433.0   \n",
              "...      ...        ...                                     ...   \n",
              "15525   Park         56                                  7393.0   \n",
              "15526   Park         56                                  7393.0   \n",
              "15527   Park         56                                  7697.0   \n",
              "15528   Park         56                                  7913.0   \n",
              "15529   Park         56                                  7913.0   \n",
              "\n",
              "      number_of_providers        wt grantnumber_year  \n",
              "0                       3  0.500000  H80CS00486_2017  \n",
              "1                       1  0.500000  H80CS00486_2017  \n",
              "2                       3  0.500000  H80CS00486_2018  \n",
              "3                       0  0.500000  H80CS00486_2018  \n",
              "4                       0  0.035714  H80CS00176_2017  \n",
              "...                   ...       ...              ...  \n",
              "15525                   1  0.500000  H80CS28358_2017  \n",
              "15526                   1  0.500000  H80CS28358_2017  \n",
              "15527                   1  1.000000  H80CS28358_2018  \n",
              "15528                   4  0.500000  H80CS28358_2019  \n",
              "15529                   4  0.500000  H80CS28358_2019  \n",
              "\n",
              "[15530 rows x 35 columns]"
            ],
            "text/html": [
              "\n",
              "  <div id=\"df-5a5bdeb6-ab84-4ba5-9d82-b25772ffc3de\">\n",
              "    <div class=\"colab-df-container\">\n",
              "      <div>\n",
              "<style scoped>\n",
              "    .dataframe tbody tr th:only-of-type {\n",
              "        vertical-align: middle;\n",
              "    }\n",
              "\n",
              "    .dataframe tbody tr th {\n",
              "        vertical-align: top;\n",
              "    }\n",
              "\n",
              "    .dataframe thead th {\n",
              "        text-align: right;\n",
              "    }\n",
              "</style>\n",
              "<table border=\"1\" class=\"dataframe\">\n",
              "  <thead>\n",
              "    <tr style=\"text-align: right;\">\n",
              "      <th></th>\n",
              "      <th>bhcmis_id</th>\n",
              "      <th>grant_number</th>\n",
              "      <th>Health Center Name</th>\n",
              "      <th>Site Name</th>\n",
              "      <th>Site Type</th>\n",
              "      <th>Site Status</th>\n",
              "      <th>Location Type</th>\n",
              "      <th>Location Setting</th>\n",
              "      <th>Operational Schedule</th>\n",
              "      <th>Calendar Schedule</th>\n",
              "      <th>...</th>\n",
              "      <th>full_address</th>\n",
              "      <th>zip_5</th>\n",
              "      <th>county_fips</th>\n",
              "      <th>state</th>\n",
              "      <th>county</th>\n",
              "      <th>state_fips</th>\n",
              "      <th>number_of_fee_for_service_beneficiaries</th>\n",
              "      <th>number_of_providers</th>\n",
              "      <th>wt</th>\n",
              "      <th>grantnumber_year</th>\n",
              "    </tr>\n",
              "  </thead>\n",
              "  <tbody>\n",
              "    <tr>\n",
              "      <th>0</th>\n",
              "      <td>44230</td>\n",
              "      <td>H80CS00486</td>\n",
              "      <td>ANSON REGIONAL MEDICAL SERVICES</td>\n",
              "      <td>ANSON REGIONAL MEDICAL SERVICES, INC.</td>\n",
              "      <td>Administrative/Service Delivery Site</td>\n",
              "      <td>Active</td>\n",
              "      <td>Permanent</td>\n",
              "      <td>All Other Clinic Types</td>\n",
              "      <td>Full-Time</td>\n",
              "      <td>Year-Round</td>\n",
              "      <td>...</td>\n",
              "      <td>203 Salisbury St WADESBORO</td>\n",
              "      <td>28170.0</td>\n",
              "      <td>37007.0</td>\n",
              "      <td>NC</td>\n",
              "      <td>Anson</td>\n",
              "      <td>37</td>\n",
              "      <td>4235.0</td>\n",
              "      <td>3</td>\n",
              "      <td>0.500000</td>\n",
              "      <td>H80CS00486_2017</td>\n",
              "    </tr>\n",
              "    <tr>\n",
              "      <th>1</th>\n",
              "      <td>44230</td>\n",
              "      <td>H80CS00486</td>\n",
              "      <td>ANSON REGIONAL MEDICAL SERVICES</td>\n",
              "      <td>ARMS-Union</td>\n",
              "      <td>Service Delivery Site</td>\n",
              "      <td>Active</td>\n",
              "      <td>Permanent</td>\n",
              "      <td>All Other Clinic Types</td>\n",
              "      <td>NaN</td>\n",
              "      <td>NaN</td>\n",
              "      <td>...</td>\n",
              "      <td>1315   Sunset Drive Monroe NC 28112</td>\n",
              "      <td>28112.0</td>\n",
              "      <td>37179.0</td>\n",
              "      <td>NC</td>\n",
              "      <td>Union</td>\n",
              "      <td>37</td>\n",
              "      <td>22786.0</td>\n",
              "      <td>1</td>\n",
              "      <td>0.500000</td>\n",
              "      <td>H80CS00486_2017</td>\n",
              "    </tr>\n",
              "    <tr>\n",
              "      <th>2</th>\n",
              "      <td>44230</td>\n",
              "      <td>H80CS00486</td>\n",
              "      <td>ANSON REGIONAL MEDICAL SERVICES</td>\n",
              "      <td>ANSON REGIONAL MEDICAL SERVICES, INC.</td>\n",
              "      <td>Administrative/Service Delivery Site</td>\n",
              "      <td>Active</td>\n",
              "      <td>Permanent</td>\n",
              "      <td>All Other Clinic Types</td>\n",
              "      <td>Full-Time</td>\n",
              "      <td>Year-Round</td>\n",
              "      <td>...</td>\n",
              "      <td>203 Salisbury St WADESBORO</td>\n",
              "      <td>28170.0</td>\n",
              "      <td>37007.0</td>\n",
              "      <td>NC</td>\n",
              "      <td>Anson</td>\n",
              "      <td>37</td>\n",
              "      <td>4146.0</td>\n",
              "      <td>3</td>\n",
              "      <td>0.500000</td>\n",
              "      <td>H80CS00486_2018</td>\n",
              "    </tr>\n",
              "    <tr>\n",
              "      <th>3</th>\n",
              "      <td>44230</td>\n",
              "      <td>H80CS00486</td>\n",
              "      <td>ANSON REGIONAL MEDICAL SERVICES</td>\n",
              "      <td>ARMS-Union</td>\n",
              "      <td>Service Delivery Site</td>\n",
              "      <td>Active</td>\n",
              "      <td>Permanent</td>\n",
              "      <td>All Other Clinic Types</td>\n",
              "      <td>-</td>\n",
              "      <td>-</td>\n",
              "      <td>...</td>\n",
              "      <td>1315   Sunset Drive Monroe NC 28112</td>\n",
              "      <td>28112.0</td>\n",
              "      <td>37179.0</td>\n",
              "      <td>NC</td>\n",
              "      <td>Union</td>\n",
              "      <td>37</td>\n",
              "      <td>22842.0</td>\n",
              "      <td>0</td>\n",
              "      <td>0.500000</td>\n",
              "      <td>H80CS00486_2018</td>\n",
              "    </tr>\n",
              "    <tr>\n",
              "      <th>4</th>\n",
              "      <td>32750</td>\n",
              "      <td>H80CS00176</td>\n",
              "      <td>Choptank Community Health System, Inc.</td>\n",
              "      <td>ANGELICA NURSERY MIGRANT CAMP</td>\n",
              "      <td>Service Delivery Site</td>\n",
              "      <td>Active</td>\n",
              "      <td>Seasonal</td>\n",
              "      <td>All Other Clinic Types</td>\n",
              "      <td>Part-Time</td>\n",
              "      <td>Seasonal</td>\n",
              "      <td>...</td>\n",
              "      <td>11365 Locust Grove Rd Kennedyville MD 21645</td>\n",
              "      <td>21645.0</td>\n",
              "      <td>24029.0</td>\n",
              "      <td>MD</td>\n",
              "      <td>Kent</td>\n",
              "      <td>24</td>\n",
              "      <td>5433.0</td>\n",
              "      <td>0</td>\n",
              "      <td>0.035714</td>\n",
              "      <td>H80CS00176_2017</td>\n",
              "    </tr>\n",
              "    <tr>\n",
              "      <th>...</th>\n",
              "      <td>...</td>\n",
              "      <td>...</td>\n",
              "      <td>...</td>\n",
              "      <td>...</td>\n",
              "      <td>...</td>\n",
              "      <td>...</td>\n",
              "      <td>...</td>\n",
              "      <td>...</td>\n",
              "      <td>...</td>\n",
              "      <td>...</td>\n",
              "      <td>...</td>\n",
              "      <td>...</td>\n",
              "      <td>...</td>\n",
              "      <td>...</td>\n",
              "      <td>...</td>\n",
              "      <td>...</td>\n",
              "      <td>...</td>\n",
              "      <td>...</td>\n",
              "      <td>...</td>\n",
              "      <td>...</td>\n",
              "      <td>...</td>\n",
              "    </tr>\n",
              "    <tr>\n",
              "      <th>15525</th>\n",
              "      <td>08E01156</td>\n",
              "      <td>H80CS28358</td>\n",
              "      <td>POWELL HEALTH CARE COALITION</td>\n",
              "      <td>Heritage Health Center</td>\n",
              "      <td>Administrative/Service Delivery Site</td>\n",
              "      <td>Active</td>\n",
              "      <td>Permanent</td>\n",
              "      <td>All Other Clinic Types</td>\n",
              "      <td>NaN</td>\n",
              "      <td>NaN</td>\n",
              "      <td>...</td>\n",
              "      <td>306 N BENT ST POWELL WY 82435</td>\n",
              "      <td>82435.0</td>\n",
              "      <td>56029.0</td>\n",
              "      <td>WY</td>\n",
              "      <td>Park</td>\n",
              "      <td>56</td>\n",
              "      <td>7393.0</td>\n",
              "      <td>1</td>\n",
              "      <td>0.500000</td>\n",
              "      <td>H80CS28358_2017</td>\n",
              "    </tr>\n",
              "    <tr>\n",
              "      <th>15526</th>\n",
              "      <td>08E01156</td>\n",
              "      <td>H80CS28358</td>\n",
              "      <td>POWELL HEALTH CARE COALITION</td>\n",
              "      <td>Heritage Health Center</td>\n",
              "      <td>Service Delivery Site</td>\n",
              "      <td>Active</td>\n",
              "      <td>Permanent</td>\n",
              "      <td>All Other Clinic Types</td>\n",
              "      <td>NaN</td>\n",
              "      <td>NaN</td>\n",
              "      <td>...</td>\n",
              "      <td>128 N BENT ST POWELL WY 82435</td>\n",
              "      <td>82435.0</td>\n",
              "      <td>56029.0</td>\n",
              "      <td>WY</td>\n",
              "      <td>Park</td>\n",
              "      <td>56</td>\n",
              "      <td>7393.0</td>\n",
              "      <td>1</td>\n",
              "      <td>0.500000</td>\n",
              "      <td>H80CS28358_2017</td>\n",
              "    </tr>\n",
              "    <tr>\n",
              "      <th>15527</th>\n",
              "      <td>08E01156</td>\n",
              "      <td>H80CS28358</td>\n",
              "      <td>POWELL HEALTH CARE COALITION</td>\n",
              "      <td>Heritage Health Center</td>\n",
              "      <td>Service Delivery Site</td>\n",
              "      <td>Active</td>\n",
              "      <td>Permanent</td>\n",
              "      <td>All Other Clinic Types</td>\n",
              "      <td>-</td>\n",
              "      <td>-</td>\n",
              "      <td>...</td>\n",
              "      <td>128 N BENT ST POWELL WY 82435</td>\n",
              "      <td>82435.0</td>\n",
              "      <td>56029.0</td>\n",
              "      <td>WY</td>\n",
              "      <td>Park</td>\n",
              "      <td>56</td>\n",
              "      <td>7697.0</td>\n",
              "      <td>1</td>\n",
              "      <td>1.000000</td>\n",
              "      <td>H80CS28358_2018</td>\n",
              "    </tr>\n",
              "    <tr>\n",
              "      <th>15528</th>\n",
              "      <td>08E01156</td>\n",
              "      <td>H80CS28358</td>\n",
              "      <td>POWELL HEALTH CARE COALITION</td>\n",
              "      <td>Heritage Health Center</td>\n",
              "      <td>Service Delivery Site</td>\n",
              "      <td>Active</td>\n",
              "      <td>Permanent</td>\n",
              "      <td>All Other Clinic Types</td>\n",
              "      <td>NaN</td>\n",
              "      <td>NaN</td>\n",
              "      <td>...</td>\n",
              "      <td>128 N BENT ST POWELL WY 82435</td>\n",
              "      <td>82435.0</td>\n",
              "      <td>56029.0</td>\n",
              "      <td>WY</td>\n",
              "      <td>Park</td>\n",
              "      <td>56</td>\n",
              "      <td>7913.0</td>\n",
              "      <td>4</td>\n",
              "      <td>0.500000</td>\n",
              "      <td>H80CS28358_2019</td>\n",
              "    </tr>\n",
              "    <tr>\n",
              "      <th>15529</th>\n",
              "      <td>08E01156</td>\n",
              "      <td>H80CS28358</td>\n",
              "      <td>POWELL HEALTH CARE COALITION</td>\n",
              "      <td>Heritage Health Center- Behavioral</td>\n",
              "      <td>Administrative/Service Delivery Site</td>\n",
              "      <td>Active</td>\n",
              "      <td>Permanent</td>\n",
              "      <td>All Other Clinic Types</td>\n",
              "      <td>NaN</td>\n",
              "      <td>NaN</td>\n",
              "      <td>...</td>\n",
              "      <td>126 N Bent St Powell WY 82435</td>\n",
              "      <td>82435.0</td>\n",
              "      <td>56029.0</td>\n",
              "      <td>WY</td>\n",
              "      <td>Park</td>\n",
              "      <td>56</td>\n",
              "      <td>7913.0</td>\n",
              "      <td>4</td>\n",
              "      <td>0.500000</td>\n",
              "      <td>H80CS28358_2019</td>\n",
              "    </tr>\n",
              "  </tbody>\n",
              "</table>\n",
              "<p>15530 rows × 35 columns</p>\n",
              "</div>\n",
              "      <button class=\"colab-df-convert\" onclick=\"convertToInteractive('df-5a5bdeb6-ab84-4ba5-9d82-b25772ffc3de')\"\n",
              "              title=\"Convert this dataframe to an interactive table.\"\n",
              "              style=\"display:none;\">\n",
              "        \n",
              "  <svg xmlns=\"http://www.w3.org/2000/svg\" height=\"24px\"viewBox=\"0 0 24 24\"\n",
              "       width=\"24px\">\n",
              "    <path d=\"M0 0h24v24H0V0z\" fill=\"none\"/>\n",
              "    <path d=\"M18.56 5.44l.94 2.06.94-2.06 2.06-.94-2.06-.94-.94-2.06-.94 2.06-2.06.94zm-11 1L8.5 8.5l.94-2.06 2.06-.94-2.06-.94L8.5 2.5l-.94 2.06-2.06.94zm10 10l.94 2.06.94-2.06 2.06-.94-2.06-.94-.94-2.06-.94 2.06-2.06.94z\"/><path d=\"M17.41 7.96l-1.37-1.37c-.4-.4-.92-.59-1.43-.59-.52 0-1.04.2-1.43.59L10.3 9.45l-7.72 7.72c-.78.78-.78 2.05 0 2.83L4 21.41c.39.39.9.59 1.41.59.51 0 1.02-.2 1.41-.59l7.78-7.78 2.81-2.81c.8-.78.8-2.07 0-2.86zM5.41 20L4 18.59l7.72-7.72 1.47 1.35L5.41 20z\"/>\n",
              "  </svg>\n",
              "      </button>\n",
              "      \n",
              "  <style>\n",
              "    .colab-df-container {\n",
              "      display:flex;\n",
              "      flex-wrap:wrap;\n",
              "      gap: 12px;\n",
              "    }\n",
              "\n",
              "    .colab-df-convert {\n",
              "      background-color: #E8F0FE;\n",
              "      border: none;\n",
              "      border-radius: 50%;\n",
              "      cursor: pointer;\n",
              "      display: none;\n",
              "      fill: #1967D2;\n",
              "      height: 32px;\n",
              "      padding: 0 0 0 0;\n",
              "      width: 32px;\n",
              "    }\n",
              "\n",
              "    .colab-df-convert:hover {\n",
              "      background-color: #E2EBFA;\n",
              "      box-shadow: 0px 1px 2px rgba(60, 64, 67, 0.3), 0px 1px 3px 1px rgba(60, 64, 67, 0.15);\n",
              "      fill: #174EA6;\n",
              "    }\n",
              "\n",
              "    [theme=dark] .colab-df-convert {\n",
              "      background-color: #3B4455;\n",
              "      fill: #D2E3FC;\n",
              "    }\n",
              "\n",
              "    [theme=dark] .colab-df-convert:hover {\n",
              "      background-color: #434B5C;\n",
              "      box-shadow: 0px 1px 3px 1px rgba(0, 0, 0, 0.15);\n",
              "      filter: drop-shadow(0px 1px 2px rgba(0, 0, 0, 0.3));\n",
              "      fill: #FFFFFF;\n",
              "    }\n",
              "  </style>\n",
              "\n",
              "      <script>\n",
              "        const buttonEl =\n",
              "          document.querySelector('#df-5a5bdeb6-ab84-4ba5-9d82-b25772ffc3de button.colab-df-convert');\n",
              "        buttonEl.style.display =\n",
              "          google.colab.kernel.accessAllowed ? 'block' : 'none';\n",
              "\n",
              "        async function convertToInteractive(key) {\n",
              "          const element = document.querySelector('#df-5a5bdeb6-ab84-4ba5-9d82-b25772ffc3de');\n",
              "          const dataTable =\n",
              "            await google.colab.kernel.invokeFunction('convertToInteractive',\n",
              "                                                     [key], {});\n",
              "          if (!dataTable) return;\n",
              "\n",
              "          const docLinkHtml = 'Like what you see? Visit the ' +\n",
              "            '<a target=\"_blank\" href=https://colab.research.google.com/notebooks/data_table.ipynb>data table notebook</a>'\n",
              "            + ' to learn more about interactive tables.';\n",
              "          element.innerHTML = '';\n",
              "          dataTable['output_type'] = 'display_data';\n",
              "          await google.colab.output.renderOutput(dataTable, element);\n",
              "          const docLink = document.createElement('div');\n",
              "          docLink.innerHTML = docLinkHtml;\n",
              "          element.appendChild(docLink);\n",
              "        }\n",
              "      </script>\n",
              "    </div>\n",
              "  </div>\n",
              "  "
            ]
          },
          "metadata": {},
          "execution_count": 108
        }
      ]
    },
    {
      "cell_type": "code",
      "source": [
        "temp_df[['grantnumber_year', \n",
        "         'county_fips','number_of_providers','wt']].info()"
      ],
      "metadata": {
        "colab": {
          "base_uri": "https://localhost:8080/"
        },
        "id": "qW3HPXxetynY",
        "outputId": "24f1f7f8-1fab-4566-c45c-e1c45a2b65c8"
      },
      "execution_count": 107,
      "outputs": [
        {
          "output_type": "stream",
          "name": "stdout",
          "text": [
            "<class 'pandas.core.frame.DataFrame'>\n",
            "RangeIndex: 15530 entries, 0 to 15529\n",
            "Data columns (total 4 columns):\n",
            " #   Column               Non-Null Count  Dtype  \n",
            "---  ------               --------------  -----  \n",
            " 0   grantnumber_year     15530 non-null  object \n",
            " 1   county_fips          15530 non-null  float64\n",
            " 2   number_of_providers  15530 non-null  int64  \n",
            " 3   wt                   15530 non-null  float64\n",
            "dtypes: float64(2), int64(1), object(1)\n",
            "memory usage: 485.4+ KB\n"
          ]
        }
      ]
    },
    {
      "cell_type": "code",
      "source": [
        "# get weighted average of `number of providers`\n",
        "temp_df_wa = temp_df.groupby(temp_df.grantnumber_year).apply(lambda x: np.average(x.number_of_providers, weights=x.wt)).to_frame().reset_index(level=[0])\n",
        "temp_df_wa.columns = ['grantnumber_year','number_of_providers_wa']\n",
        "# merge\n",
        "temp_df = pd.merge(temp_df, temp_df_wa, on=['grantnumber_year'])\n",
        "provider_df = temp_df[['grant_number','year','number_of_providers_wa']].drop_duplicates().reset_index(drop=True)"
      ],
      "metadata": {
        "id": "9wL9Wz4msiDw"
      },
      "execution_count": 110,
      "outputs": []
    },
    {
      "cell_type": "code",
      "source": [
        "provider_df.to_csv('/content/drive/MyDrive/ASU/Telehealth/Data/healthcentersite_provider_wa.csv', index=False)"
      ],
      "metadata": {
        "id": "2RvB_7XDuzya"
      },
      "execution_count": 111,
      "outputs": []
    }
  ]
}