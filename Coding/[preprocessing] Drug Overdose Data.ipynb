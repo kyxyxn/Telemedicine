{
 "cells": [
  {
   "cell_type": "code",
   "execution_count": 2,
   "metadata": {},
   "outputs": [],
   "source": [
    "import numpy as np\n",
    "import pandas as pd\n",
    "\n",
    "import requests, re, os\n",
    "import urllib\n",
    "from bs4 import BeautifulSoup as bs"
   ]
  },
  {
   "cell_type": "markdown",
   "metadata": {},
   "source": [
    "#### Make Function to Crawl opioid dispense table"
   ]
  },
  {
   "cell_type": "code",
   "execution_count": 77,
   "metadata": {},
   "outputs": [],
   "source": [
    "def make_table(years):\n",
    "    new_df = pd.DataFrame()\n",
    "\n",
    "    for year in years:\n",
    "        print(year)\n",
    "        html = requests.get('https://www.cdc.gov/drugoverdose/maps/rxcounty{}.html'.format(year))\n",
    "        print(html)\n",
    "        soup = bs(html.text, 'html.parser')\n",
    "        html.close()\n",
    "\n",
    "        if html.status_code == 200:\n",
    "            try:\n",
    "                table = soup.find('table', {'class':'table table-striped'})\n",
    "\n",
    "                thead = table.find('thead')\n",
    "\n",
    "                ths = thead.find_all('th')\n",
    "                th_list = [i.get_text() for i in ths]\n",
    "\n",
    "                tbody = table.find('tbody')\n",
    "                trs = tbody.find_all('tr')\n",
    "                tr_list = [i.get_text(';', strip=True) for i in trs]\n",
    "\n",
    "\n",
    "                table_content_df = pd.DataFrame(data = tr_list)\n",
    "\n",
    "                table_content_df = pd.DataFrame(data = table_content_df[0].str.split(';', 4).tolist(),\n",
    "                                            columns = th_list)\n",
    "                table_content_df['year'] = year\n",
    "    \n",
    "\n",
    "            except:\n",
    "                print(\"Table not scrapable\")\n",
    "                table_content_df = pd.DataFrame()\n",
    "                \n",
    "            new_df = new_df.append(table_content_df)\n",
    "            \n",
    "        else:\n",
    "            print(\"HTML does not open\")\n",
    "            pass\n",
    "        \n",
    "    return new_df"
   ]
  },
  {
   "cell_type": "code",
   "execution_count": 79,
   "metadata": {
    "scrolled": true
   },
   "outputs": [
    {
     "name": "stdout",
     "output_type": "stream",
     "text": [
      "2010\n",
      "<Response [200]>\n",
      "2011\n",
      "<Response [200]>\n",
      "2012\n",
      "<Response [200]>\n",
      "2013\n",
      "<Response [200]>\n",
      "2014\n",
      "<Response [200]>\n",
      "2015\n",
      "<Response [200]>\n",
      "2016\n",
      "<Response [200]>\n",
      "2017\n",
      "<Response [200]>\n",
      "2018\n",
      "<Response [200]>\n",
      "2019\n",
      "<Response [200]>\n"
     ]
    }
   ],
   "source": [
    "years = list(range(2010,2020))\n",
    "opioid_dispense_df = make_table(years)"
   ]
  },
  {
   "cell_type": "code",
   "execution_count": 84,
   "metadata": {},
   "outputs": [],
   "source": [
    "# Clean File\n",
    "opioid_dispense_df['Opioid Dispensing Rate per 100'] = opioid_dispense_df['Opioid Dispensing Rate per 100'].replace({'–':np.nan})\n",
    "opioid_dispense_df = opioid_dispense_df.reset_index(drop=True)\n",
    "# Safe File\n",
    "opioid_dispense_df.to_csv(r'/Users/krhee/Dropbox (ASU)/RA_2021/Datasets/Opioid/opioid_dispense.csv', index=False)"
   ]
  },
  {
   "cell_type": "code",
   "execution_count": 112,
   "metadata": {
    "scrolled": true
   },
   "outputs": [
    {
     "data": {
      "text/html": [
       "<div>\n",
       "<style scoped>\n",
       "    .dataframe tbody tr th:only-of-type {\n",
       "        vertical-align: middle;\n",
       "    }\n",
       "\n",
       "    .dataframe tbody tr th {\n",
       "        vertical-align: top;\n",
       "    }\n",
       "\n",
       "    .dataframe thead th {\n",
       "        text-align: right;\n",
       "    }\n",
       "</style>\n",
       "<table border=\"1\" class=\"dataframe\">\n",
       "  <thead>\n",
       "    <tr style=\"text-align: right;\">\n",
       "      <th></th>\n",
       "      <th>County</th>\n",
       "      <th>State</th>\n",
       "      <th>County FIPS Code</th>\n",
       "      <th>Opioid Dispensing Rate per 100</th>\n",
       "      <th>year</th>\n",
       "    </tr>\n",
       "  </thead>\n",
       "  <tbody>\n",
       "    <tr>\n",
       "      <th>0</th>\n",
       "      <td>Aleutians East, AK</td>\n",
       "      <td>AK</td>\n",
       "      <td>02013</td>\n",
       "      <td>NaN</td>\n",
       "      <td>2010</td>\n",
       "    </tr>\n",
       "    <tr>\n",
       "      <th>1</th>\n",
       "      <td>Aleutians West, AK</td>\n",
       "      <td>AK</td>\n",
       "      <td>02016</td>\n",
       "      <td>NaN</td>\n",
       "      <td>2010</td>\n",
       "    </tr>\n",
       "    <tr>\n",
       "      <th>2</th>\n",
       "      <td>Anchorage, AK</td>\n",
       "      <td>AK</td>\n",
       "      <td>02020</td>\n",
       "      <td>75.1</td>\n",
       "      <td>2010</td>\n",
       "    </tr>\n",
       "    <tr>\n",
       "      <th>3</th>\n",
       "      <td>Bethel, AK</td>\n",
       "      <td>AK</td>\n",
       "      <td>02050</td>\n",
       "      <td>NaN</td>\n",
       "      <td>2010</td>\n",
       "    </tr>\n",
       "    <tr>\n",
       "      <th>4</th>\n",
       "      <td>Bristol Bay, AK</td>\n",
       "      <td>AK</td>\n",
       "      <td>02060</td>\n",
       "      <td>NaN</td>\n",
       "      <td>2010</td>\n",
       "    </tr>\n",
       "  </tbody>\n",
       "</table>\n",
       "</div>"
      ],
      "text/plain": [
       "               County State County FIPS Code Opioid Dispensing Rate per 100  \\\n",
       "0  Aleutians East, AK    AK            02013                            NaN   \n",
       "1  Aleutians West, AK    AK            02016                            NaN   \n",
       "2       Anchorage, AK    AK            02020                           75.1   \n",
       "3          Bethel, AK    AK            02050                            NaN   \n",
       "4     Bristol Bay, AK    AK            02060                            NaN   \n",
       "\n",
       "   year  \n",
       "0  2010  \n",
       "1  2010  \n",
       "2  2010  \n",
       "3  2010  \n",
       "4  2010  "
      ]
     },
     "execution_count": 112,
     "metadata": {},
     "output_type": "execute_result"
    }
   ],
   "source": [
    "opioid_dispense_df.head()"
   ]
  },
  {
   "cell_type": "markdown",
   "metadata": {},
   "source": [
    "##### Clean Drug Overdose Death File"
   ]
  },
  {
   "cell_type": "code",
   "execution_count": 91,
   "metadata": {},
   "outputs": [],
   "source": [
    "# Open Text File (Tab-Delimited)\n",
    "import csv\n",
    "with open(r'/Users/krhee/Downloads/Underlying Cause of Death, 1999-2019 (2).txt') as f:\n",
    "    reader = csv.reader(f, delimiter=\"\\t\")\n",
    "    df = list(reader)\n",
    "    \n",
    "death_df = pd.DataFrame(data=df)"
   ]
  },
  {
   "cell_type": "code",
   "execution_count": 95,
   "metadata": {},
   "outputs": [],
   "source": [
    "# Clean table\n",
    "death_df.columns = death_df.iloc[0].values\n",
    "death_df = death_df.drop([0])\n",
    "death_df = death_df.drop(columns=['Notes'])\n",
    "\n",
    "death_df = death_df.dropna(subset=['County','County Code'])\n",
    "\n",
    "# Save File\n",
    "death_df.to_csv(r'/Users/krhee/Dropbox (ASU)/RA_2021/Datasets/Opioid/underlying_cause_of_death_drug_overdose.csv', index=False)"
   ]
  },
  {
   "cell_type": "code",
   "execution_count": 113,
   "metadata": {
    "scrolled": false
   },
   "outputs": [
    {
     "data": {
      "text/html": [
       "<div>\n",
       "<style scoped>\n",
       "    .dataframe tbody tr th:only-of-type {\n",
       "        vertical-align: middle;\n",
       "    }\n",
       "\n",
       "    .dataframe tbody tr th {\n",
       "        vertical-align: top;\n",
       "    }\n",
       "\n",
       "    .dataframe thead th {\n",
       "        text-align: right;\n",
       "    }\n",
       "</style>\n",
       "<table border=\"1\" class=\"dataframe\">\n",
       "  <thead>\n",
       "    <tr style=\"text-align: right;\">\n",
       "      <th></th>\n",
       "      <th>County</th>\n",
       "      <th>County Code</th>\n",
       "      <th>Year</th>\n",
       "      <th>Year Code</th>\n",
       "      <th>ICD-10 113 Cause List</th>\n",
       "      <th>ICD-10 113 Cause List Code</th>\n",
       "      <th>Deaths</th>\n",
       "      <th>Population</th>\n",
       "      <th>Crude Rate</th>\n",
       "    </tr>\n",
       "  </thead>\n",
       "  <tbody>\n",
       "    <tr>\n",
       "      <th>1</th>\n",
       "      <td>Baldwin County, AL</td>\n",
       "      <td>01003</td>\n",
       "      <td>2017</td>\n",
       "      <td>2017</td>\n",
       "      <td>#Accidents (unintentional injuries) (V01-X59,Y...</td>\n",
       "      <td>GR113-112</td>\n",
       "      <td>23</td>\n",
       "      <td>212628</td>\n",
       "      <td>10.8</td>\n",
       "    </tr>\n",
       "    <tr>\n",
       "      <th>2</th>\n",
       "      <td>Baldwin County, AL</td>\n",
       "      <td>01003</td>\n",
       "      <td>2017</td>\n",
       "      <td>2017</td>\n",
       "      <td>Nontransport accidents (W00-X59,Y86)</td>\n",
       "      <td>GR113-117</td>\n",
       "      <td>23</td>\n",
       "      <td>212628</td>\n",
       "      <td>10.8</td>\n",
       "    </tr>\n",
       "    <tr>\n",
       "      <th>3</th>\n",
       "      <td>Baldwin County, AL</td>\n",
       "      <td>01003</td>\n",
       "      <td>2017</td>\n",
       "      <td>2017</td>\n",
       "      <td>Accidental poisoning and exposure to noxious s...</td>\n",
       "      <td>GR113-122</td>\n",
       "      <td>23</td>\n",
       "      <td>212628</td>\n",
       "      <td>10.8</td>\n",
       "    </tr>\n",
       "    <tr>\n",
       "      <th>4</th>\n",
       "      <td>Baldwin County, AL</td>\n",
       "      <td>01003</td>\n",
       "      <td>2018</td>\n",
       "      <td>2018</td>\n",
       "      <td>#Accidents (unintentional injuries) (V01-X59,Y...</td>\n",
       "      <td>GR113-112</td>\n",
       "      <td>24</td>\n",
       "      <td>218022</td>\n",
       "      <td>11.0</td>\n",
       "    </tr>\n",
       "    <tr>\n",
       "      <th>5</th>\n",
       "      <td>Baldwin County, AL</td>\n",
       "      <td>01003</td>\n",
       "      <td>2018</td>\n",
       "      <td>2018</td>\n",
       "      <td>Nontransport accidents (W00-X59,Y86)</td>\n",
       "      <td>GR113-117</td>\n",
       "      <td>24</td>\n",
       "      <td>218022</td>\n",
       "      <td>11.0</td>\n",
       "    </tr>\n",
       "  </tbody>\n",
       "</table>\n",
       "</div>"
      ],
      "text/plain": [
       "               County County Code  Year Year Code  \\\n",
       "1  Baldwin County, AL       01003  2017      2017   \n",
       "2  Baldwin County, AL       01003  2017      2017   \n",
       "3  Baldwin County, AL       01003  2017      2017   \n",
       "4  Baldwin County, AL       01003  2018      2018   \n",
       "5  Baldwin County, AL       01003  2018      2018   \n",
       "\n",
       "                               ICD-10 113 Cause List  \\\n",
       "1  #Accidents (unintentional injuries) (V01-X59,Y...   \n",
       "2               Nontransport accidents (W00-X59,Y86)   \n",
       "3  Accidental poisoning and exposure to noxious s...   \n",
       "4  #Accidents (unintentional injuries) (V01-X59,Y...   \n",
       "5               Nontransport accidents (W00-X59,Y86)   \n",
       "\n",
       "  ICD-10 113 Cause List Code Deaths Population Crude Rate  \n",
       "1                  GR113-112     23     212628       10.8  \n",
       "2                  GR113-117     23     212628       10.8  \n",
       "3                  GR113-122     23     212628       10.8  \n",
       "4                  GR113-112     24     218022       11.0  \n",
       "5                  GR113-117     24     218022       11.0  "
      ]
     },
     "execution_count": 113,
     "metadata": {},
     "output_type": "execute_result"
    }
   ],
   "source": [
    "death_df.head()"
   ]
  },
  {
   "cell_type": "code",
   "execution_count": null,
   "metadata": {},
   "outputs": [],
   "source": []
  }
 ],
 "metadata": {
  "kernelspec": {
   "display_name": "Python 3",
   "language": "python",
   "name": "python3"
  },
  "language_info": {
   "codemirror_mode": {
    "name": "ipython",
    "version": 3
   },
   "file_extension": ".py",
   "mimetype": "text/x-python",
   "name": "python",
   "nbconvert_exporter": "python",
   "pygments_lexer": "ipython3",
   "version": "3.9.2"
  }
 },
 "nbformat": 4,
 "nbformat_minor": 4
}
