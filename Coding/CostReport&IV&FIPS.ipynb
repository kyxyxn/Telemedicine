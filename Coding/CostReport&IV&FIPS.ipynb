{
 "cells": [
  {
   "cell_type": "code",
   "execution_count": 1,
   "metadata": {},
   "outputs": [],
   "source": [
    "import pandas as pd"
   ]
  },
  {
   "cell_type": "code",
   "execution_count": 2,
   "metadata": {},
   "outputs": [],
   "source": [
    "state_list = ['CA', 'TX', 'FL', 'NH', 'PA']"
   ]
  },
  {
   "cell_type": "markdown",
   "metadata": {},
   "source": [
    "## Link FIPS & HOSP data"
   ]
  },
  {
   "cell_type": "markdown",
   "metadata": {},
   "source": [
    "#### hosp data"
   ]
  },
  {
   "cell_type": "code",
   "execution_count": 42,
   "metadata": {},
   "outputs": [],
   "source": [
    "hosp_df = pd.read_csv(r'/Users/krhee/Dropbox (ASU)/RA_2021/Datasets/Outcome/hosp10-reports/HOSPITAL10_PROVIDER_ID_INFO.CSV')\n",
    "hosp_df = hosp_df[['PROVIDER_NUMBER', 'HOSP10_Name',\n",
    "                   'State_id', 'City', 'County','zip_code_clean']]\n",
    "hosp_df = hosp_df.sort_values(by=['PROVIDER_NUMBER'])\n",
    "hosp_df = hosp_df[hosp_df['State_id'].isin(state_list)]\n",
    "hosp_df = hosp_df.reset_index(drop=True)\n",
    "\n",
    "# Clean county names for FIPS link\n",
    "hosp_df['County'] = hosp_df['County'].replace(to_replace={\"( COUNTY)\":\"\", \"( County)\":\"\", \"( county)\":\"\",\n",
    "                                                                              \"( BOROUH)\":\"\", \"( BOROUGH)\":\"\",\"( Borough)\":\"\", \"( borough)\":\"\",\n",
    "                                                                              \"( PARISH)\":\"\", \"( Parish)\":\"\", \"( parish)\":\"\",\n",
    "                                                                              \"( MUNICIPALITY)\":\"\", \"( Municipality)\":\"\", \"( municipality)\":\"\",\n",
    "                                                                              \"( CITY)\":\"\", \"( City)\":\"\", \"( city)\":\"\",\n",
    "                                                                              \"( PENINSULA)\":\"\", \"( Peninsula)\":\"\", \"( peninsula)\":\"\",\n",
    "                                                                              \"( THE DISTRICT)\":\"dc\", \"(ST. )\":\"st. \", \"(SAINT )\":\"st. \"}, regex=True)\n",
    "\n",
    "# 고치기\n",
    "hosp_df['county_clean'] = [i.lower() for i in hosp_df['County']]\n",
    "hosp_df['county_clean'] = [i.replace(\" \",\"\") for i in hosp_df['county_clean']]\n",
    "hosp_df['county_clean'] = hosp_df['county_clean'].replace(to_replace=\n",
    "                                                                    ['[\\\\u0001-\\\\u002F]','[\\\\u003A-\\\\u0040]',\n",
    "                                                                     '[\\\\u005B-\\\\u0060]','[\\\\u007B-\\\\u9999]',\n",
    "                                                                     '[＜＞]'], value='', regex=True)\n",
    "\n",
    "# Index\n",
    "hosp_df['state_county'] = [str(hosp_df['State_id'][i])+\"_\"+str(hosp_df['county_clean'][i]) for i in range(len(hosp_df))]"
   ]
  },
  {
   "cell_type": "markdown",
   "metadata": {},
   "source": [
    "#### Fips data"
   ]
  },
  {
   "cell_type": "code",
   "execution_count": 44,
   "metadata": {},
   "outputs": [],
   "source": [
    "fips_df = pd.read_csv(r'/Users/krhee/Dropbox (ASU)/RA_2021/Datasets/FIPS/fips_df2.csv')\n",
    "\n",
    "# clean\n",
    "new_list = []\n",
    "for i in range(len(fips_df)):\n",
    "    if len(str(fips_df['FIPS'][i]))==4:\n",
    "        new_list.append(str(0)+str(fips_df['FIPS'][i]))\n",
    "    elif len(str(fips_df['FIPS'][i]))==5:\n",
    "        new_list.append(str(fips_df['FIPS'][i]))\n",
    "    else:\n",
    "        print(i)\n",
    "fips_df['FIPS'] = new_list\n",
    "\n",
    "# Merge\n",
    "hosp_df = pd.merge(hosp_df, fips_df, on=['State_id', 'state_county'])\n",
    "# clean\n",
    "hosp_df = hosp_df.drop(columns = ['county_clean_x'])\n",
    "hosp_df = hosp_df.rename(columns = {'county_clean_y':'county_clean'})"
   ]
  },
  {
   "cell_type": "markdown",
   "metadata": {},
   "source": [
    "----"
   ]
  },
  {
   "cell_type": "markdown",
   "metadata": {},
   "source": [
    "### Cost Report"
   ]
  },
  {
   "cell_type": "code",
   "execution_count": 46,
   "metadata": {},
   "outputs": [],
   "source": [
    "cost_2018_df = pd.read_csv(r'/Users/krhee/Dropbox (ASU)/RA_2021/Datasets/Outcome/Medicare_Inpatient/Medicare_Provider_Charge_Inpatient_DRGALL_FY2018.csv')\n",
    "cost_2017_df = pd.read_csv(r'/Users/krhee/Dropbox (ASU)/RA_2021/Datasets/Outcome/Medicare_Inpatient/Medicare_Provider_Charge_Inpatient_DRGALL_FY2017.csv')\n",
    "\n",
    "# FY\n",
    "cost_2018_df['FY'] = 2018\n",
    "cost_2017_df['FY'] = 2017\n",
    "# DRG\n",
    "cost_2018_df['DRG'] = [i[:3] for i in cost_2018_df['DRG_DESC']]\n",
    "cost_2017_df['DRG'] = [i[:3] for i in cost_2017_df['DRG Definition']]\n",
    "# Focus states\n",
    "cost_2018_df = cost_2018_df[cost_2018_df['STATE_DESC'].isin(state_list)]\n",
    "cost_2017_df = cost_2017_df[cost_2017_df['Provider State'].isin(state_list)]\n",
    "\n",
    "hosp_df = hosp_df.rename(columns = {\"PROVIDER_NUMBER\":\"PROVIDER_ID\"})\n",
    "cost_2018_df = pd.merge(cost_2018_df, hosp_df, on=['PROVIDER_ID'])\n",
    "\n",
    "hosp_df = hosp_df.rename(columns = {'PROVIDER_ID':'Provider Id'})\n",
    "cost_2017_df = pd.merge(cost_2017_df, hosp_df, on=['Provider Id'])"
   ]
  },
  {
   "cell_type": "code",
   "execution_count": 51,
   "metadata": {
    "scrolled": true
   },
   "outputs": [],
   "source": [
    "# make columns\n",
    "## 큰 순서대로 \n",
    "# Average Covered Charges: Hospital's average charge for services covered by medicare for all discharges in the MS-DRG.\n",
    "# Average Total Payments: What Medicare actually pays to the provider as well as co-payment and deductible amounts that the beneficiary is responsbile for and payments by third parties for coordination of benefits.\n",
    "# Average Medicare Payments: The average amount that Medicare pays to the hospital for Medicare's share of the MS-DRG.\n",
    "\n",
    "cost_2018_df['TOTAL_COVERED_CHARGES'] = cost_2018_df['DISCHARGE_COUNT_SUM']*cost_2018_df['MEAN_COVERED_CHARGES'] \n",
    "cost_2018_df['TOTAL_PAYMENTS'] = cost_2018_df['DISCHARGE_COUNT_SUM']*cost_2018_df['MEAN_MEDICARE_PAYMENTS'] \n",
    "cost_2018_df['TOTAL_MEDICARE_PAYMENTS'] = cost_2018_df['DISCHARGE_COUNT_SUM']*cost_2018_df['MEAN_MEDICARE_REIMBURSEMENT'] \n",
    "\n",
    "cost_2017_df['TOTAL_COVERED_CHARGES'] = cost_2017_df['Total Discharges'] * cost_2017_df['Average Covered Charges']\n",
    "cost_2017_df['TOTAL_PAYMENTS'] = cost_2017_df['Total Discharges'] * cost_2017_df['Average Total Payments']\n",
    "cost_2017_df['TOTAL_MEDICARE_PAYMENTS'] = cost_2017_df['Total Discharges'] * cost_2017_df['Average Medicare Payments']\n",
    "\n",
    "cost_2018_df = cost_2018_df[['FIPS', 'State_id','County', 'DRG_DESC', \n",
    "                             'DISCHARGE_COUNT_SUM', 'TOTAL_COVERED_CHARGES', 'TOTAL_PAYMENTS','TOTAL_MEDICARE_PAYMENTS',\n",
    "                             'State_FIPS','County_FIPS','county_clean',\n",
    "                             'PROVIDER_ID', 'FACILITY_NAME', 'FACILITY_CITY', 'FY', 'DRG','zip_code_clean']]\n",
    "cost_2017_df = cost_2017_df[['FIPS', 'State_id', 'County', 'DRG Definition', \n",
    "                             'Total Discharges', 'TOTAL_COVERED_CHARGES', 'TOTAL_PAYMENTS','TOTAL_MEDICARE_PAYMENTS',\n",
    "                             'State_FIPS','County_FIPS','county_clean',\n",
    "                             'Provider Id', 'Provider Name','Provider City', 'FY', 'DRG','zip_code_clean']]"
   ]
  },
  {
   "cell_type": "markdown",
   "metadata": {},
   "source": [
    "##### MS-DRG"
   ]
  },
  {
   "cell_type": "code",
   "execution_count": 76,
   "metadata": {},
   "outputs": [],
   "source": [
    "# Crawl from wiki (https://en.wikipedia.org/wiki/Major_Diagnostic_Category)\n",
    "import pandas as pd\n",
    "import requests, re, os\n",
    "import urllib\n",
    "from bs4 import BeautifulSoup as bs\n",
    "\n",
    "html = requests.get('https://en.wikipedia.org/wiki/Major_Diagnostic_Category')\n",
    "soup = bs(html.text, 'html.parser')\n",
    "html.close()\n",
    "\n",
    "table = soup.find('table', {'class':'wikitable'})\n",
    "trs = table.find_all('tr')\n",
    "\n",
    "new_dict = {}\n",
    "for i in range(len(trs)):\n",
    "    if i>=1:\n",
    "        new_dict[trs[i].find_all('td')[-1].get_text(strip=True)] = trs[i].find_all('td')[0].get_text(strip=True)\n",
    "    else:\n",
    "        print(i)\n",
    "\n",
    "# to df\n",
    "drg_df = pd.DataFrame.from_dict(data=new_dict, orient='index', columns=['description'])\n",
    "drg_df.reset_index(inplace=True)\n",
    "drg_df.columns = ['msdrg','description']\n",
    "\n",
    "## tuning\n",
    "drg_df['msdrg_start'] = [i[:3] for i in drg_df['msdrg']]\n",
    "drg_df['msdrg_end'] = [i[-3:] for i in drg_df['msdrg']]\n",
    "\n",
    "## dtypes\n",
    "drg_df['msdrg_start'] = drg_df['msdrg_start'].astype(int)\n",
    "drg_df['msdrg_end'] = drg_df['msdrg_end'].astype(int)"
   ]
  },
  {
   "cell_type": "code",
   "execution_count": 124,
   "metadata": {},
   "outputs": [],
   "source": [
    "## 2018\n",
    "cost_2018_df['DRG'] = cost_2018_df['DRG'].astype(int)\n",
    "\n",
    "# meta\n",
    "cost_2018_df_meta = cost_2018_df[['DRG']].drop_duplicates()\n",
    "cost_2018_df_meta = cost_2018_df_meta.sort_values(by=['DRG'])\n",
    "cost_2018_df_meta = cost_2018_df_meta.reset_index(drop=True)\n",
    "\n",
    "# classify\n",
    "temp_list = []\n",
    "new_dict = {}\n",
    "for i in range(len(cost_2018_df_meta)):\n",
    "    for j in range(len(drg_df)):\n",
    "        if (cost_2018_df_meta['DRG'][i]>=drg_df['msdrg_start'][j])&(cost_2018_df_meta['DRG'][i]<=drg_df['msdrg_end'][j]):\n",
    "            new_dict[cost_2018_df_meta['DRG'][i]] = drg_df['description'][j]\n",
    "# to df\n",
    "temp_df = pd.DataFrame.from_dict(data=new_dict,orient='index').reset_index(level=[0])\n",
    "temp_df.columns = ['DRG','description']\n",
    "\n",
    "## tuning (missing)\n",
    "[i for i in cost_2018_df_meta.DRG.values.tolist() if i not in temp_df.DRG.values.tolist()]  # 570, 571\n",
    "new_dict[570] = 'Diseases and Disorders of the Skin, Subcutaneous Tissue And Breast'\n",
    "new_dict[571] = 'Diseases and Disorders of the Skin, Subcutaneous Tissue And Breast'\n",
    "temp_df = pd.DataFrame.from_dict(data=new_dict,orient='index').reset_index(level=[0])\n",
    "temp_df.columns = ['DRG','description'] \n",
    "       \n",
    "# Merge\n",
    "cost_2018_df = pd.merge(cost_2018_df, temp_df, on=['DRG'])\n",
    "\n",
    "\n",
    "\n",
    "## 2017\n",
    "cost_2017_df['DRG'] = cost_2017_df['DRG'].astype(int)\n",
    "\n",
    "# meta\n",
    "cost_2017_df_meta = cost_2017_df[['DRG']].drop_duplicates()\n",
    "cost_2017_df_meta = cost_2017_df_meta.sort_values(by=['DRG'])\n",
    "cost_2017_df_meta = cost_2017_df_meta.reset_index(drop=True)\n",
    "\n",
    "# classify\n",
    "temp_list = []\n",
    "new_dict = {}\n",
    "for i in range(len(cost_2017_df_meta)):\n",
    "    for j in range(len(drg_df)):\n",
    "        if (cost_2017_df_meta['DRG'][i]>=drg_df['msdrg_start'][j])&(cost_2017_df_meta['DRG'][i]<=drg_df['msdrg_end'][j]):\n",
    "            new_dict[cost_2017_df_meta['DRG'][i]] = drg_df['description'][j]\n",
    "# to df\n",
    "temp_df = pd.DataFrame.from_dict(data=new_dict,orient='index').reset_index(level=[0])\n",
    "temp_df.columns = ['DRG','description']\n",
    "\n",
    "## tuning (missing)\n",
    "[i for i in cost_2017_df_meta.DRG.values.tolist() if i not in temp_df.DRG.values.tolist()]  # 570, 571\n",
    "new_dict[570] = 'Diseases and Disorders of the Skin, Subcutaneous Tissue And Breast'\n",
    "new_dict[571] = 'Diseases and Disorders of the Skin, Subcutaneous Tissue And Breast'\n",
    "temp_df = pd.DataFrame.from_dict(data=new_dict,orient='index').reset_index(level=[0])\n",
    "temp_df.columns = ['DRG','description'] \n",
    "\n",
    "# Merge\n",
    "cost_2017_df = pd.merge(cost_2017_df, temp_df, on=['DRG'])"
   ]
  },
  {
   "cell_type": "markdown",
   "metadata": {},
   "source": [
    "#### Groupby by ['DRG', 'FIPS']"
   ]
  },
  {
   "cell_type": "code",
   "execution_count": 225,
   "metadata": {},
   "outputs": [],
   "source": [
    "## 2018\n",
    "cost_2018_df_gb = cost_2018_df.groupby(['FIPS','description']).sum()[['DISCHARGE_COUNT_SUM', 'TOTAL_COVERED_CHARGES', \n",
    "                                                                      'TOTAL_PAYMENTS', 'TOTAL_MEDICARE_PAYMENTS']].reset_index(level=[0,1])\n",
    "cost_2018_df_meta = cost_2018_df[['FIPS', 'description', 'State_id','FY']].drop_duplicates()\n",
    "cost_2018_df_fips = pd.merge(cost_2018_df_gb, cost_2018_df_meta, on=['FIPS','description'])\n",
    "\n",
    "## 2017\n",
    "cost_2017_df_gb = cost_2017_df.groupby(['FIPS','description']).sum()[['Total Discharges', 'TOTAL_COVERED_CHARGES', \n",
    "                                                                      'TOTAL_PAYMENTS', 'TOTAL_MEDICARE_PAYMENTS']].reset_index(level=[0,1])\n",
    "cost_2017_df_meta = cost_2017_df[['FIPS', 'description', 'State_id','FY']].drop_duplicates()\n",
    "cost_2017_df_fips = pd.merge(cost_2017_df_gb, cost_2017_df_meta, on=['FIPS','description'])"
   ]
  },
  {
   "cell_type": "markdown",
   "metadata": {},
   "source": [
    "### IV"
   ]
  },
  {
   "cell_type": "code",
   "execution_count": 236,
   "metadata": {},
   "outputs": [],
   "source": [
    "iv_df = pd.read_csv(r'/Users/krhee/Dropbox (ASU)/RA_2021/Datasets/IV/Market_Saturation_And_Utilization_Dataset_2021-04-16.csv')\n",
    "iv_df = iv_df[iv_df['Type_of_Service']=='Telemedicine']\n",
    "iv_df = iv_df[iv_df['Aggregation_Level']=='COUNTY'] # County\n",
    "\n",
    "# Columns of interest\n",
    "iv_df = iv_df[['Reference_Period', 'Type_of_Service', 'Aggregation_Level', 'State',\n",
    "               'County', 'State_FIPS', 'County_FIPS',\n",
    "               'Number_of_Fee-for-Service_Beneficiaries', 'Number_of_Providers',\n",
    "               'Number_of_Users','Total_Payment']]\n",
    "\n",
    "# Focus state\n",
    "iv_df = iv_df[iv_df['State'].isin(state_list)]\n",
    "iv_df = iv_df.reset_index(drop=True) \n",
    "\n",
    "# Clean FIPS\n",
    "## State\n",
    "new_list = []\n",
    "for i in range(len(iv_df)):\n",
    "    if len(str(int(iv_df['State_FIPS'][i])))==1:\n",
    "        new_list.append(str('0')+str(int(iv_df['State_FIPS'][i])))\n",
    "    elif len(str(int(iv_df['State_FIPS'][i])))==2:\n",
    "        new_list.append(str(int(iv_df['State_FIPS'][i])))\n",
    "    else:\n",
    "        print(i)\n",
    "iv_df['State_FIPS'] = new_list\n",
    "\n",
    "## County\n",
    "new_list = []\n",
    "for i in range(len(iv_df)):\n",
    "    if len(str(int(iv_df['County_FIPS'][i])))==1:\n",
    "        new_list.append(str('00')+str(int(iv_df['County_FIPS'][i])))\n",
    "    elif len(str(int(iv_df['County_FIPS'][i])))==2:\n",
    "        new_list.append(str('0')+str(int(iv_df['County_FIPS'][i])))\n",
    "    elif len(str(int(iv_df['County_FIPS'][i])))==3:\n",
    "        new_list.append(str(int(iv_df['County_FIPS'][i])))\n",
    "    else:\n",
    "        print(i)\n",
    "iv_df['County_FIPS'] = new_list\n",
    "\n",
    "## Both\n",
    "iv_df['FIPS'] = [str(iv_df['State_FIPS'][i])+str(iv_df['County_FIPS'][i]) for i in range(len(iv_df))]\n",
    "\n",
    "## Reference dates\n",
    "iv_2018_df = iv_df[iv_df['Reference_Period']=='2018-01-01 to 2018-12-31']\n",
    "iv_2017_df = iv_df[iv_df['Reference_Period']=='2017-01-01 to 2017-12-31']\n",
    "\n",
    "iv_dv_2018_df = pd.merge(cost_2018_df_fips, iv_2018_df, on=['FIPS'])\n",
    "iv_dv_2017_df = pd.merge(cost_2017_df_fips, iv_2017_df, on=['FIPS'])"
   ]
  },
  {
   "cell_type": "markdown",
   "metadata": {},
   "source": [
    "----"
   ]
  },
  {
   "cell_type": "code",
   "execution_count": 284,
   "metadata": {
    "scrolled": true
   },
   "outputs": [
    {
     "data": {
      "text/plain": [
       "Diseases and Disorders of the Respiratory System                                            222\n",
       "Diseases and Disorders of the Kidney And Urinary Tract                                      216\n",
       "Infectious and Parasitic DDs (Systemic or unspecified sites)                                215\n",
       "Diseases and Disorders of the Circulatory System                                            211\n",
       "Diseases and Disorders of the Digestive System                                              196\n",
       "Diseases and Disorders of the Musculoskeletal System And Connective Tissue                  194\n",
       "Diseases and Disorders of the Skin, Subcutaneous Tissue And Breast                          192\n",
       "Diseases and Disorders of the Endocrine, Nutritional And Metabolic System                   190\n",
       "Diseases and Disorders of the Nervous System                                                166\n",
       "Diseases and Disorders of the Blood and Blood Forming Organs and Immunological Disorders    148\n",
       "Diseases and Disorders of the Hepatobiliary System And Pancreas                             126\n",
       "Injuries, Poison And Toxic Effect of Drugs                                                  120\n",
       "Factors Influencing Health Status and Other Contacts with Health Services                   109\n",
       "MDC Category Missing                                                                        104\n",
       "Mental Diseases and Disorders                                                                91\n",
       "Alcohol/Drug Use or Induced Mental Disorders                                                 83\n",
       "Diseases and Disorders of the Ear, Nose, Mouth And Throat                                    76\n",
       "Pre-MDC                                                                                      72\n",
       "Myeloproliferative DDs (Poorly Differentiated Neoplasms)                                     49\n",
       "Diseases and Disorders of the Male Reproductive System                                       46\n",
       "Diseases and Disorders of the Female Reproductive System                                     31\n",
       "Multiple Significant Trauma                                                                  28\n",
       "Pregnancy, Childbirth And Puerperium                                                         20\n",
       "Human Immunodeficiency Virus Infection                                                       19\n",
       "Burns                                                                                        15\n",
       "Diseases and Disorders of the Eye                                                             8\n",
       "Name: description, dtype: int64"
      ]
     },
     "execution_count": 284,
     "metadata": {},
     "output_type": "execute_result"
    }
   ],
   "source": [
    "iv_dv_2018_df.description.value_counts()"
   ]
  },
  {
   "cell_type": "code",
   "execution_count": 289,
   "metadata": {
    "scrolled": true
   },
   "outputs": [],
   "source": [
    "resp_2018_df = iv_dv_2018_df[iv_dv_2018_df['description']=='Diseases and Disorders of the Respiratory System']\n",
    "resp_2017_df = iv_dv_2017_df[iv_dv_2017_df['description']=='Diseases and Disorders of the Respiratory System']\n",
    "\n",
    "kidney_2018_df = iv_dv_2018_df[iv_dv_2018_df['description']=='Diseases and Disorders of the Kidney And Urinary Tract']\n",
    "kidney_2017_df = iv_dv_2017_df[iv_dv_2017_df['description']=='Diseases and Disorders of the Kidney And Urinary Tract']\n",
    "\n",
    "infect_2018_df = iv_dv_2018_df[iv_dv_2018_df['description']=='Infectious and Parasitic DDs (Systemic or unspecified sites)']\n",
    "infect_2017_df = iv_dv_2017_df[iv_dv_2017_df['description']=='Infectious and Parasitic DDs (Systemic or unspecified sites)']\n",
    "\n",
    "circ_2018_df = iv_dv_2018_df[iv_dv_2018_df['description']=='Diseases and Disorders of the Circulatory System']\n",
    "circ_2017_df = iv_dv_2017_df[iv_dv_2017_df['description']=='Diseases and Disorders of the Circulatory System']"
   ]
  },
  {
   "cell_type": "code",
   "execution_count": 301,
   "metadata": {},
   "outputs": [],
   "source": [
    "resp_2018_df = resp_2018_df[['FIPS',\n",
    "                             'DISCHARGE_COUNT_SUM', 'TOTAL_COVERED_CHARGES','TOTAL_PAYMENTS', 'TOTAL_MEDICARE_PAYMENTS', \n",
    "                             'Number_of_Fee-for-Service_Beneficiaries', 'Number_of_Providers','Number_of_Users', 'Total_Payment']]\n",
    "resp_2017_df = resp_2017_df[['FIPS', \n",
    "                             'Total Discharges', 'TOTAL_COVERED_CHARGES','TOTAL_PAYMENTS', 'TOTAL_MEDICARE_PAYMENTS', \n",
    "                             'Number_of_Fee-for-Service_Beneficiaries', 'Number_of_Providers', 'Number_of_Users', 'Total_Payment']]\n",
    "\n",
    "kidney_2018_df = kidney_2018_df[['FIPS',\n",
    "                             'DISCHARGE_COUNT_SUM', 'TOTAL_COVERED_CHARGES','TOTAL_PAYMENTS', 'TOTAL_MEDICARE_PAYMENTS', \n",
    "                             'Number_of_Fee-for-Service_Beneficiaries', 'Number_of_Providers','Number_of_Users', 'Total_Payment']]\n",
    "kidney_2017_df = kidney_2017_df[['FIPS', \n",
    "                             'Total Discharges', 'TOTAL_COVERED_CHARGES','TOTAL_PAYMENTS', 'TOTAL_MEDICARE_PAYMENTS', \n",
    "                             'Number_of_Fee-for-Service_Beneficiaries', 'Number_of_Providers', 'Number_of_Users', 'Total_Payment']]\n",
    "\n",
    "infect_2018_df = infect_2018_df[['FIPS',\n",
    "                             'DISCHARGE_COUNT_SUM', 'TOTAL_COVERED_CHARGES','TOTAL_PAYMENTS', 'TOTAL_MEDICARE_PAYMENTS', \n",
    "                             'Number_of_Fee-for-Service_Beneficiaries', 'Number_of_Providers','Number_of_Users', 'Total_Payment']]\n",
    "infect_2017_df = infect_2017_df[['FIPS', \n",
    "                             'Total Discharges', 'TOTAL_COVERED_CHARGES','TOTAL_PAYMENTS', 'TOTAL_MEDICARE_PAYMENTS', \n",
    "                             'Number_of_Fee-for-Service_Beneficiaries', 'Number_of_Providers', 'Number_of_Users', 'Total_Payment']]\n",
    "\n",
    "circ_2018_df = circ_2018_df[['FIPS',\n",
    "                             'DISCHARGE_COUNT_SUM', 'TOTAL_COVERED_CHARGES','TOTAL_PAYMENTS', 'TOTAL_MEDICARE_PAYMENTS', \n",
    "                             'Number_of_Fee-for-Service_Beneficiaries', 'Number_of_Providers','Number_of_Users', 'Total_Payment']]\n",
    "circ_2017_df = circ_2017_df[['FIPS', \n",
    "                             'Total Discharges', 'TOTAL_COVERED_CHARGES','TOTAL_PAYMENTS', 'TOTAL_MEDICARE_PAYMENTS', \n",
    "                             'Number_of_Fee-for-Service_Beneficiaries', 'Number_of_Providers', 'Number_of_Users', 'Total_Payment']]"
   ]
  },
  {
   "cell_type": "code",
   "execution_count": 313,
   "metadata": {},
   "outputs": [],
   "source": [
    "# rename columns for merge\n",
    "cols = resp_2018_df.columns\n",
    "resp_2018_df.columns = [str(i)+\"_2018\" for i in cols]\n",
    "resp_2018_df = resp_2018_df.rename(columns = {'FIPS_2018':'FIPS'})\n",
    "\n",
    "cols = resp_2017_df.columns\n",
    "resp_2017_df.columns = [str(i)+\"_2017\" for i in cols]\n",
    "resp_2017_df = resp_2017_df.rename(columns = {'FIPS_2017':'FIPS'})\n",
    "\n",
    "# MERGE\n",
    "resp_df = pd.merge(resp_2017_df, resp_2018_df, on=['FIPS'])\n",
    "\n",
    "## Create new column\n",
    "resp_df['NumUsers/NumBeneficiaries_2017'] = resp_df['Number_of_Users_2017']/resp_df['Number_of_Fee-for-Service_Beneficiaries_2017']\n",
    "resp_df['NumUsers/NumBeneficiaries_2018'] = resp_df['Number_of_Users_2018']/resp_df['Number_of_Fee-for-Service_Beneficiaries_2018']\n",
    "## Create new column\n",
    "resp_df['Payment/NumBeneficiaries_2017'] = resp_df['Total_Payment_2017']/resp_df['Number_of_Fee-for-Service_Beneficiaries_2017']\n",
    "resp_df['Payment/NumBeneficiaries_2018'] = resp_df['Total_Payment_2018']/resp_df['Number_of_Fee-for-Service_Beneficiaries_2018']\n",
    "\n",
    "## Create dataframe\n",
    "#1.\n",
    "## DV: 'TOTAL_PAYMENTS_2017', 'TOTAL_PAYMENTS_2018 '\n",
    "## IV: 'NumUsers/NumBeneficiaries_2017', 'NumUsers/NumBeneficiaries_2018'\n",
    "resp_1_df = resp_df[['FIPS','TOTAL_PAYMENTS_2017', 'TOTAL_PAYMENTS_2018',\n",
    "                    'NumUsers/NumBeneficiaries_2017', 'NumUsers/NumBeneficiaries_2018']]\n",
    "#2.\n",
    "## DV: 'TOTAL_PAYMENTS_2017', 'TOTAL_PAYMENTS_2018 '\n",
    "## IV: 'Payment/NumBeneficiaries_2017', 'Payment/NumBeneficiaries_2018'\n",
    "resp_2_df = resp_df[['FIPS','TOTAL_PAYMENTS_2017', 'TOTAL_PAYMENTS_2018',\n",
    "                    'Payment/NumBeneficiaries_2017', 'Payment/NumBeneficiaries_2018']]"
   ]
  },
  {
   "cell_type": "code",
   "execution_count": 346,
   "metadata": {
    "scrolled": false
   },
   "outputs": [
    {
     "name": "stdout",
     "output_type": "stream",
     "text": [
      "-0.28650956587052084\n",
      "-0.2882811727670624\n",
      "-0.24184918689684087\n",
      "-0.18413714568544007\n"
     ]
    }
   ],
   "source": [
    "print(np.corrcoef(resp_1_df['NumUsers/NumBeneficiaries_2017'].values, resp_1_df['TOTAL_PAYMENTS_2017'].values)[0][-1])\n",
    "print(np.corrcoef(resp_1_df['NumUsers/NumBeneficiaries_2018'].values, resp_1_df['TOTAL_PAYMENTS_2018'].values)[0][-1])\n",
    "print(np.corrcoef(resp_2_df['Payment/NumBeneficiaries_2017'].values, resp_2_df['TOTAL_PAYMENTS_2017'].values)[0][-1])\n",
    "print(np.corrcoef(resp_2_df['Payment/NumBeneficiaries_2018'].values, resp_2_df['TOTAL_PAYMENTS_2018'].values)[0][-1])"
   ]
  },
  {
   "cell_type": "code",
   "execution_count": 348,
   "metadata": {},
   "outputs": [],
   "source": [
    "# rename columns for merge\n",
    "cols = kidney_2018_df.columns\n",
    "kidney_2018_df.columns = [str(i)+\"_2018\" for i in cols]\n",
    "kidney_2018_df = kidney_2018_df.rename(columns = {'FIPS_2018':'FIPS'})\n",
    "\n",
    "cols = kidney_2017_df.columns\n",
    "kidney_2017_df.columns = [str(i)+\"_2017\" for i in cols]\n",
    "kidney_2017_df = kidney_2017_df.rename(columns = {'FIPS_2017':'FIPS'})\n",
    "\n",
    "# MERGE\n",
    "kidney_df = pd.merge(kidney_2017_df, kidney_2018_df, on=['FIPS'])\n",
    "\n",
    "## Create new column\n",
    "kidney_df['NumUsers/NumBeneficiaries_2017'] = kidney_df['Number_of_Users_2017']/kidney_df['Number_of_Fee-for-Service_Beneficiaries_2017']\n",
    "kidney_df['NumUsers/NumBeneficiaries_2018'] = kidney_df['Number_of_Users_2018']/kidney_df['Number_of_Fee-for-Service_Beneficiaries_2018']\n",
    "## Create new column\n",
    "kidney_df['Payment/NumBeneficiaries_2017'] = kidney_df['Total_Payment_2017']/kidney_df['Number_of_Fee-for-Service_Beneficiaries_2017']\n",
    "kidney_df['Payment/NumBeneficiaries_2018'] = kidney_df['Total_Payment_2018']/kidney_df['Number_of_Fee-for-Service_Beneficiaries_2018']\n",
    "\n",
    "## Create dataframe\n",
    "#1.\n",
    "## DV: 'TOTAL_PAYMENTS_2017', 'TOTAL_PAYMENTS_2018 '\n",
    "## IV: 'NumUsers/NumBeneficiaries_2017', 'NumUsers/NumBeneficiaries_2018'\n",
    "kidney_1_df = kidney_df[['FIPS','TOTAL_PAYMENTS_2017', 'TOTAL_PAYMENTS_2018',\n",
    "                    'NumUsers/NumBeneficiaries_2017', 'NumUsers/NumBeneficiaries_2018']]\n",
    "#2.\n",
    "## DV: 'TOTAL_PAYMENTS_2017', 'TOTAL_PAYMENTS_2018 '\n",
    "## IV: 'Payment/NumBeneficiaries_2017', 'Payment/NumBeneficiaries_2018'\n",
    "kidney_2_df = kidney_df[['FIPS','TOTAL_PAYMENTS_2017', 'TOTAL_PAYMENTS_2018',\n",
    "                    'Payment/NumBeneficiaries_2017', 'Payment/NumBeneficiaries_2018']]"
   ]
  },
  {
   "cell_type": "code",
   "execution_count": 350,
   "metadata": {
    "scrolled": true
   },
   "outputs": [
    {
     "name": "stdout",
     "output_type": "stream",
     "text": [
      "-0.2498495239585422\n",
      "-0.25443721612739\n",
      "-0.21036438555261203\n",
      "-0.16250994761756982\n"
     ]
    }
   ],
   "source": [
    "print(np.corrcoef(kidney_1_df['NumUsers/NumBeneficiaries_2017'].values, kidney_1_df['TOTAL_PAYMENTS_2017'].values)[0][-1])\n",
    "print(np.corrcoef(kidney_1_df['NumUsers/NumBeneficiaries_2018'].values, kidney_1_df['TOTAL_PAYMENTS_2018'].values)[0][-1])\n",
    "print(np.corrcoef(kidney_2_df['Payment/NumBeneficiaries_2017'].values, kidney_2_df['TOTAL_PAYMENTS_2017'].values)[0][-1])\n",
    "print(np.corrcoef(kidney_2_df['Payment/NumBeneficiaries_2018'].values, kidney_2_df['TOTAL_PAYMENTS_2018'].values)[0][-1])"
   ]
  },
  {
   "cell_type": "code",
   "execution_count": 351,
   "metadata": {},
   "outputs": [],
   "source": [
    "# rename columns for merge\n",
    "cols = infect_2018_df.columns\n",
    "infect_2018_df.columns = [str(i)+\"_2018\" for i in cols]\n",
    "infect_2018_df = infect_2018_df.rename(columns = {'FIPS_2018':'FIPS'})\n",
    "\n",
    "cols = infect_2017_df.columns\n",
    "infect_2017_df.columns = [str(i)+\"_2017\" for i in cols]\n",
    "infect_2017_df = infect_2017_df.rename(columns = {'FIPS_2017':'FIPS'})\n",
    "\n",
    "# MERGE\n",
    "infect_df = pd.merge(infect_2017_df, infect_2018_df, on=['FIPS'])\n",
    "\n",
    "## Create new column\n",
    "infect_df['NumUsers/NumBeneficiaries_2017'] = infect_df['Number_of_Users_2017']/infect_df['Number_of_Fee-for-Service_Beneficiaries_2017']\n",
    "infect_df['NumUsers/NumBeneficiaries_2018'] = infect_df['Number_of_Users_2018']/infect_df['Number_of_Fee-for-Service_Beneficiaries_2018']\n",
    "## Create new column\n",
    "infect_df['Payment/NumBeneficiaries_2017'] = infect_df['Total_Payment_2017']/infect_df['Number_of_Fee-for-Service_Beneficiaries_2017']\n",
    "infect_df['Payment/NumBeneficiaries_2018'] = infect_df['Total_Payment_2018']/infect_df['Number_of_Fee-for-Service_Beneficiaries_2018']\n",
    "\n",
    "## Create dataframe\n",
    "#1.\n",
    "## DV: 'TOTAL_PAYMENTS_2017', 'TOTAL_PAYMENTS_2018 '\n",
    "## IV: 'NumUsers/NumBeneficiaries_2017', 'NumUsers/NumBeneficiaries_2018'\n",
    "infect_1_df = infect_df[['FIPS','TOTAL_PAYMENTS_2017', 'TOTAL_PAYMENTS_2018',\n",
    "                    'NumUsers/NumBeneficiaries_2017', 'NumUsers/NumBeneficiaries_2018']]\n",
    "#2.\n",
    "## DV: 'TOTAL_PAYMENTS_2017', 'TOTAL_PAYMENTS_2018 '\n",
    "## IV: 'Payment/NumBeneficiaries_2017', 'Payment/NumBeneficiaries_2018'\n",
    "infect_2_df = infect_df[['FIPS','TOTAL_PAYMENTS_2017', 'TOTAL_PAYMENTS_2018',\n",
    "                    'Payment/NumBeneficiaries_2017', 'Payment/NumBeneficiaries_2018']]"
   ]
  },
  {
   "cell_type": "code",
   "execution_count": 352,
   "metadata": {
    "scrolled": true
   },
   "outputs": [
    {
     "name": "stdout",
     "output_type": "stream",
     "text": [
      "-0.215192794914998\n",
      "-0.22256447854567393\n",
      "-0.18245512232449135\n",
      "-0.14307668037309998\n"
     ]
    }
   ],
   "source": [
    "print(np.corrcoef(infect_1_df['NumUsers/NumBeneficiaries_2017'].values, infect_1_df['TOTAL_PAYMENTS_2017'].values)[0][-1])\n",
    "print(np.corrcoef(infect_1_df['NumUsers/NumBeneficiaries_2018'].values, infect_1_df['TOTAL_PAYMENTS_2018'].values)[0][-1])\n",
    "print(np.corrcoef(infect_2_df['Payment/NumBeneficiaries_2017'].values, infect_2_df['TOTAL_PAYMENTS_2017'].values)[0][-1])\n",
    "print(np.corrcoef(infect_2_df['Payment/NumBeneficiaries_2018'].values, infect_2_df['TOTAL_PAYMENTS_2018'].values)[0][-1])"
   ]
  },
  {
   "cell_type": "code",
   "execution_count": 353,
   "metadata": {},
   "outputs": [],
   "source": [
    "# rename columns for merge\n",
    "cols = circ_2018_df.columns\n",
    "circ_2018_df.columns = [str(i)+\"_2018\" for i in cols]\n",
    "circ_2018_df = circ_2018_df.rename(columns = {'FIPS_2018':'FIPS'})\n",
    "\n",
    "cols = circ_2017_df.columns\n",
    "circ_2017_df.columns = [str(i)+\"_2017\" for i in cols]\n",
    "circ_2017_df = circ_2017_df.rename(columns = {'FIPS_2017':'FIPS'})\n",
    "\n",
    "# MERGE\n",
    "circ_df = pd.merge(circ_2017_df, circ_2018_df, on=['FIPS'])\n",
    "\n",
    "## Create new column\n",
    "circ_df['NumUsers/NumBeneficiaries_2017'] = circ_df['Number_of_Users_2017']/circ_df['Number_of_Fee-for-Service_Beneficiaries_2017']\n",
    "circ_df['NumUsers/NumBeneficiaries_2018'] = circ_df['Number_of_Users_2018']/circ_df['Number_of_Fee-for-Service_Beneficiaries_2018']\n",
    "## Create new column\n",
    "circ_df['Payment/NumBeneficiaries_2017'] = circ_df['Total_Payment_2017']/circ_df['Number_of_Fee-for-Service_Beneficiaries_2017']\n",
    "circ_df['Payment/NumBeneficiaries_2018'] = circ_df['Total_Payment_2018']/circ_df['Number_of_Fee-for-Service_Beneficiaries_2018']\n",
    "\n",
    "## Create dataframe\n",
    "#1.\n",
    "## DV: 'TOTAL_PAYMENTS_2017', 'TOTAL_PAYMENTS_2018 '\n",
    "## IV: 'NumUsers/NumBeneficiaries_2017', 'NumUsers/NumBeneficiaries_2018'\n",
    "circ_1_df = circ_df[['FIPS','TOTAL_PAYMENTS_2017', 'TOTAL_PAYMENTS_2018',\n",
    "                    'NumUsers/NumBeneficiaries_2017', 'NumUsers/NumBeneficiaries_2018']]\n",
    "#2.\n",
    "## DV: 'TOTAL_PAYMENTS_2017', 'TOTAL_PAYMENTS_2018 '\n",
    "## IV: 'Payment/NumBeneficiaries_2017', 'Payment/NumBeneficiaries_2018'\n",
    "circ_2_df = circ_df[['FIPS','TOTAL_PAYMENTS_2017', 'TOTAL_PAYMENTS_2018',\n",
    "                    'Payment/NumBeneficiaries_2017', 'Payment/NumBeneficiaries_2018']]"
   ]
  },
  {
   "cell_type": "code",
   "execution_count": 354,
   "metadata": {
    "scrolled": true
   },
   "outputs": [
    {
     "name": "stdout",
     "output_type": "stream",
     "text": [
      "-0.2597932786301336\n",
      "-0.2618417613521999\n",
      "-0.21961760117079707\n",
      "-0.16821090819971618\n"
     ]
    }
   ],
   "source": [
    "print(np.corrcoef(circ_1_df['NumUsers/NumBeneficiaries_2017'].values, circ_1_df['TOTAL_PAYMENTS_2017'].values)[0][-1])\n",
    "print(np.corrcoef(circ_1_df['NumUsers/NumBeneficiaries_2018'].values, circ_1_df['TOTAL_PAYMENTS_2018'].values)[0][-1])\n",
    "print(np.corrcoef(circ_2_df['Payment/NumBeneficiaries_2017'].values, circ_2_df['TOTAL_PAYMENTS_2017'].values)[0][-1])\n",
    "print(np.corrcoef(circ_2_df['Payment/NumBeneficiaries_2018'].values, circ_2_df['TOTAL_PAYMENTS_2018'].values)[0][-1])"
   ]
  }
 ],
 "metadata": {
  "kernelspec": {
   "display_name": "Python 3",
   "language": "python",
   "name": "python3"
  },
  "language_info": {
   "codemirror_mode": {
    "name": "ipython",
    "version": 3
   },
   "file_extension": ".py",
   "mimetype": "text/x-python",
   "name": "python",
   "nbconvert_exporter": "python",
   "pygments_lexer": "ipython3",
   "version": "3.9.2"
  }
 },
 "nbformat": 4,
 "nbformat_minor": 4
}
