{
 "cells": [
  {
   "cell_type": "code",
   "execution_count": 1,
   "metadata": {},
   "outputs": [],
   "source": [
    "import numpy as np\n",
    "import pandas as pd"
   ]
  },
  {
   "cell_type": "code",
   "execution_count": 184,
   "metadata": {
    "scrolled": false
   },
   "outputs": [
    {
     "data": {
      "text/plain": [
       "65534"
      ]
     },
     "execution_count": 184,
     "metadata": {},
     "output_type": "execute_result"
    }
   ],
   "source": [
    "df = pd.read_excel(r'/Users/krhee/Dropbox (ASU)/RA_2021/Datasets/HIMSS/dbo_HAEntity_2017.xlsx')\n",
    "len(df)"
   ]
  },
  {
   "cell_type": "code",
   "execution_count": 120,
   "metadata": {},
   "outputs": [
    {
     "data": {
      "text/plain": [
       "389"
      ]
     },
     "execution_count": 120,
     "metadata": {},
     "output_type": "execute_result"
    }
   ],
   "source": [
    "65534-65145"
   ]
  },
  {
   "cell_type": "code",
   "execution_count": 121,
   "metadata": {
    "scrolled": true
   },
   "outputs": [
    {
     "name": "stdout",
     "output_type": "stream",
     "text": [
      "<class 'pandas.core.frame.DataFrame'>\n",
      "RangeIndex: 65534 entries, 0 to 65533\n",
      "Data columns (total 57 columns):\n",
      " #   Column                         Non-Null Count  Dtype  \n",
      "---  ------                         --------------  -----  \n",
      " 0   HAEntityId                     65534 non-null  int64  \n",
      " 1   SurveyId                       65534 non-null  int64  \n",
      " 2   ParentId                       63393 non-null  float64\n",
      " 3   UniqueId                       65534 non-null  int64  \n",
      " 4   EntityNo                       65534 non-null  int64  \n",
      " 5   Name                           65534 non-null  object \n",
      " 6   County                         64996 non-null  object \n",
      " 7   HAEntityTypeId                 65534 non-null  int64  \n",
      " 8   HAEntityType                   65534 non-null  object \n",
      " 9   CBSA                           54206 non-null  object \n",
      " 10  MedicareNumber                 17397 non-null  object \n",
      " 11  Address1                       65145 non-null  object \n",
      " 12  Address2                       30219 non-null  object \n",
      " 13  City                           65534 non-null  object \n",
      " 14  State                          65534 non-null  object \n",
      " 15  Zip                            65145 non-null  object \n",
      " 16  Phone                          65529 non-null  object \n",
      " 17  Website                        7485 non-null   object \n",
      " 18  Fax                            1744 non-null   float64\n",
      " 19  EmailConvention                6747 non-null   object \n",
      " 20  ProfitStatus                   2130 non-null   object \n",
      " 21  ServicePopulation              1855 non-null   float64\n",
      " 22  Type                           63004 non-null  object \n",
      " 23  YearOpened                     25445 non-null  float64\n",
      " 24  OwnershipStatus                63003 non-null  object \n",
      " 25  NofFTE                         4943 non-null   float64\n",
      " 26  VendorSelStrategy              1620 non-null   object \n",
      " 27  NofBeds                        9839 non-null   float64\n",
      " 28  NofStaffedBeds                 9839 non-null   float64\n",
      " 29  FreeStanding                   65534 non-null  bool   \n",
      " 30  SameISSystem                   65534 non-null  bool   \n",
      " 31  AcuteId                        1828 non-null   float64\n",
      " 32  NofPhysicians                  45304 non-null  float64\n",
      " 33  NofHCareVisits                 0 non-null      float64\n",
      " 34  FTETotal                       1538 non-null   float64\n",
      " 35  DataCenterAcuteId              203 non-null    float64\n",
      " 36  PhysFT                         1363 non-null   float64\n",
      " 37  PhysAffiliated                 1467 non-null   float64\n",
      " 38  PhysTotal                      3711 non-null   float64\n",
      " 39  IsImaging                      65534 non-null  bool   \n",
      " 40  PhysResidents                  1299 non-null   float64\n",
      " 41  PhysHospitalists               1308 non-null   float64\n",
      " 42  PhysOther                      1395 non-null   float64\n",
      " 43  NofIntensiveCareBeds           5257 non-null   float64\n",
      " 44  AverageDailyCensus             157 non-null    float64\n",
      " 45  Latitude                       63645 non-null  float64\n",
      " 46  Longitude                      63645 non-null  float64\n",
      " 47  IsIDSACOClassified             65534 non-null  bool   \n",
      " 48  IsIDSPCMHCertified             65534 non-null  bool   \n",
      " 49  IsIDSPlanningACO               65534 non-null  bool   \n",
      " 50  IsIDSPlanningPCMH              65534 non-null  bool   \n",
      " 51  NoOfNeonatalIntensiveCareBeds  5372 non-null   float64\n",
      " 52  PhysicianExtenders             41087 non-null  float64\n",
      " 53  PercVirtServers                854 non-null    float64\n",
      " 54  PercVirtComputers              747 non-null    float64\n",
      " 55  DisasterMsgId                  26 non-null     float64\n",
      " 56  IsNICUPresent                  65534 non-null  bool   \n",
      "dtypes: bool(8), float64(27), int64(5), object(17)\n",
      "memory usage: 25.0+ MB\n"
     ]
    }
   ],
   "source": [
    "df.info()"
   ]
  },
  {
   "cell_type": "code",
   "execution_count": 122,
   "metadata": {},
   "outputs": [],
   "source": [
    "# Filter columns (Eliminate columns with too much nan values)\n",
    "df = df[['HAEntityId', 'UniqueId', 'Name',\n",
    "       'County', 'HAEntityTypeId', 'CBSA', \n",
    "       'Address1', 'Address2', 'City', 'State', 'Zip', 'Type',\n",
    "       'YearOpened', 'OwnershipStatus', \n",
    "       'FreeStanding', 'SameISSystem', \n",
    "       'NofPhysicians', \n",
    "       'IsImaging', 'Latitude', 'Longitude', 'IsIDSACOClassified',\n",
    "       'IsIDSPCMHCertified', 'IsIDSPlanningACO', 'IsIDSPlanningPCMH','PhysicianExtenders',\n",
    "       'IsNICUPresent', 'ParentId', 'SurveyId', 'MedicareNumber','Phone', 'HAEntityType']]"
   ]
  },
  {
   "cell_type": "code",
   "execution_count": 123,
   "metadata": {},
   "outputs": [],
   "source": [
    "# Clean data types\n",
    "df['HAEntityId'] = df['HAEntityId'].astype(str)\n",
    "df['UniqueId'] = df['UniqueId'].astype(str)\n",
    "df['EntityNo'] = df['EntityNo'].astype(str)\n",
    "df['HAEntityTypeId'] = df['HAEntityTypeId'].astype(str)\n",
    "df['ParentId'] = df['ParentId'].astype(str)\n",
    "df['SurveyId'] = df['SurveyId'].astype(str)\n"
   ]
  },
  {
   "cell_type": "code",
   "execution_count": 38,
   "metadata": {
    "scrolled": false
   },
   "outputs": [
    {
     "data": {
      "text/html": [
       "<div>\n",
       "<style scoped>\n",
       "    .dataframe tbody tr th:only-of-type {\n",
       "        vertical-align: middle;\n",
       "    }\n",
       "\n",
       "    .dataframe tbody tr th {\n",
       "        vertical-align: top;\n",
       "    }\n",
       "\n",
       "    .dataframe thead th {\n",
       "        text-align: right;\n",
       "    }\n",
       "</style>\n",
       "<table border=\"1\" class=\"dataframe\">\n",
       "  <thead>\n",
       "    <tr style=\"text-align: right;\">\n",
       "      <th></th>\n",
       "      <th>YearOpened</th>\n",
       "      <th>NofPhysicians</th>\n",
       "      <th>Latitude</th>\n",
       "      <th>Longitude</th>\n",
       "      <th>PhysicianExtenders</th>\n",
       "    </tr>\n",
       "  </thead>\n",
       "  <tbody>\n",
       "    <tr>\n",
       "      <th>count</th>\n",
       "      <td>25445.000000</td>\n",
       "      <td>45304.000000</td>\n",
       "      <td>63645.000000</td>\n",
       "      <td>63645.000000</td>\n",
       "      <td>41087.000000</td>\n",
       "    </tr>\n",
       "    <tr>\n",
       "      <th>mean</th>\n",
       "      <td>1995.088544</td>\n",
       "      <td>5.575556</td>\n",
       "      <td>38.553618</td>\n",
       "      <td>-90.094802</td>\n",
       "      <td>1.217538</td>\n",
       "    </tr>\n",
       "    <tr>\n",
       "      <th>std</th>\n",
       "      <td>33.852837</td>\n",
       "      <td>26.697272</td>\n",
       "      <td>4.894601</td>\n",
       "      <td>14.705231</td>\n",
       "      <td>8.758739</td>\n",
       "    </tr>\n",
       "    <tr>\n",
       "      <th>min</th>\n",
       "      <td>1040.000000</td>\n",
       "      <td>0.000000</td>\n",
       "      <td>7.172555</td>\n",
       "      <td>-166.212100</td>\n",
       "      <td>0.000000</td>\n",
       "    </tr>\n",
       "    <tr>\n",
       "      <th>25%</th>\n",
       "      <td>1993.000000</td>\n",
       "      <td>1.000000</td>\n",
       "      <td>35.209043</td>\n",
       "      <td>-95.997371</td>\n",
       "      <td>0.000000</td>\n",
       "    </tr>\n",
       "    <tr>\n",
       "      <th>50%</th>\n",
       "      <td>1998.000000</td>\n",
       "      <td>2.000000</td>\n",
       "      <td>39.393115</td>\n",
       "      <td>-86.455830</td>\n",
       "      <td>0.000000</td>\n",
       "    </tr>\n",
       "    <tr>\n",
       "      <th>75%</th>\n",
       "      <td>2007.000000</td>\n",
       "      <td>5.000000</td>\n",
       "      <td>41.785904</td>\n",
       "      <td>-80.045799</td>\n",
       "      <td>1.000000</td>\n",
       "    </tr>\n",
       "    <tr>\n",
       "      <th>max</th>\n",
       "      <td>6088.000000</td>\n",
       "      <td>2300.000000</td>\n",
       "      <td>68.540500</td>\n",
       "      <td>111.924956</td>\n",
       "      <td>1560.000000</td>\n",
       "    </tr>\n",
       "  </tbody>\n",
       "</table>\n",
       "</div>"
      ],
      "text/plain": [
       "         YearOpened  NofPhysicians      Latitude     Longitude  \\\n",
       "count  25445.000000   45304.000000  63645.000000  63645.000000   \n",
       "mean    1995.088544       5.575556     38.553618    -90.094802   \n",
       "std       33.852837      26.697272      4.894601     14.705231   \n",
       "min     1040.000000       0.000000      7.172555   -166.212100   \n",
       "25%     1993.000000       1.000000     35.209043    -95.997371   \n",
       "50%     1998.000000       2.000000     39.393115    -86.455830   \n",
       "75%     2007.000000       5.000000     41.785904    -80.045799   \n",
       "max     6088.000000    2300.000000     68.540500    111.924956   \n",
       "\n",
       "       PhysicianExtenders  \n",
       "count        41087.000000  \n",
       "mean             1.217538  \n",
       "std              8.758739  \n",
       "min              0.000000  \n",
       "25%              0.000000  \n",
       "50%              0.000000  \n",
       "75%              1.000000  \n",
       "max           1560.000000  "
      ]
     },
     "execution_count": 38,
     "metadata": {},
     "output_type": "execute_result"
    }
   ],
   "source": [
    "df.describe()"
   ]
  },
  {
   "cell_type": "markdown",
   "metadata": {},
   "source": [
    "##### Find County \n",
    "We need to find County by using zip codes.\n",
    "\n",
    "Some rows are missing zip codes. We need to find the zip codes by city and state information\n",
    "\n",
    "In sum, we need to (1) find missing zip codes using city and state information, and (2) find county using zip codes"
   ]
  },
  {
   "cell_type": "code",
   "execution_count": 137,
   "metadata": {
    "collapsed": true
   },
   "outputs": [
    {
     "data": {
      "text/html": [
       "<div>\n",
       "<style scoped>\n",
       "    .dataframe tbody tr th:only-of-type {\n",
       "        vertical-align: middle;\n",
       "    }\n",
       "\n",
       "    .dataframe tbody tr th {\n",
       "        vertical-align: top;\n",
       "    }\n",
       "\n",
       "    .dataframe thead th {\n",
       "        text-align: right;\n",
       "    }\n",
       "</style>\n",
       "<table border=\"1\" class=\"dataframe\">\n",
       "  <thead>\n",
       "    <tr style=\"text-align: right;\">\n",
       "      <th></th>\n",
       "      <th>City</th>\n",
       "      <th>State</th>\n",
       "      <th>County</th>\n",
       "    </tr>\n",
       "  </thead>\n",
       "  <tbody>\n",
       "    <tr>\n",
       "      <th>0</th>\n",
       "      <td>Charlotte</td>\n",
       "      <td>NC</td>\n",
       "      <td>Mecklenburg County</td>\n",
       "    </tr>\n",
       "    <tr>\n",
       "      <th>2</th>\n",
       "      <td>Springfield</td>\n",
       "      <td>MO</td>\n",
       "      <td>Greene County</td>\n",
       "    </tr>\n",
       "    <tr>\n",
       "      <th>3</th>\n",
       "      <td>Greenville</td>\n",
       "      <td>NC</td>\n",
       "      <td>Pitt County</td>\n",
       "    </tr>\n",
       "    <tr>\n",
       "      <th>4</th>\n",
       "      <td>Buffalo</td>\n",
       "      <td>NY</td>\n",
       "      <td>Erie County</td>\n",
       "    </tr>\n",
       "    <tr>\n",
       "      <th>7</th>\n",
       "      <td>Springfield</td>\n",
       "      <td>OR</td>\n",
       "      <td>Lane County</td>\n",
       "    </tr>\n",
       "    <tr>\n",
       "      <th>...</th>\n",
       "      <td>...</td>\n",
       "      <td>...</td>\n",
       "      <td>...</td>\n",
       "    </tr>\n",
       "    <tr>\n",
       "      <th>384</th>\n",
       "      <td>Spokane</td>\n",
       "      <td>WA</td>\n",
       "      <td>Spokane County</td>\n",
       "    </tr>\n",
       "    <tr>\n",
       "      <th>385</th>\n",
       "      <td>Burbank</td>\n",
       "      <td>CA</td>\n",
       "      <td>Los Angeles County</td>\n",
       "    </tr>\n",
       "    <tr>\n",
       "      <th>386</th>\n",
       "      <td>Danville</td>\n",
       "      <td>PA</td>\n",
       "      <td>Montour County</td>\n",
       "    </tr>\n",
       "    <tr>\n",
       "      <th>387</th>\n",
       "      <td>Toledo</td>\n",
       "      <td>OH</td>\n",
       "      <td>Lucas County</td>\n",
       "    </tr>\n",
       "    <tr>\n",
       "      <th>388</th>\n",
       "      <td>Mather</td>\n",
       "      <td>CA</td>\n",
       "      <td>Sacramento County</td>\n",
       "    </tr>\n",
       "  </tbody>\n",
       "</table>\n",
       "<p>306 rows × 3 columns</p>\n",
       "</div>"
      ],
      "text/plain": [
       "            City State              County\n",
       "0      Charlotte    NC  Mecklenburg County\n",
       "2    Springfield    MO       Greene County\n",
       "3     Greenville    NC         Pitt County\n",
       "4        Buffalo    NY         Erie County\n",
       "7    Springfield    OR         Lane County\n",
       "..           ...   ...                 ...\n",
       "384      Spokane    WA      Spokane County\n",
       "385      Burbank    CA  Los Angeles County\n",
       "386     Danville    PA      Montour County\n",
       "387       Toledo    OH        Lucas County\n",
       "388       Mather    CA   Sacramento County\n",
       "\n",
       "[306 rows x 3 columns]"
      ]
     },
     "execution_count": 137,
     "metadata": {},
     "output_type": "execute_result"
    }
   ],
   "source": [
    "city_zip_df = df[df['Zip'].isna()][['City','State']].drop_duplicates()"
   ]
  },
  {
   "cell_type": "code",
   "execution_count": 130,
   "metadata": {
    "scrolled": false
   },
   "outputs": [
    {
     "name": "stdout",
     "output_type": "stream",
     "text": [
      "<class 'pandas.core.frame.DataFrame'>\n",
      "Int64Index: 306 entries, 0 to 388\n",
      "Data columns (total 2 columns):\n",
      " #   Column  Non-Null Count  Dtype \n",
      "---  ------  --------------  ----- \n",
      " 0   City    306 non-null    object\n",
      " 1   State   306 non-null    object\n",
      "dtypes: object(2)\n",
      "memory usage: 7.2+ KB\n"
     ]
    }
   ],
   "source": [
    "city_zip_df.info()"
   ]
  },
  {
   "cell_type": "code",
   "execution_count": null,
   "metadata": {},
   "outputs": [],
   "source": [
    "from uszipcode import SearchEngine\n",
    "search = SearchEngine(simple_zipcode=False)"
   ]
  },
  {
   "cell_type": "code",
   "execution_count": 101,
   "metadata": {
    "scrolled": true
   },
   "outputs": [
    {
     "name": "stdout",
     "output_type": "stream",
     "text": [
      "0\n",
      "50\n",
      "100\n",
      "150\n",
      "200\n",
      "250\n",
      "300\n"
     ]
    }
   ],
   "source": [
    "city_list = [i for i in city_zip_df['City']]\n",
    "state_list = [i for i in city_zip_df['State']]\n",
    "\n",
    "new_list = []\n",
    "multi_dict = {}\n",
    "\n",
    "for i in range(len(city_list)):\n",
    "    if i%50==0:\n",
    "        print(i)\n",
    "    try:\n",
    "        res = search.by_city_and_state(city_list[i], state_list[i])\n",
    "        county_set = set([r.county for r in res])\n",
    "        if len(county_set)==1:\n",
    "            new_list.append(list(county_set)[0])\n",
    "        else:\n",
    "            new_list.append(np.nan)\n",
    "            multi_dict[str(city_list[i])+\"_\"+str(state_list[i])] = list(county_set)\n",
    "            \n",
    "    except Exception as e:\n",
    "        print(e)\n",
    "        print('\\n')\n",
    "        print(city_list[i], state_list[i])\n",
    "        \n",
    "city_zip_df['County'] = new_list"
   ]
  },
  {
   "cell_type": "code",
   "execution_count": 144,
   "metadata": {},
   "outputs": [],
   "source": [
    "# Make full data set\n",
    "missing_zip_df = pd.merge(df[df['Zip'].isna()].drop(columns=['County']), city_zip_df, on=['City','State'])\n",
    "\n",
    "df = pd.concat([missing_zip_df, df[~df['Zip'].isna()]], join='inner')"
   ]
  },
  {
   "cell_type": "markdown",
   "metadata": {},
   "source": [
    "- Try once more"
   ]
  },
  {
   "cell_type": "code",
   "execution_count": 152,
   "metadata": {},
   "outputs": [],
   "source": [
    "city_zip_df = df[df['County'].isna()][['City','State']].drop_duplicates()"
   ]
  },
  {
   "cell_type": "code",
   "execution_count": 153,
   "metadata": {
    "scrolled": true
   },
   "outputs": [
    {
     "name": "stdout",
     "output_type": "stream",
     "text": [
      "<class 'pandas.core.frame.DataFrame'>\n",
      "Int64Index: 144 entries, 11 to 64878\n",
      "Data columns (total 2 columns):\n",
      " #   Column  Non-Null Count  Dtype \n",
      "---  ------  --------------  ----- \n",
      " 0   City    144 non-null    object\n",
      " 1   State   144 non-null    object\n",
      "dtypes: object(2)\n",
      "memory usage: 3.4+ KB\n"
     ]
    }
   ],
   "source": [
    "city_zip_df.info()"
   ]
  },
  {
   "cell_type": "code",
   "execution_count": 154,
   "metadata": {
    "scrolled": true
   },
   "outputs": [
    {
     "name": "stdout",
     "output_type": "stream",
     "text": [
      "0\n",
      "50\n",
      "100\n"
     ]
    }
   ],
   "source": [
    "city_list = [i for i in city_zip_df['City']]\n",
    "state_list = [i for i in city_zip_df['State']]\n",
    "\n",
    "new_list = []\n",
    "multi_dict = {}\n",
    "\n",
    "for i in range(len(city_list)):\n",
    "    if i%50==0:\n",
    "        print(i)\n",
    "    try:\n",
    "        res = search.by_city_and_state(city_list[i], state_list[i])\n",
    "        county_set = set([r.county for r in res])\n",
    "        if len(county_set)==1:\n",
    "            new_list.append(list(county_set)[0])\n",
    "        else:\n",
    "            new_list.append(np.nan)\n",
    "            multi_dict[str(city_list[i])+\"_\"+str(state_list[i])] = list(county_set)\n",
    "            \n",
    "    except Exception as e:\n",
    "        print(e)\n",
    "        print('\\n')\n",
    "        print(city_list[i], state_list[i])\n",
    "        \n",
    "city_zip_df['County'] = new_list"
   ]
  },
  {
   "cell_type": "code",
   "execution_count": 193,
   "metadata": {},
   "outputs": [
    {
     "data": {
      "text/plain": [
       "['County', 'State', 'City']"
      ]
     },
     "execution_count": 193,
     "metadata": {},
     "output_type": "execute_result"
    }
   ],
   "source": [
    "list(set(df[df['County'].isna()].columns) & set(city_zip_df.columns))"
   ]
  },
  {
   "cell_type": "code",
   "execution_count": 194,
   "metadata": {},
   "outputs": [],
   "source": [
    "# Make full data set\n",
    "missing_county_df = pd.merge(df[df['County'].isna()].drop(columns=['County']), city_zip_df, on=['City','State'])\n",
    "\n",
    "df = pd.concat([missing_county_df, df[~df['County'].isna()]], join='inner')"
   ]
  },
  {
   "cell_type": "code",
   "execution_count": 217,
   "metadata": {},
   "outputs": [],
   "source": [
    "df = df[['HAEntityId', 'UniqueId', 'Name', \n",
    "         'State', 'County', 'HAEntityType', 'Type', 'YearOpened',\n",
    "         'OwnershipStatus', 'FreeStanding', 'SameISSystem', 'NofPhysicians',\n",
    "         'IsImaging', 'Latitude', 'Longitude', 'IsIDSACOClassified',\n",
    "         'IsIDSPCMHCertified', 'IsIDSPlanningACO', 'IsIDSPlanningPCMH',\n",
    "         'PhysicianExtenders', 'IsNICUPresent', 'ParentId', 'SurveyId',\n",
    "         'MedicareNumber', 'Phone', 'City', 'HAEntityTypeId','CBSA',\n",
    "         'Address1', 'Address2', 'Zip', ]]"
   ]
  },
  {
   "cell_type": "code",
   "execution_count": 221,
   "metadata": {
    "scrolled": true
   },
   "outputs": [],
   "source": [
    "df.to_excel(r'/Users/krhee/Dropbox (ASU)/RA_2021/Datasets/HIMSS/dbo_HAEntity_2017_county.xlsx', index=False)"
   ]
  }
 ],
 "metadata": {
  "kernelspec": {
   "display_name": "Python 3",
   "language": "python",
   "name": "python3"
  },
  "language_info": {
   "codemirror_mode": {
    "name": "ipython",
    "version": 3
   },
   "file_extension": ".py",
   "mimetype": "text/x-python",
   "name": "python",
   "nbconvert_exporter": "python",
   "pygments_lexer": "ipython3",
   "version": "3.9.2"
  }
 },
 "nbformat": 4,
 "nbformat_minor": 4
}
