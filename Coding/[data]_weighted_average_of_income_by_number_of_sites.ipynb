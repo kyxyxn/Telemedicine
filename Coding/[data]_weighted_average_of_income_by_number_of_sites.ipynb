{
  "nbformat": 4,
  "nbformat_minor": 0,
  "metadata": {
    "colab": {
      "name": "[data] weighted average of income by number of sites.ipynb",
      "provenance": [],
      "collapsed_sections": []
    },
    "kernelspec": {
      "name": "python3",
      "display_name": "Python 3"
    },
    "language_info": {
      "name": "python"
    }
  },
  "cells": [
    {
      "cell_type": "code",
      "execution_count": 1,
      "metadata": {
        "id": "gw0kf2187xU3",
        "colab": {
          "base_uri": "https://localhost:8080/"
        },
        "outputId": "7e80dcc2-43e4-4563-d0d1-4d4fc1f2c781"
      },
      "outputs": [
        {
          "output_type": "stream",
          "name": "stdout",
          "text": [
            "Mounted at /content/drive\n"
          ]
        }
      ],
      "source": [
        "from google.colab import drive\n",
        "drive.mount('/content/drive')"
      ]
    },
    {
      "cell_type": "code",
      "source": [
        "import numpy as np\n",
        "import pandas as pd   \n",
        "from math import log as ln\n",
        "from functools import reduce\n",
        "import statsmodels.formula.api as smf\n",
        "from scipy.stats import entropy"
      ],
      "metadata": {
        "colab": {
          "base_uri": "https://localhost:8080/"
        },
        "id": "hVt-nlMD72_d",
        "outputId": "402b6164-57f2-405f-8101-e6e99245fca0"
      },
      "execution_count": 2,
      "outputs": [
        {
          "output_type": "stream",
          "name": "stderr",
          "text": [
            "/usr/local/lib/python3.7/dist-packages/statsmodels/tools/_testing.py:19: FutureWarning: pandas.util.testing is deprecated. Use the functions in the public API at pandas.testing instead.\n",
            "  import pandas.util.testing as tm\n"
          ]
        }
      ]
    },
    {
      "cell_type": "code",
      "source": [
        "rootPath ='/content/drive/MyDrive/ASU/CIS791_Chen_Final/uds-data/'\n",
        "filenames_uds = [rootPath+'UDS-2014-Full-Dataset.xlsx',\n",
        "                 rootPath+'UDS-2015-Full-Dataset.xlsx',\n",
        "                 rootPath+'UDS-2016-Full-Dataset.xlsx',\n",
        "                 rootPath+'UDS-2017-Full-Dataset.xlsx',\n",
        "                 rootPath+'UDS-2018-Full-Dataset.xlsx',\n",
        "                 rootPath+'UDS-2019-Full-Dataset.xlsx',\n",
        "                 rootPath+'UDS-2020-Full-Dataset.xlsx']\n",
        "\n",
        "filenames_lal = [rootPath+'UDS-2016-look-alikes.xlsx',\n",
        "             rootPath+'UDS-2017-look-alikes.xlsx',\n",
        "             rootPath+'UDS-2018-look-alikes.xlsx',\n",
        "             rootPath+'UDS-2019-look-alikes.xlsx',\n",
        "             rootPath+'UDS-2020-look-alikes.xlsx']"
      ],
      "metadata": {
        "id": "SaWP56AB88Wp"
      },
      "execution_count": 3,
      "outputs": []
    },
    {
      "cell_type": "markdown",
      "source": [
        "### SiteDF"
      ],
      "metadata": {
        "id": "QAZijCecocRM"
      }
    },
    {
      "cell_type": "code",
      "source": [
        "site_df = pd.read_csv('/content/drive/MyDrive/ASU/Telehealth/Data/healthcentersiteinfo_fix.csv')"
      ],
      "metadata": {
        "id": "SVVj4Beiizon"
      },
      "execution_count": 4,
      "outputs": []
    },
    {
      "cell_type": "code",
      "source": [
        "# drop HCs with 1+ sites that don't have county information\n",
        "site_df = site_df[~site_df['grant_number'].isin(set(site_df[site_df['county_fips'].isna()].grant_number.values.tolist()))].reset_index(drop=True)"
      ],
      "metadata": {
        "id": "8H3jKTRLsyRQ"
      },
      "execution_count": 5,
      "outputs": []
    },
    {
      "cell_type": "code",
      "source": [
        "site_df.info()"
      ],
      "metadata": {
        "colab": {
          "base_uri": "https://localhost:8080/"
        },
        "id": "5C3CIcZ9okhy",
        "outputId": "f970f082-0bf9-40b7-ddd6-4218bc711f80"
      },
      "execution_count": 6,
      "outputs": [
        {
          "output_type": "stream",
          "name": "stdout",
          "text": [
            "<class 'pandas.core.frame.DataFrame'>\n",
            "RangeIndex: 38949 entries, 0 to 38948\n",
            "Data columns (total 28 columns):\n",
            " #   Column                          Non-Null Count  Dtype  \n",
            "---  ------                          --------------  -----  \n",
            " 0   bhcmis_id                       38949 non-null  object \n",
            " 1   grant_number                    38949 non-null  object \n",
            " 2   Health Center Name              38949 non-null  object \n",
            " 3   Site Name                       38949 non-null  object \n",
            " 4   Site Type                       38949 non-null  object \n",
            " 5   Site Status                     38949 non-null  object \n",
            " 6   Location Type                   38949 non-null  object \n",
            " 7   Location Setting                38949 non-null  object \n",
            " 8   Operational Schedule            32702 non-null  object \n",
            " 9   Calendar Schedule               32909 non-null  object \n",
            " 10  TotalWeekly Hours Of Operation  38792 non-null  object \n",
            " 11  Service Area Population         38932 non-null  object \n",
            " 12  Site Operated By                38949 non-null  object \n",
            " 13  Site Street Address             38884 non-null  object \n",
            " 14  Site City                       38949 non-null  object \n",
            " 15  Site State                      38949 non-null  object \n",
            " 16  Site ZIP Code                   35797 non-null  object \n",
            " 17  Mailing Street Address          27261 non-null  object \n",
            " 18  Mailing City                    29851 non-null  object \n",
            " 19  Mailing State                   29891 non-null  object \n",
            " 20  Mailing ZIP Code                27616 non-null  object \n",
            " 21  Medicaid Number                 30451 non-null  object \n",
            " 22  Medicaid Pharm Number           21358 non-null  object \n",
            " 23  Data As of                      38949 non-null  object \n",
            " 24  year                            38949 non-null  int64  \n",
            " 25  full_address                    38949 non-null  object \n",
            " 26  zip_5                           38937 non-null  float64\n",
            " 27  county_fips                     38949 non-null  float64\n",
            "dtypes: float64(2), int64(1), object(25)\n",
            "memory usage: 8.3+ MB\n"
          ]
        }
      ]
    },
    {
      "cell_type": "markdown",
      "source": [
        "### Weighted average"
      ],
      "metadata": {
        "id": "YshI1i2fc6cn"
      }
    },
    {
      "cell_type": "code",
      "source": [
        "import os\n",
        "import requests"
      ],
      "metadata": {
        "id": "a7tbeh13mgKd"
      },
      "execution_count": null,
      "outputs": []
    },
    {
      "cell_type": "markdown",
      "source": [
        "#### Download files"
      ],
      "metadata": {
        "id": "zwYIqmNuoGYN"
      }
    },
    {
      "cell_type": "code",
      "source": [
        "# get url\n",
        "def get_url(year, table):\n",
        "  url = \"https://raw.githubusercontent.com/kyxyxn/Telemedicine/main/Data/County/ACSST5Y{}.{}.csv\".format(year, table)\n",
        "  return url\n",
        "\n",
        "# get file path\n",
        "def get_file_path(url, goal_path):\n",
        "  full_path = ''\n",
        "  csv_file_name = url.split('County/')[-1]\n",
        "  full_path = os.path.join(goal_path, csv_file_name)\n",
        "  return full_path\n",
        "  \n",
        "# download file\n",
        "def download_file(url):\n",
        "  # with a url, download the full file\n",
        "  goal_path = '/content/drive/MyDrive/ASU/Telehealth/Data/Controls'\n",
        "  full_file_path = get_file_path(url, goal_path=goal_path)\n",
        "  r = requests.get(url)\n",
        "  with open (full_file_path, 'wb') as f:\n",
        "    for chunk in r.iter_content(chunk_size=1024):\n",
        "      if chunk: \n",
        "        f.write(chunk)\n",
        "  return full_file_path\n",
        "\n",
        "# get files\n",
        "def get_file(year, table):\n",
        "  # with a full url, download the fulll file\n",
        "  url = get_url(year, table)\n",
        "  # download the file\n",
        "  download_file(url)\n",
        "  print(\"Downloaded!\")"
      ],
      "metadata": {
        "id": "q5yUzMurZjbH"
      },
      "execution_count": null,
      "outputs": []
    },
    {
      "cell_type": "code",
      "source": [
        "for i in range(2014, 2021):\n",
        "  print(i)\n",
        "  get_file(i, table='S1903')"
      ],
      "metadata": {
        "id": "GeNtGagYgQeL"
      },
      "execution_count": null,
      "outputs": []
    },
    {
      "cell_type": "markdown",
      "source": [
        "#### Read files: Income"
      ],
      "metadata": {
        "id": "SFGv2vSroIYU"
      }
    },
    {
      "cell_type": "code",
      "source": [
        "income_df = pd.DataFrame()\n",
        "for i in range(2014, 2021):\n",
        "  print(i)\n",
        "  temp_df = pd.read_csv('/content/drive/MyDrive/ASU/Telehealth/Data/Controls/ACSST5Y{}.S1903.csv'.format(i))\n",
        "  temp_df = temp_df.replace(to_replace={'(X)':np.nan})\n",
        "  temp_df = temp_df[['GEO_ID','S1903_C02_001E']]\n",
        "  temp_df['year'] = i\n",
        "  income_df = income_df.append(temp_df)\n",
        "  print(\"Done!\")\n",
        "\n",
        "income_df['county_fips'] = [str(i)[-5:] for i in income_df['GEO_ID']]\n",
        "income_df.columns = ['GEO_ID','median_household_income','year','county_fips']\n",
        "income_df = income_df[income_df['GEO_ID']!='id'].reset_index(drop=True)\n",
        "income_df = income_df[['county_fips','year','median_household_income']]"
      ],
      "metadata": {
        "id": "wUsty38igZHW"
      },
      "execution_count": null,
      "outputs": []
    },
    {
      "cell_type": "code",
      "source": [
        "income_df.info()"
      ],
      "metadata": {
        "colab": {
          "base_uri": "https://localhost:8080/"
        },
        "id": "d64uWObCqC1_",
        "outputId": "220f7191-fd73-48d4-81b0-d9d5f1135ebe"
      },
      "execution_count": null,
      "outputs": [
        {
          "output_type": "stream",
          "name": "stdout",
          "text": [
            "<class 'pandas.core.frame.DataFrame'>\n",
            "RangeIndex: 22541 entries, 0 to 22540\n",
            "Data columns (total 3 columns):\n",
            " #   Column                   Non-Null Count  Dtype \n",
            "---  ------                   --------------  ----- \n",
            " 0   county_fips              22541 non-null  object\n",
            " 1   year                     22541 non-null  int64 \n",
            " 2   median_household_income  22539 non-null  object\n",
            "dtypes: int64(1), object(2)\n",
            "memory usage: 528.4+ KB\n"
          ]
        }
      ]
    },
    {
      "cell_type": "code",
      "source": [
        "income_df = income_df[~income_df['median_household_income'].isna()].reset_index(drop=True)"
      ],
      "metadata": {
        "id": "jJ6dXadlpAxo"
      },
      "execution_count": null,
      "outputs": []
    },
    {
      "cell_type": "markdown",
      "source": [
        "#### Merge with site data"
      ],
      "metadata": {
        "id": "jtutjLihqfGi"
      }
    },
    {
      "cell_type": "code",
      "source": [
        "income_df.loc[:,'county_fips'] = income_df.loc[:,'county_fips'].astype('float64')\n",
        "site_df.loc[:,'county_fips'] = site_df.loc[:,'county_fips'].astype('float64')\n",
        "income_df.loc[:,'year'] = income_df.loc[:,'year'].astype(int)\n",
        "site_df.loc[:,'year'] = site_df.loc[:,'year'].astype(int)"
      ],
      "metadata": {
        "id": "gdWSJjyVqgnO"
      },
      "execution_count": null,
      "outputs": []
    },
    {
      "cell_type": "code",
      "source": [
        "temp_df = pd.merge(site_df, income_df, on=['county_fips','year'], how='outer')\n",
        "temp_df = temp_df[~temp_df['grant_number'].isna()].reset_index(drop=True)\n",
        "temp_df.info()"
      ],
      "metadata": {
        "colab": {
          "base_uri": "https://localhost:8080/"
        },
        "id": "8Ezfsl1DqpGa",
        "outputId": "7b9e6112-3c44-4ef9-b9ea-04cd5af54439"
      },
      "execution_count": null,
      "outputs": [
        {
          "output_type": "stream",
          "name": "stdout",
          "text": [
            "<class 'pandas.core.frame.DataFrame'>\n",
            "RangeIndex: 38949 entries, 0 to 38948\n",
            "Data columns (total 29 columns):\n",
            " #   Column                          Non-Null Count  Dtype  \n",
            "---  ------                          --------------  -----  \n",
            " 0   bhcmis_id                       38949 non-null  object \n",
            " 1   grant_number                    38949 non-null  object \n",
            " 2   Health Center Name              38949 non-null  object \n",
            " 3   Site Name                       38949 non-null  object \n",
            " 4   Site Type                       38949 non-null  object \n",
            " 5   Site Status                     38949 non-null  object \n",
            " 6   Location Type                   38949 non-null  object \n",
            " 7   Location Setting                38949 non-null  object \n",
            " 8   Operational Schedule            32702 non-null  object \n",
            " 9   Calendar Schedule               32909 non-null  object \n",
            " 10  TotalWeekly Hours Of Operation  38792 non-null  object \n",
            " 11  Service Area Population         38932 non-null  object \n",
            " 12  Site Operated By                38949 non-null  object \n",
            " 13  Site Street Address             38884 non-null  object \n",
            " 14  Site City                       38949 non-null  object \n",
            " 15  Site State                      38949 non-null  object \n",
            " 16  Site ZIP Code                   35797 non-null  object \n",
            " 17  Mailing Street Address          27261 non-null  object \n",
            " 18  Mailing City                    29851 non-null  object \n",
            " 19  Mailing State                   29891 non-null  object \n",
            " 20  Mailing ZIP Code                27616 non-null  object \n",
            " 21  Medicaid Number                 30451 non-null  object \n",
            " 22  Medicaid Pharm Number           21358 non-null  object \n",
            " 23  Data As of                      38949 non-null  object \n",
            " 24  year                            38949 non-null  int64  \n",
            " 25  full_address                    38949 non-null  object \n",
            " 26  zip_5                           38937 non-null  float64\n",
            " 27  county_fips                     38949 non-null  float64\n",
            " 28  median_household_income         38941 non-null  object \n",
            "dtypes: float64(2), int64(1), object(26)\n",
            "memory usage: 8.6+ MB\n"
          ]
        }
      ]
    },
    {
      "cell_type": "code",
      "source": [
        "len(site_df), len(income_df), len(temp_df)"
      ],
      "metadata": {
        "colab": {
          "base_uri": "https://localhost:8080/"
        },
        "id": "nPJYOOtOqyWK",
        "outputId": "d8d1174e-55c9-4752-b61d-ef6e96854e08"
      },
      "execution_count": null,
      "outputs": [
        {
          "output_type": "execute_result",
          "data": {
            "text/plain": [
              "(38949, 22539, 38949)"
            ]
          },
          "metadata": {},
          "execution_count": 131
        }
      ]
    },
    {
      "cell_type": "code",
      "source": [
        "## define weights\n",
        "temp_df_wt = temp_df.groupby(['grant_number','year']).count()[['bhcmis_id']].reset_index(level=[0,1])\n",
        "temp_df_wt.rename(columns={'bhcmis_id':'wt'}, inplace=True)\n",
        "temp_df = pd.merge(temp_df, temp_df_wt, on=['grant_number','year'])\n",
        "temp_df['wt'] = [1/i for i in temp_df['wt']]\n",
        "temp_df = temp_df[~temp_df['median_household_income'].isna()].reset_index(drop=True)\n",
        "temp_df.loc[:,'median_household_income'] = temp_df.loc[:,'median_household_income'].astype(int)\n",
        "# to create iindex\n",
        "temp_df['grantnumber_year'] = [str(temp_df['grant_number'][i])+\"_\"+str(temp_df['year'][i]) for i in range(len(temp_df))]"
      ],
      "metadata": {
        "id": "EKz4JxybsoLZ"
      },
      "execution_count": null,
      "outputs": []
    },
    {
      "cell_type": "code",
      "source": [
        "temp_df[['grantnumber_year', \n",
        "         'county_fips','median_household_income','wt']].info()"
      ],
      "metadata": {
        "colab": {
          "base_uri": "https://localhost:8080/"
        },
        "id": "qW3HPXxetynY",
        "outputId": "68c8946d-8410-4981-e94c-57c0bdc14c1d"
      },
      "execution_count": null,
      "outputs": [
        {
          "output_type": "stream",
          "name": "stdout",
          "text": [
            "<class 'pandas.core.frame.DataFrame'>\n",
            "RangeIndex: 38941 entries, 0 to 38940\n",
            "Data columns (total 4 columns):\n",
            " #   Column                   Non-Null Count  Dtype  \n",
            "---  ------                   --------------  -----  \n",
            " 0   grantnumber_year         38941 non-null  object \n",
            " 1   county_fips              38941 non-null  float64\n",
            " 2   median_household_income  38941 non-null  int64  \n",
            " 3   wt                       38941 non-null  float64\n",
            "dtypes: float64(2), int64(1), object(1)\n",
            "memory usage: 1.2+ MB\n"
          ]
        }
      ]
    },
    {
      "cell_type": "code",
      "source": [
        "# get weighted average of income\n",
        "temp_df_wa = temp_df.groupby(temp_df.grantnumber_year).apply(lambda x: np.average(x.median_household_income, weights=x.wt)).to_frame().reset_index(level=[0])\n",
        "temp_df_wa.columns = ['grantnumber_year','median_household_income_wa']\n",
        "# merge\n",
        "temp_df = pd.merge(temp_df, temp_df_wa, on=['grantnumber_year'])\n",
        "income_df = temp_df[['grant_number','year','median_household_income_wa']].drop_duplicates().reset_index(drop=True)"
      ],
      "metadata": {
        "id": "9wL9Wz4msiDw"
      },
      "execution_count": null,
      "outputs": []
    },
    {
      "cell_type": "code",
      "source": [
        "income_df.to_csv('/content/drive/MyDrive/ASU/Telehealth/Data/healthcentersite_income_wa.csv', index=False)"
      ],
      "metadata": {
        "id": "2RvB_7XDuzya"
      },
      "execution_count": null,
      "outputs": []
    }
  ]
}