{
  "cells": [
    {
      "cell_type": "markdown",
      "metadata": {
        "id": "view-in-github",
        "colab_type": "text"
      },
      "source": [
        "<a href=\"https://colab.research.google.com/github/kyxyxn/Telemedicine/blob/main/%5Bmental%5D_create_samples.ipynb\" target=\"_parent\"><img src=\"https://colab.research.google.com/assets/colab-badge.svg\" alt=\"Open In Colab\"/></a>"
      ]
    },
    {
      "cell_type": "code",
      "execution_count": 1,
      "metadata": {
        "colab": {
          "base_uri": "https://localhost:8080/"
        },
        "id": "icdNltA252H2",
        "outputId": "f229b03c-0384-49f2-ef48-468088566343"
      },
      "outputs": [
        {
          "output_type": "stream",
          "name": "stdout",
          "text": [
            "Mounted at /content/drive\n"
          ]
        }
      ],
      "source": [
        "from google.colab import drive\n",
        "drive.mount('/content/drive')"
      ]
    },
    {
      "cell_type": "code",
      "execution_count": 40,
      "metadata": {
        "id": "QMFPRoKY6mkV"
      },
      "outputs": [],
      "source": [
        "import numpy as np\n",
        "import pandas as pd   \n",
        "from functools import reduce"
      ]
    },
    {
      "cell_type": "code",
      "execution_count": 41,
      "metadata": {
        "id": "qUaPwhon6QDQ"
      },
      "outputs": [],
      "source": [
        "rootPath ='/content/drive/MyDrive/ASU/CIS791_Chen_Final/uds-data/'\n",
        "filenames_uds = [rootPath+'uds-2014-full-dataset.xlsx',\n",
        "                 rootPath+'uds-2015-full-dataset.xlsx',\n",
        "                 rootPath+'uds-2016-full-dataset.xlsx',\n",
        "                 rootPath+'uds-2017-full-dataset.xlsx',\n",
        "                 rootPath+'uds-2018-full-dataset.xlsx',\n",
        "                 rootPath+'uds-2019-full-dataset.xlsx',\n",
        "                 rootPath+'uds-2020-full-dataset.xlsx']"
      ]
    },
    {
      "cell_type": "code",
      "execution_count": 42,
      "metadata": {
        "id": "lCmgcoZe33pP"
      },
      "outputs": [],
      "source": [
        "df = pd.read_csv(rootPath+'uds_mental_tele_df.csv')\n",
        "# grant_list = list(set(df.grant_number.values.tolist()))"
      ]
    },
    {
      "cell_type": "markdown",
      "source": [
        "### Sample selection\n",
        "\n",
        "- We want HCs that do not have Mobile Vans\n",
        "- HCs that are not operating in foreign land\n",
        "- HCs that operate within a single state (**OR COUNTY**)"
      ],
      "metadata": {
        "id": "bIqHiwjStYe7"
      }
    },
    {
      "cell_type": "code",
      "source": [
        "def get_site_df(filenames):\n",
        "  site_df = pd.DataFrame()\n",
        "  for i in range(len(filenames)):\n",
        "    print(i)\n",
        "    temp_df = pd.read_excel(filenames[i], sheet_name='HealthCenterSiteInfo')\n",
        "    temp_df['year']=filenames[i].split('uds-')[-1][:4]\n",
        "    site_df = site_df.append(temp_df).reset_index(drop=True)\n",
        "  return site_df\n",
        "  \n",
        "site_df = get_site_df(filenames_uds)\n",
        "site_df = site_df.replace(to_replace={'-':np.nan})\n",
        "\n",
        "# Fill in missing values\n",
        "site_df.loc[site_df['Grant Number']=='H80CS00006', ['Site State']] = 'MA'\n",
        "site_df.loc[site_df['Grant Number']=='H80CS00011', ['Site State']] = 'NY'\n",
        "site_df.loc[site_df['Grant Number']=='H80CS00051', ['Site State']] = 'CA'\n",
        "site_df.loc[site_df['Grant Number']=='H80CS00142', ['Site State']] = 'CA'\n",
        "site_df.loc[site_df['Grant Number']=='H80CS00159', ['Site State']] = 'NY'\n",
        "site_df.loc[site_df['Grant Number']=='H80CS00176', ['Site State']] = 'MD'\n",
        "site_df.loc[site_df['Grant Number']=='H80CS00486', ['Site State']] = 'NC'\n",
        "site_df.loc[site_df['Grant Number']=='H80CS00489', ['Site State']] = 'PR'\n",
        "site_df.loc[site_df['Grant Number']=='H80CS00754', ['Site State']] = 'LA'\n",
        "site_df.loc[site_df['Grant Number']=='H80CS01128', ['Site State']] = 'AK'\n",
        "site_df.loc[site_df['Grant Number']=='H80CS01130', ['Site State']] = 'AK'\n",
        "site_df.loc[site_df['Grant Number']=='H80CS02467', ['Site State']] = 'PW'\n",
        "site_df.loc[site_df['Grant Number']=='H80CS04287', ['Site State']] = 'TX'\n",
        "site_df.loc[site_df['Grant Number']=='H80CS06655', ['Site State']] = 'NH'\n",
        "site_df.loc[site_df['Grant Number']=='H80CS08232', ['Site State']] = 'AK'\n",
        "site_df.loc[site_df['Grant Number']=='H80CS11274', ['Site State']] = 'NY'"
      ],
      "metadata": {
        "colab": {
          "base_uri": "https://localhost:8080/"
        },
        "id": "wRQ1arFttbTZ",
        "outputId": "ef8c6859-6835-490f-8053-cd76abf51eae"
      },
      "execution_count": 64,
      "outputs": [
        {
          "output_type": "stream",
          "name": "stdout",
          "text": [
            "0\n",
            "1\n",
            "2\n",
            "3\n",
            "4\n",
            "5\n",
            "6\n"
          ]
        }
      ]
    },
    {
      "cell_type": "code",
      "source": [
        "site_df.info()"
      ],
      "metadata": {
        "colab": {
          "base_uri": "https://localhost:8080/"
        },
        "id": "-eRglT81w59L",
        "outputId": "29e35b39-8005-463e-9969-b17ef8a6f1b6"
      },
      "execution_count": 44,
      "outputs": [
        {
          "output_type": "stream",
          "name": "stdout",
          "text": [
            "<class 'pandas.core.frame.DataFrame'>\n",
            "RangeIndex: 78099 entries, 0 to 78098\n",
            "Data columns (total 25 columns):\n",
            " #   Column                           Non-Null Count  Dtype \n",
            "---  ------                           --------------  ----- \n",
            " 0   BHCMIS ID                        78099 non-null  object\n",
            " 1   Grant Number                     78099 non-null  object\n",
            " 2   Health Center Name               78099 non-null  object\n",
            " 3   Site Name                        78099 non-null  object\n",
            " 4   Site Type                        78099 non-null  object\n",
            " 5   Site Status                      78099 non-null  object\n",
            " 6   Location Type                    78099 non-null  object\n",
            " 7   Location Setting                 78099 non-null  object\n",
            " 8   Operational Schedule             51862 non-null  object\n",
            " 9   Calendar Schedule                52404 non-null  object\n",
            " 10  Total Weekly Hours Of Operation  77576 non-null  object\n",
            " 11  Service Area Population          78067 non-null  object\n",
            " 12  Site Operated By                 78099 non-null  object\n",
            " 13  Site Street Address              77829 non-null  object\n",
            " 14  Site City                        78053 non-null  object\n",
            " 15  Site State                       78099 non-null  object\n",
            " 16  Site ZIP Code                    67242 non-null  object\n",
            " 17  Mailing Street Address           31860 non-null  object\n",
            " 18  Mailing City                     41492 non-null  object\n",
            " 19  Mailing State                    41683 non-null  object\n",
            " 20  Mailing ZIP Code                 32984 non-null  object\n",
            " 21  Medicaid Number                  44947 non-null  object\n",
            " 22  Medicaid Pharm Number            25207 non-null  object\n",
            " 23  Data As of                       78099 non-null  object\n",
            " 24  year                             78099 non-null  object\n",
            "dtypes: object(25)\n",
            "memory usage: 14.9+ MB\n"
          ]
        }
      ]
    },
    {
      "cell_type": "code",
      "source": [
        "drop_list = []\n",
        "# Operates mobile vanes\n",
        "drop_list += site_df[site_df['Location Type']=='Mobile Van']['Grant Number'].value_counts().index.tolist()\n",
        "# Operates in multiple sites\n",
        "temp_df = site_df[['Grant Number','Site State']].groupby(['Grant Number']).nunique()\n",
        "drop_list += temp_df[temp_df['Site State']>1].index.values.tolist()\n",
        "# Operates outside US state\n",
        "drop_list += site_df[site_df['Site State'].isin(['MP', 'GU', 'AS', 'MH', 'VI', 'PW', 'FW', 'FM', 'AK', 'HI', 'PR'])]['Grant Number'].value_counts().index.tolist()\n",
        "\n",
        "print(\"We should exclude {} HCs.\".format(len(set(drop_list))))\n",
        "\n",
        "site_df = site_df[~site_df['Grant Number'].isin(drop_list)].reset_index(drop=True)\n",
        "print(\"We have {} HCs left for analysis.\".format(len(site_df['Grant Number'].value_counts())))"
      ],
      "metadata": {
        "colab": {
          "base_uri": "https://localhost:8080/"
        },
        "id": "MaxV9sGxt0qf",
        "outputId": "b850aa05-399b-4256-cd95-fb8882cca543"
      },
      "execution_count": 65,
      "outputs": [
        {
          "output_type": "stream",
          "name": "stdout",
          "text": [
            "We should exclude 545 HCs.\n",
            "We have 892 HCs left for analysis.\n"
          ]
        }
      ]
    },
    {
      "cell_type": "markdown",
      "source": [
        "#### Find zip codes --> County information"
      ],
      "metadata": {
        "id": "KWbI3c62CRaj"
      }
    },
    {
      "cell_type": "code",
      "source": [
        "# Find zip codes --> County\n",
        "missing_df = site_df[site_df['Site ZIP Code'].isna()].reset_index(drop=True)\n",
        "non_missing_df = site_df[~site_df['Site ZIP Code'].isna()].reset_index(drop=True)\n",
        "missing_df_dup = missing_df[['Grant Number', 'Site Street Address', 'Site ZIP Code', 'Site City', 'Site State']].drop_duplicates().reset_index(drop=True) # Only addresses\n",
        "missing_df_dup['index'] = range(len(missing_df_dup))\n",
        "\n",
        "# Merge with already found addresses & county codes\n",
        "found_df = pd.read_csv('/content/drive/MyDrive/ASU/Telehealth/Data/healthcentersiteinfo.csv')\n",
        "found_df = found_df[~found_df['zip_5'].isna()].reset_index(drop=True)\n",
        "temp_df = pd.merge(missing_df_dup, found_df.rename(columns={'grant_number':'Grant Number'})[['Grant Number', 'Site Street Address', 'zip_5', 'county_fips']].drop_duplicates(), \n",
        "         on=['Grant Number', 'Site Street Address'], how='outer')\n",
        "temp_df = temp_df[~temp_df['index'].isna()]\n",
        "missing_df_dup = temp_df.copy()\n",
        "\n",
        "temp_df.info()"
      ],
      "metadata": {
        "colab": {
          "base_uri": "https://localhost:8080/"
        },
        "id": "T1SlgJ6aBtpg",
        "outputId": "2c7c77a7-b8ec-44ce-da58-00a247a6a9db"
      },
      "execution_count": 46,
      "outputs": [
        {
          "output_type": "stream",
          "name": "stdout",
          "text": [
            "<class 'pandas.core.frame.DataFrame'>\n",
            "Int64Index: 1547 entries, 0 to 1546\n",
            "Data columns (total 8 columns):\n",
            " #   Column               Non-Null Count  Dtype  \n",
            "---  ------               --------------  -----  \n",
            " 0   Grant Number         1547 non-null   object \n",
            " 1   Site Street Address  1535 non-null   object \n",
            " 2   Site ZIP Code        0 non-null      object \n",
            " 3   Site City            1547 non-null   object \n",
            " 4   Site State           1547 non-null   object \n",
            " 5   index                1547 non-null   float64\n",
            " 6   zip_5                1436 non-null   float64\n",
            " 7   county_fips          1396 non-null   float64\n",
            "dtypes: float64(3), object(5)\n",
            "memory usage: 108.8+ KB\n"
          ]
        }
      ]
    },
    {
      "cell_type": "markdown",
      "metadata": {
        "id": "yFAkddfTaXrw"
      },
      "source": [
        "### Select Health Centers"
      ]
    },
    {
      "cell_type": "code",
      "source": [
        "# Selected HCs from above:\n",
        "grant_list = temp_df['Grant Number'].value_counts().index.tolist()"
      ],
      "metadata": {
        "id": "nRwKb2KjDOpk"
      },
      "execution_count": 47,
      "outputs": []
    },
    {
      "cell_type": "markdown",
      "source": [
        "#### Health Centers"
      ],
      "metadata": {
        "id": "RcqPGodYFS8f"
      }
    },
    {
      "cell_type": "code",
      "source": [
        "def healthcenterinfo(filenames):\n",
        "  uds_df = pd.DataFrame()\n",
        "  for i in range(len(filenames)):\n",
        "    print(i)\n",
        "    temp_df = pd.read_excel(filenames[i], sheet_name='HealthCenterInfo',\n",
        "                            usecols=['Grant Number','BHCMIS ID', 'Reporting Year','Health Center Name', 'Urban Rural Flag'])\n",
        "    temp_df = temp_df.rename(columns={'Grant Number':'grant_number', 'BHCMIS ID':'bhcmis_id', 'Reporting Year':'year', 'Urban Rural Flag':'rural_flag_center'})\n",
        "    uds_df = uds_df.append(temp_df).reset_index(drop=True)\n",
        "  return uds_df\n",
        "uds_df = healthcenterinfo(filenames_uds)\n",
        "\n",
        "# Selected HCs from above:\n",
        "uds_df = uds_df[uds_df['grant_number'].isin(grant_list)].reset_index(drop=True)"
      ],
      "metadata": {
        "id": "A3tttJG3CZ5i",
        "colab": {
          "base_uri": "https://localhost:8080/"
        },
        "outputId": "e78dbdf2-cd3b-4895-9766-a5e1eb3147be"
      },
      "execution_count": 77,
      "outputs": [
        {
          "output_type": "stream",
          "name": "stdout",
          "text": [
            "0\n",
            "1\n",
            "2\n",
            "3\n",
            "4\n",
            "5\n",
            "6\n"
          ]
        }
      ]
    },
    {
      "cell_type": "markdown",
      "source": [
        "#### Telehealth information"
      ],
      "metadata": {
        "id": "HYNQBr9yFVAy"
      }
    },
    {
      "cell_type": "code",
      "source": [
        "def teleinfo(filenames):\n",
        "  temp_df = pd.DataFrame()\n",
        "  for i in range(len(filenames_uds)):\n",
        "    if i<2:\n",
        "      continue\n",
        "    elif i==2:\n",
        "      uds_tele_df_2016 = pd.read_excel(filenames_uds[2], sheet_name='HITInformation')\n",
        "      uds_tele_df_2016.columns = uds_tele_df_2016.iloc[0].values\n",
        "      uds_tele_df_2016 = uds_tele_df_2016[['BHCMISID', 'GrantNumber', 'Tehr_L13_Ca', 'Tehr_L13a_Ca', 'Tehr_L13a_Cb']]\n",
        "      uds_tele_df_2016['year'] = filenames[i].split('uds-')[-1][:4]\n",
        "      uds_tele_df_2016.columns = ['BHCMIS ID', 'Grant Number', 'use_telehealth', 'how_telehealth', 'telehealth_other', 'year']\n",
        "      \n",
        "    elif i==3:\n",
        "      uds_tele_df_2017 = pd.read_excel(filenames_uds[3], sheet_name='OtherDataElements')\n",
        "      uds_tele_df_2017.columns = uds_tele_df_2017.iloc[0].values\n",
        "      uds_tele_df_2017 = uds_tele_df_2017[['BHCMISID', 'GrantNumber', 'Tode_L2_Ca', 'Tode_L2a_Ca', 'Tode_L2a_Cb']]\n",
        "      uds_tele_df_2017['year'] = filenames[i].split('uds-')[-1][:4]\n",
        "      uds_tele_df_2017.columns = ['BHCMIS ID', 'Grant Number', 'use_telehealth', 'how_telehealth', 'telehealth_other', 'year']\n",
        "      \n",
        "    elif i==4:\n",
        "      uds_tele_df_2018 = pd.read_excel(filenames_uds[4], sheet_name='OtherDataElements')\n",
        "      uds_tele_df_2018.columns = uds_tele_df_2018.iloc[0].values\n",
        "      uds_tele_df_2018 = uds_tele_df_2018[['BHCMISID', 'GrantNumber', 'Tode_L2_Ca','Tode_L2a3_Ca','Tode_L2a3_Other']]\n",
        "      uds_tele_df_2018['year'] = filenames[i].split('uds-')[-1][:4]\n",
        "      uds_tele_df_2018.columns = ['BHCMIS ID', 'Grant Number', 'use_telehealth', 'how_telehealth', 'telehealth_other', 'year']\n",
        "      \n",
        "    elif i==5:\n",
        "      uds_tele_df_2019 = pd.read_excel(filenames_uds[5], sheet_name='OtherDataElements')\n",
        "      uds_tele_df_2019.columns = uds_tele_df_2019.iloc[0].values\n",
        "      uds_tele_df_2019 = uds_tele_df_2019[['BHCMISID', 'GrantNumber', 'Tode_L2_Ca','Tode_L2a3_Ca','Tode_L2a3_Other']]\n",
        "      uds_tele_df_2019['year'] = filenames[i].split('uds-')[-1][:4]\n",
        "      uds_tele_df_2019.columns = ['BHCMIS ID', 'Grant Number', 'use_telehealth', 'how_telehealth', 'telehealth_other', 'year']\n",
        "      \n",
        "    elif i==6:\n",
        "      uds_tele_df_2020 = pd.read_excel(filenames_uds[6], sheet_name='OtherDataElements')\n",
        "      uds_tele_df_2020.columns = uds_tele_df_2020.iloc[0].values\n",
        "      uds_tele_df_2020 = uds_tele_df_2020[['BHCMISID', 'GrantNumber', 'Tode_L2_Ca','Tode_L2a3_Ca','Tode_L2a3_Other']]\n",
        "      uds_tele_df_2020['year'] = filenames[i].split('uds-')[-1][:4]\n",
        "      uds_tele_df_2020.columns = ['BHCMIS ID', 'Grant Number', 'use_telehealth', 'how_telehealth', 'telehealth_other', 'year']\n",
        "   \n",
        "  for i in [uds_tele_df_2016, uds_tele_df_2017, uds_tele_df_2018, uds_tele_df_2019, uds_tele_df_2020]:\n",
        "    temp_df = temp_df.append(i)\n",
        "  \n",
        "  temp_df = temp_df[temp_df['Grant Number']!='GrantNumber'].reset_index(drop=True)\n",
        "  return temp_df\n",
        "\n",
        "uds_tele_df = teleinfo(filenames_uds)"
      ],
      "metadata": {
        "id": "ei6__26PFWwg"
      },
      "execution_count": 51,
      "outputs": []
    },
    {
      "cell_type": "code",
      "source": [
        "# Clean\n",
        "uds_tele_df['use_telehealth'] = uds_tele_df['use_telehealth'].replace({'Yes':1,'No':0})\n",
        "uds_tele_df['how_telehealth'] = [str(i).lower() for i in uds_tele_df['how_telehealth']]\n",
        "uds_tele_df['telehealth_other'] = [str(i).lower() for i in uds_tele_df['telehealth_other']]\n",
        "\n",
        "# See if HC provides teleheealth for mental health services\n",
        "matchers = ['mental', 'behav', 'substance', 'counseling', 'psych']\n",
        "\n",
        "new_list = []\n",
        "for s in uds_tele_df['how_telehealth']:\n",
        "  if any(xs in s for xs in matchers):\n",
        "    new_list.append(1)\n",
        "  else:\n",
        "    new_list.append(0)\n",
        "uds_tele_df['how_telehealth_mental'] = new_list\n",
        "    \n",
        "new_list = []\n",
        "for s in uds_tele_df['telehealth_other']:\n",
        "  if any(xs in s for xs in matchers):\n",
        "    new_list.append(1)\n",
        "  else:\n",
        "    new_list.append(0)\n",
        "uds_tele_df['telehealth_other_mental'] = new_list\n",
        "\n",
        "# Mental health (at least 1)\n",
        "uds_tele_df['mental_telehealth'] = uds_tele_df['how_telehealth_mental'] + uds_tele_df['telehealth_other_mental']\n",
        "uds_tele_df['mental_telehealth'] = [1 if i>=1 else 0 for i in uds_tele_df['mental_telehealth']]\n",
        "\n",
        "uds_tele_df = uds_tele_df[['BHCMIS ID', 'Grant Number', 'use_telehealth', 'mental_telehealth', 'year']]"
      ],
      "metadata": {
        "id": "jooWKaVbXJIb"
      },
      "execution_count": 53,
      "outputs": []
    },
    {
      "cell_type": "code",
      "source": [
        "# long to wide\n",
        "uds_tele_df_wide = uds_tele_df[['Grant Number', 'mental_telehealth', 'year']].pivot(index='Grant Number', columns='year', values='mental_telehealth')\n",
        "uds_tele_df_wide.columns = ['mental_2016', 'mental_2017', 'mental_2018', 'mental_2019', 'mental_2020']"
      ],
      "metadata": {
        "id": "PCtkSSEUYfAw"
      },
      "execution_count": 54,
      "outputs": []
    },
    {
      "cell_type": "code",
      "source": [
        "# inconsistent\n",
        "drop_list1 = uds_tele_df_wide[(uds_tele_df_wide['mental_2016']==1)&((uds_tele_df_wide['mental_2017']==0)|(uds_tele_df_wide['mental_2018']==0)|(uds_tele_df_wide['mental_2019']==0)|(uds_tele_df_wide['mental_2020']==0))].index.tolist()\n",
        "drop_list2 = uds_tele_df_wide[(uds_tele_df_wide['mental_2017']==1)&((uds_tele_df_wide['mental_2018']==0)|(uds_tele_df_wide['mental_2019']==0)|(uds_tele_df_wide['mental_2020']==0))].index.tolist()\n",
        "drop_list3 = uds_tele_df_wide[(uds_tele_df_wide['mental_2018']==1)&((uds_tele_df_wide['mental_2019']==0)|(uds_tele_df_wide['mental_2020']==0))].index.tolist()\n",
        "drop_list4 = uds_tele_df_wide[(uds_tele_df_wide['mental_2019']==1)&(uds_tele_df_wide['mental_2020']==0)].index.tolist()\n",
        "drop_list = sorted(list(set(drop_list1+drop_list2+drop_list3+drop_list4)))\n",
        "print(\"There are {} HCs that are inconsistent with their telehealth policies.\".format(len(drop_list)))\n",
        "\n",
        "uds_tele_df['consistency_1'] = [0 if i in drop_list else 1 for i in uds_tele_df['Grant Number']]"
      ],
      "metadata": {
        "colab": {
          "base_uri": "https://localhost:8080/"
        },
        "id": "Jn00g2RizK34",
        "outputId": "8d7eda17-c800-49c6-f47d-85d46fa600a8"
      },
      "execution_count": 56,
      "outputs": [
        {
          "output_type": "stream",
          "name": "stdout",
          "text": [
            "There are 211 HCs that are inconsistent with their telehealth policies.\n"
          ]
        },
        {
          "output_type": "stream",
          "name": "stderr",
          "text": [
            "/usr/local/lib/python3.7/dist-packages/ipykernel_launcher.py:9: SettingWithCopyWarning: \n",
            "A value is trying to be set on a copy of a slice from a DataFrame.\n",
            "Try using .loc[row_indexer,col_indexer] = value instead\n",
            "\n",
            "See the caveats in the documentation: https://pandas.pydata.org/pandas-docs/stable/user_guide/indexing.html#returning-a-view-versus-a-copy\n",
            "  if __name__ == '__main__':\n"
          ]
        }
      ]
    },
    {
      "cell_type": "code",
      "source": [
        "# inconsistent\n",
        "drop_list1 = uds_tele_df_wide[(uds_tele_df_wide['mental_2016']==1)&((uds_tele_df_wide['mental_2017']==0)|(uds_tele_df_wide['mental_2018']==0)|(uds_tele_df_wide['mental_2019']==0))].index.tolist()\n",
        "drop_list2 = uds_tele_df_wide[(uds_tele_df_wide['mental_2017']==1)&((uds_tele_df_wide['mental_2018']==0)|(uds_tele_df_wide['mental_2019']==0))].index.tolist()\n",
        "drop_list3 = uds_tele_df_wide[(uds_tele_df_wide['mental_2018']==1)&((uds_tele_df_wide['mental_2019']==0))].index.tolist()\n",
        "drop_list = sorted(list(set(drop_list1+drop_list2+drop_list3)))\n",
        "print(\"There are {} HCs that are inconsistent with their telehealth policies.\".format(len(drop_list)))\n",
        "\n",
        "uds_tele_df['consistency_2'] = [0 if i in drop_list else 1 for i in uds_tele_df['Grant Number']]"
      ],
      "metadata": {
        "colab": {
          "base_uri": "https://localhost:8080/"
        },
        "id": "x4GlnxKKuOXO",
        "outputId": "298f809b-4f9f-42a4-9425-9e165a64429a"
      },
      "execution_count": 59,
      "outputs": [
        {
          "output_type": "stream",
          "name": "stdout",
          "text": [
            "There are 207 HCs that are inconsistent with their telehealth policies.\n"
          ]
        },
        {
          "output_type": "stream",
          "name": "stderr",
          "text": [
            "/usr/local/lib/python3.7/dist-packages/ipykernel_launcher.py:8: SettingWithCopyWarning: \n",
            "A value is trying to be set on a copy of a slice from a DataFrame.\n",
            "Try using .loc[row_indexer,col_indexer] = value instead\n",
            "\n",
            "See the caveats in the documentation: https://pandas.pydata.org/pandas-docs/stable/user_guide/indexing.html#returning-a-view-versus-a-copy\n",
            "  \n"
          ]
        }
      ]
    },
    {
      "cell_type": "code",
      "source": [
        "uds_tele_df = uds_tele_df[uds_tele_df['Grant Number'].isin(grant_list)].reset_index(drop=True)"
      ],
      "metadata": {
        "id": "9kNTZjj24NZB"
      },
      "execution_count": 74,
      "outputs": []
    },
    {
      "cell_type": "code",
      "source": [
        "uds_df.info()"
      ],
      "metadata": {
        "colab": {
          "base_uri": "https://localhost:8080/"
        },
        "id": "poWh4_qw3yD-",
        "outputId": "30c04af3-7cf5-4b63-993e-0fc0dc1c6664"
      },
      "execution_count": 78,
      "outputs": [
        {
          "output_type": "stream",
          "name": "stdout",
          "text": [
            "<class 'pandas.core.frame.DataFrame'>\n",
            "RangeIndex: 3618 entries, 0 to 3617\n",
            "Data columns (total 5 columns):\n",
            " #   Column              Non-Null Count  Dtype \n",
            "---  ------              --------------  ----- \n",
            " 0   bhcmis_id           3618 non-null   object\n",
            " 1   grant_number        3618 non-null   object\n",
            " 2   year                3618 non-null   int64 \n",
            " 3   Health Center Name  3618 non-null   object\n",
            " 4   rural_flag_center   3618 non-null   object\n",
            "dtypes: int64(1), object(4)\n",
            "memory usage: 141.5+ KB\n"
          ]
        }
      ]
    },
    {
      "cell_type": "code",
      "source": [
        "uds_tele_df.info()"
      ],
      "metadata": {
        "colab": {
          "base_uri": "https://localhost:8080/"
        },
        "id": "8gc3_Ypb32-u",
        "outputId": "2f314898-77fe-46a4-a61a-edef0727882a"
      },
      "execution_count": 76,
      "outputs": [
        {
          "output_type": "stream",
          "name": "stdout",
          "text": [
            "<class 'pandas.core.frame.DataFrame'>\n",
            "RangeIndex: 2612 entries, 0 to 2611\n",
            "Data columns (total 7 columns):\n",
            " #   Column             Non-Null Count  Dtype \n",
            "---  ------             --------------  ----- \n",
            " 0   BHCMIS ID          2612 non-null   object\n",
            " 1   Grant Number       2612 non-null   object\n",
            " 2   use_telehealth     2612 non-null   int64 \n",
            " 3   mental_telehealth  2612 non-null   int64 \n",
            " 4   year               2612 non-null   int64 \n",
            " 5   consistency_1      2612 non-null   int64 \n",
            " 6   consistency_2      2612 non-null   int64 \n",
            "dtypes: int64(5), object(2)\n",
            "memory usage: 143.0+ KB\n"
          ]
        }
      ]
    },
    {
      "cell_type": "code",
      "source": [
        "# Merge HC and telehealth data\n",
        "uds_df.loc[:, 'year'] = uds_df.loc[:, 'year'].astype(int)\n",
        "uds_tele_df.loc[:, 'year'] = uds_tele_df.loc[:, 'year'].astype(int)\n",
        "temp_df = pd.merge(uds_df.rename(columns={'grant_number':'Grant Number'}), uds_tele_df.drop(columns=['BHCMIS ID']), on=['Grant Number', 'year'], how='outer')\n",
        "temp_df = temp_df[~temp_df['bhcmis_id'].isna()].reset_index(drop=True)\n",
        "temp_df = temp_df[(temp_df['year']<2016)|(~temp_df['use_telehealth'].isna())].reset_index(drop=True)\n",
        "uds_df = temp_df.copy()\n",
        "\n",
        "# Merge with Site data\n",
        "site_df.loc[:, 'year'] = site_df.loc[:, 'year'].astype(int)\n",
        "temp_df = pd.merge(uds_df, site_df[['Grant Number', 'year', 'Site State']].drop_duplicates(), on=['Grant Number', 'year'], how='outer')\n",
        "\n",
        "temp_df.loc[temp_df['Grant Number']=='H80CS28999', 'Site State'] = 'CT'\n",
        "temp_df.loc[temp_df['Grant Number']=='H80CS29013', 'Site State'] = 'NJ'\n",
        "temp_df.loc[temp_df['Grant Number']=='H80CS28445', 'Site State'] = 'NY'\n",
        "temp_df.loc[temp_df['Grant Number']=='H80CS29015', 'Site State'] = 'NJ'\n",
        "temp_df.loc[temp_df['Grant Number']=='H80CS28977', 'Site State'] = 'TX'\n",
        "temp_df.loc[temp_df['Grant Number']=='H80CS29048', 'Site State'] = 'CA'\n",
        "temp_df.loc[temp_df['Grant Number']=='H80CS00566', 'Site State'] = 'MT'\n",
        "temp_df.loc[temp_df['Grant Number']=='H80CS33655', 'Site State'] = 'NJ'\n",
        "temp_df.loc[temp_df['Grant Number']=='H80CS33651', 'Site State'] = 'IN'\n",
        "\n",
        "uds_df = temp_df.copy()"
      ],
      "metadata": {
        "id": "koAvIvQebVHK"
      },
      "execution_count": 79,
      "outputs": []
    },
    {
      "cell_type": "markdown",
      "source": [
        "### Save"
      ],
      "metadata": {
        "id": "nBsueHdDf3Ix"
      }
    },
    {
      "cell_type": "code",
      "source": [
        "uds_df.to_csv(rootPath+'samples_hc.csv', index=False)"
      ],
      "metadata": {
        "id": "QUjEVeiSf2xH"
      },
      "execution_count": 85,
      "outputs": []
    }
  ],
  "metadata": {
    "colab": {
      "collapsed_sections": [
        "cst_PwnPCT3G",
        "tDbAy1bsG199",
        "-H-NE_NbcG-y"
      ],
      "name": "[mental] create samples.ipynb",
      "provenance": [],
      "mount_file_id": "1HpjTwtcUQ9XZJUZpozVUQRQiZxxFOOSo",
      "authorship_tag": "ABX9TyNAq2c81p8sqtVjkeO5CMPi",
      "include_colab_link": true
    },
    "kernelspec": {
      "display_name": "Python 3",
      "name": "python3"
    },
    "language_info": {
      "name": "python"
    }
  },
  "nbformat": 4,
  "nbformat_minor": 0
}