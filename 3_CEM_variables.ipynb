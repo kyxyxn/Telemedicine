{
  "cells": [
    {
      "cell_type": "markdown",
      "metadata": {
        "id": "view-in-github",
        "colab_type": "text"
      },
      "source": [
        "<a href=\"https://colab.research.google.com/github/kyxyxn/Telemedicine/blob/main/3_CEM_variables.ipynb\" target=\"_parent\"><img src=\"https://colab.research.google.com/assets/colab-badge.svg\" alt=\"Open In Colab\"/></a>"
      ]
    },
    {
      "cell_type": "code",
      "execution_count": 1,
      "metadata": {
        "colab": {
          "base_uri": "https://localhost:8080/"
        },
        "id": "icdNltA252H2",
        "outputId": "ae509b16-e552-4429-8767-0f05be5ffdc6"
      },
      "outputs": [
        {
          "output_type": "stream",
          "name": "stdout",
          "text": [
            "Mounted at /content/drive\n"
          ]
        }
      ],
      "source": [
        "from google.colab import drive\n",
        "drive.mount('/content/drive')"
      ]
    },
    {
      "cell_type": "code",
      "execution_count": 2,
      "metadata": {
        "id": "QMFPRoKY6mkV"
      },
      "outputs": [],
      "source": [
        "import numpy as np\n",
        "import pandas as pd   \n",
        "from functools import reduce\n",
        "from scipy.stats import entropy"
      ]
    },
    {
      "cell_type": "code",
      "execution_count": 3,
      "metadata": {
        "id": "qUaPwhon6QDQ"
      },
      "outputs": [],
      "source": [
        "rootPath ='/content/drive/MyDrive/ASU/CIS791_Chen_Final/uds-data/'\n",
        "filenames_uds = [rootPath+'uds-2014-full-dataset.xlsx',\n",
        "                 rootPath+'uds-2015-full-dataset.xlsx',\n",
        "                 rootPath+'uds-2016-full-dataset.xlsx',\n",
        "                 rootPath+'uds-2017-full-dataset.xlsx',\n",
        "                 rootPath+'uds-2018-full-dataset.xlsx',\n",
        "                 rootPath+'uds-2019-full-dataset.xlsx',\n",
        "                 rootPath+'uds-2020-full-dataset.xlsx']"
      ]
    },
    {
      "cell_type": "code",
      "execution_count": 4,
      "metadata": {
        "id": "lCmgcoZe33pP"
      },
      "outputs": [],
      "source": [
        "hc_df = pd.read_csv(rootPath+'samples_hc.csv')\n",
        "visits_df = pd.read_csv(rootPath+'dv_visits.csv')"
      ]
    },
    {
      "cell_type": "code",
      "source": [
        "# These should be identified\n",
        "hc_list = hc_df['Grant Number'].value_counts().index.tolist()"
      ],
      "metadata": {
        "id": "9dDM7M7Mi41l"
      },
      "execution_count": 5,
      "outputs": []
    },
    {
      "cell_type": "code",
      "source": [
        "len(hc_list)"
      ],
      "metadata": {
        "colab": {
          "base_uri": "https://localhost:8080/"
        },
        "id": "ihmqr_hibbru",
        "outputId": "559faee1-689a-44f6-d333-c10093849686"
      },
      "execution_count": 6,
      "outputs": [
        {
          "output_type": "execute_result",
          "data": {
            "text/plain": [
              "891"
            ]
          },
          "metadata": {},
          "execution_count": 6
        }
      ]
    },
    {
      "cell_type": "markdown",
      "source": [
        "### HC characteristics"
      ],
      "metadata": {
        "id": "RFQKU6uhg-e8"
      }
    },
    {
      "cell_type": "markdown",
      "source": [
        "#### 1. Number of patients"
      ],
      "metadata": {
        "id": "ViZ3Uaihmaau"
      }
    },
    {
      "cell_type": "code",
      "source": [
        "# Table 4 -- Total number of patients\n",
        "def get_df(filenames, table):\n",
        "  final_df = pd.DataFrame()\n",
        "  for i in range(len(filenames)):\n",
        "    print(i)\n",
        "    temp_df = pd.read_excel(filenames[i], sheet_name=table)\n",
        "    temp_df.columns = temp_df.iloc[0].values.tolist()\n",
        "    print(temp_df.columns.values.tolist()[:5])\n",
        "    temp_df['year']=filenames[i].split('uds-')[-1][:4]\n",
        "    final_df = final_df.append(temp_df).reset_index(drop=True)\n",
        "  return final_df\n",
        "\n",
        "t4_df = get_df(filenames_uds, 'Table4')\n",
        "t4_df = t4_df[['GrantNumber', 'year', 'T4_L6_Ca', 'T4_L7_Ca',\t'T4_L7_Cb', 'T4_L8_Ca', 'T4_L8_Cb', 'T4_L9_Ca','T4_L9_Cb', 'T4_L11_Ca', 'T4_L11_Cb']]\n",
        "t4_df = t4_df[t4_df['GrantNumber']!='GrantNumber'].reset_index(drop=True)\n",
        "t4_df.columns = ['Grant Number', 'year', 'total_num_patients', 'total_num_patients_uninsured_17','total_num_patients_uninsured_18older', 'total_num_patients_medicaid_17', 'total_num_patients_medicaid_18older',\n",
        "                 'total_num_patients_medicare_17', 'total_num_patients_medicare_18older', 'total_num_patients_private_17', 'total_num_patients_private_18older']\n",
        "t4_df = t4_df.replace(to_replace={'-':np.nan})\n",
        "t4_df = t4_df[~t4_df['total_num_patients'].isna()].reset_index(drop=True)\n",
        "t4_df = t4_df.fillna(0)\n",
        "\n",
        "t4_df['total_num_patients_medicaid'] = t4_df['total_num_patients_medicaid_17']+t4_df['total_num_patients_medicaid_18older']\n",
        "t4_df['total_num_patients_medicare'] = t4_df['total_num_patients_medicare_17']+t4_df['total_num_patients_medicare_18older']\n",
        "t4_df['total_num_patients_private'] = t4_df['total_num_patients_private_17']+t4_df['total_num_patients_private_18older']\n",
        "t4_df['total_num_patients_uninsured'] = t4_df['total_num_patients_uninsured_17']+t4_df['total_num_patients_uninsured_18older']\n",
        "\n",
        "t4_df = t4_df[['Grant Number', 'year', 'total_num_patients', 'total_num_patients_medicaid', 'total_num_patients_medicare', 'total_num_patients_private', 'total_num_patients_uninsured']]\n",
        "t4_df = t4_df[t4_df['Grant Number'].isin(hc_list)].reset_index(drop=True) # Focus"
      ],
      "metadata": {
        "id": "0Ks10PQLhAap"
      },
      "execution_count": null,
      "outputs": []
    },
    {
      "cell_type": "code",
      "source": [
        "t4_df.info()"
      ],
      "metadata": {
        "colab": {
          "base_uri": "https://localhost:8080/"
        },
        "id": "9f-8lswQvOan",
        "outputId": "baa8c423-53eb-4b33-9073-d13a36bec3f9"
      },
      "execution_count": 172,
      "outputs": [
        {
          "output_type": "stream",
          "name": "stdout",
          "text": [
            "<class 'pandas.core.frame.DataFrame'>\n",
            "RangeIndex: 9513 entries, 0 to 9512\n",
            "Data columns (total 7 columns):\n",
            " #   Column                        Non-Null Count  Dtype  \n",
            "---  ------                        --------------  -----  \n",
            " 0   Grant Number                  9513 non-null   object \n",
            " 1   year                          9513 non-null   object \n",
            " 2   total_num_patients            9513 non-null   float64\n",
            " 3   total_num_patients_medicaid   9513 non-null   float64\n",
            " 4   total_num_patients_medicare   9513 non-null   float64\n",
            " 5   total_num_patients_private    9513 non-null   float64\n",
            " 6   total_num_patients_uninsured  9513 non-null   float64\n",
            "dtypes: float64(5), object(2)\n",
            "memory usage: 520.4+ KB\n"
          ]
        }
      ]
    },
    {
      "cell_type": "markdown",
      "source": [
        "#### 2. Financial assistance"
      ],
      "metadata": {
        "id": "PKcQdqnWrH-V"
      }
    },
    {
      "cell_type": "code",
      "source": [
        "money_df = pd.read_excel(r'/content/drive/MyDrive/ASU/CIS791_Chen_Final/uds-data/hc_site_zips.xlsx')\n",
        "money_df = money_df[~money_df['Grantee Name'].isna()]\n",
        "money_df = money_df[['Grant #', 'Fiscal Year', 'Financial Assistance']].sort_values(by=['Grant #', 'Fiscal Year']).reset_index(drop=True)\n",
        "money_df = money_df.rename(columns={'Grant #':'Grant Number', 'Fiscal Year':'year'})\n",
        "money_df['Financial Assistance'] = money_df['Financial Assistance'].replace(to_replace={'\\$':'', ',':''}, regex=True)\n",
        "money_df.loc[:,'Financial Assistance'] = money_df.loc[:,'Financial Assistance'].astype(float)\n",
        "money_df.loc[:,'year'] = money_df.loc[:,'year'].astype(int)\n",
        "money_df = money_df[money_df['Grant Number'].isin(hc_list)].reset_index(drop=True) # Focus\n",
        "money_df = money_df[money_df['year']>2013].reset_index(drop=True)"
      ],
      "metadata": {
        "id": "T3yYCs_arJW5"
      },
      "execution_count": 202,
      "outputs": []
    },
    {
      "cell_type": "markdown",
      "source": [
        "### Market characteristics: Get County information from HC Sites"
      ],
      "metadata": {
        "id": "tOhFO14XgE2Y"
      }
    },
    {
      "cell_type": "code",
      "source": [
        "# Clean grant data from website\n",
        "## Follow year above\n",
        "info_df = pd.read_excel(r'/content/drive/MyDrive/ASU/CIS791_Chen_Final/uds-data/hc_site_zips.xlsx')\n",
        "info_df['Fiscal Year'] = info_df['Fiscal Year'].replace(to_replace={'All Other Clinic Types':np.nan, 'School':np.nan, 'Health Center Location Setting':np.nan,\n",
        "                                                                    'Unknown':np.nan, 'Hospital':np.nan, 'Nursing Home':np.nan, 'Domestic Violence':np.nan,\n",
        "                                                                    'Correctional Facility':np.nan})\n",
        "info_df['Fiscal Year'] = info_df['Fiscal Year'].fillna(method=\"ffill\")"
      ],
      "metadata": {
        "id": "FC97P4JEf3cg"
      },
      "execution_count": 23,
      "outputs": []
    },
    {
      "cell_type": "code",
      "source": [
        "# Clean data\n",
        "df_1 = info_df[info_df['Program Name']=='Health Center Program (H80)'].reset_index(drop=True)\n",
        "df_2 = info_df[info_df['Program Name']!='Health Center Program (H80)'].reset_index(drop=True)\n",
        "df_2 = df_2.drop(columns=['Grantee Name'])\n",
        "df_2.columns = df_2.iloc[0].values\n",
        "df_2 = df_2[df_2['Services Delivered at Site']!='Services Delivered at Site'].reset_index(drop=True)\n",
        "df_2 = df_2.rename(columns={'2019':'year', 'County':'county_site', 'State':'state_site', 'Grant #':'Grant Number', 'BHCMIS Org. ID':'BHCMIS ID', \n",
        "                            'ZIP':'zip_site', 'State County FIPS Code':'FIPS_site', 'HHS Region':'hhs_site', 'Rural Status':'rural_site'})\n",
        "df_1 = df_1.rename(columns={'Grant #':'Grant Number', 'Fiscal Year':'year', 'State': 'state_center', 'County':'county_center', \n",
        "                            'ZIP':'zip_center', 'State County FIPS Code':'FIPS_center', 'HHS Region':'hhs_center', 'Rural Status':'rural_center'})\n",
        "df_1['index_1'] = 'center'\n",
        "df_2['index_2'] = 'site'"
      ],
      "metadata": {
        "id": "TRo3v8HluA4R"
      },
      "execution_count": 24,
      "outputs": []
    },
    {
      "cell_type": "code",
      "source": [
        "temp_df = pd.merge(df_1[['Grant Number', 'Grantee Name', 'year', 'state_center', 'county_center', 'zip_center', 'FIPS_center', 'hhs_center', 'rural_center', 'index_1']],\n",
        "                   df_2[['Grant Number', 'Site Name', 'Health Center Type', 'Health Center Location Type', 'year', 'state_site', 'county_site', 'zip_site', 'FIPS_site', 'hhs_site', 'rural_site', 'index_2']],\n",
        "                   on=['Grant Number', 'year'], how='outer')\n",
        "temp_df = temp_df[temp_df['Grant Number'].isin(hc_list)].reset_index(drop=True) # should be our focus\n",
        "# info_df = temp_df.copy()\n",
        "temp_df.info()"
      ],
      "metadata": {
        "id": "lcWJPyG1uGf0",
        "colab": {
          "base_uri": "https://localhost:8080/"
        },
        "outputId": "a682eed5-6321-48d3-8a98-10dec41580ec"
      },
      "execution_count": 25,
      "outputs": [
        {
          "output_type": "stream",
          "name": "stdout",
          "text": [
            "<class 'pandas.core.frame.DataFrame'>\n",
            "RangeIndex: 59039 entries, 0 to 59038\n",
            "Data columns (total 20 columns):\n",
            " #   Column                       Non-Null Count  Dtype \n",
            "---  ------                       --------------  ----- \n",
            " 0   Grant Number                 59039 non-null  object\n",
            " 1   Grantee Name                 59039 non-null  object\n",
            " 2   year                         59039 non-null  object\n",
            " 3   state_center                 59039 non-null  object\n",
            " 4   county_center                59039 non-null  object\n",
            " 5   zip_center                   59039 non-null  object\n",
            " 6   FIPS_center                  59039 non-null  object\n",
            " 7   hhs_center                   59039 non-null  object\n",
            " 8   rural_center                 59039 non-null  object\n",
            " 9   index_1                      59039 non-null  object\n",
            " 10  Site Name                    58796 non-null  object\n",
            " 11  Health Center Type           58796 non-null  object\n",
            " 12  Health Center Location Type  58796 non-null  object\n",
            " 13  state_site                   58796 non-null  object\n",
            " 14  county_site                  58796 non-null  object\n",
            " 15  zip_site                     58720 non-null  object\n",
            " 16  FIPS_site                    58704 non-null  object\n",
            " 17  hhs_site                     58796 non-null  object\n",
            " 18  rural_site                   58796 non-null  object\n",
            " 19  index_2                      58796 non-null  object\n",
            "dtypes: object(20)\n",
            "memory usage: 9.0+ MB\n"
          ]
        }
      ]
    },
    {
      "cell_type": "code",
      "source": [
        "# Centers that don't have sites should be center == site\n",
        "site_df = temp_df[~temp_df['index_2'].isna()].reset_index(drop=True)\n",
        "nosite_df = temp_df[temp_df['index_2'].isna()].reset_index(drop=True)\n",
        "# fill blanks\n",
        "nosite_df['Site Name'] = nosite_df['Grantee Name']\n",
        "nosite_df['state_site'] = nosite_df['state_site']\n",
        "nosite_df['county_site'] = nosite_df['county_center']\n",
        "nosite_df['zip_site'] = nosite_df['zip_center']\n",
        "nosite_df['FIPS_site'] = nosite_df['FIPS_center']\n",
        "nosite_df['hhs_site'] = nosite_df['hhs_center']\n",
        "nosite_df['rural_site'] = nosite_df['rural_center']\n",
        "# Concat\n",
        "info_df = pd.concat([site_df, nosite_df]).reset_index(drop=True)\n",
        "# Fill missing values\n",
        "## zip\n",
        "info_df.loc[info_df['Site Name']=='GOLDEN HOUSE - Family Violence Center', ['zip_site']] = '54302'\n",
        "info_df.loc[info_df['Site Name']=='The Julian Center Clinic', ['zip_site']] = '46202'\n",
        "info_df.loc[info_df['Site Name']=='Westside Academy @ Blodgett - 312 Oswego St.', ['zip_site']] = '13204'\n",
        "info_df.loc[info_df['Site Name']=='EDDY CENTER ADULT SHELTER', ['zip_site']] = '06457'\n",
        "info_df.loc[info_df['Site Name']=='WYA AT CRYSALIS', ['zip_site']] = '06450'\n",
        "# All other missinig are mostly domestic violence HCs\n",
        "info_df = info_df[~info_df['zip_site'].isna()].reset_index(drop=True)\n",
        "info_df['zip5_site'] = [int(str(i)[:5]) for i in info_df['zip_site']]\n",
        "\n",
        "## county\n",
        "info_df.loc[info_df['Site Name']=='GOLDEN HOUSE - Family Violence Center', ['FIPS_site']] = '55009'\n",
        "info_df.loc[info_df['Site Name']=='The Julian Center Clinic', ['FIPS_site']] = '18097'\n",
        "info_df.loc[info_df['Site Name']=='EDDY CENTER ADULT SHELTER', ['FIPS_site']] = '09007'\n",
        "info_df.loc[info_df['Site Name']=='Plainfield Central School SBHC', ['FIPS_site']] = '09015'\n",
        "info_df.loc[info_df['Site Name']=='WYA AT CRYSALIS', ['FIPS_site']] = '09009'\n",
        "info_df.loc[info_df['Site Name']=='Westside Academy @ Blodgett - 312 Oswego St.', ['FIPS_site']] = '36067'\n",
        "info_df.loc[info_df['Site Name']=='Santa Fe Suites Outreach Service Site', ['FIPS_site']] = '35049'\n",
        "\n",
        "## state\n",
        "info_df['state_site'] = info_df['state_site'].replace(to_replace={'XX':np.nan})\n",
        "info_df['state_fips_site'] = [str(i)[:2] for i in info_df['FIPS_site']]\n",
        "fips_df = info_df[['state_fips_site', 'state_site']].drop_duplicates().dropna().sort_values(by=['state_fips_site']).reset_index(drop=True)\n",
        "info_df = pd.merge(info_df.drop(columns=['state_site']), fips_df, on=['state_fips_site'])\n",
        "\n",
        "info_df = info_df[info_df['year']!=2013].reset_index(drop=True)"
      ],
      "metadata": {
        "id": "lyhEC7qOvz87"
      },
      "execution_count": 26,
      "outputs": []
    },
    {
      "cell_type": "code",
      "source": [
        "info_df.info()"
      ],
      "metadata": {
        "colab": {
          "base_uri": "https://localhost:8080/"
        },
        "id": "t_TA2SFA7c5i",
        "outputId": "3c7769cc-0eab-421f-e727-d753465a8f92"
      },
      "execution_count": 27,
      "outputs": [
        {
          "output_type": "stream",
          "name": "stdout",
          "text": [
            "<class 'pandas.core.frame.DataFrame'>\n",
            "RangeIndex: 59003 entries, 0 to 59002\n",
            "Data columns (total 22 columns):\n",
            " #   Column                       Non-Null Count  Dtype \n",
            "---  ------                       --------------  ----- \n",
            " 0   Grant Number                 59003 non-null  object\n",
            " 1   Grantee Name                 59003 non-null  object\n",
            " 2   year                         59003 non-null  object\n",
            " 3   state_center                 59003 non-null  object\n",
            " 4   county_center                59003 non-null  object\n",
            " 5   zip_center                   59003 non-null  object\n",
            " 6   FIPS_center                  59003 non-null  object\n",
            " 7   hhs_center                   59003 non-null  object\n",
            " 8   rural_center                 59003 non-null  object\n",
            " 9   index_1                      59003 non-null  object\n",
            " 10  Site Name                    59003 non-null  object\n",
            " 11  Health Center Type           58760 non-null  object\n",
            " 12  Health Center Location Type  58760 non-null  object\n",
            " 13  county_site                  59003 non-null  object\n",
            " 14  zip_site                     59003 non-null  object\n",
            " 15  FIPS_site                    59003 non-null  object\n",
            " 16  hhs_site                     59003 non-null  object\n",
            " 17  rural_site                   59003 non-null  object\n",
            " 18  index_2                      58760 non-null  object\n",
            " 19  zip5_site                    59003 non-null  int64 \n",
            " 20  state_fips_site              59003 non-null  object\n",
            " 21  state_site                   59003 non-null  object\n",
            "dtypes: int64(1), object(21)\n",
            "memory usage: 9.9+ MB\n"
          ]
        }
      ]
    },
    {
      "cell_type": "code",
      "source": [
        "# For proportion\n",
        "def get_unique(dataframe, var):\n",
        "  temp_gb = dataframe.groupby(['Grant Number', 'year']).nunique()[[var]].reset_index(level=[0,1]).rename(columns={var:'num_unique_{}'.format(var)})\n",
        "  temp_gb['num_unique_{}'.format(var)] = 1/temp_gb['num_unique_{}'.format(var)]\n",
        "  dataframe = pd.merge(dataframe, temp_gb, on=['Grant Number', 'year'])\n",
        "  return dataframe\n",
        "\n",
        "info_df = get_unique(dataframe = info_df, var='zip5_site')\n",
        "info_df = get_unique(dataframe = info_df, var='FIPS_site')\n",
        "info_df = get_unique(dataframe = info_df, var='hhs_site')\n",
        "info_df = get_unique(dataframe = info_df, var='rural_site')"
      ],
      "metadata": {
        "id": "e-ZfoG9Wqc-S"
      },
      "execution_count": 28,
      "outputs": []
    },
    {
      "cell_type": "markdown",
      "source": [
        "#### 1. Population"
      ],
      "metadata": {
        "id": "VjuNqANRxeMd"
      }
    },
    {
      "cell_type": "code",
      "source": [
        "pop_df = pd.DataFrame()\n",
        "for i in range(2014, 2021):\n",
        "  print(i)\n",
        "  temp_df = pd.read_csv('/content/drive/MyDrive/ASU/Telehealth/Data/Controls/ACSDP5Y{}.DP05.csv'.format(i))\n",
        "  temp_df = temp_df.replace(to_replace={'(X)':np.nan})\n",
        "  temp_df = temp_df[['GEO_ID','DP05_0001E']]\n",
        "  temp_df['year'] = i\n",
        "  pop_df = pop_df.append(temp_df)\n",
        "  print(\"Done!\")\n",
        "\n",
        "pop_df['county_fips'] = [str(i)[-5:] for i in pop_df['GEO_ID']]\n",
        "pop_df = pop_df[pop_df['GEO_ID']!='id'].reset_index(drop=True)\n",
        "pop_df.columns = ['GEO_ID','county_population','year','county_fips']\n",
        "pop_df = pop_df[['county_fips','year','county_population']]\n",
        "pop_df['county_population'] = [float(i) for i in pop_df['county_population']]"
      ],
      "metadata": {
        "id": "MCsRJGQoxfpC",
        "colab": {
          "base_uri": "https://localhost:8080/"
        },
        "outputId": "cd7291dd-bf6b-4042-e09b-51ae54b7ba81"
      },
      "execution_count": 29,
      "outputs": [
        {
          "output_type": "stream",
          "name": "stdout",
          "text": [
            "2014\n"
          ]
        },
        {
          "output_type": "stream",
          "name": "stderr",
          "text": [
            "/usr/local/lib/python3.7/dist-packages/IPython/core/interactiveshell.py:2882: DtypeWarning: Columns (0,2,4,6,8,10,12,14,16,17,18,19,20,21,22,23,24,26,28,30,32,34,36,38,40,42,44,45,46,47,48,49,50,51,52,54,56,57,58,59,60,61,62,63,64,65,68,70,72,73,74,75,76,77,78,79,80,82,84,86,88,90,92,94,96,98,100,102,104,106,108,110,112,113,114,115,116,117,118,119,120,121,122,123,124,125,126,127,128,129,130,131,132,133,134,135,136,137,138,139,140,141,142,143,144,145,146,147,148,149,150,151,152,153,154,155,156,157,158,159,160,161,162,163,164,165,166,167,168,169,170,171,172,173,174,175,176,177,178,179,180,181,182,183,184,185,186,187,188,189,190,191,192,193,194,195,196,197,198,199,200,201,202,203,204,205,206,207,208,209,210,211,212,213,214,215,216,217,218,219,220,221,222,223,224,225,226,227,228,230,232,233,234,235,236,237,238,239,240,241,242,243,244,245,246,247,248,249,250,251,252,253,254,255,256,258,260,262,264,265,266,267,268,269,270,271,272,273,274,275,276,277,278,279,280,282,284,285,286,287,288,289,290,291,292,293,294,295,296,297,298,299,300,301,302,303,304,305,306,307,308,309,310,311,312,313,314,315,316,317,318,319,320,321) have mixed types.Specify dtype option on import or set low_memory=False.\n",
            "  exec(code_obj, self.user_global_ns, self.user_ns)\n"
          ]
        },
        {
          "output_type": "stream",
          "name": "stdout",
          "text": [
            "Done!\n",
            "2015\n"
          ]
        },
        {
          "output_type": "stream",
          "name": "stderr",
          "text": [
            "/usr/local/lib/python3.7/dist-packages/IPython/core/interactiveshell.py:2882: DtypeWarning: Columns (0,2,4,6,8,10,12,14,16,17,18,19,20,21,22,23,24,26,28,30,32,34,36,38,40,42,44,45,46,47,48,49,50,51,52,54,56,57,58,59,60,61,62,63,64,65,68,70,72,73,74,75,76,77,78,79,80,82,84,86,88,90,92,94,96,98,100,102,104,106,108,110,112,113,114,115,116,117,118,119,120,121,122,123,124,125,126,127,128,129,130,131,132,133,134,135,136,137,138,139,140,141,142,143,144,145,146,147,148,149,150,151,152,153,154,155,156,157,158,159,160,161,162,163,164,165,166,167,168,169,170,171,172,173,174,175,176,177,178,179,180,181,182,183,184,185,186,187,188,189,190,191,192,193,194,195,196,197,198,199,200,201,202,203,204,205,206,207,208,209,210,211,212,213,214,215,216,217,218,219,220,221,222,223,224,225,226,227,228,230,232,233,234,235,236,237,238,239,240,241,242,243,244,245,246,247,248,249,250,251,252,253,254,255,256,258,260,262,264,265,266,267,268,269,270,271,272,273,274,275,276,277,278,279,280,282,284,285,286,287,288,289,290,291,292,293,294,295,296,297,298,299,300,301,302,303,304,305,306,307,308,309,310,311,312,313,314,315,316,317,318,319,320,321,324,325,326,328,329,330,331,332,333,334,335) have mixed types.Specify dtype option on import or set low_memory=False.\n",
            "  exec(code_obj, self.user_global_ns, self.user_ns)\n"
          ]
        },
        {
          "output_type": "stream",
          "name": "stdout",
          "text": [
            "Done!\n",
            "2016\n",
            "Done!\n",
            "2017\n"
          ]
        },
        {
          "output_type": "stream",
          "name": "stderr",
          "text": [
            "/usr/local/lib/python3.7/dist-packages/IPython/core/interactiveshell.py:2882: DtypeWarning: Columns (0,2,4,6,8,10,12,16,18,20,21,22,23,24,25,26,27,28,30,32,34,36,38,40,42,44,46,48,49,50,51,52,53,54,55,56,58,60,61,62,63,64,65,66,67,68,69,72,74,76,77,78,79,80,82,84,85,86,87,88,89,90,91,92,94,96,98,100,102,104,106,108,112,114,116,118,120,122,128,130,132,133,134,135,136,137,138,139,140,141,142,143,144,145,146,147,148,149,150,151,152,153,154,155,156,157,158,159,160,161,162,163,164,165,166,167,168,169,170,171,172,173,174,175,176,177,178,179,180,181,182,183,184,185,186,187,188,189,190,191,192,193,194,195,196,197,198,199,200,201,202,203,204,205,206,207,208,209,210,211,212,213,214,215,216,217,218,219,220,221,222,223,224,225,226,227,228,229,230,231,232,233,234,235,236,237,238,239,240,241,242,243,244,245,246,247,248,250,252,253,254,255,256,257,258,259,260,261,262,263,264,265,266,267,268,269,270,271,272,273,274,275,276,278,280,282,284,285,286,287,288,289,290,291,292,293,294,295,296,297,298,299,300,302,304,305,306,307,308,309,310,311,312,313,314,315,316,317,318,319,320,321,322,323,324,325,326,327,328,329,330,331,332,333,334,335,336,337,338,339,340,341,344,345,346,348,349,350,351,352,353,354,355) have mixed types.Specify dtype option on import or set low_memory=False.\n",
            "  exec(code_obj, self.user_global_ns, self.user_ns)\n"
          ]
        },
        {
          "output_type": "stream",
          "name": "stdout",
          "text": [
            "Done!\n",
            "2018\n"
          ]
        },
        {
          "output_type": "stream",
          "name": "stderr",
          "text": [
            "/usr/local/lib/python3.7/dist-packages/IPython/core/interactiveshell.py:2882: DtypeWarning: Columns (5,7,9,10,11,12,13,14,15,16,17,18,19,20,21,22,23,24,25,26,27,28,29,30,31,32,33,34,35,36,37,38,39,40,41,42,43,44,45,46,47,48,49,50,51,52,53,54,55,56,57,58,59,60,61,62,63,64,65,66,67,68,69,70,71,72,73,74,75,76,77,78,79,80,81,82,83,84,85,86,87,88,89,90,91,92,93,94,95,96,97,98,99,100,101,102,103,104,105,106,107,108,109,110,111,112,113,114,115,116,117,118,119,120,121,122,123,124,125,127,129,130,131,132,133,134,135,136,137,138,139,140,141,142,143,144,145,146,147,148,149,150,151,152,153,155,157,159,161,162,163,164,165,166,167,168,169,170,171,172,173,174,175,176,177,179,181,182,183,184,185,186,187,188,189,190,191,192,193,194,195,196,197,198,199,200,201,202,203,204,205,206,207,208,209,210,211,212,213,214,215,216,217,218,221,222,223,225,226,227,228,229,230,231,232,234,236,238,240,242,244,246,250,252,254,255,256,257,258,259,260,261,262,264,266,268,270,272,274,276,278,280,282,283,284,285,286,287,288,289,290,292,294,295,296,297,298,299,300,301,302,303,306,308,310,311,312,313,314,316,318,319,320,321,322,323,324,325,326,328,330,332,334,336,338,340,342,346,348,350,352,354,356) have mixed types.Specify dtype option on import or set low_memory=False.\n",
            "  exec(code_obj, self.user_global_ns, self.user_ns)\n"
          ]
        },
        {
          "output_type": "stream",
          "name": "stdout",
          "text": [
            "Done!\n",
            "2019\n",
            "Done!\n",
            "2020\n",
            "Done!\n"
          ]
        }
      ]
    },
    {
      "cell_type": "markdown",
      "source": [
        "#### 2. Median household income"
      ],
      "metadata": {
        "id": "Bobdnb4vqn6r"
      }
    },
    {
      "cell_type": "code",
      "source": [
        "income_df = pd.DataFrame()\n",
        "for i in range(2014, 2021):\n",
        "  print(i)\n",
        "  temp_df = pd.read_csv('/content/drive/MyDrive/ASU/Telehealth/Data/Controls/ACSST5Y{}.S1903.csv'.format(i))\n",
        "  temp_df = temp_df.replace(to_replace={'(X)':np.nan})\n",
        "  if i<2017:\n",
        "    temp_df = temp_df[['GEO_ID','S1903_C02_001E']]\n",
        "    temp_df.columns =['GEO_ID', 'median_household_income']\n",
        "  elif i>=2017:\n",
        "    temp_df = temp_df[['GEO_ID','S1903_C03_001E']]\n",
        "    temp_df.columns =['GEO_ID', 'median_household_income']\n",
        "    \n",
        "  temp_df['year'] = i\n",
        "  income_df = income_df.append(temp_df)\n",
        "  print(\"Done!\")\n",
        "\n",
        "income_df['county_fips'] = [str(i)[-5:] for i in income_df['GEO_ID']]\n",
        "income_df.columns = ['GEO_ID','median_household_income','year','county_fips']\n",
        "income_df = income_df[income_df['GEO_ID']!='id'].reset_index(drop=True)\n",
        "income_df = income_df[['county_fips','year','median_household_income']]\n",
        "income_df['median_household_income'] = income_df['median_household_income'].replace(to_replace={'-':np.nan})\n",
        "\n",
        "income_df.loc[(income_df['county_fips']=='48301')&(income_df['year']==2014), 'median_household_income'] = 48125\n",
        "income_df.loc[(income_df['county_fips']=='35039')&(income_df['year']==2018), 'median_household_income'] = 36687 #(33422+39952)/2\n",
        "income_df.loc[(income_df['county_fips']=='48243')&(income_df['year']==2020), 'median_household_income'] = 52982\n",
        "\n",
        "income_df['median_household_income'] = [float(i) for i in income_df['median_household_income']]"
      ],
      "metadata": {
        "id": "gbqbfgb1qqKX",
        "colab": {
          "base_uri": "https://localhost:8080/"
        },
        "outputId": "8417d52f-96a5-4bf0-cb90-8cf3d10660b6"
      },
      "execution_count": 71,
      "outputs": [
        {
          "output_type": "stream",
          "name": "stdout",
          "text": [
            "2014\n",
            "Done!\n",
            "2015\n",
            "Done!\n",
            "2016\n",
            "Done!\n",
            "2017\n",
            "Done!\n",
            "2018\n",
            "Done!\n",
            "2019\n",
            "Done!\n",
            "2020\n",
            "Done!\n"
          ]
        }
      ]
    },
    {
      "cell_type": "markdown",
      "source": [
        "#### 3. Race"
      ],
      "metadata": {
        "id": "PhruJ0efz4Bu"
      }
    },
    {
      "cell_type": "code",
      "source": [
        "race_df = pd.DataFrame()\n",
        "for i in range(2014, 2021):\n",
        "  print(i)\n",
        "  temp_df = pd.read_csv('/content/drive/MyDrive/ASU/Telehealth/Data/Controls/ACSDP5Y{}.DP05.csv'.format(i))\n",
        "  temp_df = temp_df.replace(to_replace={'(X)':np.nan})\n",
        "\n",
        "  if i<=2016:\n",
        "    temp_df = temp_df[['GEO_ID', 'DP05_0001E', 'DP05_0032E', 'DP05_0033E', 'DP05_0034E', 'DP05_0039E', 'DP05_0047E', 'DP05_0066E']]\n",
        "    temp_df.columns = ['GEO_ID', 'county_population', 'county_population_white', 'county_population_black', 'county_population_native_american', 'county_population_asian', 'county_population_islander', 'county_population_hispanic']\n",
        "  elif i>2016:\n",
        "    temp_df = temp_df[['GEO_ID', 'DP05_0001E', 'DP05_0037E', 'DP05_0038E', 'DP05_0039E', 'DP05_0044E', 'DP05_0052E', 'DP05_0071E']]\n",
        "    temp_df.columns = ['GEO_ID', 'county_population', 'county_population_white', 'county_population_black', 'county_population_native_american', 'county_population_asian', 'county_population_islander', 'county_population_hispanic']\n",
        "\n",
        "  temp_df['year'] = i\n",
        "  race_df = race_df.append(temp_df)\n",
        "  print(\"Done!\")\n",
        "\n",
        "race_df['county_fips'] = [str(i)[-5:] for i in race_df['GEO_ID']]\n",
        "race_df = race_df[race_df['GEO_ID']!='id'].reset_index(drop=True)\n",
        "race_df = race_df.drop(columns=['GEO_ID'])\n",
        "col_list = ['county_population', 'county_population_white', 'county_population_black', 'county_population_native_american', 'county_population_asian', 'county_population_islander', 'county_population_hispanic']\n",
        "for col in col_list:\n",
        "  race_df[col] = [float(i) for i in race_df[col]]"
      ],
      "metadata": {
        "id": "32ZrNxY_z5yM",
        "colab": {
          "base_uri": "https://localhost:8080/"
        },
        "outputId": "9aef775e-4e02-4a8b-fee3-ef9bfc029b6a"
      },
      "execution_count": 83,
      "outputs": [
        {
          "output_type": "stream",
          "name": "stdout",
          "text": [
            "2014\n"
          ]
        },
        {
          "output_type": "stream",
          "name": "stderr",
          "text": [
            "/usr/local/lib/python3.7/dist-packages/IPython/core/interactiveshell.py:2882: DtypeWarning: Columns (0,2,4,6,8,10,12,14,16,17,18,19,20,21,22,23,24,26,28,30,32,34,36,38,40,42,44,45,46,47,48,49,50,51,52,54,56,57,58,59,60,61,62,63,64,65,68,70,72,73,74,75,76,77,78,79,80,82,84,86,88,90,92,94,96,98,100,102,104,106,108,110,112,113,114,115,116,117,118,119,120,121,122,123,124,125,126,127,128,129,130,131,132,133,134,135,136,137,138,139,140,141,142,143,144,145,146,147,148,149,150,151,152,153,154,155,156,157,158,159,160,161,162,163,164,165,166,167,168,169,170,171,172,173,174,175,176,177,178,179,180,181,182,183,184,185,186,187,188,189,190,191,192,193,194,195,196,197,198,199,200,201,202,203,204,205,206,207,208,209,210,211,212,213,214,215,216,217,218,219,220,221,222,223,224,225,226,227,228,230,232,233,234,235,236,237,238,239,240,241,242,243,244,245,246,247,248,249,250,251,252,253,254,255,256,258,260,262,264,265,266,267,268,269,270,271,272,273,274,275,276,277,278,279,280,282,284,285,286,287,288,289,290,291,292,293,294,295,296,297,298,299,300,301,302,303,304,305,306,307,308,309,310,311,312,313,314,315,316,317,318,319,320,321) have mixed types.Specify dtype option on import or set low_memory=False.\n",
            "  exec(code_obj, self.user_global_ns, self.user_ns)\n"
          ]
        },
        {
          "output_type": "stream",
          "name": "stdout",
          "text": [
            "Done!\n",
            "2015\n"
          ]
        },
        {
          "output_type": "stream",
          "name": "stderr",
          "text": [
            "/usr/local/lib/python3.7/dist-packages/IPython/core/interactiveshell.py:2882: DtypeWarning: Columns (0,2,4,6,8,10,12,14,16,17,18,19,20,21,22,23,24,26,28,30,32,34,36,38,40,42,44,45,46,47,48,49,50,51,52,54,56,57,58,59,60,61,62,63,64,65,68,70,72,73,74,75,76,77,78,79,80,82,84,86,88,90,92,94,96,98,100,102,104,106,108,110,112,113,114,115,116,117,118,119,120,121,122,123,124,125,126,127,128,129,130,131,132,133,134,135,136,137,138,139,140,141,142,143,144,145,146,147,148,149,150,151,152,153,154,155,156,157,158,159,160,161,162,163,164,165,166,167,168,169,170,171,172,173,174,175,176,177,178,179,180,181,182,183,184,185,186,187,188,189,190,191,192,193,194,195,196,197,198,199,200,201,202,203,204,205,206,207,208,209,210,211,212,213,214,215,216,217,218,219,220,221,222,223,224,225,226,227,228,230,232,233,234,235,236,237,238,239,240,241,242,243,244,245,246,247,248,249,250,251,252,253,254,255,256,258,260,262,264,265,266,267,268,269,270,271,272,273,274,275,276,277,278,279,280,282,284,285,286,287,288,289,290,291,292,293,294,295,296,297,298,299,300,301,302,303,304,305,306,307,308,309,310,311,312,313,314,315,316,317,318,319,320,321,324,325,326,328,329,330,331,332,333,334,335) have mixed types.Specify dtype option on import or set low_memory=False.\n",
            "  exec(code_obj, self.user_global_ns, self.user_ns)\n"
          ]
        },
        {
          "output_type": "stream",
          "name": "stdout",
          "text": [
            "Done!\n",
            "2016\n",
            "Done!\n",
            "2017\n"
          ]
        },
        {
          "output_type": "stream",
          "name": "stderr",
          "text": [
            "/usr/local/lib/python3.7/dist-packages/IPython/core/interactiveshell.py:2882: DtypeWarning: Columns (0,2,4,6,8,10,12,16,18,20,21,22,23,24,25,26,27,28,30,32,34,36,38,40,42,44,46,48,49,50,51,52,53,54,55,56,58,60,61,62,63,64,65,66,67,68,69,72,74,76,77,78,79,80,82,84,85,86,87,88,89,90,91,92,94,96,98,100,102,104,106,108,112,114,116,118,120,122,128,130,132,133,134,135,136,137,138,139,140,141,142,143,144,145,146,147,148,149,150,151,152,153,154,155,156,157,158,159,160,161,162,163,164,165,166,167,168,169,170,171,172,173,174,175,176,177,178,179,180,181,182,183,184,185,186,187,188,189,190,191,192,193,194,195,196,197,198,199,200,201,202,203,204,205,206,207,208,209,210,211,212,213,214,215,216,217,218,219,220,221,222,223,224,225,226,227,228,229,230,231,232,233,234,235,236,237,238,239,240,241,242,243,244,245,246,247,248,250,252,253,254,255,256,257,258,259,260,261,262,263,264,265,266,267,268,269,270,271,272,273,274,275,276,278,280,282,284,285,286,287,288,289,290,291,292,293,294,295,296,297,298,299,300,302,304,305,306,307,308,309,310,311,312,313,314,315,316,317,318,319,320,321,322,323,324,325,326,327,328,329,330,331,332,333,334,335,336,337,338,339,340,341,344,345,346,348,349,350,351,352,353,354,355) have mixed types.Specify dtype option on import or set low_memory=False.\n",
            "  exec(code_obj, self.user_global_ns, self.user_ns)\n"
          ]
        },
        {
          "output_type": "stream",
          "name": "stdout",
          "text": [
            "Done!\n",
            "2018\n"
          ]
        },
        {
          "output_type": "stream",
          "name": "stderr",
          "text": [
            "/usr/local/lib/python3.7/dist-packages/IPython/core/interactiveshell.py:2882: DtypeWarning: Columns (5,7,9,10,11,12,13,14,15,16,17,18,19,20,21,22,23,24,25,26,27,28,29,30,31,32,33,34,35,36,37,38,39,40,41,42,43,44,45,46,47,48,49,50,51,52,53,54,55,56,57,58,59,60,61,62,63,64,65,66,67,68,69,70,71,72,73,74,75,76,77,78,79,80,81,82,83,84,85,86,87,88,89,90,91,92,93,94,95,96,97,98,99,100,101,102,103,104,105,106,107,108,109,110,111,112,113,114,115,116,117,118,119,120,121,122,123,124,125,127,129,130,131,132,133,134,135,136,137,138,139,140,141,142,143,144,145,146,147,148,149,150,151,152,153,155,157,159,161,162,163,164,165,166,167,168,169,170,171,172,173,174,175,176,177,179,181,182,183,184,185,186,187,188,189,190,191,192,193,194,195,196,197,198,199,200,201,202,203,204,205,206,207,208,209,210,211,212,213,214,215,216,217,218,221,222,223,225,226,227,228,229,230,231,232,234,236,238,240,242,244,246,250,252,254,255,256,257,258,259,260,261,262,264,266,268,270,272,274,276,278,280,282,283,284,285,286,287,288,289,290,292,294,295,296,297,298,299,300,301,302,303,306,308,310,311,312,313,314,316,318,319,320,321,322,323,324,325,326,328,330,332,334,336,338,340,342,346,348,350,352,354,356) have mixed types.Specify dtype option on import or set low_memory=False.\n",
            "  exec(code_obj, self.user_global_ns, self.user_ns)\n"
          ]
        },
        {
          "output_type": "stream",
          "name": "stdout",
          "text": [
            "Done!\n",
            "2019\n",
            "Done!\n",
            "2020\n",
            "Done!\n"
          ]
        },
        {
          "output_type": "stream",
          "name": "stderr",
          "text": [
            "/usr/local/lib/python3.7/dist-packages/ipykernel_launcher.py:14: SettingWithCopyWarning: \n",
            "A value is trying to be set on a copy of a slice from a DataFrame.\n",
            "Try using .loc[row_indexer,col_indexer] = value instead\n",
            "\n",
            "See the caveats in the documentation: https://pandas.pydata.org/pandas-docs/stable/user_guide/indexing.html#returning-a-view-versus-a-copy\n",
            "  \n"
          ]
        }
      ]
    },
    {
      "cell_type": "code",
      "source": [
        "info_df.loc[:, 'year'] = info_df.loc[:, 'year'].astype(int)\n",
        "info_df = info_df[info_df['year']!=2013].reset_index(drop=True)\n",
        "temp_df = reduce(lambda x, y: pd.merge(x,y, on=['FIPS_site', 'year'], how='outer'), [info_df.rename(columns={'county_fips':'FIPS_site'}), \n",
        "                                                                                     pop_df.rename(columns={'county_fips':'FIPS_site'}), \n",
        "                                                                                     race_df.drop(columns=['county_population']).rename(columns={'county_fips':'FIPS_site'}),\n",
        "                                                                                     income_df.rename(columns={'county_fips':'FIPS_site'})])\n",
        "temp_df = temp_df[~temp_df['Grant Number'].isna()].reset_index(drop=True)\n",
        "info_df = temp_df.copy()"
      ],
      "metadata": {
        "id": "SHbvxBeDEYti"
      },
      "execution_count": 84,
      "outputs": []
    },
    {
      "cell_type": "markdown",
      "source": [
        "### County"
      ],
      "metadata": {
        "id": "yL5IXTtbcpp1"
      }
    },
    {
      "cell_type": "code",
      "source": [
        "county_df = info_df[['Grant Number', 'year', 'FIPS_site', 'num_unique_FIPS_site']].drop_duplicates().sort_values(by=['Grant Number', 'year', 'num_unique_FIPS_site', 'FIPS_site']).reset_index(drop=True)\n",
        "county_df = county_df[county_df['year']!='2013'].reset_index(drop=True)"
      ],
      "metadata": {
        "id": "VO7MjsJtRgXv"
      },
      "execution_count": 47,
      "outputs": []
    },
    {
      "cell_type": "code",
      "source": [
        "# Population\n",
        "county_df.loc[:, 'year'] = county_df.loc[:, 'year'].astype(int)\n",
        "pop_df.loc[:, 'year'] = pop_df.loc[:, 'year'].astype(int)\n",
        "\n",
        "temp_df = pd.merge(county_df, pop_df.rename(columns={'county_fips':'FIPS_site'}), on=['year', 'FIPS_site'], how='outer')\n",
        "temp_df = temp_df[~temp_df['Grant Number'].isna()].reset_index(drop=True)\n",
        "temp_df['proportion_county_population'] = temp_df['num_unique_FIPS_site']*temp_df['county_population']\n",
        "\n",
        "## Proportion\n",
        "temp_df_gb_pop = temp_df.groupby(['Grant Number', 'year']).sum()[['proportion_county_population']].rename(columns={'proportion_county_population':'hc_population'}).reset_index(level=[0,1])\n",
        "\n",
        "# Income\n",
        "county_df.loc[:, 'year'] = county_df.loc[:, 'year'].astype(int)\n",
        "income_df.loc[:, 'year'] = income_df.loc[:, 'year'].astype(int)\n",
        "\n",
        "temp_df = pd.merge(county_df, income_df.rename(columns={'county_fips':'FIPS_site'}), on=['year', 'FIPS_site'], how='outer')\n",
        "temp_df = temp_df[~temp_df['Grant Number'].isna()].reset_index(drop=True)\n",
        "temp_df['proportion_income'] = temp_df['num_unique_FIPS_site']*temp_df['median_household_income']\n",
        "\n",
        "## Proportion\n",
        "temp_df_gb_inc = temp_df.groupby(['Grant Number', 'year']).sum()[['proportion_income']].rename(columns={'proportion_income':'hc_household_income'}).reset_index(level=[0,1])\n",
        "\n",
        "# Population\n",
        "county_df.loc[:, 'year'] = county_df.loc[:, 'year'].astype(int)\n",
        "race_df.loc[:, 'year'] = race_df.loc[:, 'year'].astype(int)\n",
        "\n",
        "temp_df = pd.merge(county_df, race_df.rename(columns={'county_fips':'FIPS_site'}), on=['year', 'FIPS_site'], how='outer')\n",
        "temp_df = temp_df[~temp_df['Grant Number'].isna()].reset_index(drop=True)\n",
        "\n",
        "temp_df['proportion_county_pop'] = temp_df['num_unique_FIPS_site']*temp_df['county_population']\n",
        "temp_df['proportion_county_white'] = temp_df['num_unique_FIPS_site']*temp_df['county_population_white']\n",
        "temp_df['proportion_county_black'] = temp_df['num_unique_FIPS_site']*temp_df['county_population_black']\n",
        "temp_df['proportion_county_native_american'] = temp_df['num_unique_FIPS_site']*temp_df['county_population_native_american']\n",
        "temp_df['proportion_county_asian'] = temp_df['num_unique_FIPS_site']*temp_df['county_population_asian']\n",
        "temp_df['proportion_county_islander'] = temp_df['num_unique_FIPS_site']*temp_df['county_population_islander']\n",
        "temp_df['proportion_county_hispanic'] = temp_df['num_unique_FIPS_site']*temp_df['county_population_hispanic']\n",
        "\n",
        "# ## Proportion\n",
        "temp_df_gb_race = temp_df.groupby(['Grant Number', 'year']).sum()[['proportion_county_white','proportion_county_black','proportion_county_native_american','proportion_county_asian',\n",
        "                                                                   'proportion_county_islander','proportion_county_hispanic','proportion_county_pop']].rename(columns={'proportion_county_population':'hc_population'}).reset_index(level=[0,1])\n",
        "\n",
        "temp_df_gb_race['proportion_county_white'] = 100*(temp_df_gb_race['proportion_county_white']/temp_df_gb_race['proportion_county_pop'])\n",
        "temp_df_gb_race['proportion_county_black'] = 100*(temp_df_gb_race['proportion_county_black']/temp_df_gb_race['proportion_county_pop'])\n",
        "temp_df_gb_race['proportion_county_native_american'] = 100*(temp_df_gb_race['proportion_county_native_american']/temp_df_gb_race['proportion_county_pop'])\n",
        "temp_df_gb_race['proportion_county_asian'] = 100*(temp_df_gb_race['proportion_county_asian']/temp_df_gb_race['proportion_county_pop'])\n",
        "temp_df_gb_race['proportion_county_islander'] = 100*(temp_df_gb_race['proportion_county_islander']/temp_df_gb_race['proportion_county_pop'])\n",
        "temp_df_gb_race['proportion_county_hispanic'] = 100*(temp_df_gb_race['proportion_county_hispanic']/temp_df_gb_race['proportion_county_pop'])\n",
        "\n",
        "temp_df_gb_race.columns=['Grant Number', 'year', 'hc_white', 'hc_black', 'hc_native_american', 'hc_asian', 'hc_islander', 'hc_hispanic', 'hc_pop']\n",
        "temp_df_gb_race = temp_df_gb_race.drop(columns=['hc_pop'])\n",
        "\n",
        "# ## Merge all\n",
        "temp_df = reduce(lambda x, y: pd.merge(x, y, on=['Grant Number', 'year'], how='outer'),[temp_df_gb_pop, temp_df_gb_inc, temp_df_gb_race])\n",
        "ctrl_df = temp_df.copy()"
      ],
      "metadata": {
        "id": "ho8u_93rSRAz"
      },
      "execution_count": 222,
      "outputs": []
    },
    {
      "cell_type": "code",
      "source": [
        "## Merge all\n",
        "t4_df.loc[:, 'year'] = t4_df.loc[:, 'year'].astype(int)\n",
        "money_df.loc[:, 'year'] = money_df.loc[:, 'year'].astype(int)\n",
        "ctrl_df.loc[:, 'year'] = ctrl_df.loc[:, 'year'].astype(int)\n",
        "\n",
        "temp_df = reduce(lambda x, y: pd.merge(x, y, on=['Grant Number', 'year'], how='outer'), [t4_df, money_df, ctrl_df])\n",
        "temp_df = temp_df.rename(columns={'Financial Assistance':'grant_amount'})"
      ],
      "metadata": {
        "id": "xyylIlLnU-Is"
      },
      "execution_count": 236,
      "outputs": []
    },
    {
      "cell_type": "code",
      "source": [
        "temp_df.to_csv(rootPath+'ctrl_df.csv', index=False)"
      ],
      "metadata": {
        "id": "j83FlxaQVmYR"
      },
      "execution_count": 242,
      "outputs": []
    }
  ],
  "metadata": {
    "colab": {
      "collapsed_sections": [],
      "name": "3_CEM_variables.ipynb",
      "provenance": [],
      "mount_file_id": "1HpjTwtcUQ9XZJUZpozVUQRQiZxxFOOSo",
      "authorship_tag": "ABX9TyM0QCCES2RpOsQ/skO22wpJ",
      "include_colab_link": true
    },
    "kernelspec": {
      "display_name": "Python 3",
      "name": "python3"
    },
    "language_info": {
      "name": "python"
    }
  },
  "nbformat": 4,
  "nbformat_minor": 0
}