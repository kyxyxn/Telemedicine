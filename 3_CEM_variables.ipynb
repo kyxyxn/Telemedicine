{
  "cells": [
    {
      "cell_type": "markdown",
      "metadata": {
        "id": "view-in-github",
        "colab_type": "text"
      },
      "source": [
        "<a href=\"https://colab.research.google.com/github/kyxyxn/Telemedicine/blob/main/3_CEM_variables.ipynb\" target=\"_parent\"><img src=\"https://colab.research.google.com/assets/colab-badge.svg\" alt=\"Open In Colab\"/></a>"
      ]
    },
    {
      "cell_type": "code",
      "execution_count": 1,
      "metadata": {
        "colab": {
          "base_uri": "https://localhost:8080/"
        },
        "id": "icdNltA252H2",
        "outputId": "9f97f4f7-294f-465c-ea97-9b01702e9265"
      },
      "outputs": [
        {
          "output_type": "stream",
          "name": "stdout",
          "text": [
            "Mounted at /content/drive\n"
          ]
        }
      ],
      "source": [
        "from google.colab import drive\n",
        "drive.mount('/content/drive')"
      ]
    },
    {
      "cell_type": "code",
      "execution_count": 2,
      "metadata": {
        "id": "QMFPRoKY6mkV"
      },
      "outputs": [],
      "source": [
        "import numpy as np\n",
        "import pandas as pd   \n",
        "from functools import reduce\n",
        "from scipy.stats import entropy"
      ]
    },
    {
      "cell_type": "code",
      "execution_count": 3,
      "metadata": {
        "id": "qUaPwhon6QDQ"
      },
      "outputs": [],
      "source": [
        "rootPath ='/content/drive/MyDrive/ASU/CIS791_Chen_Final/uds-data/'\n",
        "filenames_uds = [rootPath+'uds-2014-full-dataset.xlsx',\n",
        "                 rootPath+'uds-2015-full-dataset.xlsx',\n",
        "                 rootPath+'uds-2016-full-dataset.xlsx',\n",
        "                 rootPath+'uds-2017-full-dataset.xlsx',\n",
        "                 rootPath+'uds-2018-full-dataset.xlsx',\n",
        "                 rootPath+'uds-2019-full-dataset.xlsx',\n",
        "                 rootPath+'uds-2020-full-dataset.xlsx']"
      ]
    },
    {
      "cell_type": "code",
      "execution_count": 4,
      "metadata": {
        "id": "lCmgcoZe33pP"
      },
      "outputs": [],
      "source": [
        "hc_df = pd.read_csv(rootPath+'samples_hc.csv')\n",
        "visits_df = pd.read_csv(rootPath+'dv_visits.csv')\n",
        "\n",
        "## Merge\n",
        "hc_df['hc_df']=1\n",
        "visits_df['visits_df']=1\n",
        "temp_df = pd.merge(hc_df,visits_df, on=['Grant Number','year'], how='outer')\n",
        "temp_df = temp_df[~temp_df['hc_df'].isna()]\n",
        "df = temp_df.copy()"
      ]
    },
    {
      "cell_type": "code",
      "source": [
        "# These should be identified\n",
        "grant_list = df['Grant Number'].value_counts().index.tolist()\n",
        "# These are the states\n",
        "state_list = df['Site State'].value_counts().index.tolist()"
      ],
      "metadata": {
        "id": "9dDM7M7Mi41l"
      },
      "execution_count": 5,
      "outputs": []
    },
    {
      "cell_type": "code",
      "source": [
        "df.info()"
      ],
      "metadata": {
        "colab": {
          "base_uri": "https://localhost:8080/"
        },
        "id": "wK2xr1dB7rYV",
        "outputId": "87fb3109-afd2-4580-fbf3-fb56749a48ad"
      },
      "execution_count": 6,
      "outputs": [
        {
          "output_type": "stream",
          "name": "stdout",
          "text": [
            "<class 'pandas.core.frame.DataFrame'>\n",
            "Int64Index: 5833 entries, 0 to 5832\n",
            "Data columns (total 26 columns):\n",
            " #   Column                   Non-Null Count  Dtype  \n",
            "---  ------                   --------------  -----  \n",
            " 0   bhcmis_id                3618 non-null   object \n",
            " 1   Grant Number             5833 non-null   object \n",
            " 2   year                     5833 non-null   int64  \n",
            " 3   Health Center Name       3618 non-null   object \n",
            " 4   rural_flag_center        3618 non-null   object \n",
            " 5   use_telehealth           2612 non-null   float64\n",
            " 6   mental_telehealth        2612 non-null   float64\n",
            " 7   consistency_1            2612 non-null   float64\n",
            " 8   consistency_2            2612 non-null   float64\n",
            " 9   Site State               5833 non-null   object \n",
            " 10  hc_df                    5833 non-null   float64\n",
            " 11  alcohol_num_visits       5826 non-null   float64\n",
            " 12  alcohol_num_patients     5826 non-null   float64\n",
            " 13  tobacco_num_visits       5826 non-null   float64\n",
            " 14  tobacco_num_patients     5826 non-null   float64\n",
            " 15  depression_num_visits    5826 non-null   float64\n",
            " 16  depression_num_patients  5826 non-null   float64\n",
            " 17  anxiety_num_visits       5826 non-null   float64\n",
            " 18  anxiety_num_patients     5826 non-null   float64\n",
            " 19  attention_num_visits     5826 non-null   float64\n",
            " 20  attention_num_patients   5826 non-null   float64\n",
            " 21  other_num_visits         5826 non-null   float64\n",
            " 22  other_num_patients       5826 non-null   float64\n",
            " 23  total_mental_visits      5826 non-null   float64\n",
            " 24  total_mental_patients    5826 non-null   float64\n",
            " 25  visits_df                5826 non-null   float64\n",
            "dtypes: float64(20), int64(1), object(5)\n",
            "memory usage: 1.2+ MB\n"
          ]
        }
      ]
    },
    {
      "cell_type": "markdown",
      "source": [
        "### HC characteristics"
      ],
      "metadata": {
        "id": "RFQKU6uhg-e8"
      }
    },
    {
      "cell_type": "markdown",
      "source": [
        "#### 1. Number of patients"
      ],
      "metadata": {
        "id": "ViZ3Uaihmaau"
      }
    },
    {
      "cell_type": "code",
      "source": [
        "# Table 4 -- Total number of patients\n",
        "def get_df(filenames, table):\n",
        "  final_df = pd.DataFrame()\n",
        "  for i in range(len(filenames)):\n",
        "    print(i)\n",
        "    temp_df = pd.read_excel(filenames[i], sheet_name=table)\n",
        "    temp_df.columns = temp_df.iloc[0].values.tolist()\n",
        "    print(temp_df.columns.values.tolist()[:5])\n",
        "    temp_df['year']=filenames[i].split('uds-')[-1][:4]\n",
        "    final_df = final_df.append(temp_df).reset_index(drop=True)\n",
        "  return final_df\n",
        "\n",
        "t4_df = get_df(filenames_uds, 'Table4')\n",
        "t4_df = t4_df[['GrantNumber', 'year', 'T4_L6_Ca', 'T4_L7_Ca',\t'T4_L7_Cb', 'T4_L8_Ca', 'T4_L8_Cb', 'T4_L9_Ca','T4_L9_Cb', 'T4_L11_Ca', 'T4_L11_Cb']]\n",
        "t4_df = t4_df[t4_df['GrantNumber']!='GrantNumber'].reset_index(drop=True)\n",
        "t4_df.columns = ['Grant Number', 'year', 'total_num_patients', 'total_num_patients_uninsured_17','total_num_patients_uninsured_18older', 'total_num_patients_medicaid_17', 'total_num_patients_medicaid_18older',\n",
        "                 'total_num_patients_medicare_17', 'total_num_patients_medicare_18older', 'total_num_patients_private_17', 'total_num_patients_private_18older']\n",
        "t4_df = t4_df.replace(to_replace={'-':np.nan})\n",
        "t4_df = t4_df[~t4_df['total_num_patients'].isna()].reset_index(drop=True)\n",
        "t4_df = t4_df.fillna(0)\n",
        "\n",
        "t4_df['total_num_patients_medicaid'] = t4_df['total_num_patients_medicaid_17']+t4_df['total_num_patients_medicaid_18older']\n",
        "t4_df['total_num_patients_medicare'] = t4_df['total_num_patients_medicare_17']+t4_df['total_num_patients_medicare_18older']\n",
        "t4_df['total_num_patients_private'] = t4_df['total_num_patients_private_17']+t4_df['total_num_patients_private_18older']\n",
        "t4_df['total_num_patients_uninsured'] = t4_df['total_num_patients_uninsured_17']+t4_df['total_num_patients_uninsured_18older']\n",
        "\n",
        "t4_df = t4_df[['Grant Number', 'year', 'total_num_patients', 'total_num_patients_medicaid', 'total_num_patients_medicare', 'total_num_patients_private', 'total_num_patients_uninsured']]\n",
        "t4_df = t4_df[t4_df['Grant Number'].isin(grant_list)].reset_index(drop=True) # Focus"
      ],
      "metadata": {
        "id": "0Ks10PQLhAap",
        "colab": {
          "base_uri": "https://localhost:8080/"
        },
        "outputId": "78164f9c-5531-4bf7-aca1-6ecb30255585"
      },
      "execution_count": 7,
      "outputs": [
        {
          "output_type": "stream",
          "name": "stdout",
          "text": [
            "0\n",
            "['BHCMISID', 'GrantNumber', 'T4_L1_Ca', 'T4_L2_Ca', 'T4_L3_Ca']\n",
            "1\n",
            "['BHCMISID', 'GrantNumber', 'T4_L1_Ca', 'T4_L2_Ca', 'T4_L3_Ca']\n",
            "2\n",
            "['BHCMISID', 'GrantNumber', 'T4_L1_Ca', 'T4_L2_Ca', 'T4_L3_Ca']\n",
            "3\n",
            "['BHCMISID', 'GrantNumber', 'T4_L1_Ca', 'T4_L2_Ca', 'T4_L3_Ca']\n",
            "4\n",
            "['BHCMISID', 'GrantNumber', 'T4_L1_Ca', 'T4_L2_Ca', 'T4_L3_Ca']\n",
            "5\n",
            "['BHCMISID', 'GrantNumber', 'T4_L1_Ca', 'T4_L2_Ca', 'T4_L3_Ca']\n",
            "6\n",
            "['BHCMISID', 'GrantNumber', 'T4_L1_Ca', 'T4_L2_Ca', 'T4_L3_Ca']\n"
          ]
        }
      ]
    },
    {
      "cell_type": "code",
      "source": [
        "t4_df.info() # 5830"
      ],
      "metadata": {
        "colab": {
          "base_uri": "https://localhost:8080/"
        },
        "id": "rCIMQYc671X9",
        "outputId": "fff95031-5411-49b8-8b77-4884e46e2c59"
      },
      "execution_count": 8,
      "outputs": [
        {
          "output_type": "stream",
          "name": "stdout",
          "text": [
            "<class 'pandas.core.frame.DataFrame'>\n",
            "RangeIndex: 5837 entries, 0 to 5836\n",
            "Data columns (total 7 columns):\n",
            " #   Column                        Non-Null Count  Dtype  \n",
            "---  ------                        --------------  -----  \n",
            " 0   Grant Number                  5837 non-null   object \n",
            " 1   year                          5837 non-null   object \n",
            " 2   total_num_patients            5837 non-null   float64\n",
            " 3   total_num_patients_medicaid   5837 non-null   float64\n",
            " 4   total_num_patients_medicare   5837 non-null   float64\n",
            " 5   total_num_patients_private    5837 non-null   float64\n",
            " 6   total_num_patients_uninsured  5837 non-null   float64\n",
            "dtypes: float64(5), object(2)\n",
            "memory usage: 319.3+ KB\n"
          ]
        }
      ]
    },
    {
      "cell_type": "markdown",
      "source": [
        "#### 2. Financial assistance"
      ],
      "metadata": {
        "id": "PKcQdqnWrH-V"
      }
    },
    {
      "cell_type": "code",
      "source": [
        "money_df = pd.read_excel(r'/content/drive/MyDrive/ASU/CIS791_Chen_Final/uds-data/hc_site_zips.xlsx')\n",
        "money_df = money_df[~money_df['Grantee Name'].isna()]\n",
        "money_df = money_df[['Grant #', 'Fiscal Year', 'Financial Assistance']].sort_values(by=['Grant #', 'Fiscal Year']).reset_index(drop=True)\n",
        "money_df = money_df.rename(columns={'Grant #':'Grant Number', 'Fiscal Year':'year'})\n",
        "money_df['Financial Assistance'] = money_df['Financial Assistance'].replace(to_replace={'\\$':'', ',':''}, regex=True)\n",
        "money_df.loc[:,'Financial Assistance'] = money_df.loc[:,'Financial Assistance'].astype(float)\n",
        "money_df.loc[:,'year'] = money_df.loc[:,'year'].astype(int)\n",
        "money_df = money_df[money_df['Grant Number'].isin(grant_list)].reset_index(drop=True) # Focus\n",
        "money_df = money_df[money_df['year']>2013].reset_index(drop=True)"
      ],
      "metadata": {
        "id": "T3yYCs_arJW5"
      },
      "execution_count": 9,
      "outputs": []
    },
    {
      "cell_type": "markdown",
      "source": [
        "#### 3. Number of branches"
      ],
      "metadata": {
        "id": "pZzSZVwc74rl"
      }
    },
    {
      "cell_type": "code",
      "source": [
        "branch_df = pd.read_excel(r'/content/drive/MyDrive/ASU/CIS791_Chen_Final/uds-data/hc_site_zips.xlsx')"
      ],
      "metadata": {
        "id": "QV61Qxcc7-tI"
      },
      "execution_count": 50,
      "outputs": []
    },
    {
      "cell_type": "code",
      "source": [
        "branch_df['Fiscal Year'] = branch_df['Fiscal Year'].replace(to_replace={'All Other Clinic Types':np.nan, 'School':np.nan, 'Health Center Location Setting':np.nan,\n",
        "                                                                    'Unknown':np.nan, 'Hospital':np.nan, 'Nursing Home':np.nan, 'Domestic Violence':np.nan,\n",
        "                                                                    'Correctional Facility':np.nan})\n",
        "branch_df['Fiscal Year'] = branch_df['Fiscal Year'].fillna(method=\"ffill\")\n",
        "branch_df = branch_df[branch_df['Activity Code']!='H80'].reset_index(drop=True)\n",
        "branch_df = branch_df.drop(columns=['Grantee Name'])\n",
        "branch_df.columns = branch_df.iloc[0].values\n",
        "branch_df = branch_df[branch_df['Health Center Type']!='Health Center Type']\n",
        "branch_df = branch_df[branch_df['Grant #'].isin(grant_list)].reset_index(drop=True)\n",
        "branch_df = branch_df.rename(columns={'2019':'year'})\n",
        "branch_df = branch_df.groupby(['Grant #','year']).count()[['Site Name']].reset_index(level=[0,1])\n",
        "branch_df.columns=['Grant Number', 'year', 'num_branches']\n",
        "branch_df = branch_df[branch_df['year']!=2013].reset_index(drop=True)"
      ],
      "metadata": {
        "id": "dsSeS8pX9Ba2"
      },
      "execution_count": 18,
      "outputs": []
    },
    {
      "cell_type": "code",
      "source": [
        "branch_df"
      ],
      "metadata": {
        "colab": {
          "base_uri": "https://localhost:8080/",
          "height": 424
        },
        "id": "blCTToQRKzaq",
        "outputId": "9b58ce07-3b59-4c37-fe6b-1fa0299b0efe"
      },
      "execution_count": 169,
      "outputs": [
        {
          "output_type": "execute_result",
          "data": {
            "text/plain": [
              "     Grant Number  year  num_branches\n",
              "0      H80CS00001  2014            11\n",
              "1      H80CS00001  2015            11\n",
              "2      H80CS00001  2016            11\n",
              "3      H80CS00001  2017            11\n",
              "4      H80CS00001  2018            11\n",
              "...           ...   ...           ...\n",
              "5652   H80CS33795  2020            12\n",
              "5653   H80CS33884  2020             5\n",
              "5654   H80CS33907  2020             4\n",
              "5655   H80CS35351  2020             1\n",
              "5656   H80CS39465  2020             3\n",
              "\n",
              "[5657 rows x 3 columns]"
            ],
            "text/html": [
              "\n",
              "  <div id=\"df-f5b005af-64af-4521-ab3f-b6cf79602e44\">\n",
              "    <div class=\"colab-df-container\">\n",
              "      <div>\n",
              "<style scoped>\n",
              "    .dataframe tbody tr th:only-of-type {\n",
              "        vertical-align: middle;\n",
              "    }\n",
              "\n",
              "    .dataframe tbody tr th {\n",
              "        vertical-align: top;\n",
              "    }\n",
              "\n",
              "    .dataframe thead th {\n",
              "        text-align: right;\n",
              "    }\n",
              "</style>\n",
              "<table border=\"1\" class=\"dataframe\">\n",
              "  <thead>\n",
              "    <tr style=\"text-align: right;\">\n",
              "      <th></th>\n",
              "      <th>Grant Number</th>\n",
              "      <th>year</th>\n",
              "      <th>num_branches</th>\n",
              "    </tr>\n",
              "  </thead>\n",
              "  <tbody>\n",
              "    <tr>\n",
              "      <th>0</th>\n",
              "      <td>H80CS00001</td>\n",
              "      <td>2014</td>\n",
              "      <td>11</td>\n",
              "    </tr>\n",
              "    <tr>\n",
              "      <th>1</th>\n",
              "      <td>H80CS00001</td>\n",
              "      <td>2015</td>\n",
              "      <td>11</td>\n",
              "    </tr>\n",
              "    <tr>\n",
              "      <th>2</th>\n",
              "      <td>H80CS00001</td>\n",
              "      <td>2016</td>\n",
              "      <td>11</td>\n",
              "    </tr>\n",
              "    <tr>\n",
              "      <th>3</th>\n",
              "      <td>H80CS00001</td>\n",
              "      <td>2017</td>\n",
              "      <td>11</td>\n",
              "    </tr>\n",
              "    <tr>\n",
              "      <th>4</th>\n",
              "      <td>H80CS00001</td>\n",
              "      <td>2018</td>\n",
              "      <td>11</td>\n",
              "    </tr>\n",
              "    <tr>\n",
              "      <th>...</th>\n",
              "      <td>...</td>\n",
              "      <td>...</td>\n",
              "      <td>...</td>\n",
              "    </tr>\n",
              "    <tr>\n",
              "      <th>5652</th>\n",
              "      <td>H80CS33795</td>\n",
              "      <td>2020</td>\n",
              "      <td>12</td>\n",
              "    </tr>\n",
              "    <tr>\n",
              "      <th>5653</th>\n",
              "      <td>H80CS33884</td>\n",
              "      <td>2020</td>\n",
              "      <td>5</td>\n",
              "    </tr>\n",
              "    <tr>\n",
              "      <th>5654</th>\n",
              "      <td>H80CS33907</td>\n",
              "      <td>2020</td>\n",
              "      <td>4</td>\n",
              "    </tr>\n",
              "    <tr>\n",
              "      <th>5655</th>\n",
              "      <td>H80CS35351</td>\n",
              "      <td>2020</td>\n",
              "      <td>1</td>\n",
              "    </tr>\n",
              "    <tr>\n",
              "      <th>5656</th>\n",
              "      <td>H80CS39465</td>\n",
              "      <td>2020</td>\n",
              "      <td>3</td>\n",
              "    </tr>\n",
              "  </tbody>\n",
              "</table>\n",
              "<p>5657 rows × 3 columns</p>\n",
              "</div>\n",
              "      <button class=\"colab-df-convert\" onclick=\"convertToInteractive('df-f5b005af-64af-4521-ab3f-b6cf79602e44')\"\n",
              "              title=\"Convert this dataframe to an interactive table.\"\n",
              "              style=\"display:none;\">\n",
              "        \n",
              "  <svg xmlns=\"http://www.w3.org/2000/svg\" height=\"24px\"viewBox=\"0 0 24 24\"\n",
              "       width=\"24px\">\n",
              "    <path d=\"M0 0h24v24H0V0z\" fill=\"none\"/>\n",
              "    <path d=\"M18.56 5.44l.94 2.06.94-2.06 2.06-.94-2.06-.94-.94-2.06-.94 2.06-2.06.94zm-11 1L8.5 8.5l.94-2.06 2.06-.94-2.06-.94L8.5 2.5l-.94 2.06-2.06.94zm10 10l.94 2.06.94-2.06 2.06-.94-2.06-.94-.94-2.06-.94 2.06-2.06.94z\"/><path d=\"M17.41 7.96l-1.37-1.37c-.4-.4-.92-.59-1.43-.59-.52 0-1.04.2-1.43.59L10.3 9.45l-7.72 7.72c-.78.78-.78 2.05 0 2.83L4 21.41c.39.39.9.59 1.41.59.51 0 1.02-.2 1.41-.59l7.78-7.78 2.81-2.81c.8-.78.8-2.07 0-2.86zM5.41 20L4 18.59l7.72-7.72 1.47 1.35L5.41 20z\"/>\n",
              "  </svg>\n",
              "      </button>\n",
              "      \n",
              "  <style>\n",
              "    .colab-df-container {\n",
              "      display:flex;\n",
              "      flex-wrap:wrap;\n",
              "      gap: 12px;\n",
              "    }\n",
              "\n",
              "    .colab-df-convert {\n",
              "      background-color: #E8F0FE;\n",
              "      border: none;\n",
              "      border-radius: 50%;\n",
              "      cursor: pointer;\n",
              "      display: none;\n",
              "      fill: #1967D2;\n",
              "      height: 32px;\n",
              "      padding: 0 0 0 0;\n",
              "      width: 32px;\n",
              "    }\n",
              "\n",
              "    .colab-df-convert:hover {\n",
              "      background-color: #E2EBFA;\n",
              "      box-shadow: 0px 1px 2px rgba(60, 64, 67, 0.3), 0px 1px 3px 1px rgba(60, 64, 67, 0.15);\n",
              "      fill: #174EA6;\n",
              "    }\n",
              "\n",
              "    [theme=dark] .colab-df-convert {\n",
              "      background-color: #3B4455;\n",
              "      fill: #D2E3FC;\n",
              "    }\n",
              "\n",
              "    [theme=dark] .colab-df-convert:hover {\n",
              "      background-color: #434B5C;\n",
              "      box-shadow: 0px 1px 3px 1px rgba(0, 0, 0, 0.15);\n",
              "      filter: drop-shadow(0px 1px 2px rgba(0, 0, 0, 0.3));\n",
              "      fill: #FFFFFF;\n",
              "    }\n",
              "  </style>\n",
              "\n",
              "      <script>\n",
              "        const buttonEl =\n",
              "          document.querySelector('#df-f5b005af-64af-4521-ab3f-b6cf79602e44 button.colab-df-convert');\n",
              "        buttonEl.style.display =\n",
              "          google.colab.kernel.accessAllowed ? 'block' : 'none';\n",
              "\n",
              "        async function convertToInteractive(key) {\n",
              "          const element = document.querySelector('#df-f5b005af-64af-4521-ab3f-b6cf79602e44');\n",
              "          const dataTable =\n",
              "            await google.colab.kernel.invokeFunction('convertToInteractive',\n",
              "                                                     [key], {});\n",
              "          if (!dataTable) return;\n",
              "\n",
              "          const docLinkHtml = 'Like what you see? Visit the ' +\n",
              "            '<a target=\"_blank\" href=https://colab.research.google.com/notebooks/data_table.ipynb>data table notebook</a>'\n",
              "            + ' to learn more about interactive tables.';\n",
              "          element.innerHTML = '';\n",
              "          dataTable['output_type'] = 'display_data';\n",
              "          await google.colab.output.renderOutput(dataTable, element);\n",
              "          const docLink = document.createElement('div');\n",
              "          docLink.innerHTML = docLinkHtml;\n",
              "          element.appendChild(docLink);\n",
              "        }\n",
              "      </script>\n",
              "    </div>\n",
              "  </div>\n",
              "  "
            ]
          },
          "metadata": {},
          "execution_count": 169
        }
      ]
    },
    {
      "cell_type": "markdown",
      "source": [
        "### Market characteristics: Get County information from HC Sites"
      ],
      "metadata": {
        "id": "tOhFO14XgE2Y"
      }
    },
    {
      "cell_type": "code",
      "source": [
        "# Clean grant data from website\n",
        "## Follow year above\n",
        "info_df = pd.read_excel(r'/content/drive/MyDrive/ASU/CIS791_Chen_Final/uds-data/hc_site_zips.xlsx')\n",
        "info_df['Fiscal Year'] = info_df['Fiscal Year'].replace(to_replace={'All Other Clinic Types':np.nan, 'School':np.nan, 'Health Center Location Setting':np.nan,\n",
        "                                                                    'Unknown':np.nan, 'Hospital':np.nan, 'Nursing Home':np.nan, 'Domestic Violence':np.nan,\n",
        "                                                                    'Correctional Facility':np.nan})\n",
        "info_df['Fiscal Year'] = info_df['Fiscal Year'].fillna(method=\"ffill\")"
      ],
      "metadata": {
        "id": "FC97P4JEf3cg"
      },
      "execution_count": 91,
      "outputs": []
    },
    {
      "cell_type": "code",
      "source": [
        "# Clean data\n",
        "df_1 = info_df[info_df['Program Name']=='Health Center Program (H80)'].reset_index(drop=True)\n",
        "df_2 = info_df[info_df['Program Name']!='Health Center Program (H80)'].reset_index(drop=True)\n",
        "df_2 = df_2.drop(columns=['Grantee Name'])\n",
        "df_2.columns = df_2.iloc[0].values\n",
        "df_2 = df_2[df_2['Services Delivered at Site']!='Services Delivered at Site'].reset_index(drop=True)\n",
        "df_2 = df_2.rename(columns={'2019':'year', 'County':'county_site', 'State':'state_site', 'Grant #':'Grant Number', 'BHCMIS Org. ID':'BHCMIS ID', \n",
        "                            'ZIP':'zip_site', 'State County FIPS Code':'FIPS_site', 'HHS Region':'hhs_site', 'Rural Status':'rural_site'})\n",
        "df_1 = df_1.rename(columns={'Grant #':'Grant Number', 'Fiscal Year':'year', 'State': 'state_center', 'County':'county_center', \n",
        "                            'ZIP':'zip_center', 'State County FIPS Code':'FIPS_center', 'HHS Region':'hhs_center', 'Rural Status':'rural_center'})\n",
        "df_1['index_1'] = 'center'\n",
        "df_2['index_2'] = 'site'"
      ],
      "metadata": {
        "id": "TRo3v8HluA4R"
      },
      "execution_count": 92,
      "outputs": []
    },
    {
      "cell_type": "code",
      "source": [
        "temp_df = pd.merge(df_1[['Grant Number', 'Grantee Name', 'year', 'state_center', 'county_center', 'zip_center', 'FIPS_center', 'hhs_center', 'rural_center', 'index_1']],\n",
        "                   df_2[['Grant Number', 'Site Name', 'Health Center Type', 'Health Center Location Type', 'year', 'state_site', 'county_site', 'zip_site', 'FIPS_site', 'hhs_site', 'rural_site', 'index_2']],\n",
        "                   on=['Grant Number', 'year'], how='outer')\n",
        "temp_df = temp_df[temp_df['Grant Number'].isin(grant_list)].reset_index(drop=True) # should be our focus\n",
        "# info_df = temp_df.copy()\n",
        "temp_df.info()"
      ],
      "metadata": {
        "id": "lcWJPyG1uGf0",
        "colab": {
          "base_uri": "https://localhost:8080/"
        },
        "outputId": "c2a90126-7588-4f85-8874-c52b5588f3bc"
      },
      "execution_count": 93,
      "outputs": [
        {
          "output_type": "stream",
          "name": "stdout",
          "text": [
            "<class 'pandas.core.frame.DataFrame'>\n",
            "RangeIndex: 59071 entries, 0 to 59070\n",
            "Data columns (total 20 columns):\n",
            " #   Column                       Non-Null Count  Dtype \n",
            "---  ------                       --------------  ----- \n",
            " 0   Grant Number                 59071 non-null  object\n",
            " 1   Grantee Name                 59071 non-null  object\n",
            " 2   year                         59071 non-null  object\n",
            " 3   state_center                 59071 non-null  object\n",
            " 4   county_center                59071 non-null  object\n",
            " 5   zip_center                   59071 non-null  object\n",
            " 6   FIPS_center                  59071 non-null  object\n",
            " 7   hhs_center                   59071 non-null  object\n",
            " 8   rural_center                 59071 non-null  object\n",
            " 9   index_1                      59071 non-null  object\n",
            " 10  Site Name                    58828 non-null  object\n",
            " 11  Health Center Type           58828 non-null  object\n",
            " 12  Health Center Location Type  58828 non-null  object\n",
            " 13  state_site                   58828 non-null  object\n",
            " 14  county_site                  58828 non-null  object\n",
            " 15  zip_site                     58744 non-null  object\n",
            " 16  FIPS_site                    58728 non-null  object\n",
            " 17  hhs_site                     58828 non-null  object\n",
            " 18  rural_site                   58828 non-null  object\n",
            " 19  index_2                      58828 non-null  object\n",
            "dtypes: object(20)\n",
            "memory usage: 9.0+ MB\n"
          ]
        }
      ]
    },
    {
      "cell_type": "code",
      "source": [
        "# Centers that don't have sites should be center == site\n",
        "site_df = temp_df[~temp_df['index_2'].isna()].reset_index(drop=True)\n",
        "nosite_df = temp_df[temp_df['index_2'].isna()].reset_index(drop=True)\n",
        "# fill blanks\n",
        "nosite_df['Site Name'] = nosite_df['Grantee Name']\n",
        "nosite_df['state_site'] = nosite_df['state_site']\n",
        "nosite_df['county_site'] = nosite_df['county_center']\n",
        "nosite_df['zip_site'] = nosite_df['zip_center']\n",
        "nosite_df['FIPS_site'] = nosite_df['FIPS_center']\n",
        "nosite_df['hhs_site'] = nosite_df['hhs_center']\n",
        "nosite_df['rural_site'] = nosite_df['rural_center']\n",
        "# Concat\n",
        "info_df = pd.concat([site_df, nosite_df]).reset_index(drop=True)\n",
        "# Fill missing values\n",
        "## zip\n",
        "info_df.loc[info_df['Site Name']=='GOLDEN HOUSE - Family Violence Center', ['zip_site']] = '54302'\n",
        "info_df.loc[info_df['Site Name']=='The Julian Center Clinic', ['zip_site']] = '46202'\n",
        "info_df.loc[info_df['Site Name']=='Westside Academy @ Blodgett - 312 Oswego St.', ['zip_site']] = '13204'\n",
        "info_df.loc[info_df['Site Name']=='EDDY CENTER ADULT SHELTER', ['zip_site']] = '06457'\n",
        "info_df.loc[info_df['Site Name']=='WYA AT CRYSALIS', ['zip_site']] = '06450'\n",
        "# All other missinig are mostly domestic violence HCs\n",
        "info_df = info_df[~info_df['zip_site'].isna()].reset_index(drop=True)\n",
        "info_df['zip5_site'] = [int(str(i)[:5]) for i in info_df['zip_site']]\n",
        "\n",
        "## county\n",
        "info_df.loc[info_df['Site Name']=='GOLDEN HOUSE - Family Violence Center', ['FIPS_site']] = '55009'\n",
        "info_df.loc[info_df['Site Name']=='The Julian Center Clinic', ['FIPS_site']] = '18097'\n",
        "info_df.loc[info_df['Site Name']=='EDDY CENTER ADULT SHELTER', ['FIPS_site']] = '09007'\n",
        "info_df.loc[info_df['Site Name']=='Plainfield Central School SBHC', ['FIPS_site']] = '09015'\n",
        "info_df.loc[info_df['Site Name']=='WYA AT CRYSALIS', ['FIPS_site']] = '09009'\n",
        "info_df.loc[info_df['Site Name']=='Westside Academy @ Blodgett - 312 Oswego St.', ['FIPS_site']] = '36067'\n",
        "info_df.loc[info_df['Site Name']=='Santa Fe Suites Outreach Service Site', ['FIPS_site']] = '35049'\n",
        "\n",
        "## state\n",
        "info_df['state_site'] = info_df['state_site'].replace(to_replace={'XX':np.nan})\n",
        "info_df['state_fips_site'] = [str(i)[:2] for i in info_df['FIPS_site']]\n",
        "fips_df = info_df[['state_fips_site', 'state_site']].drop_duplicates().dropna().sort_values(by=['state_fips_site']).reset_index(drop=True)\n",
        "info_df = pd.merge(info_df.drop(columns=['state_site']), fips_df, on=['state_fips_site'])\n",
        "\n",
        "info_df = info_df[info_df['year']!=2013].reset_index(drop=True)"
      ],
      "metadata": {
        "id": "lyhEC7qOvz87"
      },
      "execution_count": 94,
      "outputs": []
    },
    {
      "cell_type": "code",
      "source": [
        "info_df.info() # 59002"
      ],
      "metadata": {
        "colab": {
          "base_uri": "https://localhost:8080/"
        },
        "id": "t_TA2SFA7c5i",
        "outputId": "c1a4ad00-16b9-49c6-d389-521f29c97b97"
      },
      "execution_count": 95,
      "outputs": [
        {
          "output_type": "stream",
          "name": "stdout",
          "text": [
            "<class 'pandas.core.frame.DataFrame'>\n",
            "RangeIndex: 59027 entries, 0 to 59026\n",
            "Data columns (total 22 columns):\n",
            " #   Column                       Non-Null Count  Dtype \n",
            "---  ------                       --------------  ----- \n",
            " 0   Grant Number                 59027 non-null  object\n",
            " 1   Grantee Name                 59027 non-null  object\n",
            " 2   year                         59027 non-null  object\n",
            " 3   state_center                 59027 non-null  object\n",
            " 4   county_center                59027 non-null  object\n",
            " 5   zip_center                   59027 non-null  object\n",
            " 6   FIPS_center                  59027 non-null  object\n",
            " 7   hhs_center                   59027 non-null  object\n",
            " 8   rural_center                 59027 non-null  object\n",
            " 9   index_1                      59027 non-null  object\n",
            " 10  Site Name                    59027 non-null  object\n",
            " 11  Health Center Type           58784 non-null  object\n",
            " 12  Health Center Location Type  58784 non-null  object\n",
            " 13  county_site                  59027 non-null  object\n",
            " 14  zip_site                     59027 non-null  object\n",
            " 15  FIPS_site                    59027 non-null  object\n",
            " 16  hhs_site                     59027 non-null  object\n",
            " 17  rural_site                   59027 non-null  object\n",
            " 18  index_2                      58784 non-null  object\n",
            " 19  zip5_site                    59027 non-null  int64 \n",
            " 20  state_fips_site              59027 non-null  object\n",
            " 21  state_site                   59027 non-null  object\n",
            "dtypes: int64(1), object(21)\n",
            "memory usage: 9.9+ MB\n"
          ]
        }
      ]
    },
    {
      "cell_type": "code",
      "source": [
        "# For proportion\n",
        "def get_unique(dataframe, var):\n",
        "  temp_gb = dataframe.groupby(['Grant Number', 'year']).nunique()[[var]].reset_index(level=[0,1]).rename(columns={var:'num_unique_{}'.format(var)})\n",
        "  temp_gb['num_unique_{}'.format(var)] = 1/temp_gb['num_unique_{}'.format(var)]\n",
        "  dataframe = pd.merge(dataframe, temp_gb, on=['Grant Number', 'year'])\n",
        "  return dataframe\n",
        "\n",
        "info_df = get_unique(dataframe = info_df, var='zip5_site')\n",
        "info_df = get_unique(dataframe = info_df, var='FIPS_site')\n",
        "info_df = get_unique(dataframe = info_df, var='hhs_site')\n",
        "info_df = get_unique(dataframe = info_df, var='rural_site')"
      ],
      "metadata": {
        "id": "e-ZfoG9Wqc-S"
      },
      "execution_count": 96,
      "outputs": []
    },
    {
      "cell_type": "markdown",
      "source": [
        "#### 1. Population"
      ],
      "metadata": {
        "id": "VjuNqANRxeMd"
      }
    },
    {
      "cell_type": "code",
      "source": [
        "pop_df = pd.DataFrame()\n",
        "for i in range(2014, 2021):\n",
        "  print(i)\n",
        "  temp_df = pd.read_csv('/content/drive/MyDrive/ASU/Telehealth/Data/Controls/ACSDP5Y{}.DP05.csv'.format(i))\n",
        "  temp_df = temp_df.replace(to_replace={'(X)':np.nan})\n",
        "  temp_df = temp_df[['GEO_ID','DP05_0001E']]\n",
        "  temp_df['year'] = i\n",
        "  pop_df = pop_df.append(temp_df)\n",
        "  print(\"Done!\")\n",
        "\n",
        "pop_df['county_fips'] = [str(i)[-5:] for i in pop_df['GEO_ID']]\n",
        "pop_df = pop_df[pop_df['GEO_ID']!='id'].reset_index(drop=True)\n",
        "pop_df.columns = ['GEO_ID','county_population','year','county_fips']\n",
        "pop_df = pop_df[['county_fips','year','county_population']]\n",
        "pop_df['county_population'] = [float(i) for i in pop_df['county_population']]"
      ],
      "metadata": {
        "id": "MCsRJGQoxfpC",
        "colab": {
          "base_uri": "https://localhost:8080/"
        },
        "outputId": "0bf2d4cd-89c8-4df2-8a0b-c62d33a80644"
      },
      "execution_count": 97,
      "outputs": [
        {
          "output_type": "stream",
          "name": "stdout",
          "text": [
            "2014\n"
          ]
        },
        {
          "output_type": "stream",
          "name": "stderr",
          "text": [
            "/usr/local/lib/python3.7/dist-packages/IPython/core/interactiveshell.py:2882: DtypeWarning: Columns (0,2,4,6,8,10,12,14,16,17,18,19,20,21,22,23,24,26,28,30,32,34,36,38,40,42,44,45,46,47,48,49,50,51,52,54,56,57,58,59,60,61,62,63,64,65,68,70,72,73,74,75,76,77,78,79,80,82,84,86,88,90,92,94,96,98,100,102,104,106,108,110,112,113,114,115,116,117,118,119,120,121,122,123,124,125,126,127,128,129,130,131,132,133,134,135,136,137,138,139,140,141,142,143,144,145,146,147,148,149,150,151,152,153,154,155,156,157,158,159,160,161,162,163,164,165,166,167,168,169,170,171,172,173,174,175,176,177,178,179,180,181,182,183,184,185,186,187,188,189,190,191,192,193,194,195,196,197,198,199,200,201,202,203,204,205,206,207,208,209,210,211,212,213,214,215,216,217,218,219,220,221,222,223,224,225,226,227,228,230,232,233,234,235,236,237,238,239,240,241,242,243,244,245,246,247,248,249,250,251,252,253,254,255,256,258,260,262,264,265,266,267,268,269,270,271,272,273,274,275,276,277,278,279,280,282,284,285,286,287,288,289,290,291,292,293,294,295,296,297,298,299,300,301,302,303,304,305,306,307,308,309,310,311,312,313,314,315,316,317,318,319,320,321) have mixed types.Specify dtype option on import or set low_memory=False.\n",
            "  exec(code_obj, self.user_global_ns, self.user_ns)\n"
          ]
        },
        {
          "output_type": "stream",
          "name": "stdout",
          "text": [
            "Done!\n",
            "2015\n"
          ]
        },
        {
          "output_type": "stream",
          "name": "stderr",
          "text": [
            "/usr/local/lib/python3.7/dist-packages/IPython/core/interactiveshell.py:2882: DtypeWarning: Columns (0,2,4,6,8,10,12,14,16,17,18,19,20,21,22,23,24,26,28,30,32,34,36,38,40,42,44,45,46,47,48,49,50,51,52,54,56,57,58,59,60,61,62,63,64,65,68,70,72,73,74,75,76,77,78,79,80,82,84,86,88,90,92,94,96,98,100,102,104,106,108,110,112,113,114,115,116,117,118,119,120,121,122,123,124,125,126,127,128,129,130,131,132,133,134,135,136,137,138,139,140,141,142,143,144,145,146,147,148,149,150,151,152,153,154,155,156,157,158,159,160,161,162,163,164,165,166,167,168,169,170,171,172,173,174,175,176,177,178,179,180,181,182,183,184,185,186,187,188,189,190,191,192,193,194,195,196,197,198,199,200,201,202,203,204,205,206,207,208,209,210,211,212,213,214,215,216,217,218,219,220,221,222,223,224,225,226,227,228,230,232,233,234,235,236,237,238,239,240,241,242,243,244,245,246,247,248,249,250,251,252,253,254,255,256,258,260,262,264,265,266,267,268,269,270,271,272,273,274,275,276,277,278,279,280,282,284,285,286,287,288,289,290,291,292,293,294,295,296,297,298,299,300,301,302,303,304,305,306,307,308,309,310,311,312,313,314,315,316,317,318,319,320,321,324,325,326,328,329,330,331,332,333,334,335) have mixed types.Specify dtype option on import or set low_memory=False.\n",
            "  exec(code_obj, self.user_global_ns, self.user_ns)\n"
          ]
        },
        {
          "output_type": "stream",
          "name": "stdout",
          "text": [
            "Done!\n",
            "2016\n",
            "Done!\n",
            "2017\n"
          ]
        },
        {
          "output_type": "stream",
          "name": "stderr",
          "text": [
            "/usr/local/lib/python3.7/dist-packages/IPython/core/interactiveshell.py:2882: DtypeWarning: Columns (0,2,4,6,8,10,12,16,18,20,21,22,23,24,25,26,27,28,30,32,34,36,38,40,42,44,46,48,49,50,51,52,53,54,55,56,58,60,61,62,63,64,65,66,67,68,69,72,74,76,77,78,79,80,82,84,85,86,87,88,89,90,91,92,94,96,98,100,102,104,106,108,112,114,116,118,120,122,128,130,132,133,134,135,136,137,138,139,140,141,142,143,144,145,146,147,148,149,150,151,152,153,154,155,156,157,158,159,160,161,162,163,164,165,166,167,168,169,170,171,172,173,174,175,176,177,178,179,180,181,182,183,184,185,186,187,188,189,190,191,192,193,194,195,196,197,198,199,200,201,202,203,204,205,206,207,208,209,210,211,212,213,214,215,216,217,218,219,220,221,222,223,224,225,226,227,228,229,230,231,232,233,234,235,236,237,238,239,240,241,242,243,244,245,246,247,248,250,252,253,254,255,256,257,258,259,260,261,262,263,264,265,266,267,268,269,270,271,272,273,274,275,276,278,280,282,284,285,286,287,288,289,290,291,292,293,294,295,296,297,298,299,300,302,304,305,306,307,308,309,310,311,312,313,314,315,316,317,318,319,320,321,322,323,324,325,326,327,328,329,330,331,332,333,334,335,336,337,338,339,340,341,344,345,346,348,349,350,351,352,353,354,355) have mixed types.Specify dtype option on import or set low_memory=False.\n",
            "  exec(code_obj, self.user_global_ns, self.user_ns)\n"
          ]
        },
        {
          "output_type": "stream",
          "name": "stdout",
          "text": [
            "Done!\n",
            "2018\n"
          ]
        },
        {
          "output_type": "stream",
          "name": "stderr",
          "text": [
            "/usr/local/lib/python3.7/dist-packages/IPython/core/interactiveshell.py:2882: DtypeWarning: Columns (5,7,9,10,11,12,13,14,15,16,17,18,19,20,21,22,23,24,25,26,27,28,29,30,31,32,33,34,35,36,37,38,39,40,41,42,43,44,45,46,47,48,49,50,51,52,53,54,55,56,57,58,59,60,61,62,63,64,65,66,67,68,69,70,71,72,73,74,75,76,77,78,79,80,81,82,83,84,85,86,87,88,89,90,91,92,93,94,95,96,97,98,99,100,101,102,103,104,105,106,107,108,109,110,111,112,113,114,115,116,117,118,119,120,121,122,123,124,125,127,129,130,131,132,133,134,135,136,137,138,139,140,141,142,143,144,145,146,147,148,149,150,151,152,153,155,157,159,161,162,163,164,165,166,167,168,169,170,171,172,173,174,175,176,177,179,181,182,183,184,185,186,187,188,189,190,191,192,193,194,195,196,197,198,199,200,201,202,203,204,205,206,207,208,209,210,211,212,213,214,215,216,217,218,221,222,223,225,226,227,228,229,230,231,232,234,236,238,240,242,244,246,250,252,254,255,256,257,258,259,260,261,262,264,266,268,270,272,274,276,278,280,282,283,284,285,286,287,288,289,290,292,294,295,296,297,298,299,300,301,302,303,306,308,310,311,312,313,314,316,318,319,320,321,322,323,324,325,326,328,330,332,334,336,338,340,342,346,348,350,352,354,356) have mixed types.Specify dtype option on import or set low_memory=False.\n",
            "  exec(code_obj, self.user_global_ns, self.user_ns)\n"
          ]
        },
        {
          "output_type": "stream",
          "name": "stdout",
          "text": [
            "Done!\n",
            "2019\n",
            "Done!\n",
            "2020\n",
            "Done!\n"
          ]
        }
      ]
    },
    {
      "cell_type": "code",
      "source": [
        "pop_df.info()"
      ],
      "metadata": {
        "colab": {
          "base_uri": "https://localhost:8080/"
        },
        "id": "QDJ9Yq0LM4yO",
        "outputId": "13e3d974-c94e-4b6b-eec7-105cf839aab7"
      },
      "execution_count": 98,
      "outputs": [
        {
          "output_type": "stream",
          "name": "stdout",
          "text": [
            "<class 'pandas.core.frame.DataFrame'>\n",
            "RangeIndex: 22541 entries, 0 to 22540\n",
            "Data columns (total 3 columns):\n",
            " #   Column             Non-Null Count  Dtype  \n",
            "---  ------             --------------  -----  \n",
            " 0   county_fips        22541 non-null  object \n",
            " 1   year               22541 non-null  int64  \n",
            " 2   county_population  22541 non-null  float64\n",
            "dtypes: float64(1), int64(1), object(1)\n",
            "memory usage: 528.4+ KB\n"
          ]
        }
      ]
    },
    {
      "cell_type": "markdown",
      "source": [
        "#### 2. Median household income"
      ],
      "metadata": {
        "id": "Bobdnb4vqn6r"
      }
    },
    {
      "cell_type": "code",
      "source": [
        "income_df = pd.DataFrame()\n",
        "for i in range(2014, 2021):\n",
        "  print(i)\n",
        "  temp_df = pd.read_csv('/content/drive/MyDrive/ASU/Telehealth/Data/Controls/ACSST5Y{}.S1903.csv'.format(i))\n",
        "  temp_df = temp_df.replace(to_replace={'(X)':np.nan})\n",
        "  if i<2017:\n",
        "    temp_df = temp_df[['GEO_ID','S1903_C02_001E']]\n",
        "    temp_df.columns =['GEO_ID', 'median_household_income']\n",
        "  elif i>=2017:\n",
        "    temp_df = temp_df[['GEO_ID','S1903_C03_001E']]\n",
        "    temp_df.columns =['GEO_ID', 'median_household_income']\n",
        "    \n",
        "  temp_df['year'] = i\n",
        "  income_df = income_df.append(temp_df)\n",
        "  print(\"Done!\")\n",
        "\n",
        "income_df['county_fips'] = [str(i)[-5:] for i in income_df['GEO_ID']]\n",
        "income_df.columns = ['GEO_ID','median_household_income','year','county_fips']\n",
        "income_df = income_df[income_df['GEO_ID']!='id'].reset_index(drop=True)\n",
        "income_df = income_df[['county_fips','year','median_household_income']]\n",
        "income_df['median_household_income'] = income_df['median_household_income'].replace(to_replace={'-':np.nan})\n",
        "\n",
        "income_df.loc[(income_df['county_fips']=='48301')&(income_df['year']==2014), 'median_household_income'] = 48125\n",
        "income_df.loc[(income_df['county_fips']=='35039')&(income_df['year']==2018), 'median_household_income'] = 36687 #(33422+39952)/2\n",
        "income_df.loc[(income_df['county_fips']=='48243')&(income_df['year']==2020), 'median_household_income'] = 52982\n",
        "\n",
        "income_df['median_household_income'] = [float(i) for i in income_df['median_household_income']]"
      ],
      "metadata": {
        "id": "gbqbfgb1qqKX",
        "colab": {
          "base_uri": "https://localhost:8080/"
        },
        "outputId": "76d10552-561c-47e0-e14f-a1d191f57b87"
      },
      "execution_count": 99,
      "outputs": [
        {
          "output_type": "stream",
          "name": "stdout",
          "text": [
            "2014\n",
            "Done!\n",
            "2015\n",
            "Done!\n",
            "2016\n",
            "Done!\n",
            "2017\n",
            "Done!\n",
            "2018\n",
            "Done!\n",
            "2019\n",
            "Done!\n",
            "2020\n",
            "Done!\n"
          ]
        }
      ]
    },
    {
      "cell_type": "code",
      "source": [
        "income_df.info()"
      ],
      "metadata": {
        "colab": {
          "base_uri": "https://localhost:8080/"
        },
        "id": "0wVm47SSNHqI",
        "outputId": "683de7b3-d496-487f-d14a-5c8b39b73222"
      },
      "execution_count": 100,
      "outputs": [
        {
          "output_type": "stream",
          "name": "stdout",
          "text": [
            "<class 'pandas.core.frame.DataFrame'>\n",
            "RangeIndex: 22541 entries, 0 to 22540\n",
            "Data columns (total 3 columns):\n",
            " #   Column                   Non-Null Count  Dtype  \n",
            "---  ------                   --------------  -----  \n",
            " 0   county_fips              22541 non-null  object \n",
            " 1   year                     22541 non-null  int64  \n",
            " 2   median_household_income  22541 non-null  float64\n",
            "dtypes: float64(1), int64(1), object(1)\n",
            "memory usage: 528.4+ KB\n"
          ]
        }
      ]
    },
    {
      "cell_type": "markdown",
      "source": [
        "#### 3. Race"
      ],
      "metadata": {
        "id": "PhruJ0efz4Bu"
      }
    },
    {
      "cell_type": "code",
      "source": [
        "race_df = pd.DataFrame()\n",
        "for i in range(2014, 2021):\n",
        "  print(i)\n",
        "  temp_df = pd.read_csv('/content/drive/MyDrive/ASU/Telehealth/Data/Controls/ACSDP5Y{}.DP05.csv'.format(i))\n",
        "  temp_df = temp_df.replace(to_replace={'(X)':np.nan})\n",
        "\n",
        "  if i<=2016:\n",
        "    temp_df = temp_df[['GEO_ID', 'DP05_0001E', 'DP05_0032E', 'DP05_0033E', 'DP05_0034E', 'DP05_0039E', 'DP05_0047E', 'DP05_0066E']]\n",
        "    temp_df.columns = ['GEO_ID', 'county_population', 'county_population_white', 'county_population_black', 'county_population_native_american', 'county_population_asian', 'county_population_islander', 'county_population_hispanic']\n",
        "  elif i>2016:\n",
        "    temp_df = temp_df[['GEO_ID', 'DP05_0001E', 'DP05_0037E', 'DP05_0038E', 'DP05_0039E', 'DP05_0044E', 'DP05_0052E', 'DP05_0071E']]\n",
        "    temp_df.columns = ['GEO_ID', 'county_population', 'county_population_white', 'county_population_black', 'county_population_native_american', 'county_population_asian', 'county_population_islander', 'county_population_hispanic']\n",
        "\n",
        "  temp_df['year'] = i\n",
        "  race_df = race_df.append(temp_df)\n",
        "  print(\"Done!\")\n",
        "\n",
        "race_df['county_fips'] = [str(i)[-5:] for i in race_df['GEO_ID']]\n",
        "race_df = race_df[race_df['GEO_ID']!='id'].reset_index(drop=True)\n",
        "race_df = race_df.drop(columns=['GEO_ID'])\n",
        "col_list = ['county_population', 'county_population_white', 'county_population_black', 'county_population_native_american', 'county_population_asian', 'county_population_islander', 'county_population_hispanic']\n",
        "for col in col_list:\n",
        "  race_df[col] = [float(i) for i in race_df[col]]"
      ],
      "metadata": {
        "id": "32ZrNxY_z5yM"
      },
      "execution_count": null,
      "outputs": []
    },
    {
      "cell_type": "code",
      "source": [
        "race_df.info()"
      ],
      "metadata": {
        "colab": {
          "base_uri": "https://localhost:8080/"
        },
        "id": "X5O_3O4LNMP1",
        "outputId": "cf8c6c36-afef-4d14-9974-8c3ec9b60d25"
      },
      "execution_count": 103,
      "outputs": [
        {
          "output_type": "stream",
          "name": "stdout",
          "text": [
            "<class 'pandas.core.frame.DataFrame'>\n",
            "RangeIndex: 22541 entries, 0 to 22540\n",
            "Data columns (total 9 columns):\n",
            " #   Column                             Non-Null Count  Dtype  \n",
            "---  ------                             --------------  -----  \n",
            " 0   county_population                  22541 non-null  float64\n",
            " 1   county_population_white            22541 non-null  float64\n",
            " 2   county_population_black            22541 non-null  float64\n",
            " 3   county_population_native_american  22541 non-null  float64\n",
            " 4   county_population_asian            22541 non-null  float64\n",
            " 5   county_population_islander         22541 non-null  float64\n",
            " 6   county_population_hispanic         22541 non-null  float64\n",
            " 7   year                               22541 non-null  int64  \n",
            " 8   county_fips                        22541 non-null  object \n",
            "dtypes: float64(7), int64(1), object(1)\n",
            "memory usage: 1.5+ MB\n"
          ]
        }
      ]
    },
    {
      "cell_type": "markdown",
      "source": [
        "#### 4. Internet subscription"
      ],
      "metadata": {
        "id": "PdEEN7-tzuzS"
      }
    },
    {
      "cell_type": "code",
      "source": [
        "int_df = pd.DataFrame()\n",
        "for i in range(2017, 2021):\n",
        "  print(i)\n",
        "  temp_df = pd.read_csv('/content/drive/MyDrive/ASU/Telehealth/Data/Controls/ACSST5Y{}.S2801.csv'.format(i))\n",
        "  temp_df = temp_df.replace(to_replace={'(X)':np.nan})\n",
        "  temp_df = temp_df[['GEO_ID', 'S2801_C01_001E', 'S2801_C01_002E', 'S2801_C01_011E', 'S2801_C01_012E', 'S2801_C01_019E']]\n",
        "  temp_df['year'] = i\n",
        "  int_df = int_df.append(temp_df)\n",
        "  print(\"Done!\")\n",
        "\n",
        "int_df['county_fips'] = [str(i)[-5:] for i in int_df['GEO_ID']]\n",
        "int_df = int_df[int_df['GEO_ID']!='id'].reset_index(drop=True)\n",
        "int_df = int_df.rename(columns={'S2801_C01_001E':'num_households', 'S2801_C01_002E':'has_computer', 'S2801_C01_011E':'no_computer', 'S2801_C01_012E':'has_internet', 'S2801_C01_019E':'no_internet'})\n",
        "int_df = int_df.drop(columns=['GEO_ID'])\n",
        "\n",
        "int_df.loc[:,'num_households'] = int_df.loc[:,'num_households'].astype(int)\n",
        "int_df.loc[:,'has_computer'] = int_df.loc[:,'has_computer'].astype(int)\n",
        "int_df.loc[:,'no_computer'] = int_df.loc[:,'no_computer'].astype(int)\n",
        "int_df.loc[:,'has_internet'] = int_df.loc[:,'has_internet'].astype(int)\n",
        "int_df.loc[:,'no_internet'] = int_df.loc[:,'no_internet'].astype(int)\n",
        "\n",
        "int_df['pct_computer'] = 100*(int_df['has_computer']/int_df['num_households'] )\n",
        "int_df['pct_no_computer'] = 100*(int_df['no_computer']/int_df['num_households'] )\n",
        "int_df['pct_internet'] = 100*(int_df['has_internet']/int_df['num_households'] )\n",
        "int_df['pct_no_internet'] = 100*(int_df['no_internet']/int_df['num_households'] )\n",
        "\n",
        "int_df = int_df[['county_fips','year','pct_computer','pct_no_computer','pct_internet','pct_no_internet']]"
      ],
      "metadata": {
        "id": "M4gqVjNyzopj",
        "colab": {
          "base_uri": "https://localhost:8080/"
        },
        "outputId": "8410f02f-fd2f-4246-c88d-3021a7f2efff"
      },
      "execution_count": 104,
      "outputs": [
        {
          "output_type": "stream",
          "name": "stdout",
          "text": [
            "2017\n",
            "Done!\n",
            "2018\n",
            "Done!\n",
            "2019\n",
            "Done!\n",
            "2020\n",
            "Done!\n"
          ]
        }
      ]
    },
    {
      "cell_type": "code",
      "source": [
        "int_df.info()"
      ],
      "metadata": {
        "colab": {
          "base_uri": "https://localhost:8080/"
        },
        "id": "uouUoQtVNP67",
        "outputId": "2e8d95d8-8aff-45f4-d810-4aa6875342d5"
      },
      "execution_count": 105,
      "outputs": [
        {
          "output_type": "stream",
          "name": "stdout",
          "text": [
            "<class 'pandas.core.frame.DataFrame'>\n",
            "RangeIndex: 12881 entries, 0 to 12880\n",
            "Data columns (total 6 columns):\n",
            " #   Column           Non-Null Count  Dtype  \n",
            "---  ------           --------------  -----  \n",
            " 0   county_fips      12881 non-null  object \n",
            " 1   year             12881 non-null  int64  \n",
            " 2   pct_computer     12881 non-null  float64\n",
            " 3   pct_no_computer  12881 non-null  float64\n",
            " 4   pct_internet     12881 non-null  float64\n",
            " 5   pct_no_internet  12881 non-null  float64\n",
            "dtypes: float64(4), int64(1), object(1)\n",
            "memory usage: 603.9+ KB\n"
          ]
        }
      ]
    },
    {
      "cell_type": "markdown",
      "source": [
        "#### 5. Language"
      ],
      "metadata": {
        "id": "120f9gcB5EvP"
      }
    },
    {
      "cell_type": "code",
      "source": [
        "eng_df = pd.DataFrame()\n",
        "for i in range(2014, 2021):\n",
        "  print(i)\n",
        "  \n",
        "  temp_df = pd.read_csv('/content/drive/MyDrive/ASU/Telehealth/Data/Controls/ACSST5Y{}.S1601.csv'.format(i))\n",
        "  temp_df = temp_df.replace(to_replace={'(X)':np.nan})\n",
        "  if i==2014:\n",
        "    temp_df = temp_df[['GEO_ID', 'S1601_C01_001E','S1601_C03_001E']]\n",
        "    temp_df.columns = ['GEO_ID', 'population','pct_english_less']\n",
        "  else:\n",
        "    temp_df = temp_df[['GEO_ID', 'S1601_C01_001E','S1601_C05_001E']]\n",
        "    temp_df.columns = ['GEO_ID', 'population','pct_english_less']\n",
        "    \n",
        "  temp_df['year'] = i\n",
        "  eng_df = eng_df.append(temp_df)\n",
        "  print(\"Done!\")\n",
        "\n",
        "eng_df['county_fips'] = [str(i)[-5:] for i in eng_df['GEO_ID']]\n",
        "eng_df = eng_df[eng_df['GEO_ID']!='id'].reset_index(drop=True)\n",
        "eng_df = eng_df.drop(columns=['GEO_ID'])\n",
        "\n",
        "# 수치가 이상해서\n",
        "eng1 = eng_df[eng_df['year']==2014]\n",
        "eng2 = eng_df[eng_df['year']>2014]\n",
        "\n",
        "eng2.loc[:, 'pct_english_less'] =  eng2.loc[:, 'pct_english_less'].astype(int)\n",
        "eng2.loc[:, 'population'] =  eng2.loc[:, 'population'].astype(int)\n",
        "eng2['pct_english_less'] = 100*(eng2['pct_english_less']/eng2['population'])\n",
        "\n",
        "eng_df = pd.concat([eng1, eng2]).reset_index(drop=True)\n",
        "eng_df = eng_df[['county_fips','year','pct_english_less']]"
      ],
      "metadata": {
        "id": "ebWxXt9w4WtU"
      },
      "execution_count": null,
      "outputs": []
    },
    {
      "cell_type": "code",
      "source": [
        "eng_df.info()"
      ],
      "metadata": {
        "colab": {
          "base_uri": "https://localhost:8080/"
        },
        "id": "2jExc2ceNRZp",
        "outputId": "fd619015-ab51-4e1a-8153-fae980576e9a"
      },
      "execution_count": 107,
      "outputs": [
        {
          "output_type": "stream",
          "name": "stdout",
          "text": [
            "<class 'pandas.core.frame.DataFrame'>\n",
            "RangeIndex: 22541 entries, 0 to 22540\n",
            "Data columns (total 3 columns):\n",
            " #   Column            Non-Null Count  Dtype \n",
            "---  ------            --------------  ----- \n",
            " 0   county_fips       22541 non-null  object\n",
            " 1   year              22541 non-null  int64 \n",
            " 2   pct_english_less  22541 non-null  object\n",
            "dtypes: int64(1), object(2)\n",
            "memory usage: 528.4+ KB\n"
          ]
        }
      ]
    },
    {
      "cell_type": "markdown",
      "source": [
        "#### 6. Insurance"
      ],
      "metadata": {
        "id": "qif4tyDF71oM"
      }
    },
    {
      "cell_type": "code",
      "source": [
        "insurance_df = pd.DataFrame()\n",
        "for i in range(2014, 2021):\n",
        "  print(i)\n",
        "  temp_df = pd.read_csv('/content/drive/MyDrive/ASU/Telehealth/Data/Controls/ACSDT5Y{}.B27010.csv'.format(i))\n",
        "  temp_df = temp_df.replace(to_replace={'(X)':np.nan})\n",
        "  temp_df = temp_df[['GEO_ID', 'B27010_001E', 'B27010_017E', 'B27010_033E', 'B27010_050E', 'B27010_066E',\n",
        "                     'B27010_006E',\t'B27010_022E',\t'B27010_038E',\t'B27010_055E', 'B27010_007E', 'B27010_023E', 'B27010_039E']]\n",
        "  # temp_df.columns = ['GEO_ID', 'population','pct_english_less']\n",
        "  temp_df['year'] = i\n",
        "  insurance_df = insurance_df.append(temp_df)\n",
        "  print(\"Done!\")\n",
        "\n",
        "insurance_df['county_fips'] = [str(i)[-5:] for i in insurance_df['GEO_ID']]\n",
        "insurance_df = insurance_df.rename(columns={'B27010_001E':'population', 'B27010_017E':'uninsured_0_18', 'B27010_033E':'uninsured_19_34', \n",
        "                                            'B27010_050E':'uninsured_35_64', 'B27010_066E':'uninsured_65', 'B27010_006E':'medicare_0_18',\t\n",
        "                                            'B27010_022E':'medicare_19_34',\t'B27010_038E':'medicare_35_64',\t'B27010_055E':'medicare_65',\n",
        "                                            'B27010_007E':'medicaid_0_18', 'B27010_023E':'medicaid_19_34', 'B27010_039E':'medicaid_35_64'})\n",
        "\n",
        "insurance_df = insurance_df[insurance_df['GEO_ID']!='id'].reset_index(drop=True)\n",
        "insurance_df = insurance_df.drop(columns=['GEO_ID'])\n",
        "\n",
        "col_list = ['population', 'uninsured_0_18', 'uninsured_19_34', 'uninsured_35_64', \n",
        "            'uninsured_65', 'medicare_0_18', 'medicare_19_34', 'medicare_35_64',\n",
        "            'medicare_65', 'medicaid_0_18', 'medicaid_19_34', 'medicaid_35_64']\n",
        "for col in col_list:\n",
        "  insurance_df.loc[:,'{}'.format(col)] = insurance_df.loc[:,'{}'.format(col)].astype(int)\n",
        "\n",
        "insurance_df['num_uninsured'] = insurance_df['uninsured_0_18']+insurance_df['uninsured_19_34']+insurance_df['uninsured_35_64']+insurance_df['uninsured_65']\n",
        "insurance_df['num_medicare'] = insurance_df['medicare_0_18']+insurance_df['medicare_19_34']+insurance_df['medicare_35_64']+insurance_df['medicare_65']\n",
        "insurance_df['num_medicaid'] = insurance_df['medicaid_0_18']+insurance_df['medicaid_19_34']+insurance_df['medicaid_35_64']\n",
        "\n",
        "insurance_df['pct_uninsured'] = 100*(insurance_df['num_uninsured']/insurance_df['population'])\n",
        "insurance_df['pct_medicaid'] = 100*(insurance_df['num_medicaid']/insurance_df['population'])\n",
        "insurance_df['pct_medicare'] = 100*(insurance_df['num_medicare']/insurance_df['population'])\n",
        "\n",
        "insurance_df = insurance_df[['county_fips','year','pct_uninsured','pct_medicare','pct_medicaid']]"
      ],
      "metadata": {
        "id": "3N0l31KABFub"
      },
      "execution_count": null,
      "outputs": []
    },
    {
      "cell_type": "code",
      "source": [
        "insurance_df.info()"
      ],
      "metadata": {
        "colab": {
          "base_uri": "https://localhost:8080/"
        },
        "id": "5K-oTapVOc_H",
        "outputId": "f9e26b4c-cdf6-47b8-ddee-923ad7ced3ba"
      },
      "execution_count": 144,
      "outputs": [
        {
          "output_type": "stream",
          "name": "stdout",
          "text": [
            "<class 'pandas.core.frame.DataFrame'>\n",
            "RangeIndex: 22541 entries, 0 to 22540\n",
            "Data columns (total 5 columns):\n",
            " #   Column         Non-Null Count  Dtype  \n",
            "---  ------         --------------  -----  \n",
            " 0   county_fips    22541 non-null  object \n",
            " 1   year           22541 non-null  int64  \n",
            " 2   pct_uninsured  22541 non-null  float64\n",
            " 3   pct_medicare   22541 non-null  float64\n",
            " 4   pct_medicaid   22541 non-null  float64\n",
            "dtypes: float64(3), int64(1), object(1)\n",
            "memory usage: 880.6+ KB\n"
          ]
        }
      ]
    },
    {
      "cell_type": "markdown",
      "source": [
        "### County"
      ],
      "metadata": {
        "id": "yL5IXTtbcpp1"
      }
    },
    {
      "cell_type": "code",
      "source": [
        "info_df.loc[:, 'year'] = info_df.loc[:, 'year'].astype(int)\n",
        "info_df = info_df[info_df['year']!=2013].reset_index(drop=True)\n",
        "temp_df = reduce(lambda x, y: pd.merge(x,y, on=['FIPS_site', 'year'], how='outer'), [info_df.rename(columns={'county_fips':'FIPS_site'}), \n",
        "                                                                                     pop_df.rename(columns={'county_fips':'FIPS_site'}), \n",
        "                                                                                     race_df.drop(columns=['county_population']).rename(columns={'county_fips':'FIPS_site'}),\n",
        "                                                                                     int_df.rename(columns={'county_fips':'FIPS_site'}),\n",
        "                                                                                     eng_df.rename(columns={'county_fips':'FIPS_site'}),\n",
        "                                                                                     insurance_df.rename(columns={'county_fips':'FIPS_site'})])\n",
        "temp_df = temp_df[~temp_df['Grant Number'].isna()].reset_index(drop=True)\n",
        "info_df = temp_df.copy()"
      ],
      "metadata": {
        "id": "SHbvxBeDEYti"
      },
      "execution_count": 145,
      "outputs": []
    },
    {
      "cell_type": "code",
      "source": [
        "temp_df.info()"
      ],
      "metadata": {
        "colab": {
          "base_uri": "https://localhost:8080/"
        },
        "id": "-WCk9ejqG2nT",
        "outputId": "935bedb3-7da7-4fd7-d25a-ca2b414bec36"
      },
      "execution_count": 146,
      "outputs": [
        {
          "output_type": "stream",
          "name": "stdout",
          "text": [
            "<class 'pandas.core.frame.DataFrame'>\n",
            "RangeIndex: 52309 entries, 0 to 52308\n",
            "Data columns (total 41 columns):\n",
            " #   Column                             Non-Null Count  Dtype  \n",
            "---  ------                             --------------  -----  \n",
            " 0   Grant Number                       52309 non-null  object \n",
            " 1   Grantee Name                       52309 non-null  object \n",
            " 2   year                               52309 non-null  int64  \n",
            " 3   state_center                       52309 non-null  object \n",
            " 4   county_center                      52309 non-null  object \n",
            " 5   zip_center                         52309 non-null  object \n",
            " 6   FIPS_center                        52309 non-null  object \n",
            " 7   hhs_center                         52309 non-null  object \n",
            " 8   rural_center                       52309 non-null  object \n",
            " 9   index_1                            52309 non-null  object \n",
            " 10  Site Name                          52309 non-null  object \n",
            " 11  Health Center Type                 52105 non-null  object \n",
            " 12  Health Center Location Type        52105 non-null  object \n",
            " 13  county_site                        52309 non-null  object \n",
            " 14  zip_site                           52309 non-null  object \n",
            " 15  FIPS_site                          52309 non-null  object \n",
            " 16  hhs_site                           52309 non-null  object \n",
            " 17  rural_site                         52309 non-null  object \n",
            " 18  index_2                            52105 non-null  object \n",
            " 19  zip5_site                          52309 non-null  float64\n",
            " 20  state_fips_site                    52309 non-null  object \n",
            " 21  state_site                         52309 non-null  object \n",
            " 22  num_unique_zip5_site               52309 non-null  float64\n",
            " 23  num_unique_FIPS_site               52309 non-null  float64\n",
            " 24  num_unique_hhs_site                52309 non-null  float64\n",
            " 25  num_unique_rural_site              52309 non-null  float64\n",
            " 26  county_population                  52309 non-null  float64\n",
            " 27  county_population_white            52309 non-null  float64\n",
            " 28  county_population_black            52309 non-null  float64\n",
            " 29  county_population_native_american  52309 non-null  float64\n",
            " 30  county_population_asian            52309 non-null  float64\n",
            " 31  county_population_islander         52309 non-null  float64\n",
            " 32  county_population_hispanic         52309 non-null  float64\n",
            " 33  pct_computer                       30302 non-null  float64\n",
            " 34  pct_no_computer                    30302 non-null  float64\n",
            " 35  pct_internet                       30302 non-null  float64\n",
            " 36  pct_no_internet                    30302 non-null  float64\n",
            " 37  pct_english_less                   52309 non-null  object \n",
            " 38  pct_uninsured                      52309 non-null  float64\n",
            " 39  pct_medicare                       52309 non-null  float64\n",
            " 40  pct_medicaid                       52309 non-null  float64\n",
            "dtypes: float64(19), int64(1), object(21)\n",
            "memory usage: 16.4+ MB\n"
          ]
        }
      ]
    },
    {
      "cell_type": "code",
      "source": [
        "county_df = info_df[['Grant Number', 'year', 'FIPS_site', 'num_unique_FIPS_site']].drop_duplicates().sort_values(by=['Grant Number', 'year', 'num_unique_FIPS_site', 'FIPS_site']).reset_index(drop=True)\n",
        "county_df = county_df[county_df['year']!='2013'].reset_index(drop=True)"
      ],
      "metadata": {
        "id": "VO7MjsJtRgXv"
      },
      "execution_count": 147,
      "outputs": []
    },
    {
      "cell_type": "code",
      "source": [
        "# Population\n",
        "county_df.loc[:, 'year'] = county_df.loc[:, 'year'].astype(int)\n",
        "pop_df.loc[:, 'year'] = pop_df.loc[:, 'year'].astype(int)\n",
        "\n",
        "temp_df = pd.merge(county_df, pop_df.rename(columns={'county_fips':'FIPS_site'}), on=['year', 'FIPS_site'], how='outer')\n",
        "temp_df = temp_df[~temp_df['Grant Number'].isna()].reset_index(drop=True)\n",
        "temp_df['proportion_county_population'] = temp_df['num_unique_FIPS_site']*temp_df['county_population']\n",
        "\n",
        "## Proportion\n",
        "temp_df_gb_pop = temp_df.groupby(['Grant Number', 'year']).sum()[['proportion_county_population']].rename(columns={'proportion_county_population':'hc_population'}).reset_index(level=[0,1])\n",
        "\n",
        "# Income\n",
        "county_df.loc[:, 'year'] = county_df.loc[:, 'year'].astype(int)\n",
        "income_df.loc[:, 'year'] = income_df.loc[:, 'year'].astype(int)\n",
        "\n",
        "temp_df = pd.merge(county_df, income_df.rename(columns={'county_fips':'FIPS_site'}), on=['year', 'FIPS_site'], how='outer')\n",
        "temp_df = temp_df[~temp_df['Grant Number'].isna()].reset_index(drop=True)\n",
        "temp_df['proportion_income'] = temp_df['num_unique_FIPS_site']*temp_df['median_household_income']\n",
        "\n",
        "## Proportion\n",
        "temp_df_gb_inc = temp_df.groupby(['Grant Number', 'year']).sum()[['proportion_income']].rename(columns={'proportion_income':'hc_household_income'}).reset_index(level=[0,1])\n",
        "\n",
        "# Race\n",
        "county_df.loc[:, 'year'] = county_df.loc[:, 'year'].astype(int)\n",
        "race_df.loc[:, 'year'] = race_df.loc[:, 'year'].astype(int)\n",
        "\n",
        "temp_df = pd.merge(county_df, race_df.rename(columns={'county_fips':'FIPS_site'}), on=['year', 'FIPS_site'], how='outer')\n",
        "temp_df = temp_df[~temp_df['Grant Number'].isna()].reset_index(drop=True)\n",
        "\n",
        "temp_df['proportion_county_pop'] = temp_df['num_unique_FIPS_site']*temp_df['county_population']\n",
        "temp_df['proportion_county_white'] = temp_df['num_unique_FIPS_site']*temp_df['county_population_white']\n",
        "temp_df['proportion_county_black'] = temp_df['num_unique_FIPS_site']*temp_df['county_population_black']\n",
        "temp_df['proportion_county_native_american'] = temp_df['num_unique_FIPS_site']*temp_df['county_population_native_american']\n",
        "temp_df['proportion_county_asian'] = temp_df['num_unique_FIPS_site']*temp_df['county_population_asian']\n",
        "temp_df['proportion_county_islander'] = temp_df['num_unique_FIPS_site']*temp_df['county_population_islander']\n",
        "temp_df['proportion_county_hispanic'] = temp_df['num_unique_FIPS_site']*temp_df['county_population_hispanic']\n",
        "\n",
        "# ## Proportion\n",
        "temp_df_gb_race = temp_df.groupby(['Grant Number', 'year']).sum()[['proportion_county_white','proportion_county_black','proportion_county_native_american','proportion_county_asian',\n",
        "                                                                   'proportion_county_islander','proportion_county_hispanic','proportion_county_pop']].rename(columns={'proportion_county_population':'hc_population'}).reset_index(level=[0,1])\n",
        "\n",
        "temp_df_gb_race['proportion_county_white'] = 100*(temp_df_gb_race['proportion_county_white']/temp_df_gb_race['proportion_county_pop'])\n",
        "temp_df_gb_race['proportion_county_black'] = 100*(temp_df_gb_race['proportion_county_black']/temp_df_gb_race['proportion_county_pop'])\n",
        "temp_df_gb_race['proportion_county_native_american'] = 100*(temp_df_gb_race['proportion_county_native_american']/temp_df_gb_race['proportion_county_pop'])\n",
        "temp_df_gb_race['proportion_county_asian'] = 100*(temp_df_gb_race['proportion_county_asian']/temp_df_gb_race['proportion_county_pop'])\n",
        "temp_df_gb_race['proportion_county_islander'] = 100*(temp_df_gb_race['proportion_county_islander']/temp_df_gb_race['proportion_county_pop'])\n",
        "temp_df_gb_race['proportion_county_hispanic'] = 100*(temp_df_gb_race['proportion_county_hispanic']/temp_df_gb_race['proportion_county_pop'])\n",
        "\n",
        "temp_df_gb_race.columns=['Grant Number', 'year', 'hc_white', 'hc_black', 'hc_native_american', 'hc_asian', 'hc_islander', 'hc_hispanic', 'hc_pop']\n",
        "temp_df_gb_race = temp_df_gb_race.drop(columns=['hc_pop'])\n",
        "\n",
        "# Internet\n",
        "county_df.loc[:, 'year'] = county_df.loc[:, 'year'].astype(int)\n",
        "int_df.loc[:, 'year'] = int_df.loc[:, 'year'].astype(int)\n",
        "\n",
        "temp_df = pd.merge(county_df, int_df.rename(columns={'county_fips':'FIPS_site'}), on=['year', 'FIPS_site'], how='outer')\n",
        "temp_df = temp_df[~temp_df['Grant Number'].isna()].reset_index(drop=True)\n",
        "\n",
        "temp_df['proportion_county_pct_computer'] = temp_df['num_unique_FIPS_site']*temp_df['pct_computer']\n",
        "temp_df['proportion_county_pct_no_computer'] = temp_df['num_unique_FIPS_site']*temp_df['pct_no_computer']\n",
        "temp_df['proportion_county_pct_internet'] = temp_df['num_unique_FIPS_site']*temp_df['pct_internet']\n",
        "temp_df['proportion_county_pct_no_internet'] = temp_df['num_unique_FIPS_site']*temp_df['pct_no_internet']\n",
        "\n",
        "# ## Proportion\n",
        "temp_df_gb_int = temp_df.groupby(['Grant Number', 'year']).sum()[['proportion_county_pct_computer','proportion_county_pct_no_computer','proportion_county_pct_internet','proportion_county_pct_no_internet']].reset_index(level=[0,1])\n",
        "temp_df_gb_int = temp_df_gb_int[temp_df_gb_int['year']>2016].reset_index(drop=True)\n",
        "temp_df_gb_int.colums=['Grant Number', 'year','hc_pct_computer','hc_pct_no_computer','hc_pct_internet','hc_pct_no_internet']\n",
        "\n",
        "# Language\n",
        "county_df.loc[:, 'year'] = county_df.loc[:, 'year'].astype(int)\n",
        "eng_df.loc[:, 'year'] = eng_df.loc[:, 'year'].astype(int)\n",
        "eng_df.loc[:,'pct_english_less'] = eng_df.loc[:,'pct_english_less'].astype(float)\n",
        "\n",
        "temp_df = pd.merge(county_df, eng_df.rename(columns={'county_fips':'FIPS_site'}), on=['year', 'FIPS_site'], how='outer')\n",
        "temp_df = temp_df[~temp_df['Grant Number'].isna()].reset_index(drop=True)\n",
        "\n",
        "temp_df['proportion_county_pct_english_less'] = temp_df['num_unique_FIPS_site']*temp_df['pct_english_less']\n",
        "\n",
        "# ## Proportion\n",
        "temp_df_gb_eng = temp_df.groupby(['Grant Number', 'year']).sum()[['proportion_county_pct_english_less']].reset_index(level=[0,1])\n",
        "temp_df_gb_eng.colums=['Grant Number', 'year','hc_pct_less_eng']\n",
        "\n",
        "\n",
        "# Insurance\n",
        "county_df.loc[:, 'year'] = county_df.loc[:, 'year'].astype(int)\n",
        "insurance_df.loc[:, 'year'] = insurance_df.loc[:, 'year'].astype(int)\n",
        "\n",
        "temp_df = pd.merge(county_df, insurance_df.rename(columns={'county_fips':'FIPS_site'}), on=['year', 'FIPS_site'], how='outer')\n",
        "temp_df = temp_df[~temp_df['Grant Number'].isna()].reset_index(drop=True)\n",
        "\n",
        "temp_df['proportion_county_pct_uninsured'] = temp_df['num_unique_FIPS_site']*temp_df['pct_uninsured']\n",
        "temp_df['proportion_county_pct_medicare'] = temp_df['num_unique_FIPS_site']*temp_df['pct_medicare']\n",
        "temp_df['proportion_county_pct_medicaid'] = temp_df['num_unique_FIPS_site']*temp_df['pct_medicaid']\n",
        "\n",
        "# ## Proportion\n",
        "temp_df_gb_insurance = temp_df.groupby(['Grant Number', 'year']).sum()[['proportion_county_pct_uninsured','proportion_county_pct_medicare','proportion_county_pct_medicaid']].reset_index(level=[0,1])\n",
        "temp_df_gb_insurance.colums=['Grant Number', 'year','hc_pct_uninsuredd','hc_pct_medicare','hc_pct_medicaid']\n",
        "\n",
        "# # ## Merge all\n",
        "temp_df = reduce(lambda x, y: pd.merge(x, y, on=['Grant Number', 'year'], how='outer'),[temp_df_gb_pop, temp_df_gb_inc, temp_df_gb_race,\n",
        "                                                                                        temp_df_gb_int,temp_df_gb_eng,temp_df_gb_insurance])\n",
        "ctrl_df = temp_df.copy()"
      ],
      "metadata": {
        "id": "ho8u_93rSRAz",
        "colab": {
          "base_uri": "https://localhost:8080/"
        },
        "outputId": "09096867-2fb5-45df-c21c-b774afc030fe"
      },
      "execution_count": 148,
      "outputs": [
        {
          "output_type": "stream",
          "name": "stderr",
          "text": [
            "/usr/local/lib/python3.7/dist-packages/ipykernel_launcher.py:67: UserWarning: Pandas doesn't allow columns to be created via a new attribute name - see https://pandas.pydata.org/pandas-docs/stable/indexing.html#attribute-access\n",
            "/usr/local/lib/python3.7/dist-packages/ipykernel_launcher.py:81: UserWarning: Pandas doesn't allow columns to be created via a new attribute name - see https://pandas.pydata.org/pandas-docs/stable/indexing.html#attribute-access\n",
            "/usr/local/lib/python3.7/dist-packages/ipykernel_launcher.py:97: UserWarning: Pandas doesn't allow columns to be created via a new attribute name - see https://pandas.pydata.org/pandas-docs/stable/indexing.html#attribute-access\n"
          ]
        }
      ]
    },
    {
      "cell_type": "markdown",
      "source": [
        "### Merge all"
      ],
      "metadata": {
        "id": "8DTQJ4YdaB1G"
      }
    },
    {
      "cell_type": "code",
      "source": [
        "## Merge all\n",
        "t4_df.loc[:, 'year'] = t4_df.loc[:, 'year'].astype(int)\n",
        "money_df.loc[:, 'year'] = money_df.loc[:, 'year'].astype(int)\n",
        "branch_df.loc[:, 'year'] = branch_df.loc[:, 'year'].astype(int)\n",
        "ctrl_df.loc[:, 'year'] = ctrl_df.loc[:, 'year'].astype(int)\n",
        "\n",
        "temp_df = reduce(lambda x, y: pd.merge(x, y, on=['Grant Number', 'year'], how='outer'), [t4_df, money_df, branch_df, ctrl_df])\n",
        "temp_df = temp_df.rename(columns={'Financial Assistance':'grant_amount'})\n",
        "temp_df = temp_df[temp_df['Grant Number'].isin(grant_list)].reset_index(drop=True)"
      ],
      "metadata": {
        "id": "xyylIlLnU-Is"
      },
      "execution_count": 168,
      "outputs": []
    },
    {
      "cell_type": "code",
      "source": [
        "temp_df.to_csv(rootPath+'ctrl_df.csv', index=False)"
      ],
      "metadata": {
        "id": "j83FlxaQVmYR"
      },
      "execution_count": 176,
      "outputs": []
    }
  ],
  "metadata": {
    "colab": {
      "collapsed_sections": [],
      "name": "3_CEM_variables.ipynb",
      "provenance": [],
      "mount_file_id": "1HpjTwtcUQ9XZJUZpozVUQRQiZxxFOOSo",
      "authorship_tag": "ABX9TyNUYYY0t0nA6NnhN/XSbIFa",
      "include_colab_link": true
    },
    "kernelspec": {
      "display_name": "Python 3",
      "name": "python3"
    },
    "language_info": {
      "name": "python"
    }
  },
  "nbformat": 4,
  "nbformat_minor": 0
}